{
 "cells": [
  {
   "cell_type": "markdown",
   "source": [
    "# Intermediate Python\n",
    "### Patrick Loeber, python-engineer.com\n",
    "### https://www.youtube.com/watch?v=HGOBQPFzWKo\n",
    "(5:30:11)\n",
    "September 18, 2022"
   ],
   "metadata": {
    "collapsed": false,
    "pycharm": {
     "name": "#%% md\n"
    }
   }
  },
  {
   "cell_type": "markdown",
   "source": [
    "## SHALLOW vs DEEP COPYING:"
   ],
   "metadata": {
    "collapsed": false,
    "pycharm": {
     "name": "#%% md\n"
    }
   }
  },
  {
   "cell_type": "code",
   "execution_count": 6,
   "outputs": [
    {
     "name": "stdout",
     "output_type": "stream",
     "text": [
      "fake copy =  8\n",
      "original =  8\n",
      "copy reassigned =  6\n"
     ]
    }
   ],
   "source": [
    "# Here, both variables point to the same number\n",
    "# But since they are immutable, when we change the fake\n",
    "# copy, it does not affect the original\n",
    "\n",
    "original = 8\n",
    "copy = original\n",
    "\n",
    "print(\"fake copy = \", copy)\n",
    "\n",
    "copy = 6\n",
    "\n",
    "print(\"original = \", original)\n",
    "print(\"copy reassigned = \", copy)"
   ],
   "metadata": {
    "collapsed": false,
    "pycharm": {
     "name": "#%%\n"
    }
   }
  },
  {
   "cell_type": "code",
   "execution_count": 7,
   "outputs": [
    {
     "name": "stdout",
     "output_type": "stream",
     "text": [
      "original list:  [1, 2, 3, 4, 13]\n",
      "list_copy:  [1, 2, 3, 4, 13]\n"
     ]
    }
   ],
   "source": [
    "# With mutable objects, this can get messy\n",
    "# Since they both point to the same list in memory, both are\n",
    "# changed\n",
    "\n",
    "original_list = [1, 2, 3, 4]\n",
    "list_copy = original_list\n",
    "\n",
    "list_copy += [13]\n",
    "\n",
    "print('original list: ', original_list)\n",
    "print('list_copy: ', list_copy)"
   ],
   "metadata": {
    "collapsed": false,
    "pycharm": {
     "name": "#%%\n"
    }
   }
  },
  {
   "cell_type": "markdown",
   "source": [
    "#### Deep Copy vs Shallow Copy:\n",
    "Shallow copy = only one level deep and only references of nested child objects\n",
    "Deep copy = full, independent copy"
   ],
   "metadata": {
    "collapsed": false,
    "pycharm": {
     "name": "#%% md\n"
    }
   }
  },
  {
   "cell_type": "code",
   "execution_count": 10,
   "outputs": [
    {
     "name": "stdout",
     "output_type": "stream",
     "text": [
      "original before =  [1, 2, 3, 4, 5]\n",
      "copy before =  [1, 2, 3, 4, 5]\n",
      "changing the first element of copy.\n",
      "original after =  [1, 2, 3, 4, 5]\n",
      "copy after =  [-10, 2, 3, 4, 5]\n"
     ]
    }
   ],
   "source": [
    "# To truly copy, we must use the copy module or assign differently\n",
    "# This is a shallow copy.\n",
    "\n",
    "import copy\n",
    "\n",
    "list_orig = [1, 2, 3, 4, 5]\n",
    "list_copy = copy.copy(list_orig)\n",
    "\n",
    "print('original before = ', list_orig)\n",
    "print('copy before = ', list_copy)\n",
    "\n",
    "print(\"changing the first element of copy.\")\n",
    "list_copy[0] = -10\n",
    "\n",
    "print('original after = ', list_orig)\n",
    "print('copy after = ', list_copy)\n",
    "\n",
    "# Other ways of making a shallow copy would be\n",
    "# (These work if our original is only 1 level deep)\n",
    "# list_copy = list_orig.copy()\n",
    "# list_copy = list(list_orig)\n",
    "# list_copy = list_orig[:]"
   ],
   "metadata": {
    "collapsed": false,
    "pycharm": {
     "name": "#%%\n"
    }
   }
  },
  {
   "cell_type": "code",
   "execution_count": 18,
   "outputs": [
    {
     "name": "stdout",
     "output_type": "stream",
     "text": [
      "orig before:  [[1, 2, 3], [4, 5, 6], [7, 8, 9]]\n",
      "changing the copy.\n",
      "orig after:  [[1, 2, 3], [4, 5, 6], [7, 8, 9]]\n",
      "copy after:  [[1, 2, 3], 19, [7, 8, 9]]\n",
      "\n",
      " It did not change original, because edit is only 1 level deep.\n",
      "\n",
      "changing the copy.\n",
      "orig after:  [[19, 2, 3], [4, 5, 6], [7, 8, 9]]\n",
      "copy after:  [[19, 2, 3], 19, [7, 8, 9]]\n",
      "\n",
      " But two levels deep changes both.\n"
     ]
    }
   ],
   "source": [
    "# For nested lists, we must do more. If we are only editing\n",
    "# 1 level of depth, it is fine, but if we go beyond 1 level\n",
    "# it will also affect the original.\n",
    "\n",
    "nested_orig = [[1,2,3], [4,5,6], [7,8,9]]\n",
    "nested_copy = copy.copy(nested_orig)\n",
    "\n",
    "print('orig before: ', nested_orig)\n",
    "\n",
    "print('changing the copy.')\n",
    "nested_copy[1] = 19\n",
    "\n",
    "print('orig after: ', nested_orig)\n",
    "print('copy after: ', nested_copy)\n",
    "\n",
    "print('\\n It did not change original, because edit is only 1 level deep.')\n",
    "\n",
    "print('\\nchanging the copy.')\n",
    "nested_copy[0][0] = 19\n",
    "\n",
    "print('orig after: ', nested_orig)\n",
    "print('copy after: ', nested_copy)\n",
    "print('\\n But two levels deep changes both.')"
   ],
   "metadata": {
    "collapsed": false,
    "pycharm": {
     "name": "#%%\n"
    }
   }
  },
  {
   "cell_type": "code",
   "execution_count": 20,
   "outputs": [
    {
     "name": "stdout",
     "output_type": "stream",
     "text": [
      "orig2 before:  [[1, 2, 3], [4, 5, 6], [7, 8, 9]]\n",
      "changing the copy.\n",
      "orig after:  [[1, 2, 3], [4, 5, 6], [7, 8, 9]]\n",
      "copy after:  [[19, 2, 3], [4, 5, 6], [7, 8, 9]]\n"
     ]
    }
   ],
   "source": [
    "# With DEEP COPY, we can can change deeper aspects of the copy\n",
    "# without affecting the original\n",
    "\n",
    "nested_orig2 = [[1,2,3], [4,5,6], [7,8,9]]\n",
    "nested_copy2 = copy.deepcopy(nested_orig2)\n",
    "\n",
    "print('orig2 before: ', nested_orig2)\n",
    "\n",
    "print('changing the copy.')\n",
    "nested_copy2[0][0] = 19\n",
    "\n",
    "print('orig after: ', nested_orig2)\n",
    "print('copy after: ', nested_copy2)"
   ],
   "metadata": {
    "collapsed": false,
    "pycharm": {
     "name": "#%%\n"
    }
   }
  },
  {
   "cell_type": "code",
   "execution_count": 26,
   "outputs": [
    {
     "name": "stdout",
     "output_type": "stream",
     "text": [
      "28\n",
      "28\n"
     ]
    }
   ],
   "source": [
    "# Using DEEP COPY for custom objects\n",
    "\n",
    "class Person:\n",
    "    def __init__(self, name, age):\n",
    "        self.name = name\n",
    "        self.age = age\n",
    "\n",
    "person01 = Person(\"Alex\", 27)\n",
    "\n",
    "# Creating not an actual copy, just another pointer\n",
    "person02 = person01\n",
    "person02.age = 28\n",
    "\n",
    "# Both will be changed, so we must use copy\n",
    "print(person01.age)\n",
    "print(person02.age)"
   ],
   "metadata": {
    "collapsed": false,
    "pycharm": {
     "name": "#%%\n"
    }
   }
  },
  {
   "cell_type": "code",
   "execution_count": 27,
   "outputs": [
    {
     "name": "stdout",
     "output_type": "stream",
     "text": [
      "person01 age:  28\n",
      "person02 age:  28\n",
      "\n",
      "Using copy.copy() to shallow copy now.\n",
      "\n",
      "Changing person02 age now.\n",
      "\n",
      "person01.age now:  28\n",
      "person02.age now:  33\n"
     ]
    }
   ],
   "source": [
    "print('person01 age: ', person01.age)\n",
    "print('person02 age: ', person02.age)\n",
    "\n",
    "print('\\nUsing copy.copy() to shallow copy now.')\n",
    "person02 = copy.copy(person01)\n",
    "\n",
    "print('\\nChanging person02 age now.')\n",
    "\n",
    "person02.age = 33\n",
    "\n",
    "print(\"\\nperson01.age now: \", person01.age)\n",
    "print(\"person02.age now: \", person02.age)"
   ],
   "metadata": {
    "collapsed": false,
    "pycharm": {
     "name": "#%%\n"
    }
   }
  },
  {
   "cell_type": "code",
   "execution_count": 29,
   "outputs": [
    {
     "name": "stdout",
     "output_type": "stream",
     "text": [
      "56\n",
      "56\n"
     ]
    }
   ],
   "source": [
    "# With a DEEPER structure, we will need to use DEEP COPY\n",
    "\n",
    "class Company:\n",
    "    def __init__(self, boss, employee):\n",
    "        self.boss = boss\n",
    "        self.employee = employee\n",
    "\n",
    "person03 = Person('Janet', 55)\n",
    "person04 = Person('Gina', 24)\n",
    "\n",
    "company = Company(person03, person04)\n",
    "company_clone = copy.copy(company)\n",
    "\n",
    "company_clone.boss.age = 56\n",
    "\n",
    "# Both the original and the clone will now have the age change\n",
    "# It was a shallow copy, must have a DEEP COPY to not affect orig\n",
    "\n",
    "print(company.boss.age)\n",
    "print(company_clone.boss.age)"
   ],
   "metadata": {
    "collapsed": false,
    "pycharm": {
     "name": "#%%\n"
    }
   }
  },
  {
   "cell_type": "code",
   "execution_count": null,
   "outputs": [],
   "source": [],
   "metadata": {
    "collapsed": false,
    "pycharm": {
     "name": "#%%\n"
    }
   }
  }
 ],
 "metadata": {
  "kernelspec": {
   "display_name": "Python 3",
   "language": "python",
   "name": "python3"
  },
  "language_info": {
   "codemirror_mode": {
    "name": "ipython",
    "version": 2
   },
   "file_extension": ".py",
   "mimetype": "text/x-python",
   "name": "python",
   "nbconvert_exporter": "python",
   "pygments_lexer": "ipython2",
   "version": "2.7.6"
  }
 },
 "nbformat": 4,
 "nbformat_minor": 0
}