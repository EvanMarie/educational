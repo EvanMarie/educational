{
 "cells": [
  {
   "cell_type": "markdown",
   "source": [
    "# Intermediate Python\n",
    "### Patrick Loeber, python-engineer.com\n",
    "### https://www.youtube.com/watch?v=HGOBQPFzWKo\n",
    "(2:04:04)\n",
    "September 16, 2022"
   ],
   "metadata": {
    "collapsed": false,
    "pycharm": {
     "name": "#%% md\n"
    }
   }
  },
  {
   "cell_type": "markdown",
   "source": [
    "## EXCEPTIONS:\n",
    "Python programs terminate once they encounter an error, which can be either a syntax error or some sort of exception. We will look at the difference between the two, the most common exceptions, when and how to raise and handle those exceptions, and how to write our own.\n",
    "\n",
    "A SYNTAX ERROR occurs when the code includes code that is syntactically incorrect and is not understood by Python.\n",
    "\n",
    "EXCEPTIONS occur when code is problematic even if it is syntactically correct.\n",
    "\n",
    "* <b>TYPE ERRORS:</b> EX - trying to add a string and an integer\n",
    "* <b>IMPORT ERROR:</b> EX - trying to import a module that does not exist\n",
    "* <b>NAME ERROR:</b> EX - when a variable is not defined yet, but we try to use it\n",
    "* <b>FILE NOT FOUND:</b> EX - trying to open a file, due to no file or incorrect path\n",
    "* <b>VALUE ERROR:</b> EX - when the function or operation receives an argument of the right type but an inappropriate value, like trying to remove a value from a list that is not in the list\n",
    "* <b>INDEX ERROR:</b> EX - when trying to access an index number that is beyond the range of the sequence<br>\n",
    "\n",
    "-> We can use the keyword \"raise\" to raise an exception and provide a message to the user."
   ],
   "metadata": {
    "collapsed": false,
    "pycharm": {
     "name": "#%% md\n"
    }
   }
  },
  {
   "cell_type": "code",
   "execution_count": 6,
   "outputs": [
    {
     "ename": "Exception",
     "evalue": "x should be a positive integer.",
     "output_type": "error",
     "traceback": [
      "\u001B[0;31m---------------------------------------------------------------------------\u001B[0m",
      "\u001B[0;31mException\u001B[0m                                 Traceback (most recent call last)",
      "Cell \u001B[0;32mIn [6], line 4\u001B[0m\n\u001B[1;32m      2\u001B[0m x \u001B[38;5;241m=\u001B[39m \u001B[38;5;241m-\u001B[39m\u001B[38;5;241m5\u001B[39m\n\u001B[1;32m      3\u001B[0m \u001B[38;5;28;01mif\u001B[39;00m x \u001B[38;5;241m<\u001B[39m \u001B[38;5;241m0\u001B[39m:\n\u001B[0;32m----> 4\u001B[0m     \u001B[38;5;28;01mraise\u001B[39;00m \u001B[38;5;167;01mException\u001B[39;00m(\u001B[38;5;124m'\u001B[39m\u001B[38;5;124mx should be a positive integer.\u001B[39m\u001B[38;5;124m'\u001B[39m)\n",
      "\u001B[0;31mException\u001B[0m: x should be a positive integer."
     ]
    }
   ],
   "source": [
    "# Raising an EXCEPTION\n",
    "x = -5\n",
    "if x < 0:\n",
    "    raise Exception('x should be a positive integer.')"
   ],
   "metadata": {
    "collapsed": false,
    "pycharm": {
     "name": "#%%\n"
    }
   }
  },
  {
   "cell_type": "code",
   "execution_count": 8,
   "outputs": [
    {
     "ename": "AssertionError",
     "evalue": "x must be a positive integer.",
     "output_type": "error",
     "traceback": [
      "\u001B[0;31m---------------------------------------------------------------------------\u001B[0m",
      "\u001B[0;31mAssertionError\u001B[0m                            Traceback (most recent call last)",
      "Cell \u001B[0;32mIn [8], line 7\u001B[0m\n\u001B[1;32m      1\u001B[0m \u001B[38;5;66;03m# ASSERT STATEMENT: give a condition and the assert statement will\u001B[39;00m\n\u001B[1;32m      2\u001B[0m \u001B[38;5;66;03m# throw an assertion error if your condition is not true.\u001B[39;00m\n\u001B[1;32m      3\u001B[0m \u001B[38;5;66;03m# Assertion errors can also deliver messages, as provided after the\u001B[39;00m\n\u001B[1;32m      4\u001B[0m \u001B[38;5;66;03m# condition to assert.\u001B[39;00m\n\u001B[1;32m      6\u001B[0m x \u001B[38;5;241m=\u001B[39m \u001B[38;5;241m-\u001B[39m\u001B[38;5;241m5\u001B[39m\n\u001B[0;32m----> 7\u001B[0m \u001B[38;5;28;01massert\u001B[39;00m(x\u001B[38;5;241m>\u001B[39m\u001B[38;5;241m=\u001B[39m\u001B[38;5;241m0\u001B[39m), \u001B[38;5;124m'\u001B[39m\u001B[38;5;124mx must be a positive integer.\u001B[39m\u001B[38;5;124m'\u001B[39m\n",
      "\u001B[0;31mAssertionError\u001B[0m: x must be a positive integer."
     ]
    }
   ],
   "source": [
    "# ASSERT STATEMENT: give a condition and the assert statement will\n",
    "# throw an assertion error if your condition is not true.\n",
    "# Assertion errors can also deliver messages, as provided after the\n",
    "# condition to assert.\n",
    "\n",
    "x = -5\n",
    "assert(x>=0), 'x must be a positive integer.'"
   ],
   "metadata": {
    "collapsed": false,
    "pycharm": {
     "name": "#%%\n"
    }
   }
  },
  {
   "cell_type": "markdown",
   "source": [
    "### -> TRY and EXCEPT: catching and handling exceptions"
   ],
   "metadata": {
    "collapsed": false,
    "pycharm": {
     "name": "#%% md\n"
    }
   }
  },
  {
   "cell_type": "code",
   "execution_count": 10,
   "outputs": [
    {
     "name": "stdout",
     "output_type": "stream",
     "text": [
      "division by zero\n"
     ]
    }
   ],
   "source": [
    "# This way will print a default message with the error caused\n",
    "try:\n",
    "    a = 5 / 0\n",
    "except Exception as e:\n",
    "    print(e)"
   ],
   "metadata": {
    "collapsed": false,
    "pycharm": {
     "name": "#%%\n"
    }
   }
  },
  {
   "cell_type": "code",
   "execution_count": 13,
   "outputs": [
    {
     "name": "stdout",
     "output_type": "stream",
     "text": [
      "Why are you trying to divide by zero?\n"
     ]
    }
   ],
   "source": [
    "# This way lets you provide an error message\n",
    "# It is good practice to do it this way and know what kind of error\n",
    "# you are trying to catch\n",
    "\n",
    "try:\n",
    "    a = 5 / 0\n",
    "except ZeroDivisionError:\n",
    "    print(\"Why are you trying to divide by zero?\")"
   ],
   "metadata": {
    "collapsed": false,
    "pycharm": {
     "name": "#%%\n"
    }
   }
  },
  {
   "cell_type": "code",
   "execution_count": 16,
   "outputs": [
    {
     "name": "stdout",
     "output_type": "stream",
     "text": [
      "unsupported operand type(s) for +: 'float' and 'str'\n"
     ]
    }
   ],
   "source": [
    "# You can also try multiple operations\n",
    "try:\n",
    "    a = 5 / 1       # There is no error here. It will continue.\n",
    "    b = a +'10'     # This will throw a TypeError\n",
    "\n",
    "except ZeroDivisionError as e:\n",
    "    print(e)\n",
    "except TypeError as e:\n",
    "    print(e)"
   ],
   "metadata": {
    "collapsed": false,
    "pycharm": {
     "name": "#%%\n"
    }
   }
  },
  {
   "cell_type": "code",
   "execution_count": 19,
   "outputs": [
    {
     "name": "stdout",
     "output_type": "stream",
     "text": [
      "Everything is awesome!\n",
      "Nothing to see here.\n"
     ]
    }
   ],
   "source": [
    "# You can also try multiple operations\n",
    "try:\n",
    "    a = 5 / 1       # There is no error here. It will continue.\n",
    "    b = a + 4       # There is no error here. It will continue.\n",
    "\n",
    "except ZeroDivisionError as e:\n",
    "    print(e)\n",
    "except TypeError as e:\n",
    "    print(e)\n",
    "\n",
    "# You can also have an else clause for if no exception occurs\n",
    "else:\n",
    "    print('Everything is awesome!')\n",
    "\n",
    "# A finally clause will run, no matter what, error or not.\n",
    "finally:\n",
    "    print('Nothing to see here.')"
   ],
   "metadata": {
    "collapsed": false,
    "pycharm": {
     "name": "#%%\n"
    }
   }
  },
  {
   "cell_type": "markdown",
   "source": [
    "### -> DEFINING CUSTOM EXCEPTIONS:"
   ],
   "metadata": {
    "collapsed": false,
    "pycharm": {
     "name": "#%% md\n"
    }
   }
  },
  {
   "cell_type": "code",
   "execution_count": 31,
   "outputs": [
    {
     "name": "stdout",
     "output_type": "stream",
     "text": [
      "Value is too high!!!!\n"
     ]
    }
   ],
   "source": [
    "# Give it a name with \"Error\" at the end\n",
    "class ValueTooHighError(Exception):\n",
    "    pass\n",
    "\n",
    "class ValueTooLowError(Exception):\n",
    "    def __init__(self, message, value):\n",
    "        self.message = message\n",
    "        self.value = value\n",
    "\n",
    "def test_value(x):\n",
    "    if x > 100:\n",
    "        raise ValueTooHighError('Value is too high!!!!')\n",
    "    if x < 5:\n",
    "        raise ValueTooLowError(\"What you talkin' bout, Willis?\", x)\n",
    "\n",
    "\n",
    "# \"as e\" gives you access to the actual error\n",
    "try:\n",
    "    test_value(200)\n",
    "except ValueTooHighError as e:\n",
    "    print(e)\n",
    "except ValueTooLowError as e:\n",
    "    print(e.message, e.value)"
   ],
   "metadata": {
    "collapsed": false,
    "pycharm": {
     "name": "#%%\n"
    }
   }
  },
  {
   "cell_type": "code",
   "execution_count": 29,
   "outputs": [
    {
     "ename": "ValueTooHighError",
     "evalue": "Value is too high!!!!",
     "output_type": "error",
     "traceback": [
      "\u001B[0;31m---------------------------------------------------------------------------\u001B[0m",
      "\u001B[0;31mValueTooHighError\u001B[0m                         Traceback (most recent call last)",
      "Cell \u001B[0;32mIn [29], line 1\u001B[0m\n\u001B[0;32m----> 1\u001B[0m \u001B[43mtest_value\u001B[49m\u001B[43m(\u001B[49m\u001B[38;5;241;43m200\u001B[39;49m\u001B[43m)\u001B[49m\n",
      "Cell \u001B[0;32mIn [28], line 12\u001B[0m, in \u001B[0;36mtest_value\u001B[0;34m(x)\u001B[0m\n\u001B[1;32m     10\u001B[0m \u001B[38;5;28;01mdef\u001B[39;00m \u001B[38;5;21mtest_value\u001B[39m(x):\n\u001B[1;32m     11\u001B[0m     \u001B[38;5;28;01mif\u001B[39;00m x \u001B[38;5;241m>\u001B[39m \u001B[38;5;241m100\u001B[39m:\n\u001B[0;32m---> 12\u001B[0m         \u001B[38;5;28;01mraise\u001B[39;00m ValueTooHighError(\u001B[38;5;124m'\u001B[39m\u001B[38;5;124mValue is too high!!!!\u001B[39m\u001B[38;5;124m'\u001B[39m)\n\u001B[1;32m     13\u001B[0m     \u001B[38;5;28;01mif\u001B[39;00m x \u001B[38;5;241m<\u001B[39m \u001B[38;5;241m5\u001B[39m:\n\u001B[1;32m     14\u001B[0m         \u001B[38;5;28;01mraise\u001B[39;00m ValueTooLowError(\u001B[38;5;124m\"\u001B[39m\u001B[38;5;124mWhat you talkin\u001B[39m\u001B[38;5;124m'\u001B[39m\u001B[38;5;124m bout, Willis?\u001B[39m\u001B[38;5;124m\"\u001B[39m, x)\n",
      "\u001B[0;31mValueTooHighError\u001B[0m: Value is too high!!!!"
     ]
    }
   ],
   "source": [
    "test_value(200)"
   ],
   "metadata": {
    "collapsed": false,
    "pycharm": {
     "name": "#%%\n"
    }
   }
  },
  {
   "cell_type": "code",
   "execution_count": 30,
   "outputs": [
    {
     "ename": "ValueTooLowError",
     "evalue": "(\"What you talkin' bout, Willis?\", 3)",
     "output_type": "error",
     "traceback": [
      "\u001B[0;31m---------------------------------------------------------------------------\u001B[0m",
      "\u001B[0;31mValueTooLowError\u001B[0m                          Traceback (most recent call last)",
      "Cell \u001B[0;32mIn [30], line 1\u001B[0m\n\u001B[0;32m----> 1\u001B[0m \u001B[43mtest_value\u001B[49m\u001B[43m(\u001B[49m\u001B[38;5;241;43m3\u001B[39;49m\u001B[43m)\u001B[49m\n",
      "Cell \u001B[0;32mIn [28], line 14\u001B[0m, in \u001B[0;36mtest_value\u001B[0;34m(x)\u001B[0m\n\u001B[1;32m     12\u001B[0m     \u001B[38;5;28;01mraise\u001B[39;00m ValueTooHighError(\u001B[38;5;124m'\u001B[39m\u001B[38;5;124mValue is too high!!!!\u001B[39m\u001B[38;5;124m'\u001B[39m)\n\u001B[1;32m     13\u001B[0m \u001B[38;5;28;01mif\u001B[39;00m x \u001B[38;5;241m<\u001B[39m \u001B[38;5;241m5\u001B[39m:\n\u001B[0;32m---> 14\u001B[0m     \u001B[38;5;28;01mraise\u001B[39;00m ValueTooLowError(\u001B[38;5;124m\"\u001B[39m\u001B[38;5;124mWhat you talkin\u001B[39m\u001B[38;5;124m'\u001B[39m\u001B[38;5;124m bout, Willis?\u001B[39m\u001B[38;5;124m\"\u001B[39m, x)\n",
      "\u001B[0;31mValueTooLowError\u001B[0m: (\"What you talkin' bout, Willis?\", 3)"
     ]
    }
   ],
   "source": [
    "test_value(3)"
   ],
   "metadata": {
    "collapsed": false,
    "pycharm": {
     "name": "#%%\n"
    }
   }
  }
 ],
 "metadata": {
  "kernelspec": {
   "display_name": "Python 3",
   "language": "python",
   "name": "python3"
  },
  "language_info": {
   "codemirror_mode": {
    "name": "ipython",
    "version": 2
   },
   "file_extension": ".py",
   "mimetype": "text/x-python",
   "name": "python",
   "nbconvert_exporter": "python",
   "pygments_lexer": "ipython2",
   "version": "2.7.6"
  }
 },
 "nbformat": 4,
 "nbformat_minor": 0
}