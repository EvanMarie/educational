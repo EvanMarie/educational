{
 "cells": [
  {
   "cell_type": "markdown",
   "id": "informational-woman",
   "metadata": {},
   "source": [
    "## Minimum Edit Distance\n",
    "\n",
    "The following interview was asked during a coding interview at Google:\n",
    "\n",
    "> Given two strings A and B, find the minimum number of steps required to convert A to B. (each operation is counted as 1 step.) You have the following 3 operations permitted on a word:\n",
    ">\n",
    "> * Insert a character\n",
    "> * Delete a character\n",
    "> * Replace a character\n",
    "\n",
    "Here's a visual representation (source: iDeserve)\n",
    "\n",
    "![](https://www.ideserve.co.in/learn/img/editDistance_0.gif)"
   ]
  },
  {
   "cell_type": "markdown",
   "id": "32142d00",
   "metadata": {},
   "source": [
    "<b>Own words:</b> given two strings, we need to perform a series of operations to the first string to convert it to the second string. The operations possible are insert, delete, and replace."
   ]
  },
  {
   "cell_type": "markdown",
   "id": "153f2632",
   "metadata": {},
   "source": [
    "<b>Inputs:</b> two strings, such as string_1 = “intention”, string_2 = “execution”<br>\n",
    "<b>Output:</b> the number of operations it takes to convert string_1 to string_2, i.e. 5\n"
   ]
  },
  {
   "cell_type": "code",
   "execution_count": 2,
   "id": "cardiovascular-afghanistan",
   "metadata": {},
   "outputs": [],
   "source": [
    "# Function signature: \n",
    "def minimum_steps(string_1, string_2):\n",
    "    pass"
   ]
  },
  {
   "cell_type": "markdown",
   "id": "5e44a8f9",
   "metadata": {},
   "source": [
    "<b>Test Cases:</b><br>\n",
    "test00 - General case<br>\n",
    "test01 - No change is required<br>\n",
    "test03 - All characters need to be changed<br>\n",
    "test04 - Both strings are equal length<br>\n",
    "test05 - Strings are unequal length<br>\n",
    "test06 - One or both strings are empty<br>\n",
    "test07 - Words only require one of the operations repeated\n"
   ]
  },
  {
   "cell_type": "markdown",
   "id": "bdcae65e",
   "metadata": {},
   "source": [
    "### TEST CASES:"
   ]
  },
  {
   "cell_type": "code",
   "execution_count": 45,
   "id": "183fdd00",
   "metadata": {},
   "outputs": [],
   "source": [
    "# Edge Test Cases\n",
    "\n",
    "test00 = {\n",
    "    'input': {\n",
    "        'string_1': \"intention\",\n",
    "        'string_2': \"execution\"\n",
    "    },\n",
    "    'output': 5\n",
    "}\n",
    "\n",
    "test01 = {\n",
    "    'input': {\n",
    "        'string_1': \"cat\",\n",
    "        'string_2': \"cat\"\n",
    "    },\n",
    "    'output': 0\n",
    "}\n",
    "\n",
    "test02 = {\n",
    "    'input': {\n",
    "        'string_1': \"supper\",\n",
    "        'string_2': \"tactful\"\n",
    "    },\n",
    "    'output': 7\n",
    "}\n",
    "\n",
    "test03 = {\n",
    "    'input': {\n",
    "        'string_1': \"sugar\",\n",
    "        'string_2': \"lover\"\n",
    "    },\n",
    "    'output': 4\n",
    "}\n",
    "\n",
    "test04 = {\n",
    "    'input': {\n",
    "        'string_1': \"chester\",\n",
    "        'string_2': \"plus\"\n",
    "    },\n",
    "    'output': 6\n",
    "}\n",
    "\n",
    "test05 = {\n",
    "    'input': {\n",
    "        'string_1': \"\",\n",
    "        'string_2': \"toaster\"\n",
    "    },\n",
    "    'output': 7\n",
    "}\n",
    "\n",
    "test06 = {\n",
    "    'input': {\n",
    "        'string_1': \"scooter\",\n",
    "        'string_2': \"travels\"\n",
    "    },\n",
    "    'output': 7\n",
    "}\n",
    "\n",
    "test07 = {\n",
    "    'input': {\n",
    "        'string_1': \"chicken\",\n",
    "        'string_2': \"kitchen\"\n",
    "    },\n",
    "    'output': 4\n",
    "}\n",
    "\n",
    "test08 = {\n",
    "    'input': {\n",
    "        'string_1': \"kitten\",\n",
    "        'string_2': \"sitting\"\n",
    "    },\n",
    "    'output': 3\n",
    "}\n",
    "\n",
    "test09 = {\n",
    "    'input': {\n",
    "        'string_1': \"sunday\",\n",
    "        'string_2': \"saturday\"\n",
    "    },\n",
    "    'output': 3\n",
    "}"
   ]
  },
  {
   "cell_type": "code",
   "execution_count": 46,
   "id": "5d828fd9",
   "metadata": {},
   "outputs": [],
   "source": [
    "tests = [test00, test01, test02, test03, test04, test05, test06, test07, test08, test09]"
   ]
  },
  {
   "cell_type": "code",
   "execution_count": 47,
   "id": "ec0d22a4",
   "metadata": {},
   "outputs": [],
   "source": [
    "from jovian.pythondsa import evaluate_test_cases"
   ]
  },
  {
   "cell_type": "markdown",
   "id": "2178871a",
   "metadata": {},
   "source": [
    "<b>STEPS:</b><br>\n",
    "* if string_1 becomes empty first, add all of string_2 to it, done<br>\n",
    "* if string_2 becomes empty first, delete all characters from string_1, done <br>\n",
    "* if the characters are equal, ignore both, move on<br>\n",
    "* if the characters are not equal, it must be deleted, swapped, or shifted down<br>\n",
    "* if deleted, recursively solve after ignoring first character of string_1<br>\n",
    "* if swapped, move both cursors forward, recursively solve after ignoring the <br>\n",
    "current character of each<br>\n",
    "* if shifting, shift string_1 right a spot, and recursively solve the problem<br>\n",
    " \twith the new version of string_1 and normal string_2<br>"
   ]
  },
  {
   "cell_type": "markdown",
   "id": "04b09a24",
   "metadata": {},
   "source": [
    "## BRUTE FORCE"
   ]
  },
  {
   "cell_type": "markdown",
   "id": "17906111",
   "metadata": {},
   "source": [
    "\n",
    "* When in doubt, question if it is possible to solve the problem recursively<br>\n",
    "* Can you find one or more subproblems that can be repeated to solve the overall<br>"
   ]
  },
  {
   "cell_type": "code",
   "execution_count": 50,
   "id": "657baee8",
   "metadata": {},
   "outputs": [],
   "source": [
    "def minimum_steps(string_1, string_2, index_1 = 0, index_2 = 0):\n",
    "\tif index_1 == len(string_1):\n",
    "\t\treturn len(string_2) - index_2\n",
    "\n",
    "\telif index_2 == len(string_1):\n",
    "\t\treturn len(string_1) - index_1\n",
    "\n",
    "\telif string_1[index_1] == string_2[index_2]:\n",
    "\t\treturn minimum_steps(string_1, string_2, index_1+1, index_2+1)\n",
    "\n",
    "\telse: # performing 1) delete 2) swap 3) shift/insert\n",
    "\t\treturn 1 + min(minimum_steps(string_1, string_2, index_1+1, index_2),\n",
    "\t\t\t\t    minimum_steps(string_1, string_2, index_1+1, index_2+1),\n",
    "\t\t\t\t    minimum_steps(string_1, string_2, index_1, index_2+1))\n",
    "    \n"
   ]
  },
  {
   "cell_type": "code",
   "execution_count": 54,
   "id": "893a7ea9",
   "metadata": {},
   "outputs": [
    {
     "name": "stdout",
     "output_type": "stream",
     "text": [
      "intention and execution:  5\n",
      "chicken and kitchen:  4\n",
      "kitten and sitting:  3\n",
      "sunday and saturday:  5\n"
     ]
    },
    {
     "ename": "IndexError",
     "evalue": "string index out of range",
     "output_type": "error",
     "traceback": [
      "\u001b[0;31m---------------------------------------------------------------------------\u001b[0m",
      "\u001b[0;31mIndexError\u001b[0m                                Traceback (most recent call last)",
      "\u001b[0;32m/tmp/ipykernel_50/315974634.py\u001b[0m in \u001b[0;36m<module>\u001b[0;34m\u001b[0m\n\u001b[1;32m      3\u001b[0m \u001b[0mprint\u001b[0m\u001b[0;34m(\u001b[0m\u001b[0;34m\"kitten and sitting: \"\u001b[0m\u001b[0;34m,\u001b[0m \u001b[0mminimum_steps\u001b[0m\u001b[0;34m(\u001b[0m\u001b[0;34m'kitten'\u001b[0m\u001b[0;34m,\u001b[0m \u001b[0;34m'sitting'\u001b[0m\u001b[0;34m)\u001b[0m\u001b[0;34m)\u001b[0m\u001b[0;34m\u001b[0m\u001b[0;34m\u001b[0m\u001b[0m\n\u001b[1;32m      4\u001b[0m \u001b[0mprint\u001b[0m\u001b[0;34m(\u001b[0m\u001b[0;34m\"sunday and saturday: \"\u001b[0m\u001b[0;34m,\u001b[0m \u001b[0mminimum_steps\u001b[0m\u001b[0;34m(\u001b[0m\u001b[0;34m'sunday'\u001b[0m\u001b[0;34m,\u001b[0m \u001b[0;34m'saturday'\u001b[0m\u001b[0;34m)\u001b[0m\u001b[0;34m)\u001b[0m\u001b[0;34m\u001b[0m\u001b[0;34m\u001b[0m\u001b[0m\n\u001b[0;32m----> 5\u001b[0;31m \u001b[0mprint\u001b[0m\u001b[0;34m(\u001b[0m\u001b[0;34m\"chester and plus: \"\u001b[0m\u001b[0;34m,\u001b[0m \u001b[0mminimum_steps\u001b[0m\u001b[0;34m(\u001b[0m\u001b[0;34m'chester'\u001b[0m\u001b[0;34m,\u001b[0m \u001b[0;34m'plus'\u001b[0m\u001b[0;34m)\u001b[0m\u001b[0;34m)\u001b[0m\u001b[0;34m\u001b[0m\u001b[0;34m\u001b[0m\u001b[0m\n\u001b[0m\u001b[1;32m      6\u001b[0m \u001b[0mprint\u001b[0m\u001b[0;34m(\u001b[0m\u001b[0;34m\"please and choose: \"\u001b[0m\u001b[0;34m,\u001b[0m \u001b[0mminimum_steps\u001b[0m\u001b[0;34m(\u001b[0m\u001b[0;34m'please'\u001b[0m\u001b[0;34m,\u001b[0m \u001b[0;34m'choose'\u001b[0m\u001b[0;34m)\u001b[0m\u001b[0;34m)\u001b[0m\u001b[0;34m\u001b[0m\u001b[0;34m\u001b[0m\u001b[0m\n",
      "\u001b[0;32m/tmp/ipykernel_50/1719044234.py\u001b[0m in \u001b[0;36mminimum_steps\u001b[0;34m(string_1, string_2, index_1, index_2)\u001b[0m\n\u001b[1;32m     10\u001b[0m \u001b[0;34m\u001b[0m\u001b[0m\n\u001b[1;32m     11\u001b[0m         \u001b[0;32melse\u001b[0m\u001b[0;34m:\u001b[0m \u001b[0;31m# performing 1) delete 2) swap 3) shift/insert\u001b[0m\u001b[0;34m\u001b[0m\u001b[0;34m\u001b[0m\u001b[0m\n\u001b[0;32m---> 12\u001b[0;31m \t\treturn 1 + min(minimum_steps(string_1, string_2, index_1+1, index_2),\n\u001b[0m\u001b[1;32m     13\u001b[0m                                     \u001b[0mminimum_steps\u001b[0m\u001b[0;34m(\u001b[0m\u001b[0mstring_1\u001b[0m\u001b[0;34m,\u001b[0m \u001b[0mstring_2\u001b[0m\u001b[0;34m,\u001b[0m \u001b[0mindex_1\u001b[0m\u001b[0;34m+\u001b[0m\u001b[0;36m1\u001b[0m\u001b[0;34m,\u001b[0m \u001b[0mindex_2\u001b[0m\u001b[0;34m+\u001b[0m\u001b[0;36m1\u001b[0m\u001b[0;34m)\u001b[0m\u001b[0;34m,\u001b[0m\u001b[0;34m\u001b[0m\u001b[0;34m\u001b[0m\u001b[0m\n\u001b[1;32m     14\u001b[0m \t\t\t\t    minimum_steps(string_1, string_2, index_1, index_2+1))\n",
      "\u001b[0;32m/tmp/ipykernel_50/1719044234.py\u001b[0m in \u001b[0;36mminimum_steps\u001b[0;34m(string_1, string_2, index_1, index_2)\u001b[0m\n\u001b[1;32m     10\u001b[0m \u001b[0;34m\u001b[0m\u001b[0m\n\u001b[1;32m     11\u001b[0m         \u001b[0;32melse\u001b[0m\u001b[0;34m:\u001b[0m \u001b[0;31m# performing 1) delete 2) swap 3) shift/insert\u001b[0m\u001b[0;34m\u001b[0m\u001b[0;34m\u001b[0m\u001b[0m\n\u001b[0;32m---> 12\u001b[0;31m \t\treturn 1 + min(minimum_steps(string_1, string_2, index_1+1, index_2),\n\u001b[0m\u001b[1;32m     13\u001b[0m                                     \u001b[0mminimum_steps\u001b[0m\u001b[0;34m(\u001b[0m\u001b[0mstring_1\u001b[0m\u001b[0;34m,\u001b[0m \u001b[0mstring_2\u001b[0m\u001b[0;34m,\u001b[0m \u001b[0mindex_1\u001b[0m\u001b[0;34m+\u001b[0m\u001b[0;36m1\u001b[0m\u001b[0;34m,\u001b[0m \u001b[0mindex_2\u001b[0m\u001b[0;34m+\u001b[0m\u001b[0;36m1\u001b[0m\u001b[0;34m)\u001b[0m\u001b[0;34m,\u001b[0m\u001b[0;34m\u001b[0m\u001b[0;34m\u001b[0m\u001b[0m\n\u001b[1;32m     14\u001b[0m \t\t\t\t    minimum_steps(string_1, string_2, index_1, index_2+1))\n",
      "\u001b[0;32m/tmp/ipykernel_50/1719044234.py\u001b[0m in \u001b[0;36mminimum_steps\u001b[0;34m(string_1, string_2, index_1, index_2)\u001b[0m\n\u001b[1;32m     10\u001b[0m \u001b[0;34m\u001b[0m\u001b[0m\n\u001b[1;32m     11\u001b[0m         \u001b[0;32melse\u001b[0m\u001b[0;34m:\u001b[0m \u001b[0;31m# performing 1) delete 2) swap 3) shift/insert\u001b[0m\u001b[0;34m\u001b[0m\u001b[0;34m\u001b[0m\u001b[0m\n\u001b[0;32m---> 12\u001b[0;31m \t\treturn 1 + min(minimum_steps(string_1, string_2, index_1+1, index_2),\n\u001b[0m\u001b[1;32m     13\u001b[0m                                     \u001b[0mminimum_steps\u001b[0m\u001b[0;34m(\u001b[0m\u001b[0mstring_1\u001b[0m\u001b[0;34m,\u001b[0m \u001b[0mstring_2\u001b[0m\u001b[0;34m,\u001b[0m \u001b[0mindex_1\u001b[0m\u001b[0;34m+\u001b[0m\u001b[0;36m1\u001b[0m\u001b[0;34m,\u001b[0m \u001b[0mindex_2\u001b[0m\u001b[0;34m+\u001b[0m\u001b[0;36m1\u001b[0m\u001b[0;34m)\u001b[0m\u001b[0;34m,\u001b[0m\u001b[0;34m\u001b[0m\u001b[0;34m\u001b[0m\u001b[0m\n\u001b[1;32m     14\u001b[0m \t\t\t\t    minimum_steps(string_1, string_2, index_1, index_2+1))\n",
      "\u001b[0;32m/tmp/ipykernel_50/1719044234.py\u001b[0m in \u001b[0;36mminimum_steps\u001b[0;34m(string_1, string_2, index_1, index_2)\u001b[0m\n\u001b[1;32m     10\u001b[0m \u001b[0;34m\u001b[0m\u001b[0m\n\u001b[1;32m     11\u001b[0m         \u001b[0;32melse\u001b[0m\u001b[0;34m:\u001b[0m \u001b[0;31m# performing 1) delete 2) swap 3) shift/insert\u001b[0m\u001b[0;34m\u001b[0m\u001b[0;34m\u001b[0m\u001b[0m\n\u001b[0;32m---> 12\u001b[0;31m \t\treturn 1 + min(minimum_steps(string_1, string_2, index_1+1, index_2),\n\u001b[0m\u001b[1;32m     13\u001b[0m                                     \u001b[0mminimum_steps\u001b[0m\u001b[0;34m(\u001b[0m\u001b[0mstring_1\u001b[0m\u001b[0;34m,\u001b[0m \u001b[0mstring_2\u001b[0m\u001b[0;34m,\u001b[0m \u001b[0mindex_1\u001b[0m\u001b[0;34m+\u001b[0m\u001b[0;36m1\u001b[0m\u001b[0;34m,\u001b[0m \u001b[0mindex_2\u001b[0m\u001b[0;34m+\u001b[0m\u001b[0;36m1\u001b[0m\u001b[0;34m)\u001b[0m\u001b[0;34m,\u001b[0m\u001b[0;34m\u001b[0m\u001b[0;34m\u001b[0m\u001b[0m\n\u001b[1;32m     14\u001b[0m \t\t\t\t    minimum_steps(string_1, string_2, index_1, index_2+1))\n",
      "\u001b[0;32m/tmp/ipykernel_50/1719044234.py\u001b[0m in \u001b[0;36mminimum_steps\u001b[0;34m(string_1, string_2, index_1, index_2)\u001b[0m\n\u001b[1;32m     10\u001b[0m \u001b[0;34m\u001b[0m\u001b[0m\n\u001b[1;32m     11\u001b[0m         \u001b[0;32melse\u001b[0m\u001b[0;34m:\u001b[0m \u001b[0;31m# performing 1) delete 2) swap 3) shift/insert\u001b[0m\u001b[0;34m\u001b[0m\u001b[0;34m\u001b[0m\u001b[0m\n\u001b[0;32m---> 12\u001b[0;31m \t\treturn 1 + min(minimum_steps(string_1, string_2, index_1+1, index_2),\n\u001b[0m\u001b[1;32m     13\u001b[0m                                     \u001b[0mminimum_steps\u001b[0m\u001b[0;34m(\u001b[0m\u001b[0mstring_1\u001b[0m\u001b[0;34m,\u001b[0m \u001b[0mstring_2\u001b[0m\u001b[0;34m,\u001b[0m \u001b[0mindex_1\u001b[0m\u001b[0;34m+\u001b[0m\u001b[0;36m1\u001b[0m\u001b[0;34m,\u001b[0m \u001b[0mindex_2\u001b[0m\u001b[0;34m+\u001b[0m\u001b[0;36m1\u001b[0m\u001b[0;34m)\u001b[0m\u001b[0;34m,\u001b[0m\u001b[0;34m\u001b[0m\u001b[0;34m\u001b[0m\u001b[0m\n\u001b[1;32m     14\u001b[0m \t\t\t\t    minimum_steps(string_1, string_2, index_1, index_2+1))\n",
      "\u001b[0;32m/tmp/ipykernel_50/1719044234.py\u001b[0m in \u001b[0;36mminimum_steps\u001b[0;34m(string_1, string_2, index_1, index_2)\u001b[0m\n\u001b[1;32m     10\u001b[0m \u001b[0;34m\u001b[0m\u001b[0m\n\u001b[1;32m     11\u001b[0m         \u001b[0;32melse\u001b[0m\u001b[0;34m:\u001b[0m \u001b[0;31m# performing 1) delete 2) swap 3) shift/insert\u001b[0m\u001b[0;34m\u001b[0m\u001b[0;34m\u001b[0m\u001b[0m\n\u001b[0;32m---> 12\u001b[0;31m \t\treturn 1 + min(minimum_steps(string_1, string_2, index_1+1, index_2),\n\u001b[0m\u001b[1;32m     13\u001b[0m                                     \u001b[0mminimum_steps\u001b[0m\u001b[0;34m(\u001b[0m\u001b[0mstring_1\u001b[0m\u001b[0;34m,\u001b[0m \u001b[0mstring_2\u001b[0m\u001b[0;34m,\u001b[0m \u001b[0mindex_1\u001b[0m\u001b[0;34m+\u001b[0m\u001b[0;36m1\u001b[0m\u001b[0;34m,\u001b[0m \u001b[0mindex_2\u001b[0m\u001b[0;34m+\u001b[0m\u001b[0;36m1\u001b[0m\u001b[0;34m)\u001b[0m\u001b[0;34m,\u001b[0m\u001b[0;34m\u001b[0m\u001b[0;34m\u001b[0m\u001b[0m\n\u001b[1;32m     14\u001b[0m \t\t\t\t    minimum_steps(string_1, string_2, index_1, index_2+1))\n",
      "\u001b[0;32m/tmp/ipykernel_50/1719044234.py\u001b[0m in \u001b[0;36mminimum_steps\u001b[0;34m(string_1, string_2, index_1, index_2)\u001b[0m\n\u001b[1;32m     12\u001b[0m \t\treturn 1 + min(minimum_steps(string_1, string_2, index_1+1, index_2),\n\u001b[1;32m     13\u001b[0m                                     \u001b[0mminimum_steps\u001b[0m\u001b[0;34m(\u001b[0m\u001b[0mstring_1\u001b[0m\u001b[0;34m,\u001b[0m \u001b[0mstring_2\u001b[0m\u001b[0;34m,\u001b[0m \u001b[0mindex_1\u001b[0m\u001b[0;34m+\u001b[0m\u001b[0;36m1\u001b[0m\u001b[0;34m,\u001b[0m \u001b[0mindex_2\u001b[0m\u001b[0;34m+\u001b[0m\u001b[0;36m1\u001b[0m\u001b[0;34m)\u001b[0m\u001b[0;34m,\u001b[0m\u001b[0;34m\u001b[0m\u001b[0;34m\u001b[0m\u001b[0m\n\u001b[0;32m---> 14\u001b[0;31m \t\t\t\t    minimum_steps(string_1, string_2, index_1, index_2+1))\n\u001b[0m\u001b[1;32m     15\u001b[0m \u001b[0;34m\u001b[0m\u001b[0m\n",
      "\u001b[0;32m/tmp/ipykernel_50/1719044234.py\u001b[0m in \u001b[0;36mminimum_steps\u001b[0;34m(string_1, string_2, index_1, index_2)\u001b[0m\n\u001b[1;32m     12\u001b[0m \t\treturn 1 + min(minimum_steps(string_1, string_2, index_1+1, index_2),\n\u001b[1;32m     13\u001b[0m                                     \u001b[0mminimum_steps\u001b[0m\u001b[0;34m(\u001b[0m\u001b[0mstring_1\u001b[0m\u001b[0;34m,\u001b[0m \u001b[0mstring_2\u001b[0m\u001b[0;34m,\u001b[0m \u001b[0mindex_1\u001b[0m\u001b[0;34m+\u001b[0m\u001b[0;36m1\u001b[0m\u001b[0;34m,\u001b[0m \u001b[0mindex_2\u001b[0m\u001b[0;34m+\u001b[0m\u001b[0;36m1\u001b[0m\u001b[0;34m)\u001b[0m\u001b[0;34m,\u001b[0m\u001b[0;34m\u001b[0m\u001b[0;34m\u001b[0m\u001b[0m\n\u001b[0;32m---> 14\u001b[0;31m \t\t\t\t    minimum_steps(string_1, string_2, index_1, index_2+1))\n\u001b[0m\u001b[1;32m     15\u001b[0m \u001b[0;34m\u001b[0m\u001b[0m\n",
      "\u001b[0;32m/tmp/ipykernel_50/1719044234.py\u001b[0m in \u001b[0;36mminimum_steps\u001b[0;34m(string_1, string_2, index_1, index_2)\u001b[0m\n\u001b[1;32m     12\u001b[0m \t\treturn 1 + min(minimum_steps(string_1, string_2, index_1+1, index_2),\n\u001b[1;32m     13\u001b[0m                                     \u001b[0mminimum_steps\u001b[0m\u001b[0;34m(\u001b[0m\u001b[0mstring_1\u001b[0m\u001b[0;34m,\u001b[0m \u001b[0mstring_2\u001b[0m\u001b[0;34m,\u001b[0m \u001b[0mindex_1\u001b[0m\u001b[0;34m+\u001b[0m\u001b[0;36m1\u001b[0m\u001b[0;34m,\u001b[0m \u001b[0mindex_2\u001b[0m\u001b[0;34m+\u001b[0m\u001b[0;36m1\u001b[0m\u001b[0;34m)\u001b[0m\u001b[0;34m,\u001b[0m\u001b[0;34m\u001b[0m\u001b[0;34m\u001b[0m\u001b[0m\n\u001b[0;32m---> 14\u001b[0;31m \t\t\t\t    minimum_steps(string_1, string_2, index_1, index_2+1))\n\u001b[0m\u001b[1;32m     15\u001b[0m \u001b[0;34m\u001b[0m\u001b[0m\n",
      "\u001b[0;32m/tmp/ipykernel_50/1719044234.py\u001b[0m in \u001b[0;36mminimum_steps\u001b[0;34m(string_1, string_2, index_1, index_2)\u001b[0m\n\u001b[1;32m     12\u001b[0m \t\treturn 1 + min(minimum_steps(string_1, string_2, index_1+1, index_2),\n\u001b[1;32m     13\u001b[0m                                     \u001b[0mminimum_steps\u001b[0m\u001b[0;34m(\u001b[0m\u001b[0mstring_1\u001b[0m\u001b[0;34m,\u001b[0m \u001b[0mstring_2\u001b[0m\u001b[0;34m,\u001b[0m \u001b[0mindex_1\u001b[0m\u001b[0;34m+\u001b[0m\u001b[0;36m1\u001b[0m\u001b[0;34m,\u001b[0m \u001b[0mindex_2\u001b[0m\u001b[0;34m+\u001b[0m\u001b[0;36m1\u001b[0m\u001b[0;34m)\u001b[0m\u001b[0;34m,\u001b[0m\u001b[0;34m\u001b[0m\u001b[0;34m\u001b[0m\u001b[0m\n\u001b[0;32m---> 14\u001b[0;31m \t\t\t\t    minimum_steps(string_1, string_2, index_1, index_2+1))\n\u001b[0m\u001b[1;32m     15\u001b[0m \u001b[0;34m\u001b[0m\u001b[0m\n",
      "\u001b[0;32m/tmp/ipykernel_50/1719044234.py\u001b[0m in \u001b[0;36mminimum_steps\u001b[0;34m(string_1, string_2, index_1, index_2)\u001b[0m\n\u001b[1;32m      6\u001b[0m                 \u001b[0;32mreturn\u001b[0m \u001b[0mlen\u001b[0m\u001b[0;34m(\u001b[0m\u001b[0mstring_1\u001b[0m\u001b[0;34m)\u001b[0m \u001b[0;34m-\u001b[0m \u001b[0mindex_1\u001b[0m\u001b[0;34m\u001b[0m\u001b[0;34m\u001b[0m\u001b[0m\n\u001b[1;32m      7\u001b[0m \u001b[0;34m\u001b[0m\u001b[0m\n\u001b[0;32m----> 8\u001b[0;31m         \u001b[0;32melif\u001b[0m \u001b[0mstring_1\u001b[0m\u001b[0;34m[\u001b[0m\u001b[0mindex_1\u001b[0m\u001b[0;34m]\u001b[0m \u001b[0;34m==\u001b[0m \u001b[0mstring_2\u001b[0m\u001b[0;34m[\u001b[0m\u001b[0mindex_2\u001b[0m\u001b[0;34m]\u001b[0m\u001b[0;34m:\u001b[0m\u001b[0;34m\u001b[0m\u001b[0;34m\u001b[0m\u001b[0m\n\u001b[0m\u001b[1;32m      9\u001b[0m                 \u001b[0;32mreturn\u001b[0m \u001b[0mminimum_steps\u001b[0m\u001b[0;34m(\u001b[0m\u001b[0mstring_1\u001b[0m\u001b[0;34m,\u001b[0m \u001b[0mstring_2\u001b[0m\u001b[0;34m,\u001b[0m \u001b[0mindex_1\u001b[0m\u001b[0;34m+\u001b[0m\u001b[0;36m1\u001b[0m\u001b[0;34m,\u001b[0m \u001b[0mindex_2\u001b[0m\u001b[0;34m+\u001b[0m\u001b[0;36m1\u001b[0m\u001b[0;34m)\u001b[0m\u001b[0;34m\u001b[0m\u001b[0;34m\u001b[0m\u001b[0m\n\u001b[1;32m     10\u001b[0m \u001b[0;34m\u001b[0m\u001b[0m\n",
      "\u001b[0;31mIndexError\u001b[0m: string index out of range"
     ]
    }
   ],
   "source": [
    "print(\"intention and execution: \", minimum_steps('intention', 'execution'))\n",
    "print(\"chicken and kitchen: \", minimum_steps('chicken', 'kitchen'))\n",
    "print(\"kitten and sitting: \", minimum_steps('kitten', 'sitting'))\n",
    "print(\"sunday and saturday: \", minimum_steps('sunday', 'saturday'))\n",
    "print(\"chester and plus: \", minimum_steps('chester', 'plus'))\n",
    "print(\"please and choose: \", minimum_steps('please', 'choose'))"
   ]
  },
  {
   "cell_type": "code",
   "execution_count": 49,
   "id": "b03fa50a",
   "metadata": {},
   "outputs": [
    {
     "name": "stdout",
     "output_type": "stream",
     "text": [
      "\n",
      "\u001b[1mTEST CASE #0\u001b[0m\n",
      "\n",
      "Input:\n",
      "{'string_1': 'intention', 'string_2': 'execution'}\n",
      "\n",
      "Expected Output:\n",
      "5\n",
      "\n",
      "\n",
      "Actual Output:\n",
      "5\n",
      "\n",
      "Execution Time:\n",
      "90.121 ms\n",
      "\n",
      "Test Result:\n",
      "\u001b[92mPASSED\u001b[0m\n",
      "\n",
      "\n",
      "\u001b[1mTEST CASE #1\u001b[0m\n",
      "\n",
      "Input:\n",
      "{'string_1': 'cat', 'string_2': 'cat'}\n",
      "\n",
      "Expected Output:\n",
      "0\n",
      "\n",
      "\n",
      "Actual Output:\n",
      "0\n",
      "\n",
      "Execution Time:\n",
      "0.006 ms\n",
      "\n",
      "Test Result:\n",
      "\u001b[92mPASSED\u001b[0m\n",
      "\n",
      "\n",
      "\u001b[1mTEST CASE #2\u001b[0m\n",
      "\n",
      "Input:\n",
      "{'string_1': 'supper', 'string_2': 'tactful'}\n",
      "\n",
      "Expected Output:\n",
      "7\n",
      "\n",
      "\n",
      "Actual Output:\n",
      "7\n",
      "\n",
      "Execution Time:\n",
      "2.951 ms\n",
      "\n",
      "Test Result:\n",
      "\u001b[92mPASSED\u001b[0m\n",
      "\n",
      "\n",
      "\u001b[1mTEST CASE #3\u001b[0m\n",
      "\n",
      "Input:\n",
      "{'string_1': 'sugar', 'string_2': 'lover'}\n",
      "\n",
      "Expected Output:\n",
      "4\n",
      "\n",
      "\n",
      "Actual Output:\n",
      "4\n",
      "\n",
      "Execution Time:\n",
      "0.409 ms\n",
      "\n",
      "Test Result:\n",
      "\u001b[92mPASSED\u001b[0m\n",
      "\n",
      "\n",
      "\u001b[1mTEST CASE #4\u001b[0m\n"
     ]
    },
    {
     "ename": "IndexError",
     "evalue": "string index out of range",
     "output_type": "error",
     "traceback": [
      "\u001b[0;31m---------------------------------------------------------------------------\u001b[0m",
      "\u001b[0;31mIndexError\u001b[0m                                Traceback (most recent call last)",
      "\u001b[0;32m/tmp/ipykernel_50/1409213795.py\u001b[0m in \u001b[0;36m<module>\u001b[0;34m\u001b[0m\n\u001b[0;32m----> 1\u001b[0;31m \u001b[0mevaluate_test_cases\u001b[0m\u001b[0;34m(\u001b[0m\u001b[0mminimum_steps\u001b[0m\u001b[0;34m,\u001b[0m \u001b[0mtests\u001b[0m\u001b[0;34m)\u001b[0m\u001b[0;34m\u001b[0m\u001b[0;34m\u001b[0m\u001b[0m\n\u001b[0m",
      "\u001b[0;32m/opt/conda/lib/python3.9/site-packages/jovian/pythondsa/__init__.py\u001b[0m in \u001b[0;36mevaluate_test_cases\u001b[0;34m(function, test_cases, error_only, summary_only)\u001b[0m\n\u001b[1;32m     85\u001b[0m         \u001b[0;32mif\u001b[0m \u001b[0;32mnot\u001b[0m \u001b[0merror_only\u001b[0m\u001b[0;34m:\u001b[0m\u001b[0;34m\u001b[0m\u001b[0;34m\u001b[0m\u001b[0m\n\u001b[1;32m     86\u001b[0m             \u001b[0mprint\u001b[0m\u001b[0;34m(\u001b[0m\u001b[0;34m\"\\n\\033[1mTEST CASE #{}\\033[0m\"\u001b[0m\u001b[0;34m.\u001b[0m\u001b[0mformat\u001b[0m\u001b[0;34m(\u001b[0m\u001b[0mi\u001b[0m\u001b[0;34m)\u001b[0m\u001b[0;34m)\u001b[0m\u001b[0;34m\u001b[0m\u001b[0;34m\u001b[0m\u001b[0m\n\u001b[0;32m---> 87\u001b[0;31m         \u001b[0mresult\u001b[0m \u001b[0;34m=\u001b[0m \u001b[0mevaluate_test_case\u001b[0m\u001b[0;34m(\u001b[0m\u001b[0mfunction\u001b[0m\u001b[0;34m,\u001b[0m \u001b[0mtest_case\u001b[0m\u001b[0;34m,\u001b[0m \u001b[0mdisplay\u001b[0m\u001b[0;34m=\u001b[0m\u001b[0;32mFalse\u001b[0m\u001b[0;34m)\u001b[0m\u001b[0;34m\u001b[0m\u001b[0;34m\u001b[0m\u001b[0m\n\u001b[0m\u001b[1;32m     88\u001b[0m         \u001b[0mresults\u001b[0m\u001b[0;34m.\u001b[0m\u001b[0mappend\u001b[0m\u001b[0;34m(\u001b[0m\u001b[0mresult\u001b[0m\u001b[0;34m)\u001b[0m\u001b[0;34m\u001b[0m\u001b[0;34m\u001b[0m\u001b[0m\n\u001b[1;32m     89\u001b[0m         \u001b[0;32mif\u001b[0m \u001b[0merror_only\u001b[0m \u001b[0;32mand\u001b[0m \u001b[0;32mnot\u001b[0m \u001b[0mresult\u001b[0m\u001b[0;34m[\u001b[0m\u001b[0;36m1\u001b[0m\u001b[0;34m]\u001b[0m\u001b[0;34m:\u001b[0m\u001b[0;34m\u001b[0m\u001b[0;34m\u001b[0m\u001b[0m\n",
      "\u001b[0;32m/opt/conda/lib/python3.9/site-packages/jovian/pythondsa/__init__.py\u001b[0m in \u001b[0;36mevaluate_test_case\u001b[0;34m(function, test_case, display)\u001b[0m\n\u001b[1;32m     63\u001b[0m \u001b[0;34m\u001b[0m\u001b[0m\n\u001b[1;32m     64\u001b[0m     \u001b[0mstart\u001b[0m \u001b[0;34m=\u001b[0m \u001b[0mtimer\u001b[0m\u001b[0;34m(\u001b[0m\u001b[0;34m)\u001b[0m\u001b[0;34m\u001b[0m\u001b[0;34m\u001b[0m\u001b[0m\n\u001b[0;32m---> 65\u001b[0;31m     \u001b[0mactual_output\u001b[0m \u001b[0;34m=\u001b[0m \u001b[0mfunction\u001b[0m\u001b[0;34m(\u001b[0m\u001b[0;34m**\u001b[0m\u001b[0minputs\u001b[0m\u001b[0;34m)\u001b[0m\u001b[0;34m\u001b[0m\u001b[0;34m\u001b[0m\u001b[0m\n\u001b[0m\u001b[1;32m     66\u001b[0m     \u001b[0mend\u001b[0m \u001b[0;34m=\u001b[0m \u001b[0mtimer\u001b[0m\u001b[0;34m(\u001b[0m\u001b[0;34m)\u001b[0m\u001b[0;34m\u001b[0m\u001b[0;34m\u001b[0m\u001b[0m\n\u001b[1;32m     67\u001b[0m \u001b[0;34m\u001b[0m\u001b[0m\n",
      "\u001b[0;32m/tmp/ipykernel_50/2643043875.py\u001b[0m in \u001b[0;36mminimum_steps\u001b[0;34m(string_1, string_2, index_1, index_2)\u001b[0m\n\u001b[1;32m     10\u001b[0m \u001b[0;34m\u001b[0m\u001b[0m\n\u001b[1;32m     11\u001b[0m         \u001b[0;32melse\u001b[0m\u001b[0;34m:\u001b[0m \u001b[0;31m# performing 1) delete 2) swap 3) shift/insert\u001b[0m\u001b[0;34m\u001b[0m\u001b[0;34m\u001b[0m\u001b[0m\n\u001b[0;32m---> 12\u001b[0;31m \t\treturn 1 + min(minimum_steps(string_1, string_2, index_1+1, index_2),\n\u001b[0m\u001b[1;32m     13\u001b[0m                                     \u001b[0mminimum_steps\u001b[0m\u001b[0;34m(\u001b[0m\u001b[0mstring_1\u001b[0m\u001b[0;34m,\u001b[0m \u001b[0mstring_2\u001b[0m\u001b[0;34m,\u001b[0m \u001b[0mindex_1\u001b[0m\u001b[0;34m+\u001b[0m\u001b[0;36m1\u001b[0m\u001b[0;34m,\u001b[0m \u001b[0mindex_2\u001b[0m\u001b[0;34m+\u001b[0m\u001b[0;36m1\u001b[0m\u001b[0;34m)\u001b[0m\u001b[0;34m,\u001b[0m\u001b[0;34m\u001b[0m\u001b[0;34m\u001b[0m\u001b[0m\n\u001b[1;32m     14\u001b[0m \t\t\t\t    minimum_steps(string_1, string_2, index_1, index_2+1))\n",
      "\u001b[0;32m/tmp/ipykernel_50/2643043875.py\u001b[0m in \u001b[0;36mminimum_steps\u001b[0;34m(string_1, string_2, index_1, index_2)\u001b[0m\n\u001b[1;32m     10\u001b[0m \u001b[0;34m\u001b[0m\u001b[0m\n\u001b[1;32m     11\u001b[0m         \u001b[0;32melse\u001b[0m\u001b[0;34m:\u001b[0m \u001b[0;31m# performing 1) delete 2) swap 3) shift/insert\u001b[0m\u001b[0;34m\u001b[0m\u001b[0;34m\u001b[0m\u001b[0m\n\u001b[0;32m---> 12\u001b[0;31m \t\treturn 1 + min(minimum_steps(string_1, string_2, index_1+1, index_2),\n\u001b[0m\u001b[1;32m     13\u001b[0m                                     \u001b[0mminimum_steps\u001b[0m\u001b[0;34m(\u001b[0m\u001b[0mstring_1\u001b[0m\u001b[0;34m,\u001b[0m \u001b[0mstring_2\u001b[0m\u001b[0;34m,\u001b[0m \u001b[0mindex_1\u001b[0m\u001b[0;34m+\u001b[0m\u001b[0;36m1\u001b[0m\u001b[0;34m,\u001b[0m \u001b[0mindex_2\u001b[0m\u001b[0;34m+\u001b[0m\u001b[0;36m1\u001b[0m\u001b[0;34m)\u001b[0m\u001b[0;34m,\u001b[0m\u001b[0;34m\u001b[0m\u001b[0;34m\u001b[0m\u001b[0m\n\u001b[1;32m     14\u001b[0m \t\t\t\t    minimum_steps(string_1, string_2, index_1, index_2+1))\n",
      "\u001b[0;32m/tmp/ipykernel_50/2643043875.py\u001b[0m in \u001b[0;36mminimum_steps\u001b[0;34m(string_1, string_2, index_1, index_2)\u001b[0m\n\u001b[1;32m     10\u001b[0m \u001b[0;34m\u001b[0m\u001b[0m\n\u001b[1;32m     11\u001b[0m         \u001b[0;32melse\u001b[0m\u001b[0;34m:\u001b[0m \u001b[0;31m# performing 1) delete 2) swap 3) shift/insert\u001b[0m\u001b[0;34m\u001b[0m\u001b[0;34m\u001b[0m\u001b[0m\n\u001b[0;32m---> 12\u001b[0;31m \t\treturn 1 + min(minimum_steps(string_1, string_2, index_1+1, index_2),\n\u001b[0m\u001b[1;32m     13\u001b[0m                                     \u001b[0mminimum_steps\u001b[0m\u001b[0;34m(\u001b[0m\u001b[0mstring_1\u001b[0m\u001b[0;34m,\u001b[0m \u001b[0mstring_2\u001b[0m\u001b[0;34m,\u001b[0m \u001b[0mindex_1\u001b[0m\u001b[0;34m+\u001b[0m\u001b[0;36m1\u001b[0m\u001b[0;34m,\u001b[0m \u001b[0mindex_2\u001b[0m\u001b[0;34m+\u001b[0m\u001b[0;36m1\u001b[0m\u001b[0;34m)\u001b[0m\u001b[0;34m,\u001b[0m\u001b[0;34m\u001b[0m\u001b[0;34m\u001b[0m\u001b[0m\n\u001b[1;32m     14\u001b[0m \t\t\t\t    minimum_steps(string_1, string_2, index_1, index_2+1))\n",
      "\u001b[0;32m/tmp/ipykernel_50/2643043875.py\u001b[0m in \u001b[0;36mminimum_steps\u001b[0;34m(string_1, string_2, index_1, index_2)\u001b[0m\n\u001b[1;32m     10\u001b[0m \u001b[0;34m\u001b[0m\u001b[0m\n\u001b[1;32m     11\u001b[0m         \u001b[0;32melse\u001b[0m\u001b[0;34m:\u001b[0m \u001b[0;31m# performing 1) delete 2) swap 3) shift/insert\u001b[0m\u001b[0;34m\u001b[0m\u001b[0;34m\u001b[0m\u001b[0m\n\u001b[0;32m---> 12\u001b[0;31m \t\treturn 1 + min(minimum_steps(string_1, string_2, index_1+1, index_2),\n\u001b[0m\u001b[1;32m     13\u001b[0m                                     \u001b[0mminimum_steps\u001b[0m\u001b[0;34m(\u001b[0m\u001b[0mstring_1\u001b[0m\u001b[0;34m,\u001b[0m \u001b[0mstring_2\u001b[0m\u001b[0;34m,\u001b[0m \u001b[0mindex_1\u001b[0m\u001b[0;34m+\u001b[0m\u001b[0;36m1\u001b[0m\u001b[0;34m,\u001b[0m \u001b[0mindex_2\u001b[0m\u001b[0;34m+\u001b[0m\u001b[0;36m1\u001b[0m\u001b[0;34m)\u001b[0m\u001b[0;34m,\u001b[0m\u001b[0;34m\u001b[0m\u001b[0;34m\u001b[0m\u001b[0m\n\u001b[1;32m     14\u001b[0m \t\t\t\t    minimum_steps(string_1, string_2, index_1, index_2+1))\n",
      "\u001b[0;32m/tmp/ipykernel_50/2643043875.py\u001b[0m in \u001b[0;36mminimum_steps\u001b[0;34m(string_1, string_2, index_1, index_2)\u001b[0m\n\u001b[1;32m     10\u001b[0m \u001b[0;34m\u001b[0m\u001b[0m\n\u001b[1;32m     11\u001b[0m         \u001b[0;32melse\u001b[0m\u001b[0;34m:\u001b[0m \u001b[0;31m# performing 1) delete 2) swap 3) shift/insert\u001b[0m\u001b[0;34m\u001b[0m\u001b[0;34m\u001b[0m\u001b[0m\n\u001b[0;32m---> 12\u001b[0;31m \t\treturn 1 + min(minimum_steps(string_1, string_2, index_1+1, index_2),\n\u001b[0m\u001b[1;32m     13\u001b[0m                                     \u001b[0mminimum_steps\u001b[0m\u001b[0;34m(\u001b[0m\u001b[0mstring_1\u001b[0m\u001b[0;34m,\u001b[0m \u001b[0mstring_2\u001b[0m\u001b[0;34m,\u001b[0m \u001b[0mindex_1\u001b[0m\u001b[0;34m+\u001b[0m\u001b[0;36m1\u001b[0m\u001b[0;34m,\u001b[0m \u001b[0mindex_2\u001b[0m\u001b[0;34m+\u001b[0m\u001b[0;36m1\u001b[0m\u001b[0;34m)\u001b[0m\u001b[0;34m,\u001b[0m\u001b[0;34m\u001b[0m\u001b[0;34m\u001b[0m\u001b[0m\n\u001b[1;32m     14\u001b[0m \t\t\t\t    minimum_steps(string_1, string_2, index_1, index_2+1))\n",
      "\u001b[0;32m/tmp/ipykernel_50/2643043875.py\u001b[0m in \u001b[0;36mminimum_steps\u001b[0;34m(string_1, string_2, index_1, index_2)\u001b[0m\n\u001b[1;32m     10\u001b[0m \u001b[0;34m\u001b[0m\u001b[0m\n\u001b[1;32m     11\u001b[0m         \u001b[0;32melse\u001b[0m\u001b[0;34m:\u001b[0m \u001b[0;31m# performing 1) delete 2) swap 3) shift/insert\u001b[0m\u001b[0;34m\u001b[0m\u001b[0;34m\u001b[0m\u001b[0m\n\u001b[0;32m---> 12\u001b[0;31m \t\treturn 1 + min(minimum_steps(string_1, string_2, index_1+1, index_2),\n\u001b[0m\u001b[1;32m     13\u001b[0m                                     \u001b[0mminimum_steps\u001b[0m\u001b[0;34m(\u001b[0m\u001b[0mstring_1\u001b[0m\u001b[0;34m,\u001b[0m \u001b[0mstring_2\u001b[0m\u001b[0;34m,\u001b[0m \u001b[0mindex_1\u001b[0m\u001b[0;34m+\u001b[0m\u001b[0;36m1\u001b[0m\u001b[0;34m,\u001b[0m \u001b[0mindex_2\u001b[0m\u001b[0;34m+\u001b[0m\u001b[0;36m1\u001b[0m\u001b[0;34m)\u001b[0m\u001b[0;34m,\u001b[0m\u001b[0;34m\u001b[0m\u001b[0;34m\u001b[0m\u001b[0m\n\u001b[1;32m     14\u001b[0m \t\t\t\t    minimum_steps(string_1, string_2, index_1, index_2+1))\n",
      "\u001b[0;32m/tmp/ipykernel_50/2643043875.py\u001b[0m in \u001b[0;36mminimum_steps\u001b[0;34m(string_1, string_2, index_1, index_2)\u001b[0m\n\u001b[1;32m     12\u001b[0m \t\treturn 1 + min(minimum_steps(string_1, string_2, index_1+1, index_2),\n\u001b[1;32m     13\u001b[0m                                     \u001b[0mminimum_steps\u001b[0m\u001b[0;34m(\u001b[0m\u001b[0mstring_1\u001b[0m\u001b[0;34m,\u001b[0m \u001b[0mstring_2\u001b[0m\u001b[0;34m,\u001b[0m \u001b[0mindex_1\u001b[0m\u001b[0;34m+\u001b[0m\u001b[0;36m1\u001b[0m\u001b[0;34m,\u001b[0m \u001b[0mindex_2\u001b[0m\u001b[0;34m+\u001b[0m\u001b[0;36m1\u001b[0m\u001b[0;34m)\u001b[0m\u001b[0;34m,\u001b[0m\u001b[0;34m\u001b[0m\u001b[0;34m\u001b[0m\u001b[0m\n\u001b[0;32m---> 14\u001b[0;31m \t\t\t\t    minimum_steps(string_1, string_2, index_1, index_2+1))\n\u001b[0m\u001b[1;32m     15\u001b[0m \u001b[0;34m\u001b[0m\u001b[0m\n\u001b[1;32m     16\u001b[0m \u001b[0mprint\u001b[0m\u001b[0;34m(\u001b[0m\u001b[0;34m\"intention and execution: \"\u001b[0m\u001b[0;34m,\u001b[0m \u001b[0mminimum_steps_memo\u001b[0m\u001b[0;34m(\u001b[0m\u001b[0;34m'intention'\u001b[0m\u001b[0;34m,\u001b[0m \u001b[0;34m'execution'\u001b[0m\u001b[0;34m)\u001b[0m\u001b[0;34m)\u001b[0m\u001b[0;34m\u001b[0m\u001b[0;34m\u001b[0m\u001b[0m\n",
      "\u001b[0;32m/tmp/ipykernel_50/2643043875.py\u001b[0m in \u001b[0;36mminimum_steps\u001b[0;34m(string_1, string_2, index_1, index_2)\u001b[0m\n\u001b[1;32m     12\u001b[0m \t\treturn 1 + min(minimum_steps(string_1, string_2, index_1+1, index_2),\n\u001b[1;32m     13\u001b[0m                                     \u001b[0mminimum_steps\u001b[0m\u001b[0;34m(\u001b[0m\u001b[0mstring_1\u001b[0m\u001b[0;34m,\u001b[0m \u001b[0mstring_2\u001b[0m\u001b[0;34m,\u001b[0m \u001b[0mindex_1\u001b[0m\u001b[0;34m+\u001b[0m\u001b[0;36m1\u001b[0m\u001b[0;34m,\u001b[0m \u001b[0mindex_2\u001b[0m\u001b[0;34m+\u001b[0m\u001b[0;36m1\u001b[0m\u001b[0;34m)\u001b[0m\u001b[0;34m,\u001b[0m\u001b[0;34m\u001b[0m\u001b[0;34m\u001b[0m\u001b[0m\n\u001b[0;32m---> 14\u001b[0;31m \t\t\t\t    minimum_steps(string_1, string_2, index_1, index_2+1))\n\u001b[0m\u001b[1;32m     15\u001b[0m \u001b[0;34m\u001b[0m\u001b[0m\n\u001b[1;32m     16\u001b[0m \u001b[0mprint\u001b[0m\u001b[0;34m(\u001b[0m\u001b[0;34m\"intention and execution: \"\u001b[0m\u001b[0;34m,\u001b[0m \u001b[0mminimum_steps_memo\u001b[0m\u001b[0;34m(\u001b[0m\u001b[0;34m'intention'\u001b[0m\u001b[0;34m,\u001b[0m \u001b[0;34m'execution'\u001b[0m\u001b[0;34m)\u001b[0m\u001b[0;34m)\u001b[0m\u001b[0;34m\u001b[0m\u001b[0;34m\u001b[0m\u001b[0m\n",
      "\u001b[0;32m/tmp/ipykernel_50/2643043875.py\u001b[0m in \u001b[0;36mminimum_steps\u001b[0;34m(string_1, string_2, index_1, index_2)\u001b[0m\n\u001b[1;32m     12\u001b[0m \t\treturn 1 + min(minimum_steps(string_1, string_2, index_1+1, index_2),\n\u001b[1;32m     13\u001b[0m                                     \u001b[0mminimum_steps\u001b[0m\u001b[0;34m(\u001b[0m\u001b[0mstring_1\u001b[0m\u001b[0;34m,\u001b[0m \u001b[0mstring_2\u001b[0m\u001b[0;34m,\u001b[0m \u001b[0mindex_1\u001b[0m\u001b[0;34m+\u001b[0m\u001b[0;36m1\u001b[0m\u001b[0;34m,\u001b[0m \u001b[0mindex_2\u001b[0m\u001b[0;34m+\u001b[0m\u001b[0;36m1\u001b[0m\u001b[0;34m)\u001b[0m\u001b[0;34m,\u001b[0m\u001b[0;34m\u001b[0m\u001b[0;34m\u001b[0m\u001b[0m\n\u001b[0;32m---> 14\u001b[0;31m \t\t\t\t    minimum_steps(string_1, string_2, index_1, index_2+1))\n\u001b[0m\u001b[1;32m     15\u001b[0m \u001b[0;34m\u001b[0m\u001b[0m\n\u001b[1;32m     16\u001b[0m \u001b[0mprint\u001b[0m\u001b[0;34m(\u001b[0m\u001b[0;34m\"intention and execution: \"\u001b[0m\u001b[0;34m,\u001b[0m \u001b[0mminimum_steps_memo\u001b[0m\u001b[0;34m(\u001b[0m\u001b[0;34m'intention'\u001b[0m\u001b[0;34m,\u001b[0m \u001b[0;34m'execution'\u001b[0m\u001b[0;34m)\u001b[0m\u001b[0;34m)\u001b[0m\u001b[0;34m\u001b[0m\u001b[0;34m\u001b[0m\u001b[0m\n",
      "\u001b[0;32m/tmp/ipykernel_50/2643043875.py\u001b[0m in \u001b[0;36mminimum_steps\u001b[0;34m(string_1, string_2, index_1, index_2)\u001b[0m\n\u001b[1;32m     12\u001b[0m \t\treturn 1 + min(minimum_steps(string_1, string_2, index_1+1, index_2),\n\u001b[1;32m     13\u001b[0m                                     \u001b[0mminimum_steps\u001b[0m\u001b[0;34m(\u001b[0m\u001b[0mstring_1\u001b[0m\u001b[0;34m,\u001b[0m \u001b[0mstring_2\u001b[0m\u001b[0;34m,\u001b[0m \u001b[0mindex_1\u001b[0m\u001b[0;34m+\u001b[0m\u001b[0;36m1\u001b[0m\u001b[0;34m,\u001b[0m \u001b[0mindex_2\u001b[0m\u001b[0;34m+\u001b[0m\u001b[0;36m1\u001b[0m\u001b[0;34m)\u001b[0m\u001b[0;34m,\u001b[0m\u001b[0;34m\u001b[0m\u001b[0;34m\u001b[0m\u001b[0m\n\u001b[0;32m---> 14\u001b[0;31m \t\t\t\t    minimum_steps(string_1, string_2, index_1, index_2+1))\n\u001b[0m\u001b[1;32m     15\u001b[0m \u001b[0;34m\u001b[0m\u001b[0m\n\u001b[1;32m     16\u001b[0m \u001b[0mprint\u001b[0m\u001b[0;34m(\u001b[0m\u001b[0;34m\"intention and execution: \"\u001b[0m\u001b[0;34m,\u001b[0m \u001b[0mminimum_steps_memo\u001b[0m\u001b[0;34m(\u001b[0m\u001b[0;34m'intention'\u001b[0m\u001b[0;34m,\u001b[0m \u001b[0;34m'execution'\u001b[0m\u001b[0;34m)\u001b[0m\u001b[0;34m)\u001b[0m\u001b[0;34m\u001b[0m\u001b[0;34m\u001b[0m\u001b[0m\n",
      "\u001b[0;32m/tmp/ipykernel_50/2643043875.py\u001b[0m in \u001b[0;36mminimum_steps\u001b[0;34m(string_1, string_2, index_1, index_2)\u001b[0m\n\u001b[1;32m      6\u001b[0m                 \u001b[0;32mreturn\u001b[0m \u001b[0mlen\u001b[0m\u001b[0;34m(\u001b[0m\u001b[0mstring_1\u001b[0m\u001b[0;34m)\u001b[0m \u001b[0;34m-\u001b[0m \u001b[0mindex_1\u001b[0m\u001b[0;34m\u001b[0m\u001b[0;34m\u001b[0m\u001b[0m\n\u001b[1;32m      7\u001b[0m \u001b[0;34m\u001b[0m\u001b[0m\n\u001b[0;32m----> 8\u001b[0;31m         \u001b[0;32melif\u001b[0m \u001b[0mstring_1\u001b[0m\u001b[0;34m[\u001b[0m\u001b[0mindex_1\u001b[0m\u001b[0;34m]\u001b[0m \u001b[0;34m==\u001b[0m \u001b[0mstring_2\u001b[0m\u001b[0;34m[\u001b[0m\u001b[0mindex_2\u001b[0m\u001b[0;34m]\u001b[0m\u001b[0;34m:\u001b[0m\u001b[0;34m\u001b[0m\u001b[0;34m\u001b[0m\u001b[0m\n\u001b[0m\u001b[1;32m      9\u001b[0m                 \u001b[0;32mreturn\u001b[0m \u001b[0mminimum_steps\u001b[0m\u001b[0;34m(\u001b[0m\u001b[0mstring_1\u001b[0m\u001b[0;34m,\u001b[0m \u001b[0mstring_2\u001b[0m\u001b[0;34m,\u001b[0m \u001b[0mindex_1\u001b[0m\u001b[0;34m+\u001b[0m\u001b[0;36m1\u001b[0m\u001b[0;34m,\u001b[0m \u001b[0mindex_2\u001b[0m\u001b[0;34m+\u001b[0m\u001b[0;36m1\u001b[0m\u001b[0;34m)\u001b[0m\u001b[0;34m\u001b[0m\u001b[0;34m\u001b[0m\u001b[0m\n\u001b[1;32m     10\u001b[0m \u001b[0;34m\u001b[0m\u001b[0m\n",
      "\u001b[0;31mIndexError\u001b[0m: string index out of range"
     ]
    }
   ],
   "source": [
    "evaluate_test_cases(minimum_steps, tests)"
   ]
  },
  {
   "cell_type": "markdown",
   "id": "b90f094e",
   "metadata": {},
   "source": [
    "<b> BRUTE FORCE TIME COMPLEXITY:</b>\n",
    "* Total number of recursions = lengths of the two strings combined.<br>\n",
    "* After that, complexity should be calculated on adding the total length of the two strings <br>combined minus 1 for each additional substring comparison and computation. Thus reaching <br>the time complexity below.<br>\n",
    "<b>Time Complexity: O(3(n1+n2))</b>"
   ]
  },
  {
   "cell_type": "markdown",
   "id": "6e0cb008",
   "metadata": {},
   "source": [
    "## MEMOIZATION:"
   ]
  },
  {
   "cell_type": "markdown",
   "id": "fd200a00",
   "metadata": {},
   "source": [
    "There are many repetitions that can be reduced by using a cache.<br>\n",
    "Before doing any computations, check the memo dictionary for solutions for the changing <br>variables, if so, return it, if not, compute it and add it, and return the value from the<br> memo.<br>"
   ]
  },
  {
   "cell_type": "code",
   "execution_count": 55,
   "id": "fcd400ac",
   "metadata": {
    "scrolled": true
   },
   "outputs": [],
   "source": [
    "def minimum_steps_memo(string_1, string_2):\n",
    "   memo = dict()\n",
    "\n",
    "   def recursive_memo(index_1, index_2):\n",
    "       key = index_1, index_2\n",
    "\n",
    "       if key in memo:                         # if the index 1 to 2 comparison is in memo\n",
    "           return memo[key]\n",
    "\n",
    "       elif index_1 == len(string_1):          # if string_1 becomes empty first\n",
    "           memo[key] = len(string_2) - index_2\n",
    "\n",
    "       elif index_2 == len(string_2):          # if string_2 becomes empty first\n",
    "           memo[key] = len(string_1) - index_1\n",
    "\n",
    "       elif string_1[index_1] == string_2[index_2]:    # if strings are identical\n",
    "           memo[key] = recursive_memo(index_1 + 1, index_2 + 1)    # continue recursion\n",
    "\n",
    "       else:  # performing 1) delete 2) swap 3) shift/insert\n",
    "           memo[key] = 1 + min(recursive_memo(index_1 + 1, index_2),\n",
    "                               recursive_memo(index_1 + 1, index_2 + 1),\n",
    "                               recursive_memo(index_1, index_2 + 1))\n",
    "       return memo[key]\n",
    "\n",
    "   return recursive_memo(0, 0)\n",
    "\n"
   ]
  },
  {
   "cell_type": "code",
   "execution_count": 56,
   "id": "281285c3",
   "metadata": {
    "scrolled": true
   },
   "outputs": [
    {
     "name": "stdout",
     "output_type": "stream",
     "text": [
      "intention and execution:  5\n",
      "chicken and kitchen:  4\n",
      "kitten and sitting:  3\n",
      "sunday and saturday:  3\n",
      "chester and plus:  6\n",
      "please and choose:  4\n"
     ]
    }
   ],
   "source": [
    "print(\"intention and execution: \", minimum_steps_memo('intention', 'execution'))\n",
    "print(\"chicken and kitchen: \", minimum_steps_memo('chicken', 'kitchen'))\n",
    "print(\"kitten and sitting: \", minimum_steps_memo('kitten', 'sitting'))\n",
    "print(\"sunday and saturday: \", minimum_steps_memo('sunday', 'saturday'))\n",
    "print(\"chester and plus: \", minimum_steps_memo('chester', 'plus'))\n",
    "print(\"please and choose: \", minimum_steps_memo('please', 'choose'))"
   ]
  },
  {
   "cell_type": "code",
   "execution_count": 57,
   "id": "7bcaa065",
   "metadata": {},
   "outputs": [
    {
     "name": "stdout",
     "output_type": "stream",
     "text": [
      "\n",
      "\u001b[1mTEST CASE #0\u001b[0m\n",
      "\n",
      "Input:\n",
      "{'string_1': 'intention', 'string_2': 'execution'}\n",
      "\n",
      "Expected Output:\n",
      "5\n",
      "\n",
      "\n",
      "Actual Output:\n",
      "5\n",
      "\n",
      "Execution Time:\n",
      "0.099 ms\n",
      "\n",
      "Test Result:\n",
      "\u001b[92mPASSED\u001b[0m\n",
      "\n",
      "\n",
      "\u001b[1mTEST CASE #1\u001b[0m\n",
      "\n",
      "Input:\n",
      "{'string_1': 'cat', 'string_2': 'cat'}\n",
      "\n",
      "Expected Output:\n",
      "0\n",
      "\n",
      "\n",
      "Actual Output:\n",
      "0\n",
      "\n",
      "Execution Time:\n",
      "0.008 ms\n",
      "\n",
      "Test Result:\n",
      "\u001b[92mPASSED\u001b[0m\n",
      "\n",
      "\n",
      "\u001b[1mTEST CASE #2\u001b[0m\n",
      "\n",
      "Input:\n",
      "{'string_1': 'supper', 'string_2': 'tactful'}\n",
      "\n",
      "Expected Output:\n",
      "7\n",
      "\n",
      "\n",
      "Actual Output:\n",
      "7\n",
      "\n",
      "Execution Time:\n",
      "0.079 ms\n",
      "\n",
      "Test Result:\n",
      "\u001b[92mPASSED\u001b[0m\n",
      "\n",
      "\n",
      "\u001b[1mTEST CASE #3\u001b[0m\n",
      "\n",
      "Input:\n",
      "{'string_1': 'sugar', 'string_2': 'lover'}\n",
      "\n",
      "Expected Output:\n",
      "4\n",
      "\n",
      "\n",
      "Actual Output:\n",
      "4\n",
      "\n",
      "Execution Time:\n",
      "0.054 ms\n",
      "\n",
      "Test Result:\n",
      "\u001b[92mPASSED\u001b[0m\n",
      "\n",
      "\n",
      "\u001b[1mTEST CASE #4\u001b[0m\n",
      "\n",
      "Input:\n",
      "{'string_1': 'chester', 'string_2': 'plus'}\n",
      "\n",
      "Expected Output:\n",
      "6\n",
      "\n",
      "\n",
      "Actual Output:\n",
      "6\n",
      "\n",
      "Execution Time:\n",
      "0.059 ms\n",
      "\n",
      "Test Result:\n",
      "\u001b[92mPASSED\u001b[0m\n",
      "\n",
      "\n",
      "\u001b[1mTEST CASE #5\u001b[0m\n",
      "\n",
      "Input:\n",
      "{'string_1': '', 'string_2': 'toaster'}\n",
      "\n",
      "Expected Output:\n",
      "7\n",
      "\n",
      "\n",
      "Actual Output:\n",
      "7\n",
      "\n",
      "Execution Time:\n",
      "0.004 ms\n",
      "\n",
      "Test Result:\n",
      "\u001b[92mPASSED\u001b[0m\n",
      "\n",
      "\n",
      "\u001b[1mTEST CASE #6\u001b[0m\n",
      "\n",
      "Input:\n",
      "{'string_1': 'scooter', 'string_2': 'travels'}\n",
      "\n",
      "Expected Output:\n",
      "7\n",
      "\n",
      "\n",
      "Actual Output:\n",
      "7\n",
      "\n",
      "Execution Time:\n",
      "0.07 ms\n",
      "\n",
      "Test Result:\n",
      "\u001b[92mPASSED\u001b[0m\n",
      "\n",
      "\n",
      "\u001b[1mTEST CASE #7\u001b[0m\n",
      "\n",
      "Input:\n",
      "{'string_1': 'chicken', 'string_2': 'kitchen'}\n",
      "\n",
      "Expected Output:\n",
      "4\n",
      "\n",
      "\n",
      "Actual Output:\n",
      "4\n",
      "\n",
      "Execution Time:\n",
      "0.076 ms\n",
      "\n",
      "Test Result:\n",
      "\u001b[92mPASSED\u001b[0m\n",
      "\n",
      "\n",
      "\u001b[1mTEST CASE #8\u001b[0m\n",
      "\n",
      "Input:\n",
      "{'string_1': 'kitten', 'string_2': 'sitting'}\n",
      "\n",
      "Expected Output:\n",
      "3\n",
      "\n",
      "\n",
      "Actual Output:\n",
      "3\n",
      "\n",
      "Execution Time:\n",
      "0.072 ms\n",
      "\n",
      "Test Result:\n",
      "\u001b[92mPASSED\u001b[0m\n",
      "\n",
      "\n",
      "\u001b[1mTEST CASE #9\u001b[0m\n",
      "\n",
      "Input:\n",
      "{'string_1': 'sunday', 'string_2': 'saturday'}\n",
      "\n",
      "Expected Output:\n",
      "3\n",
      "\n",
      "\n",
      "Actual Output:\n",
      "3\n",
      "\n",
      "Execution Time:\n",
      "0.059 ms\n",
      "\n",
      "Test Result:\n",
      "\u001b[92mPASSED\u001b[0m\n",
      "\n",
      "\n",
      "\u001b[1mSUMMARY\u001b[0m\n",
      "\n",
      "TOTAL: 10, \u001b[92mPASSED\u001b[0m: 10, \u001b[91mFAILED\u001b[0m: 0\n"
     ]
    },
    {
     "data": {
      "text/plain": [
       "[(5, True, 0.099),\n",
       " (0, True, 0.008),\n",
       " (7, True, 0.079),\n",
       " (4, True, 0.054),\n",
       " (6, True, 0.059),\n",
       " (7, True, 0.004),\n",
       " (7, True, 0.07),\n",
       " (4, True, 0.076),\n",
       " (3, True, 0.072),\n",
       " (3, True, 0.059)]"
      ]
     },
     "execution_count": 57,
     "metadata": {},
     "output_type": "execute_result"
    }
   ],
   "source": [
    "evaluate_test_cases(minimum_steps_memo, tests)"
   ]
  },
  {
   "cell_type": "markdown",
   "id": "f3e93410",
   "metadata": {},
   "source": [
    "<b>MEMOIZATION TIME COMPLEXITY: </b>\n",
    "* Memoization method only needs to compute the solution for a key once, a fixed  <br>\n",
    "number of comparisons and an addition.\n",
    "* The time required is constant, and the upper bound is some constant multiple of <br>\n",
    "total number of memoizations necessary.<br>\n",
    "* The time complexity is therefore equal to the sum of the lengths of the two strings.<br>\n",
    "<b>Time Complexity: O(n1+n2)</b>"
   ]
  },
  {
   "cell_type": "code",
   "execution_count": 31,
   "id": "cc050cee",
   "metadata": {},
   "outputs": [],
   "source": [
    "import jovian"
   ]
  },
  {
   "cell_type": "code",
   "execution_count": 32,
   "id": "sonic-registrar",
   "metadata": {},
   "outputs": [
    {
     "data": {
      "application/javascript": [
       "window.require && require([\"base/js/namespace\"],function(Jupyter){Jupyter.notebook.save_checkpoint()})"
      ],
      "text/plain": [
       "<IPython.core.display.Javascript object>"
      ]
     },
     "metadata": {},
     "output_type": "display_data"
    },
    {
     "name": "stdout",
     "output_type": "stream",
     "text": [
      "[jovian] Updating notebook \"evanmarie/python-minimum-edit-distance-41118\" on https://jovian.ai\u001b[0m\n",
      "[jovian] Committed successfully! https://jovian.ai/evanmarie/python-minimum-edit-distance-41118\u001b[0m\n"
     ]
    },
    {
     "data": {
      "text/plain": [
       "'https://jovian.ai/evanmarie/python-minimum-edit-distance-41118'"
      ]
     },
     "execution_count": 32,
     "metadata": {},
     "output_type": "execute_result"
    }
   ],
   "source": [
    "jovian.commit()"
   ]
  },
  {
   "cell_type": "markdown",
   "id": "laden-packing",
   "metadata": {},
   "source": [
    "Brute force (recursion - exponential):"
   ]
  },
  {
   "cell_type": "code",
   "execution_count": 10,
   "id": "magnetic-glory",
   "metadata": {},
   "outputs": [],
   "source": [
    "def min_edit_distance(str1, str2, i1=0, i2=0):\n",
    "    if i1 == len(str1):\n",
    "        return len(str2) - i2\n",
    "    if i2 == len(str2):\n",
    "        return len(str1) - i1\n",
    "    if str1[i1] == str2[i2]:\n",
    "        return min_edit_distance(str1, str2, i1+1, i2+1)\n",
    "    return 1 + min(min_edit_distance(str1, str2, i1, i2+1), # Insert at beginning of str1\n",
    "                   min_edit_distance(str1, str2, i1+1, i2), # Remove from beginning of str1\n",
    "                   min_edit_distance(str1, str2, i1+1, i2+1)) # Swap first character of str1\n",
    "        "
   ]
  },
  {
   "cell_type": "code",
   "execution_count": 13,
   "id": "veterinary-effectiveness",
   "metadata": {},
   "outputs": [
    {
     "data": {
      "text/plain": [
       "5"
      ]
     },
     "execution_count": 13,
     "metadata": {},
     "output_type": "execute_result"
    }
   ],
   "source": [
    "min_edit_distance('wednesday', 'thursday')"
   ]
  },
  {
   "cell_type": "code",
   "execution_count": 12,
   "id": "beautiful-moral",
   "metadata": {},
   "outputs": [
    {
     "data": {
      "text/plain": [
       "5"
      ]
     },
     "execution_count": 12,
     "metadata": {},
     "output_type": "execute_result"
    }
   ],
   "source": [
    "min_edit_distance('intention', 'execution')"
   ]
  },
  {
   "cell_type": "markdown",
   "id": "smart-henry",
   "metadata": {},
   "source": [
    "Improved (memoization - $O(n_1*n_2)$):"
   ]
  },
  {
   "cell_type": "code",
   "execution_count": 24,
   "id": "lovely-artwork",
   "metadata": {},
   "outputs": [],
   "source": [
    "def min_edit_distance2(str1, str2):\n",
    "    memo = {}\n",
    "    def recurse(i1, i2):\n",
    "        key = (i1, i2)\n",
    "        if key in memo:\n",
    "            return memo[key]\n",
    "        elif i1 == len(str1):\n",
    "            memo[key] = len(str2) - i2\n",
    "        elif i2 == len(str2):\n",
    "            memo[key] = len(str1) - i1\n",
    "        elif str1[i1] == str2[i2]:\n",
    "            memo[key] = recurse(i1+1, i2+1)\n",
    "        else:\n",
    "            memo[key] = 1 + min(recurse(i1, i2+1), \n",
    "                                recurse(i1+1, i2), \n",
    "                                recurse(i1+1, i2+1))\n",
    "        return memo[key]\n",
    "    return recurse(0, 0)"
   ]
  },
  {
   "cell_type": "code",
   "execution_count": 25,
   "id": "detailed-variance",
   "metadata": {},
   "outputs": [
    {
     "data": {
      "text/plain": [
       "5"
      ]
     },
     "execution_count": 25,
     "metadata": {},
     "output_type": "execute_result"
    }
   ],
   "source": [
    "min_edit_distance2('intention', 'execution')"
   ]
  },
  {
   "cell_type": "markdown",
   "id": "lasting-grove",
   "metadata": {},
   "source": [
    "Best (Dynamic programming - $O(n_1*n_2)$):"
   ]
  },
  {
   "cell_type": "code",
   "execution_count": 28,
   "id": "pleased-steering",
   "metadata": {},
   "outputs": [],
   "source": [
    "# left as an exercise"
   ]
  },
  {
   "cell_type": "code",
   "execution_count": null,
   "id": "intellectual-shield",
   "metadata": {},
   "outputs": [],
   "source": []
  }
 ],
 "metadata": {
  "kernelspec": {
   "display_name": "Python 3 (ipykernel)",
   "language": "python",
   "name": "python3"
  },
  "language_info": {
   "codemirror_mode": {
    "name": "ipython",
    "version": 3
   },
   "file_extension": ".py",
   "mimetype": "text/x-python",
   "name": "python",
   "nbconvert_exporter": "python",
   "pygments_lexer": "ipython3",
   "version": "3.9.6"
  }
 },
 "nbformat": 4,
 "nbformat_minor": 5
}
