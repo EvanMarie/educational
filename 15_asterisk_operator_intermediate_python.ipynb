{
 "cells": [
  {
   "cell_type": "markdown",
   "source": [
    "# Intermediate Python\n",
    "### Patrick Loeber, python-engineer.com\n",
    "### https://www.youtube.com/watch?v=HGOBQPFzWKo\n",
    "(5:17:26)\n",
    "September 18, 2022"
   ],
   "metadata": {
    "collapsed": false,
    "pycharm": {
     "name": "#%% md\n"
    }
   }
  },
  {
   "cell_type": "markdown",
   "source": [
    "## ASTERISK OPERATOR: has numerous uses\n",
    "* multiplication and power operations\n",
    "* creation of lists and tuples with repeated elements\n",
    "* for *args and **kwargs and keyword only parameters\n",
    "* for unpacking lists, tuples, and dictionaries into function arguments\n",
    "* for unpacking containers\n",
    "* for merging containers into a list or merging dictionaries"
   ],
   "metadata": {
    "collapsed": false,
    "pycharm": {
     "name": "#%% md\n"
    }
   }
  },
  {
   "cell_type": "code",
   "execution_count": 2,
   "outputs": [
    {
     "name": "stdout",
     "output_type": "stream",
     "text": [
      "35\n"
     ]
    }
   ],
   "source": [
    "# MULTIPLICATION\n",
    "result = 5*7\n",
    "print(result)"
   ],
   "metadata": {
    "collapsed": false,
    "pycharm": {
     "name": "#%%\n"
    }
   }
  },
  {
   "cell_type": "code",
   "execution_count": 3,
   "outputs": [
    {
     "name": "stdout",
     "output_type": "stream",
     "text": [
      "16\n"
     ]
    }
   ],
   "source": [
    "# TO THE POWER OF\n",
    "answer = 2 ** 4\n",
    "print(answer)"
   ],
   "metadata": {
    "collapsed": false,
    "pycharm": {
     "name": "#%%\n"
    }
   }
  },
  {
   "cell_type": "code",
   "execution_count": 8,
   "outputs": [
    {
     "name": "stdout",
     "output_type": "stream",
     "text": [
      "[0, 0, 0, 0, 0, 0, 0, 0, 0, 0]\n",
      "(0, 1, 0, 1, 0, 1, 0, 1, 0, 1)\n",
      "Ragnarök Ragnarök Ragnarök Ragnarök \n"
     ]
    }
   ],
   "source": [
    "# CREATING LISTS and TUPLES with REPEATED ELEMENTS\n",
    "zeros = [0] * 10    # List with multiplied single elements\n",
    "print(zeros)\n",
    "\n",
    "zero_one = (0, 1) * 5   # Tuple with multiplied multiple elements\n",
    "print(zero_one)\n",
    "\n",
    "whattastring = \"Ragnarök \" * 4  # Strings work too!\n",
    "print(whattastring)\n"
   ],
   "metadata": {
    "collapsed": false,
    "pycharm": {
     "name": "#%%\n"
    }
   }
  },
  {
   "cell_type": "code",
   "execution_count": 11,
   "outputs": [
    {
     "name": "stdout",
     "output_type": "stream",
     "text": [
      "1 2\n",
      "3\n",
      "4\n",
      "5\n",
      "six 6\n",
      "seven 7\n"
     ]
    }
   ],
   "source": [
    "# ARGS and KWARGS and KEYWORD ONLY ARGUMENTS\n",
    "# (args = tuple)\n",
    "# (kwargs = dictionary)\n",
    "\n",
    "def a_function(a, b, *args, **kwargs):\n",
    "    print(a, b)\n",
    "    for arg in args:\n",
    "        print(arg)\n",
    "    for key in kwargs:\n",
    "        print(key, kwargs[key])\n",
    "\n",
    "a_function(1, 2, 3, 4, 5, six=6, seven=7)\n"
   ],
   "metadata": {
    "collapsed": false,
    "pycharm": {
     "name": "#%%\n"
    }
   }
  },
  {
   "cell_type": "code",
   "execution_count": 13,
   "outputs": [
    {
     "name": "stdout",
     "output_type": "stream",
     "text": [
      "1 2 3\n"
     ]
    }
   ],
   "source": [
    "# To enforce keyword only arguments /\n",
    "# make all arguments following * keyword\n",
    "\n",
    "def another_function(a, b, *, c):\n",
    "    print(a, b, c)\n",
    "\n",
    "another_function(1, 2, c=3)"
   ],
   "metadata": {
    "collapsed": false,
    "pycharm": {
     "name": "#%%\n"
    }
   }
  },
  {
   "cell_type": "code",
   "execution_count": 14,
   "outputs": [
    {
     "data": {
      "text/plain": "(5, 6, 7)"
     },
     "execution_count": 14,
     "metadata": {},
     "output_type": "execute_result"
    }
   ],
   "source": [
    "# ARGUMENT UNPACKING: number of arguments must match number of\n",
    "# parameters, or an error is raised\n",
    "\n",
    "list01 = [0, 1, 2]\n",
    "\n",
    "def add5(a, b, c):\n",
    "    a = a + 5\n",
    "    b = b + 5\n",
    "    c = c + 5\n",
    "    return a, b, c\n",
    "\n",
    "add5(*list01)"
   ],
   "metadata": {
    "collapsed": false,
    "pycharm": {
     "name": "#%%\n"
    }
   }
  },
  {
   "cell_type": "code",
   "execution_count": 18,
   "outputs": [
    {
     "name": "stdout",
     "output_type": "stream",
     "text": [
      "You ordered:  apple hot dog coffee\n"
     ]
    }
   ],
   "source": [
    "# UNPACKING DICTIONARY: key names must match parameter names\n",
    "# The number of elements in the dict must also match the number\n",
    "# of parameters the function takes\n",
    "# One * returns keys, two ** returns values\n",
    "\n",
    "getting_dicty = {'fruit': 'apple', 'meat': 'hot dog', 'bev': 'coffee'}\n",
    "\n",
    "def take_order(fruit, meat, bev):\n",
    "    print(\"You ordered: \", fruit, meat, bev)\n",
    "\n",
    "take_order(**getting_dicty)"
   ],
   "metadata": {
    "collapsed": false,
    "pycharm": {
     "name": "#%%\n"
    }
   }
  },
  {
   "cell_type": "code",
   "execution_count": 26,
   "outputs": [
    {
     "name": "stdout",
     "output_type": "stream",
     "text": [
      "[1, 2, 3, 4, 5]\n",
      "6\n",
      "\n",
      "\n",
      "1\n",
      "[2, 3, 4, 5, 6]\n",
      "\n",
      "\n",
      "1\n",
      "[2, 3, 4, 5]\n",
      "6\n",
      "\n",
      "\n",
      "1\n",
      "[2, 3, 4]\n",
      "5\n",
      "6\n"
     ]
    }
   ],
   "source": [
    "# UNPACKING LISTS, TUPLES, SETS and their REMAINING ELEMENTS\n",
    "\n",
    "number_list = [1, 2, 3, 4, 5, 6]\n",
    "\n",
    "# The following will unpack all of the list except the last element\n",
    "# into beginning as a LIST and the last into last as a single\n",
    "# number\n",
    "*beginning, last = number_list\n",
    "\n",
    "print(beginning)\n",
    "print(last)\n",
    "print('\\n')\n",
    "\n",
    "# This reverses the unpacking\n",
    "beginning, *last = number_list\n",
    "\n",
    "print(beginning)\n",
    "print(last)\n",
    "print('\\n')\n",
    "\n",
    "# This adds a middle unpacking\n",
    "beginning, *middle, last = number_list\n",
    "\n",
    "print(beginning)\n",
    "print(middle)\n",
    "print(last)\n",
    "print('\\n')\n",
    "\n",
    "# There can also be multiple singles after a list\n",
    "beginning, *middle, penultimate, last = number_list\n",
    "\n",
    "print(beginning)\n",
    "print(middle)\n",
    "print(penultimate)\n",
    "print(last)"
   ],
   "metadata": {
    "collapsed": false,
    "pycharm": {
     "name": "#%%\n"
    }
   }
  },
  {
   "cell_type": "code",
   "execution_count": 28,
   "outputs": [
    {
     "name": "stdout",
     "output_type": "stream",
     "text": [
      "[1, 2, 3, 4, 5, 6]\n"
     ]
    }
   ],
   "source": [
    "# MERGING ITERABLES into a LIST (also takes sets) - use one *\n",
    "\n",
    "some_tuple = (1, 2, 3)\n",
    "some_list = [4, 5, 6]\n",
    "\n",
    "together = [*some_tuple, *some_list]\n",
    "\n",
    "print(together)"
   ],
   "metadata": {
    "collapsed": false,
    "pycharm": {
     "name": "#%%\n"
    }
   }
  },
  {
   "cell_type": "code",
   "execution_count": 30,
   "outputs": [
    {
     "name": "stdout",
     "output_type": "stream",
     "text": [
      "{'first': 'me', 'second': 'you', 'third': 'everyone else', 'fourth': 'this', 'fifth': 'that', 'sixth': 'the other'}\n"
     ]
    }
   ],
   "source": [
    "# MERGING DICTIONARIES - use two **\n",
    "\n",
    "dictionary01 = {'first': 'me', 'second': 'you', 'third': 'everyone else'}\n",
    "dictionary02 = {'fourth': 'this', 'fifth': 'that', 'sixth': 'the other'}\n",
    "\n",
    "two_dicts = {**dictionary01, **dictionary02}\n",
    "\n",
    "print(two_dicts)"
   ],
   "metadata": {
    "collapsed": false,
    "pycharm": {
     "name": "#%%\n"
    }
   }
  },
  {
   "cell_type": "code",
   "execution_count": null,
   "outputs": [],
   "source": [],
   "metadata": {
    "collapsed": false,
    "pycharm": {
     "name": "#%%\n"
    }
   }
  }
 ],
 "metadata": {
  "kernelspec": {
   "display_name": "Python 3",
   "language": "python",
   "name": "python3"
  },
  "language_info": {
   "codemirror_mode": {
    "name": "ipython",
    "version": 2
   },
   "file_extension": ".py",
   "mimetype": "text/x-python",
   "name": "python",
   "nbconvert_exporter": "python",
   "pygments_lexer": "ipython2",
   "version": "2.7.6"
  }
 },
 "nbformat": 4,
 "nbformat_minor": 0
}