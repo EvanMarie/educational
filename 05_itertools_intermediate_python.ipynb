{
 "cells": [
  {
   "cell_type": "markdown",
   "source": [
    "# Intermediate Python\n",
    "### Patrick Loeber, python-engineer.com\n",
    "### https://www.youtube.com/watch?v=HGOBQPFzWKo\n",
    "(1:36:44)\n",
    "September 16, 2022"
   ],
   "metadata": {
    "collapsed": false,
    "pycharm": {
     "name": "#%% md\n"
    }
   }
  },
  {
   "cell_type": "markdown",
   "source": [
    "## ITERTOOLS MODULE:\n",
    "a collection of tools for handling iterators, data types which can be used in a for-loop. We will be looking at special tools: PRODUCT, PERMUTATIONS, COMBINATIONS, ACCUMULATE, GROUBY, and INFINITE ITERATORS"
   ],
   "metadata": {
    "collapsed": false,
    "pycharm": {
     "name": "#%% md\n"
    }
   }
  },
  {
   "cell_type": "code",
   "execution_count": 4,
   "outputs": [],
   "source": [
    "from itertools import product"
   ],
   "metadata": {
    "collapsed": false,
    "pycharm": {
     "name": "#%%\n"
    }
   }
  },
  {
   "cell_type": "code",
   "execution_count": 7,
   "outputs": [
    {
     "name": "stdout",
     "output_type": "stream",
     "text": [
      "Using product() on lists:  [(1, 3), (1, 4), (2, 3), (2, 4)]\n"
     ]
    }
   ],
   "source": [
    "# PRODUCT() returns an iterator object with a cartesian product,\n",
    "# i.e. performs a distribution on the elements passed to it.\n",
    "\n",
    "list01 = [1, 2]\n",
    "list02 = [3, 4]\n",
    "product01 = product(list01, list02)\n",
    "\n",
    "# Since this returns and iterator object, we will need to convert\n",
    "# to a list for printing\n",
    "\n",
    "print('Using product() on lists: ', list(product01))"
   ],
   "metadata": {
    "collapsed": false,
    "pycharm": {
     "name": "#%%\n"
    }
   }
  },
  {
   "cell_type": "code",
   "execution_count": 11,
   "outputs": [
    {
     "name": "stdout",
     "output_type": "stream",
     "text": [
      "Using product() with repeat:  [(1, 5, 1, 5), (1, 5, 2, 5), (2, 5, 1, 5), (2, 5, 2, 5)]\n"
     ]
    }
   ],
   "source": [
    "# product() also takes a number of repetitions:\n",
    "\n",
    "list03 = [5]\n",
    "product02 = product(list01, list03, repeat = 2)\n",
    "\n",
    "print('Using product() with repeat: ', list(product02))"
   ],
   "metadata": {
    "collapsed": false,
    "pycharm": {
     "name": "#%%\n"
    }
   }
  },
  {
   "cell_type": "code",
   "execution_count": 13,
   "outputs": [],
   "source": [
    "from itertools import permutations"
   ],
   "metadata": {
    "collapsed": false,
    "pycharm": {
     "name": "#%%\n"
    }
   }
  },
  {
   "cell_type": "code",
   "execution_count": 19,
   "outputs": [
    {
     "name": "stdout",
     "output_type": "stream",
     "text": [
      "permutations on list04:  [(1, 2, 3), (1, 3, 2), (2, 1, 3), (2, 3, 1), (3, 1, 2), (3, 2, 1)]\n"
     ]
    }
   ],
   "source": [
    "# PERMUTATIONS() returns all possible permutations of an input\n",
    "# as a list of tuples\n",
    "\n",
    "list04 = [1, 2, 3]\n",
    "\n",
    "permutations_list04 = permutations(list04)\n",
    "\n",
    "print(\"permutations on list04: \", list(permutations_list04))"
   ],
   "metadata": {
    "collapsed": false,
    "pycharm": {
     "name": "#%%\n"
    }
   }
  },
  {
   "cell_type": "code",
   "execution_count": 20,
   "outputs": [
    {
     "name": "stdout",
     "output_type": "stream",
     "text": [
      "permutations on list04 short:  [(1, 2), (1, 3), (2, 1), (2, 3), (3, 1), (3, 2)]\n"
     ]
    }
   ],
   "source": [
    "# Permutations also takes a length as a second argument\n",
    "# for a shorter list of permutations of only 2 per tuple\n",
    "\n",
    "permutations_short = permutations(list04, 2)\n",
    "print(\"permutations on list04 short: \", list(permutations_short))"
   ],
   "metadata": {
    "collapsed": false,
    "pycharm": {
     "name": "#%%\n"
    }
   }
  },
  {
   "cell_type": "code",
   "execution_count": 29,
   "outputs": [],
   "source": [
    "from itertools import combinations, combinations_with_replacement"
   ],
   "metadata": {
    "collapsed": false,
    "pycharm": {
     "name": "#%%\n"
    }
   }
  },
  {
   "cell_type": "code",
   "execution_count": 30,
   "outputs": [
    {
     "name": "stdout",
     "output_type": "stream",
     "text": [
      "[(1, 2), (1, 3), (1, 4), (2, 3), (2, 4), (3, 4)]\n"
     ]
    }
   ],
   "source": [
    "# COMBINATIONS() makes all possible combinations with a specified\n",
    "# length, which is a required argument\n",
    "# It does not produce combinations of the same arguments, so no\n",
    "# repetitions\n",
    "\n",
    "combination_list01 = [1, 2, 3, 4]\n",
    "combinations_on_list01 = combinations(combination_list01, 2)\n",
    "print(list(combinations_on_list01))"
   ],
   "metadata": {
    "collapsed": false,
    "pycharm": {
     "name": "#%%\n"
    }
   }
  },
  {
   "cell_type": "code",
   "execution_count": 34,
   "outputs": [
    {
     "name": "stdout",
     "output_type": "stream",
     "text": [
      "[(1, 1), (1, 2), (1, 3), (1, 4), (2, 2), (2, 3), (2, 4), (3, 3), (3, 4), (4, 4)]\n"
     ]
    }
   ],
   "source": [
    "# COMBINATIONS with REPLACEMENT: This will also create combinations\n",
    "# of elements with themselves\n",
    "\n",
    "combination_iterable = combinations_with_replacement(combination_list01, 2)\n",
    "\n",
    "print(list(combination_iterable))"
   ],
   "metadata": {
    "collapsed": false,
    "pycharm": {
     "name": "#%%\n"
    }
   }
  },
  {
   "cell_type": "code",
   "execution_count": 36,
   "outputs": [],
   "source": [
    "from itertools import accumulate"
   ],
   "metadata": {
    "collapsed": false,
    "pycharm": {
     "name": "#%%\n"
    }
   }
  },
  {
   "cell_type": "code",
   "execution_count": 40,
   "outputs": [
    {
     "name": "stdout",
     "output_type": "stream",
     "text": [
      "list04 before accumulate:  [1, 2, 3, 4, 5]\n",
      "list04 after accumulate:  [1, 3, 6, 10, 15]\n"
     ]
    }
   ],
   "source": [
    "# ACCUMULATE: makes an iterator that returns accumulated sums (as\n",
    "# default) or other binary function given as input\n",
    "\n",
    "list04 = [1, 2, 3, 4, 5]\n",
    "print(\"list04 before accumulate: \", list04)\n",
    "\n",
    "accumulated_list04 = accumulate(list04)\n",
    "print('list04 after accumulate: ', list(accumulated_list04))\n",
    "\n",
    "# This prints the list and the accumulated summed list,\n",
    "# performing a fibonacci-eque function upon the original list"
   ],
   "metadata": {
    "collapsed": false,
    "pycharm": {
     "name": "#%%\n"
    }
   }
  },
  {
   "cell_type": "code",
   "execution_count": 41,
   "outputs": [],
   "source": [
    "# ACCUMULATE with MULTIPLICATION:\n",
    "import operator     # Importing so we can give it another operator"
   ],
   "metadata": {
    "collapsed": false,
    "pycharm": {
     "name": "#%%\n"
    }
   }
  },
  {
   "cell_type": "code",
   "execution_count": 44,
   "outputs": [
    {
     "name": "stdout",
     "output_type": "stream",
     "text": [
      "[1, 2, 6, 24, 120]\n"
     ]
    }
   ],
   "source": [
    "# Using the accumulate function with the operator/multiply function\n",
    "# as the argument in place of the default that sums\n",
    "\n",
    "multiplied_accumulation = accumulate(list04, func=operator.mul)\n",
    "print(list(multiplied_accumulation))"
   ],
   "metadata": {
    "collapsed": false,
    "pycharm": {
     "name": "#%%\n"
    }
   }
  },
  {
   "cell_type": "code",
   "execution_count": 45,
   "outputs": [
    {
     "name": "stdout",
     "output_type": "stream",
     "text": [
      "[1, 2, 3, 4, 5]\n"
     ]
    }
   ],
   "source": [
    "# Using max, returns the max number from the list\n",
    "max_accumulate = accumulate(list04, func=max)\n",
    "print(list(max_accumulate))"
   ],
   "metadata": {
    "collapsed": false,
    "pycharm": {
     "name": "#%%\n"
    }
   }
  },
  {
   "cell_type": "code",
   "execution_count": 63,
   "outputs": [],
   "source": [
    "from itertools import groupby"
   ],
   "metadata": {
    "collapsed": false,
    "pycharm": {
     "name": "#%%\n"
    }
   }
  },
  {
   "cell_type": "code",
   "execution_count": 64,
   "outputs": [
    {
     "name": "stdout",
     "output_type": "stream",
     "text": [
      "True [1, 2]\n",
      "False [3, 4]\n"
     ]
    }
   ],
   "source": [
    "# GROUPBY: makes an iterator that returns keys and groups from an\n",
    "# iterable\n",
    "\n",
    "# define a function to pass as key:\n",
    "def smaller_than_3(x):\n",
    "    return x < 3        # returns true or false\n",
    "\n",
    "list05 = [1, 2, 3, 4]\n",
    "groupby_object = groupby(list05, key = smaller_than_3)\n",
    "\n",
    "# The keys it returns will be a True or False for the key passed\n",
    "# having been applied to the data passed\n",
    "# The values it returns will also be iterator, so make a list\n",
    "# to return the values\n",
    "\n",
    "for k, v in groupby_object:\n",
    "    print(k, list(v))\n",
    "\n",
    "# Below, this returns:\n",
    "\n",
    "# True [1, 2]   <- grouped 1 and 2, key is True, because < 3\n",
    "# False [3, 4]  <- grouped 3 and 3, key is False, because not < 3\n",
    "\n"
   ],
   "metadata": {
    "collapsed": false,
    "pycharm": {
     "name": "#%%\n"
    }
   }
  },
  {
   "cell_type": "code",
   "execution_count": 65,
   "outputs": [
    {
     "name": "stdout",
     "output_type": "stream",
     "text": [
      "True [1, 2]\n",
      "False [3, 4]\n"
     ]
    }
   ],
   "source": [
    "# You can also use lambda functions in with groupby() as a key\n",
    "\n",
    "list05 = [1, 2, 3, 4]\n",
    "groupby_object_lambda = groupby(list05, key = lambda x: x<3)\n",
    "\n",
    "for k, v in groupby_object_lambda:\n",
    "    print(k, list(v))"
   ],
   "metadata": {
    "collapsed": false,
    "pycharm": {
     "name": "#%%\n"
    }
   }
  },
  {
   "cell_type": "code",
   "execution_count": 71,
   "outputs": [
    {
     "name": "stdout",
     "output_type": "stream",
     "text": [
      "23 [{'name': 'Tim', 'age': 23}, {'name': 'Dan', 'age': 23}]\n",
      "25 [{'name': 'Jane', 'age': 25}]\n",
      "33 [{'name': 'Lisa', 'age': 33}]\n"
     ]
    }
   ],
   "source": [
    "# More lambda uses\n",
    "\n",
    "# List of dictionaries of people and their ages:\n",
    "people = [{'name': 'Tim', 'age': 23}, {'name': 'Dan', 'age': 23}, {'name': 'Jane', 'age': 25}, {'name': 'Lisa', 'age': 33}]\n",
    "\n",
    "grouped_people = groupby(people, key = lambda x: x['age'])\n",
    "\n",
    "for k, v in grouped_people:\n",
    "    print(k, list(v))"
   ],
   "metadata": {
    "collapsed": false,
    "pycharm": {
     "name": "#%%\n"
    }
   }
  },
  {
   "cell_type": "markdown",
   "source": [],
   "metadata": {
    "collapsed": false,
    "pycharm": {
     "name": "#%% md\n"
    }
   }
  },
  {
   "cell_type": "code",
   "execution_count": 72,
   "outputs": [],
   "source": [
    "from itertools import count, cycle, repeat"
   ],
   "metadata": {
    "collapsed": false,
    "pycharm": {
     "name": "#%%\n"
    }
   }
  },
  {
   "cell_type": "code",
   "execution_count": 73,
   "outputs": [],
   "source": [
    "# INFINITE ITERATORS:"
   ],
   "metadata": {
    "collapsed": false,
    "pycharm": {
     "name": "#%%\n"
    }
   }
  },
  {
   "cell_type": "code",
   "execution_count": 82,
   "outputs": [
    {
     "name": "stdout",
     "output_type": "stream",
     "text": [
      "10\n",
      "11\n",
      "12\n",
      "13\n",
      "14\n",
      "15\n"
     ]
    }
   ],
   "source": [
    "# COUNT(): Start an infinite loop at 10, and print 1 integer per\n",
    "# loop when i hits 15, break\n",
    "\n",
    "for i in count(10):\n",
    "    print(i)\n",
    "    if i == 15:\n",
    "        break"
   ],
   "metadata": {
    "collapsed": false,
    "pycharm": {
     "name": "#%%\n"
    }
   }
  },
  {
   "cell_type": "code",
   "execution_count": 87,
   "outputs": [],
   "source": [
    "# CYCLE(): will cycle infinitely through an iterable\n",
    "\n",
    "list_a = [1, 2, 3]\n",
    "\n",
    "# for i in cycle(list_a):\n",
    "#    print(i)\n"
   ],
   "metadata": {
    "collapsed": false,
    "pycharm": {
     "name": "#%%\n"
    }
   }
  },
  {
   "cell_type": "code",
   "execution_count": 88,
   "outputs": [
    {
     "name": "stdout",
     "output_type": "stream",
     "text": [
      "1\n",
      "1\n",
      "1\n",
      "1\n",
      "1\n",
      "1\n",
      "1\n",
      "1\n",
      "1\n",
      "1\n"
     ]
    }
   ],
   "source": [
    "# REPEAT(): will make an infinite loop printing 1\n",
    "# takes a second optional argument of when to stop\n",
    "\n",
    "for i in repeat(list_a, 10):\n",
    "    print(1)"
   ],
   "metadata": {
    "collapsed": false,
    "pycharm": {
     "name": "#%%\n"
    }
   }
  },
  {
   "cell_type": "code",
   "execution_count": null,
   "outputs": [],
   "source": [],
   "metadata": {
    "collapsed": false,
    "pycharm": {
     "name": "#%%\n"
    }
   }
  }
 ],
 "metadata": {
  "kernelspec": {
   "display_name": "Python 3",
   "language": "python",
   "name": "python3"
  },
  "language_info": {
   "codemirror_mode": {
    "name": "ipython",
    "version": 2
   },
   "file_extension": ".py",
   "mimetype": "text/x-python",
   "name": "python",
   "nbconvert_exporter": "python",
   "pygments_lexer": "ipython2",
   "version": "2.7.6"
  }
 },
 "nbformat": 4,
 "nbformat_minor": 0
}