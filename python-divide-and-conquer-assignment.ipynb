{
 "cells": [
  {
   "cell_type": "markdown",
   "id": "difficult-valuation",
   "metadata": {},
   "source": [
    "# Assignment 3 - Divide-n-Conquer Algorithms in Python\n",
    "\n",
    "_This assignment is a part of the course [\"Data Structures and Algorithms in Python\"](https://jovian.ai/learn/data-structures-and-algorithms-in-python)._\n",
    "\n",
    "In this assignment, you will implement an efficient algorithm for polynomial multiplication.\n",
    "\n",
    "As you go through this notebook, you will find the symbol **???** in certain places. To complete this assignment, you must replace all the **???** with appropriate values, expressions or statements to ensure that the notebook runs properly end-to-end. \n",
    "\n",
    "**Guidelines**\n",
    "\n",
    "1. Make sure to run all the code cells, otherwise you may get errors like `NameError` for undefined variables.\n",
    "2. Do not change variable names, delete cells or disturb other existing code. It may cause problems during evaluation.\n",
    "3. In some cases, you may need to add some code cells or new statements before or after the line of code containing the **???**. \n",
    "4. Since you'll be using a temporary online service for code execution, save your work by running `jovian.commit` at regular intervals.\n",
    "5. Questions marked **(Optional)** will not be considered for evaluation, and can be skipped. They are for your learning.\n",
    "6. If you are stuck, you can ask for help on the [community forum] (TODO - add link). Post errors or ask for hints, but **please don't ask for OR share the full working answer code** on the forum.\n",
    "7. There are some tests included with this notebook to help you test your implementation. However, after submission your code will be tested with some hidden test cases. Make sure to test your code exhaustively to cover all edge cases.\n",
    "\n",
    "\n",
    "**Important Links**\n",
    "\n",
    "* Submit your work here: https://jovian.ai/learn/data-structures-and-algorithms-in-python/assignment/assignment-3-sorting-and-divide-conquer-practice\n",
    "* Ask questions and get help: https://jovian.ai/forum/c/data-structures-and-algorithms-in-python/assignment-3/89\n",
    "* Lesson 3 video for review: https://jovian.ai/learn/data-structures-and-algorithms-in-python/lesson/lesson-3-sorting-algorithms-and-divide-and-conquer\n",
    "* Lesson 3 notebook for review: https://jovian.ai/aakashns/python-sorting-divide-and-conquer\n"
   ]
  },
  {
   "cell_type": "markdown",
   "id": "japanese-beverage",
   "metadata": {},
   "source": [
    "### How to Run the Code and Save Your Work\n",
    "\n",
    "**Option 1: Running using free online resources (1-click, recommended)**: Click the **Run** button at the top of this page and select **Run on Binder**. You can also select \"Run on Colab\" or \"Run on Kaggle\", but you'll need to create an account on [Google Colab](https://colab.research.google.com) or [Kaggle](https://kaggle.com) to use these platforms.\n",
    "\n",
    "\n",
    "**Option 2: Running on your computer locally**: To run the code on your computer locally, you'll need to set up [Python](https://www.python.org) & [Conda](https://docs.conda.io/projects/conda/en/latest/user-guide/install/), download the notebook and install the required libraries. Click the **Run** button at the top of this page, select the **Run Locally** option, and follow the instructions.\n",
    "\n",
    "**Saving your work**: You can save a snapshot of the assignment to your [Jovian](https://jovian.ai) profile, so that you can access it later and continue your work. Keep saving your work by running `jovian.commit` from time to time."
   ]
  },
  {
   "cell_type": "code",
   "execution_count": 58,
   "id": "revised-italy",
   "metadata": {},
   "outputs": [],
   "source": [
    "project='python-divide-and-conquer-assignment'"
   ]
  },
  {
   "cell_type": "code",
   "execution_count": 59,
   "id": "genuine-simon",
   "metadata": {},
   "outputs": [],
   "source": [
    "!pip install jovian --upgrade --quiet"
   ]
  },
  {
   "cell_type": "code",
   "execution_count": 60,
   "id": "velvet-extraction",
   "metadata": {},
   "outputs": [
    {
     "data": {
      "application/javascript": [
       "window.require && require([\"base/js/namespace\"],function(Jupyter){Jupyter.notebook.save_checkpoint()})"
      ],
      "text/plain": [
       "<IPython.core.display.Javascript object>"
      ]
     },
     "metadata": {},
     "output_type": "display_data"
    },
    {
     "name": "stdout",
     "output_type": "stream",
     "text": [
      "[jovian] Updating notebook \"evanmarie/python-divide-and-conquer-assignment\" on https://jovian.ai\u001b[0m\n",
      "[jovian] Committed successfully! https://jovian.ai/evanmarie/python-divide-and-conquer-assignment\u001b[0m\n"
     ]
    },
    {
     "data": {
      "text/plain": [
       "'https://jovian.ai/evanmarie/python-divide-and-conquer-assignment'"
      ]
     },
     "execution_count": 60,
     "metadata": {},
     "output_type": "execute_result"
    }
   ],
   "source": [
    "import jovian\n",
    "jovian.commit(project=project, privacy='secret', environment=None)"
   ]
  },
  {
   "cell_type": "markdown",
   "id": "final-database",
   "metadata": {},
   "source": [
    "## Problem Statement - Polynomial Multiplication\n",
    "\n",
    "> Given two polynomials represented by two lists, write a function that efficiently multiplies given two polynomials. For example, the lists `[2, 0, 5, 7]` and `[3, 4, 2]` represent the polynomials $2 + 5x^2 + 7x^3$ and $3 + 4x + 2x^2$. \n",
    "> \n",
    "> Their product is \n",
    ">\n",
    "> $(2 \\times 3) + (2 \\times 4 + 0 \\times 3)x + (2 \\times 2 + 3 \\times 5 + 4 \\times 0)x^2 + (7 \\times 3 + 5 \\times 4 + 0 \\times 2)x^3 + (7 \\times 4 + 5 \\times 2)x^4 + (7 \\times 2)x^5$ i.e. \n",
    ">\n",
    ">$6 + 8x + 19x^2 + 41x^3 + 38x^4 + 14x^5$\n",
    "> \n",
    ">It can be represented by the list `[6, 8, 19, 41, 38, 14]`.\n"
   ]
  },
  {
   "cell_type": "markdown",
   "id": "completed-evolution",
   "metadata": {},
   "source": [
    "## The Method\n",
    "\n",
    "Here's the systematic strategy we'll apply for solving problems:\n",
    "\n",
    "1. State the problem clearly. Identify the input & output formats.\n",
    "2. Come up with some example inputs & outputs. Try to cover all edge cases.\n",
    "3. Come up with a correct solution for the problem. State it in plain English.\n",
    "4. Implement the solution and test it using example inputs. Fix bugs, if any.\n",
    "5. Analyze the algorithm's complexity and identify inefficiencies, if any.\n",
    "6. Apply the right technique to overcome the inefficiency. Repeat steps 3 to 6.\n",
    "\n",
    "This approach is explained in detail in [Lesson 1](https://jovian.ai/learn/data-structures-and-algorithms-in-python/lesson/lesson-1-binary-search-linked-lists-and-complexity) of the course. Let's apply this approach step-by-step."
   ]
  },
  {
   "cell_type": "markdown",
   "id": "compressed-intellectual",
   "metadata": {},
   "source": [
    "## Solution\n",
    "\n",
    "\n",
    "### 1. State the problem clearly. Identify the input & output formats.\n",
    "\n",
    "While this problem is stated clearly enough, it's always useful to try and express in your own words, in a way that makes it most clear for you. \n",
    "\n",
    "\n",
    "**Problem**\n",
    "\n",
    "> Given two lists of integers, representing two polynomials, write a function that accurately multiplies the two polynomials, element by element. \n",
    "<br/>\n",
    "\n",
    "\n",
    "**Input**\n",
    "\n",
    "1. list 1 = polynomial 1\n",
    "2. list 2 = polynomial 2\n",
    "\n",
    "\n",
    "\n",
    "**Output**\n",
    "\n",
    "1. List of integers representing the combined polynomials.\n",
    "\n",
    "\n",
    "<br/>\n",
    "\n",
    "Based on the above, we can now create a signature of our function:"
   ]
  },
  {
   "cell_type": "code",
   "execution_count": 61,
   "id": "frank-professor",
   "metadata": {},
   "outputs": [],
   "source": [
    "def multiply(poly1, poly2):\n",
    "    pass"
   ]
  },
  {
   "cell_type": "code",
   "execution_count": 62,
   "id": "unauthorized-amendment",
   "metadata": {},
   "outputs": [],
   "source": [
    "import jovian"
   ]
  },
  {
   "cell_type": "code",
   "execution_count": 63,
   "id": "exposed-extension",
   "metadata": {},
   "outputs": [
    {
     "data": {
      "application/javascript": [
       "window.require && require([\"base/js/namespace\"],function(Jupyter){Jupyter.notebook.save_checkpoint()})"
      ],
      "text/plain": [
       "<IPython.core.display.Javascript object>"
      ]
     },
     "metadata": {},
     "output_type": "display_data"
    },
    {
     "name": "stdout",
     "output_type": "stream",
     "text": [
      "[jovian] Updating notebook \"evanmarie/python-divide-and-conquer-assignment\" on https://jovian.ai\u001b[0m\n",
      "[jovian] Committed successfully! https://jovian.ai/evanmarie/python-divide-and-conquer-assignment\u001b[0m\n"
     ]
    },
    {
     "data": {
      "text/plain": [
       "'https://jovian.ai/evanmarie/python-divide-and-conquer-assignment'"
      ]
     },
     "execution_count": 63,
     "metadata": {},
     "output_type": "execute_result"
    }
   ],
   "source": [
    "jovian.commit()"
   ]
  },
  {
   "cell_type": "markdown",
   "id": "latin-choir",
   "metadata": {},
   "source": [
    "### 2. Come up with some example inputs & outputs. Try to cover all edge cases.\n",
    "\n",
    "Our function should be able to handle any set of valid inputs we pass into it. List a few scenarios here:\n",
    "\n",
    "1. One list is empty\n",
    "2. Both lists are empty\n",
    "3. One list contains only one element aside from the zeros as place holders for nonexistent elements\n",
    "4. Both lists contain only 1 element aside from zeros as place holders for nonexistent elements\n",
    "5. One list is all zeros\n",
    "\n",
    "\n",
    "Create a test case of each of the above scenarios. We'll express our test cases as dictionaries, to test them easily. Each dictionary will contain 2 keys: `input` (a dictionary itself containing one key for each argument to the function and `output` (the expected result from the function). "
   ]
  },
  {
   "cell_type": "code",
   "execution_count": 64,
   "id": "fancy-exhaust",
   "metadata": {},
   "outputs": [],
   "source": [
    "# A normal test case\n",
    "test0 = {\n",
    "    'input': {\n",
    "        'poly1': [2, 0, 5, 7],\n",
    "        'poly2': [3, 4, 2],\n",
    "    },\n",
    "    'output': [6, 8, 19, 41, 38, 14]\n",
    "}"
   ]
  },
  {
   "cell_type": "code",
   "execution_count": 65,
   "id": "featured-poster",
   "metadata": {},
   "outputs": [],
   "source": [
    "# One empty list\n",
    "test1 = {\n",
    "    'input': {\n",
    "        'poly1': [],\n",
    "        'poly2': [3, 4, 5]\n",
    "    },\n",
    "    'output': []\n",
    "}"
   ]
  },
  {
   "cell_type": "code",
   "execution_count": 66,
   "id": "611bf4cc",
   "metadata": {},
   "outputs": [],
   "source": [
    "# Two empty lists\n",
    "test2 = {\n",
    "    'input': {\n",
    "        'poly1': [],\n",
    "        'poly2': []\n",
    "    },\n",
    "    'output': []\n",
    "}"
   ]
  },
  {
   "cell_type": "code",
   "execution_count": 67,
   "id": "matched-horizon",
   "metadata": {},
   "outputs": [],
   "source": [
    "# Working with zeros\n",
    "test3 = {\n",
    "    'input': {\n",
    "        'poly1': [0, 4],\n",
    "        'poly2': [1, 4, 5, 0, 4]\n",
    "    },\n",
    "    'output': [0, 4, 16, 20, 0, 16]\n",
    "}"
   ]
  },
  {
   "cell_type": "code",
   "execution_count": 68,
   "id": "functional-personal",
   "metadata": {},
   "outputs": [],
   "source": [
    "# Working with zeros\n",
    "test4 = {\n",
    "    'input': {\n",
    "        'poly1': [0, 2],\n",
    "        'poly2': [2, 0]\n",
    "    },\n",
    "    'output': [0, 4, 0]\n",
    "}"
   ]
  },
  {
   "cell_type": "code",
   "execution_count": 69,
   "id": "useful-alaska",
   "metadata": {},
   "outputs": [],
   "source": [
    "# A list with just element\n",
    "test5 = {\n",
    "    'input': {\n",
    "        'poly1': [4],\n",
    "        'poly2': [1, 2, 3, 4]\n",
    "    },\n",
    "    'output': [4, 8, 12, 16]\n",
    "}"
   ]
  },
  {
   "cell_type": "code",
   "execution_count": 70,
   "id": "split-opportunity",
   "metadata": {},
   "outputs": [],
   "source": [
    "test6 = {\n",
    "    'input': {\n",
    "        'poly1': [0, 0, 0],\n",
    "        'poly2': [1, 2, 3, 4]\n",
    "    },\n",
    "    'output': [0]\n",
    "}"
   ]
  },
  {
   "cell_type": "code",
   "execution_count": 94,
   "id": "visible-object",
   "metadata": {},
   "outputs": [],
   "source": [
    "# A list with all zeros, except one high exponent\n",
    "test7 = {\n",
    "    'input': {\n",
    "        'poly1': [0, 0, 0, 7],\n",
    "        'poly2': [1, 2, 3, 4]\n",
    "    },\n",
    "    'output': [0, 0, 0, 7, 14, 21, 28]\n",
    "}"
   ]
  },
  {
   "cell_type": "code",
   "execution_count": 95,
   "id": "little-dating",
   "metadata": {},
   "outputs": [],
   "source": [
    "# A very long polynomial multiplied by one half its length\n",
    "test8 = {\n",
    "    'input': {\n",
    "        'poly1': [1, 2, 3, 4, 5, 6, 7, 8, 9],\n",
    "        'poly2': [1, 2, 3, 4]\n",
    "    },\n",
    "    'output': [1, 4, 10, 20, 30, 40, 50, 60, 70, 70, 59, 36]\n",
    "}"
   ]
  },
  {
   "cell_type": "code",
   "execution_count": 96,
   "id": "400bde50",
   "metadata": {},
   "outputs": [],
   "source": [
    "# Giganto polynomials\n",
    "test9 = {\n",
    "    'input': {\n",
    "        'poly1': [1, 2, 3, 4, 5, 6, 7, 8, 9],\n",
    "        'poly2': [1, 2, 3, 4]\n",
    "    },\n",
    "    'output': [1, 4, 10, 20, 30, 40, 50, 60, 70, 70, 59, 36]\n",
    "}"
   ]
  },
  {
   "cell_type": "markdown",
   "id": "extreme-membrane",
   "metadata": {},
   "source": [
    "Let's store all the test cases in a list, for easier automated testing."
   ]
  },
  {
   "cell_type": "code",
   "execution_count": 97,
   "id": "emerging-request",
   "metadata": {},
   "outputs": [],
   "source": [
    "tests = [test0, test1, test2, test3, test4, test5, test6, test7, test8, test9]"
   ]
  },
  {
   "cell_type": "code",
   "execution_count": 98,
   "id": "connected-favor",
   "metadata": {},
   "outputs": [],
   "source": [
    "import jovian"
   ]
  },
  {
   "cell_type": "code",
   "execution_count": 99,
   "id": "brave-bracelet",
   "metadata": {},
   "outputs": [
    {
     "data": {
      "application/javascript": [
       "window.require && require([\"base/js/namespace\"],function(Jupyter){Jupyter.notebook.save_checkpoint()})"
      ],
      "text/plain": [
       "<IPython.core.display.Javascript object>"
      ]
     },
     "metadata": {},
     "output_type": "display_data"
    },
    {
     "name": "stdout",
     "output_type": "stream",
     "text": [
      "[jovian] Updating notebook \"evanmarie/python-divide-and-conquer-assignment\" on https://jovian.ai\u001b[0m\n",
      "[jovian] Committed successfully! https://jovian.ai/evanmarie/python-divide-and-conquer-assignment\u001b[0m\n"
     ]
    },
    {
     "data": {
      "text/plain": [
       "'https://jovian.ai/evanmarie/python-divide-and-conquer-assignment'"
      ]
     },
     "execution_count": 99,
     "metadata": {},
     "output_type": "execute_result"
    }
   ],
   "source": [
    "jovian.commit()"
   ]
  },
  {
   "cell_type": "markdown",
   "id": "satellite-exclusion",
   "metadata": {},
   "source": [
    "### 3. Come up with a correct solution for the problem. State it in plain English.\n",
    "\n",
    "Our first goal should always be to come up with a _correct_ solution to the problem, which may not necessarily be the most _efficient_ solution. \n",
    "\n",
    "Here's the simplest solution: If you have lists `poly1` and `poly2` representing polynomials of length $m$ and $n$ respectively, the highest degree of the exponents are $m-1$ and $n-1$ respectively. Their product has the degree $(m - 1) + (n - 1)$ i.e $m + n - 2$. The list representing the product has the length $m + n - 1$. So, we can create a list `result` of length $m + n - 1$, and set \n",
    "\n",
    "`result[k]` = Sum of all the pairs `poly1[i] * poly2[j]` where `i+j = k`\n",
    "\n",
    "Example:\n",
    "\n",
    "$(2 + 5x^2 + 7x^3) \\times (3 + 4x + 2x^2)$\n",
    "\n",
    "$= (2 \\times 3) + (2 \\times 4 + 0 \\times 3)x + (2 \\times 2 + 3 \\times 5 + 4 \\times 0)x^2 + (7 \\times 3 + 5 \\times 4 + 0 \\times 2)x^3 + (7 \\times 4 + 5 \\times 2)x^4 + (7 \\times 2)x^5$\n",
    "\n",
    "$= 6 + 8x + 19x^2 + 41x^3 + 38x^4 + 14x^5$\n",
    "\n",
    "\n",
    "\n",
    "\n",
    "\n",
    "\n",
    "Explain this solution in your own words below:\n",
    "\n",
    "1. To get the length of the resulting list, we must combine the lengths of the two lists we are multiplying.\n",
    "2. Each list's greatest exponent will be one less than its length.\n",
    "3. Greatest exponent in the product list will thus equal the combine lengths of both lists minus 2.\n",
    "4. The length of the resulting product list will be the length of both lists minus 1\n",
    "5. Each item's index in the resulting list will the sum of the indices from of the two input lists and will also represent the exponent level of that result list's item / coefficient.\n",
    "\n",
    "(add more steps if required)\n",
    "\n",
    "\n",
    "Let's save and upload our work before continuing.\n",
    "\n"
   ]
  },
  {
   "cell_type": "code",
   "execution_count": 100,
   "id": "relevant-initial",
   "metadata": {},
   "outputs": [],
   "source": [
    "import jovian"
   ]
  },
  {
   "cell_type": "code",
   "execution_count": 101,
   "id": "fatty-rolling",
   "metadata": {},
   "outputs": [
    {
     "data": {
      "application/javascript": [
       "window.require && require([\"base/js/namespace\"],function(Jupyter){Jupyter.notebook.save_checkpoint()})"
      ],
      "text/plain": [
       "<IPython.core.display.Javascript object>"
      ]
     },
     "metadata": {},
     "output_type": "display_data"
    },
    {
     "name": "stdout",
     "output_type": "stream",
     "text": [
      "[jovian] Updating notebook \"evanmarie/python-divide-and-conquer-assignment\" on https://jovian.ai\u001b[0m\n",
      "[jovian] Committed successfully! https://jovian.ai/evanmarie/python-divide-and-conquer-assignment\u001b[0m\n"
     ]
    },
    {
     "data": {
      "text/plain": [
       "'https://jovian.ai/evanmarie/python-divide-and-conquer-assignment'"
      ]
     },
     "execution_count": 101,
     "metadata": {},
     "output_type": "execute_result"
    }
   ],
   "source": [
    "jovian.commit()"
   ]
  },
  {
   "cell_type": "markdown",
   "id": "lucky-boxing",
   "metadata": {},
   "source": [
    "###  4. Implement the solution and test it using example inputs. Fix bugs, if any.\n",
    "\n",
    "Implement the solution"
   ]
  },
  {
   "cell_type": "code",
   "execution_count": 102,
   "id": "grateful-chile",
   "metadata": {},
   "outputs": [],
   "source": [
    "def multiply_basic(poly1, poly2):\n",
    "    # print(\"Poly1: \", poly1)\n",
    "    # print(\"Poly2: \", poly2)\n",
    "    \n",
    "    result = [0] * (len(poly1) + len(poly2) - 1)\n",
    "    # print(\"Result Pre-Loop: \", result)\n",
    "    \n",
    "    # Take care of edge cases\n",
    "    if poly1 == [] or poly2 == []:\n",
    "        return []\n",
    "    if sum(poly1) == 0 or sum(poly2) == 0:\n",
    "        return [0]\n",
    "\n",
    "    # Multiply the polynomials\n",
    "    for i, coeff1 in enumerate(poly1):\n",
    "        for j, coeff2 in enumerate(poly2):\n",
    "            # print('Loop i: ', i)\n",
    "            # print('Coeff1: ', coeff1)\n",
    "            # print('Loop j: ', j)\n",
    "            # print('Coeff2: ', coeff2)\n",
    "            \n",
    "            result[i+j] += coeff1 * coeff2\n",
    "            # print(\"Result Post-Loop: \", result)\n",
    "\n",
    "    return result\n"
   ]
  },
  {
   "cell_type": "markdown",
   "id": "casual-bicycle",
   "metadata": {},
   "source": [
    "Test your solution using the test cases you've defined above."
   ]
  },
  {
   "cell_type": "code",
   "execution_count": 103,
   "id": "sunset-motor",
   "metadata": {},
   "outputs": [],
   "source": [
    "from jovian.pythondsa import evaluate_test_cases"
   ]
  },
  {
   "cell_type": "code",
   "execution_count": 104,
   "id": "earned-sending",
   "metadata": {},
   "outputs": [
    {
     "name": "stdout",
     "output_type": "stream",
     "text": [
      "\n",
      "\u001b[1mTEST CASE #0\u001b[0m\n",
      "\n",
      "Input:\n",
      "{'poly1': [2, 0, 5, 7], 'poly2': [3, 4, 2]}\n",
      "\n",
      "Expected Output:\n",
      "[6, 8, 19, 41, 38, 14]\n",
      "\n",
      "\n",
      "Actual Output:\n",
      "[6, 8, 19, 41, 38, 14]\n",
      "\n",
      "Execution Time:\n",
      "0.012 ms\n",
      "\n",
      "Test Result:\n",
      "\u001b[92mPASSED\u001b[0m\n",
      "\n",
      "\n",
      "\u001b[1mTEST CASE #1\u001b[0m\n",
      "\n",
      "Input:\n",
      "{'poly1': [], 'poly2': [3, 4, 5]}\n",
      "\n",
      "Expected Output:\n",
      "[]\n",
      "\n",
      "\n",
      "Actual Output:\n",
      "[]\n",
      "\n",
      "Execution Time:\n",
      "0.003 ms\n",
      "\n",
      "Test Result:\n",
      "\u001b[92mPASSED\u001b[0m\n",
      "\n",
      "\n",
      "\u001b[1mTEST CASE #2\u001b[0m\n",
      "\n",
      "Input:\n",
      "{'poly1': [], 'poly2': []}\n",
      "\n",
      "Expected Output:\n",
      "[]\n",
      "\n",
      "\n",
      "Actual Output:\n",
      "[]\n",
      "\n",
      "Execution Time:\n",
      "0.004 ms\n",
      "\n",
      "Test Result:\n",
      "\u001b[92mPASSED\u001b[0m\n",
      "\n",
      "\n",
      "\u001b[1mTEST CASE #3\u001b[0m\n",
      "\n",
      "Input:\n",
      "{'poly1': [0, 4], 'poly2': [1, 4, 5, 0, 4]}\n",
      "\n",
      "Expected Output:\n",
      "[0, 4, 16, 20, 0, 16]\n",
      "\n",
      "\n",
      "Actual Output:\n",
      "[0, 4, 16, 20, 0, 16]\n",
      "\n",
      "Execution Time:\n",
      "0.012 ms\n",
      "\n",
      "Test Result:\n",
      "\u001b[92mPASSED\u001b[0m\n",
      "\n",
      "\n",
      "\u001b[1mTEST CASE #4\u001b[0m\n",
      "\n",
      "Input:\n",
      "{'poly1': [0, 2], 'poly2': [2, 0]}\n",
      "\n",
      "Expected Output:\n",
      "[0, 4, 0]\n",
      "\n",
      "\n",
      "Actual Output:\n",
      "[0, 4, 0]\n",
      "\n",
      "Execution Time:\n",
      "0.008 ms\n",
      "\n",
      "Test Result:\n",
      "\u001b[92mPASSED\u001b[0m\n",
      "\n",
      "\n",
      "\u001b[1mTEST CASE #5\u001b[0m\n",
      "\n",
      "Input:\n",
      "{'poly1': [4], 'poly2': [1, 2, 3, 4]}\n",
      "\n",
      "Expected Output:\n",
      "[4, 8, 12, 16]\n",
      "\n",
      "\n",
      "Actual Output:\n",
      "[4, 8, 12, 16]\n",
      "\n",
      "Execution Time:\n",
      "0.004 ms\n",
      "\n",
      "Test Result:\n",
      "\u001b[92mPASSED\u001b[0m\n",
      "\n",
      "\n",
      "\u001b[1mTEST CASE #6\u001b[0m\n",
      "\n",
      "Input:\n",
      "{'poly1': [0, 0, 0], 'poly2': [1, 2, 3, 4]}\n",
      "\n",
      "Expected Output:\n",
      "[0]\n",
      "\n",
      "\n",
      "Actual Output:\n",
      "[0]\n",
      "\n",
      "Execution Time:\n",
      "0.003 ms\n",
      "\n",
      "Test Result:\n",
      "\u001b[92mPASSED\u001b[0m\n",
      "\n",
      "\n",
      "\u001b[1mTEST CASE #7\u001b[0m\n",
      "\n",
      "Input:\n",
      "{'poly1': [0, 0, 0, 7], 'poly2': [1, 2, 3, 4]}\n",
      "\n",
      "Expected Output:\n",
      "[0, 0, 0, 7, 14, 21, 28]\n",
      "\n",
      "\n",
      "Actual Output:\n",
      "[0, 0, 0, 7, 14, 21, 28]\n",
      "\n",
      "Execution Time:\n",
      "0.006 ms\n",
      "\n",
      "Test Result:\n",
      "\u001b[92mPASSED\u001b[0m\n",
      "\n",
      "\n",
      "\u001b[1mTEST CASE #8\u001b[0m\n",
      "\n",
      "Input:\n",
      "{'poly1': [1, 2, 3, 4, 5, 6, 7, 8, 9], 'poly2': [1, 2, 3, 4]}\n",
      "\n",
      "Expected Output:\n",
      "[1, 4, 10, 20, 30, 40, 50, 60, 70, 70, 59, 36]\n",
      "\n",
      "\n",
      "Actual Output:\n",
      "[1, 4, 10, 20, 30, 40, 50, 60, 70, 70, 59, 36]\n",
      "\n",
      "Execution Time:\n",
      "0.008 ms\n",
      "\n",
      "Test Result:\n",
      "\u001b[92mPASSED\u001b[0m\n",
      "\n",
      "\n",
      "\u001b[1mTEST CASE #9\u001b[0m\n",
      "\n",
      "Input:\n",
      "{'poly1': [1, 2, 3, 4, 5, 6, 7, 8, 9], 'poly2': [1, 2, 3, 4]}\n",
      "\n",
      "Expected Output:\n",
      "[1, 4, 10, 20, 30, 40, 50, 60, 70, 70, 59, 36]\n",
      "\n",
      "\n",
      "Actual Output:\n",
      "[1, 4, 10, 20, 30, 40, 50, 60, 70, 70, 59, 36]\n",
      "\n",
      "Execution Time:\n",
      "0.009 ms\n",
      "\n",
      "Test Result:\n",
      "\u001b[92mPASSED\u001b[0m\n",
      "\n",
      "\n",
      "\u001b[1mSUMMARY\u001b[0m\n",
      "\n",
      "TOTAL: 10, \u001b[92mPASSED\u001b[0m: 10, \u001b[91mFAILED\u001b[0m: 0\n"
     ]
    },
    {
     "data": {
      "text/plain": [
       "[([6, 8, 19, 41, 38, 14], True, 0.012),\n",
       " ([], True, 0.003),\n",
       " ([], True, 0.004),\n",
       " ([0, 4, 16, 20, 0, 16], True, 0.012),\n",
       " ([0, 4, 0], True, 0.008),\n",
       " ([4, 8, 12, 16], True, 0.004),\n",
       " ([0], True, 0.003),\n",
       " ([0, 0, 0, 7, 14, 21, 28], True, 0.006),\n",
       " ([1, 4, 10, 20, 30, 40, 50, 60, 70, 70, 59, 36], True, 0.008),\n",
       " ([1, 4, 10, 20, 30, 40, 50, 60, 70, 70, 59, 36], True, 0.009)]"
      ]
     },
     "execution_count": 104,
     "metadata": {},
     "output_type": "execute_result"
    }
   ],
   "source": [
    "evaluate_test_cases(multiply_basic, tests)"
   ]
  },
  {
   "cell_type": "code",
   "execution_count": 105,
   "id": "lined-expense",
   "metadata": {},
   "outputs": [],
   "source": [
    "import jovian"
   ]
  },
  {
   "cell_type": "code",
   "execution_count": 106,
   "id": "recreational-regulation",
   "metadata": {},
   "outputs": [
    {
     "data": {
      "application/javascript": [
       "window.require && require([\"base/js/namespace\"],function(Jupyter){Jupyter.notebook.save_checkpoint()})"
      ],
      "text/plain": [
       "<IPython.core.display.Javascript object>"
      ]
     },
     "metadata": {},
     "output_type": "display_data"
    },
    {
     "name": "stdout",
     "output_type": "stream",
     "text": [
      "[jovian] Updating notebook \"evanmarie/python-divide-and-conquer-assignment\" on https://jovian.ai\u001b[0m\n",
      "[jovian] Committed successfully! https://jovian.ai/evanmarie/python-divide-and-conquer-assignment\u001b[0m\n"
     ]
    },
    {
     "data": {
      "text/plain": [
       "'https://jovian.ai/evanmarie/python-divide-and-conquer-assignment'"
      ]
     },
     "execution_count": 106,
     "metadata": {},
     "output_type": "execute_result"
    }
   ],
   "source": [
    "jovian.commit()"
   ]
  },
  {
   "cell_type": "markdown",
   "id": "associate-platform",
   "metadata": {},
   "source": [
    "### 5. Analyze the algorithm's complexity and identify inefficiencies, if any.\n",
    "\n",
    "Can you analyze the time and space complexity of this algorithm?"
   ]
  },
  {
   "cell_type": "code",
   "execution_count": 107,
   "id": "aerial-motorcycle",
   "metadata": {},
   "outputs": [],
   "source": [
    "multiply_basic_time_complexity = 'O(N^2)'"
   ]
  },
  {
   "cell_type": "code",
   "execution_count": 108,
   "id": "sustained-chicago",
   "metadata": {},
   "outputs": [],
   "source": [
    "multiply_basic_space_complexity = 'O(2N)'"
   ]
  },
  {
   "cell_type": "code",
   "execution_count": 109,
   "id": "accompanied-thailand",
   "metadata": {},
   "outputs": [],
   "source": [
    "import jovian"
   ]
  },
  {
   "cell_type": "code",
   "execution_count": 110,
   "id": "egyptian-stranger",
   "metadata": {},
   "outputs": [
    {
     "data": {
      "application/javascript": [
       "window.require && require([\"base/js/namespace\"],function(Jupyter){Jupyter.notebook.save_checkpoint()})"
      ],
      "text/plain": [
       "<IPython.core.display.Javascript object>"
      ]
     },
     "metadata": {},
     "output_type": "display_data"
    },
    {
     "name": "stdout",
     "output_type": "stream",
     "text": [
      "[jovian] Updating notebook \"evanmarie/python-divide-and-conquer-assignment\" on https://jovian.ai\u001b[0m\n",
      "[jovian] Committed successfully! https://jovian.ai/evanmarie/python-divide-and-conquer-assignment\u001b[0m\n"
     ]
    },
    {
     "data": {
      "text/plain": [
       "'https://jovian.ai/evanmarie/python-divide-and-conquer-assignment'"
      ]
     },
     "execution_count": 110,
     "metadata": {},
     "output_type": "execute_result"
    }
   ],
   "source": [
    "jovian.commit()"
   ]
  },
  {
   "cell_type": "markdown",
   "id": "honey-desire",
   "metadata": {},
   "source": [
    "### 6. Apply the right technique to overcome the inefficiency. Repeat steps 3 to 6.\n",
    "\n",
    "We can apply the divide and conquer technique to solve this problem more efficiently. Given two polynomials `A` and `B`, we can express each of them as a sum of two polynomials as follows:\n",
    "\n",
    "<img src=\"https://i.imgur.com/FjKQF5h.png\" width=\"480\">\n",
    "\n",
    "We need to compute the terms `A0 * B0`, `A1 * B0 + A0 * B1` and `A1 * B1`. This can obviously be done using 4 multiplications, but here's a way of doing it with just three multiplications:\n",
    "\n",
    "<img src=\"https://i.imgur.com/G3vD1GX.png\" width=\"480\">\n",
    "\n",
    "\n",
    "Each of the products can themselves be computed recursively. For a more detailed explanation of this approach see http://www.cse.ust.hk/~dekai/271/notes/L03/L03.pdf .\n",
    "\n",
    "\n",
    "Need help? Discuss and ask questions on the forum: https://jovian.ai/forum/c/data-structures-and-algorithms-in-python/assignment-3/89\n"
   ]
  },
  {
   "cell_type": "markdown",
   "id": "parliamentary-spray",
   "metadata": {},
   "source": [
    "### 7. Come up with a correct solution for the problem. State it in plain English.\n",
    "\n",
    "Explain the approach described above in your own words below:\n",
    "\n",
    "EX: X + X^2  = A = `[0, 1, 1]`\n",
    "A0 = `[0, 1]`\n",
    "A1 = `[0, 1]` (factored out X^n/2\n",
    "\n",
    "1. Factor out x^n/2\n",
    "2. A0 first half of poly1, A1 is second of poly1\n",
    "3. B0 first half of poly2, B1 is second of poly2\n",
    "4. Divide A and B down recursively this way, \n",
    "5. Multiply the split down (A0+A1) times (B0+B1)\n",
    "6. Subtract from that the product of A0 and B0\n",
    "7. Subtract further the product of A1 and B1\n",
    "\n",
    "(add more steps if required)\n",
    "\n",
    "\n",
    "Let's save and upload our work before continuing."
   ]
  },
  {
   "cell_type": "code",
   "execution_count": 111,
   "id": "recreational-occurrence",
   "metadata": {},
   "outputs": [],
   "source": [
    "import jovian"
   ]
  },
  {
   "cell_type": "code",
   "execution_count": 112,
   "id": "flexible-snake",
   "metadata": {},
   "outputs": [
    {
     "data": {
      "application/javascript": [
       "window.require && require([\"base/js/namespace\"],function(Jupyter){Jupyter.notebook.save_checkpoint()})"
      ],
      "text/plain": [
       "<IPython.core.display.Javascript object>"
      ]
     },
     "metadata": {},
     "output_type": "display_data"
    },
    {
     "name": "stdout",
     "output_type": "stream",
     "text": [
      "[jovian] Updating notebook \"evanmarie/python-divide-and-conquer-assignment\" on https://jovian.ai\u001b[0m\n",
      "[jovian] Committed successfully! https://jovian.ai/evanmarie/python-divide-and-conquer-assignment\u001b[0m\n"
     ]
    },
    {
     "data": {
      "text/plain": [
       "'https://jovian.ai/evanmarie/python-divide-and-conquer-assignment'"
      ]
     },
     "execution_count": 112,
     "metadata": {},
     "output_type": "execute_result"
    }
   ],
   "source": [
    "jovian.commit()"
   ]
  },
  {
   "cell_type": "markdown",
   "id": "corresponding-gasoline",
   "metadata": {},
   "source": [
    "### 8. Implement the solution and test it using example inputs. Fix bugs, if any.\n",
    "\n",
    "We are now ready to implement the solution. You may find the following functions `add`, `split` and `increase_exponent` useful.\n"
   ]
  },
  {
   "cell_type": "code",
   "execution_count": 113,
   "id": "planned-budapest",
   "metadata": {},
   "outputs": [],
   "source": [
    "def add(poly1, poly2):\n",
    "    \"\"\"Add two polynomials\"\"\"\n",
    "    result = [0] * max(len(poly1), len(poly2))\n",
    "    for i in range(len(result)):\n",
    "        if i < len(poly1):\n",
    "            result[i] += poly1[i]\n",
    "        if i < len(poly2):\n",
    "            result[i] += poly2[i]\n",
    "    return result"
   ]
  },
  {
   "cell_type": "code",
   "execution_count": 114,
   "id": "amazing-sympathy",
   "metadata": {},
   "outputs": [
    {
     "data": {
      "text/plain": [
       "[1, 6, 6, 4]"
      ]
     },
     "execution_count": 114,
     "metadata": {},
     "output_type": "execute_result"
    }
   ],
   "source": [
    "add([1, 2, 3, 4], [0, 4, 3])"
   ]
  },
  {
   "cell_type": "code",
   "execution_count": 115,
   "id": "objective-stone",
   "metadata": {},
   "outputs": [],
   "source": [
    "def split(poly1, poly2):\n",
    "    \"\"\"Split each polynomial into two smaller polynomials\"\"\"\n",
    "    mid = max(len(poly1), len(poly2)) // 2\n",
    "    return  (poly1[:mid] or [0], poly1[mid:] or [0]), \\\n",
    "            (poly2[:mid] or [0], poly2[mid:] or [0])"
   ]
  },
  {
   "cell_type": "code",
   "execution_count": 116,
   "id": "saving-folder",
   "metadata": {},
   "outputs": [
    {
     "data": {
      "text/plain": [
       "(([1, 2, 3], [4]), ([0, 4, 3], [6, 7, 8, 2]))"
      ]
     },
     "execution_count": 116,
     "metadata": {},
     "output_type": "execute_result"
    }
   ],
   "source": [
    "split([1, 2, 3, 4], [0, 4, 3, 6, 7, 8, 2])"
   ]
  },
  {
   "cell_type": "code",
   "execution_count": 117,
   "id": "ethical-bradford",
   "metadata": {},
   "outputs": [],
   "source": [
    "def increase_exponent(poly, n):\n",
    "    \"\"\"Multiply poly1 by x^n\"\"\"\n",
    "    return [0] * n + poly"
   ]
  },
  {
   "cell_type": "code",
   "execution_count": 118,
   "id": "saving-arrangement",
   "metadata": {},
   "outputs": [
    {
     "data": {
      "text/plain": [
       "[0, 0, 0, 1, 2, 3, 4]"
      ]
     },
     "execution_count": 118,
     "metadata": {},
     "output_type": "execute_result"
    }
   ],
   "source": [
    "increase_exponent([1, 2, 3, 4], 3)"
   ]
  },
  {
   "cell_type": "markdown",
   "id": "under-effectiveness",
   "metadata": {},
   "source": [
    "Implement the optimized multiplication algorithm below. You may use the some or all of the helper functions defined above."
   ]
  },
  {
   "cell_type": "markdown",
   "id": "novel-scout",
   "metadata": {},
   "source": [
    "Test your solution using the empty cells below."
   ]
  },
  {
   "cell_type": "code",
   "execution_count": 119,
   "id": "784d654a",
   "metadata": {},
   "outputs": [],
   "source": [
    "def multiply_polys(poly1, poly2):\n",
    "    # The product of the sections being multiplied:\n",
    "    product = []\n",
    "    # If either element is less than 1 item in length\n",
    "    if len(poly1) < 1 or len(poly2) < 1: \n",
    "        return product\n",
    "    \n",
    "    else:\n",
    "        # Loop through poly1 and create a list of segments to be used\n",
    "        for element1 in range(len(poly1)):\n",
    "            product_segments = []\n",
    "            # Loop through poly1 and poly2, creating a list of segments, which are\n",
    "            # the multiplied smaller segments from poly1 and poly2, to be used\n",
    "            for element2 in range(len(poly2)):            \n",
    "                product_segments.append(poly1[element1] * poly2[element2])            \n",
    "            \n",
    "            # adjust the exponents of the segments and element from poly 1\n",
    "            product_segments = increase_exponent(product_segments, element1)\n",
    "            if element1 == 0:\n",
    "                # is all of the product segments\n",
    "                product = product_segments           \n",
    "            else:\n",
    "                # the product is the current product plus all the product segments\n",
    "                product = add(product, product_segments)\n",
    "\n",
    "        return product "
   ]
  },
  {
   "cell_type": "code",
   "execution_count": 124,
   "id": "0d229a03",
   "metadata": {},
   "outputs": [],
   "source": [
    "# Please pardon all of the comments, but this algorithm made them\n",
    "# necessary for my own sanity. Thank you for understanding! \n",
    "\n",
    "def multiply_optimized(poly1, poly2):\n",
    "    # Check edge cases: if the lengths of the lists are 0\n",
    "    if len(poly1) == 0 and len(poly2) == 0: \n",
    "        return []\n",
    "    # Check edge cases: if the either list is an empty list\n",
    "    if poly1 == [] or poly2 == []: \n",
    "        return []\n",
    "    # Check edge cases: if the either list is all zeros\n",
    "    if sum(poly1) == 0 or sum(poly2) == 0: \n",
    "        return [0]\n",
    "    # Check edge cases: if the either list is an empty list\n",
    "    if poly1 == [] or poly2 == []: \n",
    "        return []\n",
    "    # Check edge cases: if poly1 list is empty\n",
    "    elif len(poly1) == 0 and len(poly2) > 0: \n",
    "        return poly2\n",
    "    # Check edge cases: if poly2 list is empty\n",
    "    elif len(poly1) > 0 and len(poly2) == 0:\n",
    "        return poly1\n",
    "    \n",
    "    # If the polynomials are more than one element in length, \n",
    "    # split them\n",
    "    if len(poly1) > 1 and len(poly2) > 1: \n",
    "        # a0 and a1 are the two halves of poly1, and b0 and b1\n",
    "        # are the two halves of poly2\n",
    "        (a0, a1), (b0, b1) = split(poly1, poly2)\n",
    "        \n",
    "        # Write the code version of the algorithm above using the split\n",
    "        # sections of the algorithm creating Y, U, and Z and performing\n",
    "        # the operations explained.\n",
    "        \n",
    "        # Y = (a0*b1) + (a1 * b0)\n",
    "        algo_y = add(multiply_polys(a0, b1), multiply_polys(a1, b0))\n",
    "        # U = a0 * b0\n",
    "        algo_u = multiply_polys(a0, b0)\n",
    "        # Z = a1 * b1\n",
    "        algo_z = multiply_polys(a1, b1)\n",
    "        # adjust the exponents in Y (^1/2N)\n",
    "        algo_y = increase_exponent(algo_y, max(len(a0), len(b0)))  \n",
    "        # adjust the exponents in Z (^1/2N)\n",
    "        algo_z = increase_exponent(algo_z, ((len(poly1) + len(poly2)) - 1) - len(algo_z))\n",
    "\n",
    "        # add Y and Z to get closer to a final combination of elements\n",
    "        result = add(algo_y, algo_z)\n",
    "        # add U to the previous sum, resulting in our combination of all elements\n",
    "        result = add(algo_u, result)\n",
    "  \n",
    "    else:\n",
    "        # If the above does not apply, just multiply poly1 and poly2\n",
    "        result = multiply_polys(poly1, poly2)\n",
    "           \n",
    "    return result"
   ]
  },
  {
   "cell_type": "code",
   "execution_count": 125,
   "id": "local-pharmacology",
   "metadata": {
    "scrolled": false
   },
   "outputs": [
    {
     "name": "stdout",
     "output_type": "stream",
     "text": [
      "\n",
      "\u001b[1mTEST CASE #0\u001b[0m\n",
      "\n",
      "Input:\n",
      "{'poly1': [2, 0, 5, 7], 'poly2': [3, 4, 2]}\n",
      "\n",
      "Expected Output:\n",
      "[6, 8, 19, 41, 38, 14]\n",
      "\n",
      "\n",
      "Actual Output:\n",
      "[6, 8, 19, 41, 38, 14]\n",
      "\n",
      "Execution Time:\n",
      "0.041 ms\n",
      "\n",
      "Test Result:\n",
      "\u001b[92mPASSED\u001b[0m\n",
      "\n",
      "\n",
      "\u001b[1mTEST CASE #1\u001b[0m\n",
      "\n",
      "Input:\n",
      "{'poly1': [], 'poly2': [3, 4, 5]}\n",
      "\n",
      "Expected Output:\n",
      "[]\n",
      "\n",
      "\n",
      "Actual Output:\n",
      "[]\n",
      "\n",
      "Execution Time:\n",
      "0.003 ms\n",
      "\n",
      "Test Result:\n",
      "\u001b[92mPASSED\u001b[0m\n",
      "\n",
      "\n",
      "\u001b[1mTEST CASE #2\u001b[0m\n",
      "\n",
      "Input:\n",
      "{'poly1': [], 'poly2': []}\n",
      "\n",
      "Expected Output:\n",
      "[]\n",
      "\n",
      "\n",
      "Actual Output:\n",
      "[]\n",
      "\n",
      "Execution Time:\n",
      "0.003 ms\n",
      "\n",
      "Test Result:\n",
      "\u001b[92mPASSED\u001b[0m\n",
      "\n",
      "\n",
      "\u001b[1mTEST CASE #3\u001b[0m\n",
      "\n",
      "Input:\n",
      "{'poly1': [0, 4], 'poly2': [1, 4, 5, 0, 4]}\n",
      "\n",
      "Expected Output:\n",
      "[0, 4, 16, 20, 0, 16]\n",
      "\n",
      "\n",
      "Actual Output:\n",
      "[0, 4, 16, 20, 0, 16]\n",
      "\n",
      "Execution Time:\n",
      "0.04 ms\n",
      "\n",
      "Test Result:\n",
      "\u001b[92mPASSED\u001b[0m\n",
      "\n",
      "\n",
      "\u001b[1mTEST CASE #4\u001b[0m\n",
      "\n",
      "Input:\n",
      "{'poly1': [0, 2], 'poly2': [2, 0]}\n",
      "\n",
      "Expected Output:\n",
      "[0, 4, 0]\n",
      "\n",
      "\n",
      "Actual Output:\n",
      "[0, 4, 0]\n",
      "\n",
      "Execution Time:\n",
      "0.023 ms\n",
      "\n",
      "Test Result:\n",
      "\u001b[92mPASSED\u001b[0m\n",
      "\n",
      "\n",
      "\u001b[1mTEST CASE #5\u001b[0m\n",
      "\n",
      "Input:\n",
      "{'poly1': [4], 'poly2': [1, 2, 3, 4]}\n",
      "\n",
      "Expected Output:\n",
      "[4, 8, 12, 16]\n",
      "\n",
      "\n",
      "Actual Output:\n",
      "[4, 8, 12, 16]\n",
      "\n",
      "Execution Time:\n",
      "0.008 ms\n",
      "\n",
      "Test Result:\n",
      "\u001b[92mPASSED\u001b[0m\n",
      "\n",
      "\n",
      "\u001b[1mTEST CASE #6\u001b[0m\n",
      "\n",
      "Input:\n",
      "{'poly1': [0, 0, 0], 'poly2': [1, 2, 3, 4]}\n",
      "\n",
      "Expected Output:\n",
      "[0]\n",
      "\n",
      "\n",
      "Actual Output:\n",
      "[0]\n",
      "\n",
      "Execution Time:\n",
      "0.003 ms\n",
      "\n",
      "Test Result:\n",
      "\u001b[92mPASSED\u001b[0m\n",
      "\n",
      "\n",
      "\u001b[1mTEST CASE #7\u001b[0m\n",
      "\n",
      "Input:\n",
      "{'poly1': [0, 0, 0, 7], 'poly2': [1, 2, 3, 4]}\n",
      "\n",
      "Expected Output:\n",
      "[0, 0, 0, 7, 14, 21, 28]\n",
      "\n",
      "\n",
      "Actual Output:\n",
      "[0, 0, 0, 7, 14, 21, 28]\n",
      "\n",
      "Execution Time:\n",
      "0.043 ms\n",
      "\n",
      "Test Result:\n",
      "\u001b[92mPASSED\u001b[0m\n",
      "\n",
      "\n",
      "\u001b[1mTEST CASE #8\u001b[0m\n",
      "\n",
      "Input:\n",
      "{'poly1': [1, 2, 3, 4, 5, 6, 7, 8, 9], 'poly2': [1, 2, 3, 4]}\n",
      "\n",
      "Expected Output:\n",
      "[1, 4, 10, 20, 30, 40, 50, 60, 70, 70, 59, 36]\n",
      "\n",
      "\n",
      "Actual Output:\n",
      "[1, 4, 10, 20, 30, 40, 50, 60, 70, 70, 59, 36]\n",
      "\n",
      "Execution Time:\n",
      "0.081 ms\n",
      "\n",
      "Test Result:\n",
      "\u001b[92mPASSED\u001b[0m\n",
      "\n",
      "\n",
      "\u001b[1mTEST CASE #9\u001b[0m\n",
      "\n",
      "Input:\n",
      "{'poly1': [1, 2, 3, 4, 5, 6, 7, 8, 9], 'poly2': [1, 2, 3, 4]}\n",
      "\n",
      "Expected Output:\n",
      "[1, 4, 10, 20, 30, 40, 50, 60, 70, 70, 59, 36]\n",
      "\n",
      "\n",
      "Actual Output:\n",
      "[1, 4, 10, 20, 30, 40, 50, 60, 70, 70, 59, 36]\n",
      "\n",
      "Execution Time:\n",
      "0.08 ms\n",
      "\n",
      "Test Result:\n",
      "\u001b[92mPASSED\u001b[0m\n",
      "\n",
      "\n",
      "\u001b[1mSUMMARY\u001b[0m\n",
      "\n",
      "TOTAL: 10, \u001b[92mPASSED\u001b[0m: 10, \u001b[91mFAILED\u001b[0m: 0\n"
     ]
    },
    {
     "data": {
      "text/plain": [
       "[([6, 8, 19, 41, 38, 14], True, 0.041),\n",
       " ([], True, 0.003),\n",
       " ([], True, 0.003),\n",
       " ([0, 4, 16, 20, 0, 16], True, 0.04),\n",
       " ([0, 4, 0], True, 0.023),\n",
       " ([4, 8, 12, 16], True, 0.008),\n",
       " ([0], True, 0.003),\n",
       " ([0, 0, 0, 7, 14, 21, 28], True, 0.043),\n",
       " ([1, 4, 10, 20, 30, 40, 50, 60, 70, 70, 59, 36], True, 0.081),\n",
       " ([1, 4, 10, 20, 30, 40, 50, 60, 70, 70, 59, 36], True, 0.08)]"
      ]
     },
     "execution_count": 125,
     "metadata": {},
     "output_type": "execute_result"
    }
   ],
   "source": [
    "evaluate_test_cases(multiply_optimized, tests)"
   ]
  },
  {
   "cell_type": "code",
   "execution_count": null,
   "id": "southwest-aluminum",
   "metadata": {},
   "outputs": [],
   "source": []
  },
  {
   "cell_type": "code",
   "execution_count": 126,
   "id": "stable-korea",
   "metadata": {},
   "outputs": [],
   "source": [
    "import jovian"
   ]
  },
  {
   "cell_type": "code",
   "execution_count": 127,
   "id": "nominated-thousand",
   "metadata": {},
   "outputs": [
    {
     "data": {
      "application/javascript": [
       "window.require && require([\"base/js/namespace\"],function(Jupyter){Jupyter.notebook.save_checkpoint()})"
      ],
      "text/plain": [
       "<IPython.core.display.Javascript object>"
      ]
     },
     "metadata": {},
     "output_type": "display_data"
    },
    {
     "name": "stdout",
     "output_type": "stream",
     "text": [
      "[jovian] Updating notebook \"evanmarie/python-divide-and-conquer-assignment\" on https://jovian.ai\u001b[0m\n",
      "[jovian] Committed successfully! https://jovian.ai/evanmarie/python-divide-and-conquer-assignment\u001b[0m\n"
     ]
    },
    {
     "data": {
      "text/plain": [
       "'https://jovian.ai/evanmarie/python-divide-and-conquer-assignment'"
      ]
     },
     "execution_count": 127,
     "metadata": {},
     "output_type": "execute_result"
    }
   ],
   "source": [
    "jovian.commit()"
   ]
  },
  {
   "cell_type": "markdown",
   "id": "documented-leisure",
   "metadata": {},
   "source": [
    "## Make a Submission\n",
    "\n",
    "Congrats! You have now implemented hash tables from scratch. The rest of this assignment is optional.\n",
    "\n",
    "You can make a submission on this page: https://jovian.ai/learn/data-structures-and-algorithms-in-python/assignment/assignment-3-sorting-and-divide-conquer-practice\n",
    "\n",
    "Submit the link to your Jovian notebook (the output of the previous cell).\n",
    "You can also make a direct submission by executing the following cell:"
   ]
  },
  {
   "cell_type": "code",
   "execution_count": 128,
   "id": "superior-windows",
   "metadata": {},
   "outputs": [
    {
     "data": {
      "application/javascript": [
       "window.require && require([\"base/js/namespace\"],function(Jupyter){Jupyter.notebook.save_checkpoint()})"
      ],
      "text/plain": [
       "<IPython.core.display.Javascript object>"
      ]
     },
     "metadata": {},
     "output_type": "display_data"
    },
    {
     "name": "stdout",
     "output_type": "stream",
     "text": [
      "[jovian] Updating notebook \"evanmarie/python-divide-and-conquer-assignment\" on https://jovian.ai\u001b[0m\n",
      "[jovian] Committed successfully! https://jovian.ai/evanmarie/python-divide-and-conquer-assignment\u001b[0m\n",
      "[jovian] Submitting assignment..\u001b[0m\n",
      "[jovian] Verify your submission at https://jovian.ai/learn/data-structures-and-algorithms-in-python/assignment/assignment-3-sorting-and-divide-conquer-practice\u001b[0m\n"
     ]
    }
   ],
   "source": [
    "jovian.submit(assignment=\"pythondsa-assignment3\")"
   ]
  },
  {
   "cell_type": "markdown",
   "id": "early-norfolk",
   "metadata": {},
   "source": [
    "### (Optional) 9. Analyze the algorithm's complexity and identify inefficiencies, if any.\n",
    "\n",
    "Can you analyze the time and space complexity of this algorithm? \n",
    "\n",
    "Hint: See the tree of subproblems below ([source](https://myithelpcentral.blogspot.com/2015/09/o-logn-notation-explanation-for-binary.html)). Substitute the right values for `n` and `b` to determine the time complexity.\n",
    "\n",
    "![](https://i.imgur.com/JAmZrE5.png)"
   ]
  },
  {
   "cell_type": "code",
   "execution_count": null,
   "id": "controlling-merchandise",
   "metadata": {},
   "outputs": [],
   "source": [
    "import jovian"
   ]
  },
  {
   "cell_type": "code",
   "execution_count": null,
   "id": "ranging-testing",
   "metadata": {},
   "outputs": [],
   "source": [
    "jovian.commit()"
   ]
  }
 ],
 "metadata": {
  "kernelspec": {
   "display_name": "Python 3 (ipykernel)",
   "language": "python",
   "name": "python3"
  },
  "language_info": {
   "codemirror_mode": {
    "name": "ipython",
    "version": 3
   },
   "file_extension": ".py",
   "mimetype": "text/x-python",
   "name": "python",
   "nbconvert_exporter": "python",
   "pygments_lexer": "ipython3",
   "version": "3.9.6"
  }
 },
 "nbformat": 4,
 "nbformat_minor": 5
}
