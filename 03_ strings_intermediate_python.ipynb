{
 "cells": [
  {
   "cell_type": "markdown",
   "source": [
    "# Intermediate Python\n",
    "### Patrick Loeber, python-engineer.com\n",
    "### https://www.youtube.com/watch?v=HGOBQPFzWKo\n",
    "(58:45)\n",
    "September 15, 2022\n"
   ],
   "metadata": {
    "collapsed": false,
    "pycharm": {
     "name": "#%% md\n"
    }
   }
  },
  {
   "cell_type": "markdown",
   "source": [
    "## <b>STRINGS:</b> ordered and immutable collection data type used for text representation"
   ],
   "metadata": {
    "collapsed": false,
    "pycharm": {
     "name": "#%% md\n"
    }
   }
  },
  {
   "cell_type": "code",
   "execution_count": 3,
   "outputs": [
    {
     "data": {
      "text/plain": "'Hello, World!'"
     },
     "execution_count": 3,
     "metadata": {},
     "output_type": "execute_result"
    }
   ],
   "source": [
    "# Use either single or double quotes to create strings\n",
    "string01 = 'Hello, World!'\n",
    "string01"
   ],
   "metadata": {
    "collapsed": false,
    "pycharm": {
     "name": "#%%\n"
    }
   }
  },
  {
   "cell_type": "code",
   "execution_count": 13,
   "outputs": [
    {
     "name": "stdout",
     "output_type": "stream",
     "text": [
      "This is a multi-line string.\n",
      "It is a really great string.\n"
     ]
    }
   ],
   "source": [
    "# Triple quotes are for multi-line strings and documentation\n",
    "\n",
    "string02 = '''This is a multi-line string.\n",
    "It is a really great string.'''\n",
    "\n",
    "# Does not print properly in notebook unless using print()\n",
    "# If you use \\, it tells anyone looking at the code that the\n",
    "# string continues on the next line but does not print that way.\n",
    "print(string02)"
   ],
   "metadata": {
    "collapsed": false,
    "pycharm": {
     "name": "#%%\n"
    }
   }
  },
  {
   "cell_type": "code",
   "execution_count": 19,
   "outputs": [
    {
     "name": "stdout",
     "output_type": "stream",
     "text": [
      "char01:  l\n",
      "char02:  !\n"
     ]
    },
    {
     "data": {
      "text/plain": "'l'"
     },
     "execution_count": 19,
     "metadata": {},
     "output_type": "execute_result"
    }
   ],
   "source": [
    "# Strings can be indexed like lists\n",
    "\n",
    "string03 = 'Hello World!'\n",
    "char01 = string03[3] # isolates index 3 of string to new variable\n",
    "char02 = string03[-1]\n",
    "\n",
    "print(\"char01: \", char01)\n",
    "print('char02: ', char02)"
   ],
   "metadata": {
    "collapsed": false,
    "pycharm": {
     "name": "#%%\n"
    }
   }
  },
  {
   "cell_type": "markdown",
   "source": [
    "### Strings cannot be changed in place, they are immutable"
   ],
   "metadata": {
    "collapsed": false,
    "pycharm": {
     "name": "#%% md\n"
    }
   }
  },
  {
   "cell_type": "code",
   "execution_count": 21,
   "outputs": [
    {
     "data": {
      "text/plain": "'llo'"
     },
     "execution_count": 21,
     "metadata": {},
     "output_type": "execute_result"
    }
   ],
   "source": [
    "# Slicing applies to strings, remember the end number -1 issue\n",
    "print(\"string03[2:5]: \", string03[2:5])"
   ],
   "metadata": {
    "collapsed": false,
    "pycharm": {
     "name": "#%%\n"
    }
   }
  },
  {
   "cell_type": "code",
   "execution_count": 26,
   "outputs": [
    {
     "name": "stdout",
     "output_type": "stream",
     "text": [
      "string03[:3]:  Hel\n",
      "string03[-1:0:-1]:  !dlroW olle\n",
      "string03[::-1];  !dlroW olleH\n"
     ]
    }
   ],
   "source": [
    "print('string03[:3]: ', string03[:3])\n",
    "print('string03[-1:0:-1]: ', string03[-1:0:-1])\n",
    "print(\"string03[::-1]; \", string03[::-1])"
   ],
   "metadata": {
    "collapsed": false,
    "pycharm": {
     "name": "#%%\n"
    }
   }
  },
  {
   "cell_type": "code",
   "execution_count": 28,
   "outputs": [
    {
     "data": {
      "text/plain": "'Hello Tom!'"
     },
     "execution_count": 28,
     "metadata": {},
     "output_type": "execute_result"
    }
   ],
   "source": [
    "# CONCATENATION\n",
    "string04 = \"Tom\"\n",
    "string05 = \"Hello\"\n",
    "\n",
    "greeting = string05 + \" \" + string04 + '!'\n",
    "greeting"
   ],
   "metadata": {
    "collapsed": false,
    "pycharm": {
     "name": "#%%\n"
    }
   }
  },
  {
   "cell_type": "code",
   "execution_count": 30,
   "outputs": [
    {
     "name": "stdout",
     "output_type": "stream",
     "text": [
      "H\n",
      "e\n",
      "l\n",
      "l\n"
     ]
    }
   ],
   "source": [
    "# ITERATING\n",
    "for i in greeting[0:4]:\n",
    "    print(i)"
   ],
   "metadata": {
    "collapsed": false,
    "pycharm": {
     "name": "#%%\n"
    }
   }
  },
  {
   "cell_type": "code",
   "execution_count": 33,
   "outputs": [
    {
     "name": "stdout",
     "output_type": "stream",
     "text": [
      "YAYUH!\n"
     ]
    }
   ],
   "source": [
    "# IF-IN STATEMENT: can check for one or more characters or subsets\n",
    "if 'e' in greeting:\n",
    "    print(\"YAYUH!\")\n",
    "else:\n",
    "    print(\"Hellz to the NO!\")"
   ],
   "metadata": {
    "collapsed": false,
    "pycharm": {
     "name": "#%%\n"
    }
   }
  },
  {
   "cell_type": "code",
   "execution_count": 36,
   "outputs": [
    {
     "name": "stdout",
     "output_type": "stream",
     "text": [
      "before stripping:          what the heck, white space?\n",
      "stripping string06:  what the heck, white space?\n",
      "        what the heck, white space?\n"
     ]
    }
   ],
   "source": [
    "# WHITE SPACE STRIPPAGE:\n",
    "\n",
    "string06 = '        what the heck, white space?'\n",
    "print('before stripping: ', string06)\n",
    "print('stripping string06: ', string06.strip())\n",
    "\n",
    "# This does not change the string in place.\n",
    "# It must be reassigned if you want to save over.\n",
    "print(string06)"
   ],
   "metadata": {
    "collapsed": false,
    "pycharm": {
     "name": "#%%\n"
    }
   }
  },
  {
   "cell_type": "code",
   "execution_count": 37,
   "outputs": [
    {
     "name": "stdout",
     "output_type": "stream",
     "text": [
      ".upper():          WHAT THE HECK, WHITE SPACE?\n",
      ".lower():          what the heck, white space?\n"
     ]
    }
   ],
   "source": [
    "# UPPER, LOWER, etc\n",
    "\n",
    "print('.upper(): ', string06.upper())\n",
    "print('.lower(): ', string06.lower())"
   ],
   "metadata": {
    "collapsed": false,
    "pycharm": {
     "name": "#%%\n"
    }
   }
  },
  {
   "cell_type": "code",
   "execution_count": 38,
   "outputs": [
    {
     "name": "stdout",
     "output_type": "stream",
     "text": [
      "string05:  Hello\n",
      "string 05 starts with Q?  False\n"
     ]
    }
   ],
   "source": [
    "# STARTS WITH: returns true or false\n",
    "print('string05: ', string05)\n",
    "print('string 05 starts with Q? ', string05.startswith('Q'))"
   ],
   "metadata": {
    "collapsed": false,
    "pycharm": {
     "name": "#%%\n"
    }
   }
  },
  {
   "cell_type": "code",
   "execution_count": 40,
   "outputs": [
    {
     "name": "stdout",
     "output_type": "stream",
     "text": [
      "string05:  Hello\n",
      "string 05 ends with o?  True\n"
     ]
    }
   ],
   "source": [
    "# ENDS WITH: returns true or false\n",
    "print('string05: ', string05)\n",
    "print('string 05 ends with o? ', string05.endswith('o'))"
   ],
   "metadata": {
    "collapsed": false,
    "pycharm": {
     "name": "#%%\n"
    }
   }
  },
  {
   "cell_type": "code",
   "execution_count": 41,
   "outputs": [
    {
     "data": {
      "text/plain": "4"
     },
     "execution_count": 41,
     "metadata": {},
     "output_type": "execute_result"
    }
   ],
   "source": [
    "# Find the INDEX of a character or substring\n",
    "string05.find('o')"
   ],
   "metadata": {
    "collapsed": false,
    "pycharm": {
     "name": "#%%\n"
    }
   }
  },
  {
   "cell_type": "code",
   "execution_count": 42,
   "outputs": [
    {
     "data": {
      "text/plain": "0"
     },
     "execution_count": 42,
     "metadata": {},
     "output_type": "execute_result"
    }
   ],
   "source": [
    "# For a substring, it returns the index of where the substring\n",
    "# begins\n",
    "string05.find('Hell')"
   ],
   "metadata": {
    "collapsed": false,
    "pycharm": {
     "name": "#%%\n"
    }
   }
  },
  {
   "cell_type": "code",
   "execution_count": 44,
   "outputs": [
    {
     "data": {
      "text/plain": "3"
     },
     "execution_count": 44,
     "metadata": {},
     "output_type": "execute_result"
    }
   ],
   "source": [
    "# COUNT the number of a certain character or substring are in\n",
    "# another string\n",
    "\n",
    "string07 = 'Supercalifragilisticexpiallidocious'\n",
    "\n",
    "string07.count('c')"
   ],
   "metadata": {
    "collapsed": false,
    "pycharm": {
     "name": "#%%\n"
    }
   }
  },
  {
   "cell_type": "code",
   "execution_count": 46,
   "outputs": [
    {
     "name": "stdout",
     "output_type": "stream",
     "text": [
      "Universecalifragilisticexpiallidocious\n",
      "Supercalifragilisticexpiallidocious\n"
     ]
    }
   ],
   "source": [
    "# REPLACING CHARACTERS and SUBSTRINGS: Returns a new string, does\n",
    "# not change the original\n",
    "\n",
    "print(string07.replace('Super', 'Universe'))\n",
    "print(string07)"
   ],
   "metadata": {
    "collapsed": false,
    "pycharm": {
     "name": "#%%\n"
    }
   }
  },
  {
   "cell_type": "code",
   "execution_count": 48,
   "outputs": [
    {
     "data": {
      "text/plain": "['How', 'are', 'you', 'doing']"
     },
     "execution_count": 48,
     "metadata": {},
     "output_type": "execute_result"
    }
   ],
   "source": [
    "# CONVERTING to a list of the words contained\n",
    "string08 = 'How are you doing'\n",
    "list01 = string08.split() # default split on a space\n",
    "list01"
   ],
   "metadata": {
    "collapsed": false,
    "pycharm": {
     "name": "#%%\n"
    }
   }
  },
  {
   "cell_type": "code",
   "execution_count": 50,
   "outputs": [
    {
     "data": {
      "text/plain": "['cats', ' dogs', ' sheep', ' chickens']"
     },
     "execution_count": 50,
     "metadata": {},
     "output_type": "execute_result"
    }
   ],
   "source": [
    "string09 = 'cats, dogs, sheep, chickens'\n",
    "list02 = string09.split(',')\n",
    "list02 # creates a list of the items in the string"
   ],
   "metadata": {
    "collapsed": false,
    "pycharm": {
     "name": "#%%\n"
    }
   }
  },
  {
   "cell_type": "code",
   "execution_count": 52,
   "outputs": [
    {
     "data": {
      "text/plain": "'cats dogs sheep chickens'"
     },
     "execution_count": 52,
     "metadata": {},
     "output_type": "execute_result"
    }
   ],
   "source": [
    "# This list can be converted back into a string\n",
    "new_string = ''.join(list02)\n",
    "new_string"
   ],
   "metadata": {
    "collapsed": false,
    "pycharm": {
     "name": "#%%\n"
    }
   }
  },
  {
   "cell_type": "code",
   "execution_count": 63,
   "outputs": [
    {
     "data": {
      "text/plain": "['aaaaaa']"
     },
     "execution_count": 63,
     "metadata": {},
     "output_type": "execute_result"
    }
   ],
   "source": [
    "list03 = ['a' * 6]\n",
    "list03"
   ],
   "metadata": {
    "collapsed": false,
    "pycharm": {
     "name": "#%%\n"
    }
   }
  },
  {
   "cell_type": "code",
   "execution_count": 66,
   "outputs": [
    {
     "name": "stdout",
     "output_type": "stream",
     "text": [
      "CPU times: user 14 µs, sys: 0 ns, total: 14 µs\n",
      "Wall time: 17.2 µs\n"
     ]
    },
    {
     "data": {
      "text/plain": "'aaaaaaaaaaaaaaaaaa'"
     },
     "execution_count": 66,
     "metadata": {},
     "output_type": "execute_result"
    }
   ],
   "source": [
    "%%time\n",
    "# NOT GOOD WAY\n",
    "string10 = \"\"\n",
    "for i in list03:\n",
    "    string10 += i * 3\n",
    "\n",
    "string10"
   ],
   "metadata": {
    "collapsed": false,
    "pycharm": {
     "name": "#%%\n"
    }
   }
  },
  {
   "cell_type": "code",
   "execution_count": 68,
   "outputs": [
    {
     "name": "stdout",
     "output_type": "stream",
     "text": [
      "CPU times: user 5 µs, sys: 1 µs, total: 6 µs\n",
      "Wall time: 7.87 µs\n"
     ]
    },
    {
     "data": {
      "text/plain": "'aaaaaaaaaaaaaaaaaaaaaaaaaaaaaa'"
     },
     "execution_count": 68,
     "metadata": {},
     "output_type": "execute_result"
    }
   ],
   "source": [
    "%%time\n",
    "# BETTER WAY (faster, more Pythonic)\n",
    "string10.join(list03 * 2)"
   ],
   "metadata": {
    "collapsed": false,
    "pycharm": {
     "name": "#%%\n"
    }
   }
  },
  {
   "cell_type": "markdown",
   "source": [
    "## Formatting Strings:\n",
    "\n",
    "The old ways were with % operator or with .format()"
   ],
   "metadata": {
    "collapsed": false,
    "pycharm": {
     "name": "#%% md\n"
    }
   }
  },
  {
   "cell_type": "code",
   "execution_count": 71,
   "outputs": [
    {
     "data": {
      "text/plain": "'My friend is Tom'"
     },
     "execution_count": 71,
     "metadata": {},
     "output_type": "execute_result"
    }
   ],
   "source": [
    "# Old, old way, with %\n",
    "string11 = 'Tom'\n",
    "string12 = 'My friend is %s'%string11  # %s is for string\n",
    "string12"
   ],
   "metadata": {
    "collapsed": false,
    "pycharm": {
     "name": "#%%\n"
    }
   }
  },
  {
   "cell_type": "code",
   "execution_count": 73,
   "outputs": [
    {
     "data": {
      "text/plain": "'In 8 days, I will not longer be 43'"
     },
     "execution_count": 73,
     "metadata": {},
     "output_type": "execute_result"
    }
   ],
   "source": [
    "integer_variable = 43   # use %d for integers\n",
    "string13 = 'In 8 days, I will not longer be %d'%integer_variable\n",
    "string13"
   ],
   "metadata": {
    "collapsed": false,
    "pycharm": {
     "name": "#%%\n"
    }
   }
  },
  {
   "cell_type": "code",
   "execution_count": 76,
   "outputs": [
    {
     "data": {
      "text/plain": "'I really like the number 3.14'"
     },
     "execution_count": 76,
     "metadata": {},
     "output_type": "execute_result"
    }
   ],
   "source": [
    "what_is_pi = 3.14   # %f for floats (use .2 for 2 dec places)\n",
    "string14 = \"I really like the number %.2f\"%what_is_pi\n",
    "string14"
   ],
   "metadata": {
    "collapsed": false,
    "pycharm": {
     "name": "#%%\n"
    }
   }
  },
  {
   "cell_type": "code",
   "execution_count": 78,
   "outputs": [
    {
     "data": {
      "text/plain": "'A very good variable is 3.14'"
     },
     "execution_count": 78,
     "metadata": {},
     "output_type": "execute_result"
    }
   ],
   "source": [
    "# A new version = .format()\n",
    "\n",
    "string15 = \"A very good variable is {}\".format(what_is_pi)\n",
    "string15"
   ],
   "metadata": {
    "collapsed": false,
    "pycharm": {
     "name": "#%%\n"
    }
   }
  },
  {
   "cell_type": "code",
   "execution_count": 79,
   "outputs": [
    {
     "data": {
      "text/plain": "'I like many variables like, Tom, 43, and 3.14'"
     },
     "execution_count": 79,
     "metadata": {},
     "output_type": "execute_result"
    }
   ],
   "source": [
    "string16 = \"I like many variables like {}, {}, and {}\".format(string11, integer_variable, what_is_pi)\n",
    "string16"
   ],
   "metadata": {
    "collapsed": false,
    "pycharm": {
     "name": "#%%\n"
    }
   }
  },
  {
   "cell_type": "code",
   "execution_count": 81,
   "outputs": [
    {
     "name": "stdout",
     "output_type": "stream",
     "text": [
      "I love f-strings! It is so easy to print 3.14.\n"
     ]
    }
   ],
   "source": [
    "# F-STRINGS! New and IMPROVED!\n",
    "print(f\"I love f-strings! It is so easy to print {what_is_pi}.\")"
   ],
   "metadata": {
    "collapsed": false,
    "pycharm": {
     "name": "#%%\n"
    }
   }
  },
  {
   "cell_type": "code",
   "execution_count": 84,
   "outputs": [
    {
     "name": "stdout",
     "output_type": "stream",
     "text": [
      "I can print operations: 6.28.\n"
     ]
    }
   ],
   "source": [
    "print(f\"I can print operations: {what_is_pi * 2}.\")"
   ],
   "metadata": {
    "collapsed": false,
    "pycharm": {
     "name": "#%%\n"
    }
   }
  },
  {
   "cell_type": "code",
   "execution_count": 85,
   "outputs": [
    {
     "name": "stdout",
     "output_type": "stream",
     "text": [
      "When you use a string: TomTom.\n"
     ]
    }
   ],
   "source": [
    "print(f\"When you use a string: {string11 * 2}.\")"
   ],
   "metadata": {
    "collapsed": false,
    "pycharm": {
     "name": "#%%\n"
    }
   }
  }
 ],
 "metadata": {
  "kernelspec": {
   "display_name": "Python 3",
   "language": "python",
   "name": "python3"
  },
  "language_info": {
   "codemirror_mode": {
    "name": "ipython",
    "version": 2
   },
   "file_extension": ".py",
   "mimetype": "text/x-python",
   "name": "python",
   "nbconvert_exporter": "python",
   "pygments_lexer": "ipython2",
   "version": "2.7.6"
  }
 },
 "nbformat": 4,
 "nbformat_minor": 0
}