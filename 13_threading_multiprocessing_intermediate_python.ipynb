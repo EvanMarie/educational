{
 "cells": [
  {
   "cell_type": "markdown",
   "source": [
    "# Intermediate Python\n",
    "### Patrick Loeber, python-engineer.com\n",
    "### https://www.youtube.com/watch?v=HGOBQPFzWKo\n",
    "(3:53:31)\n",
    "September 17, 2022"
   ],
   "metadata": {
    "collapsed": false,
    "pycharm": {
     "name": "#%% md\n"
    }
   }
  },
  {
   "cell_type": "markdown",
   "source": [
    "## THREADING vs MULTIPROCESSING:\n",
    "### allows for running code in parallel and speeding up code.\n",
    "\n",
    "* a process is an instance of a program running on the computer, and is heavyweight, using much memory in comparison to threads.\n",
    "* a thread is a sequence of instructions within a process allowing for simultaneously functioning.\n",
    "* a process can have multiple threads.\n",
    "* a thread is a lightweight process and can be scheduled for efficiency\n",
    "* a process has its own memory space, while threads share the memory space of the process.\n",
    "* threads are faster than processes.\n",
    "* a raise condition is a situation where two or more threads can access shared data and they try to change it at the same time\n",
    "* threads are used for I/O (input/output) bound tasks, while processes are used for CPU bound tasks.\n",
    "* a GIL is a global interpreter lock that protects access to Python objects, preventing multiple threads from executing Python bytecodes at once\n",
    "* a GIL is a mutex that allows only one thread to execute at a time, which is why threads are more for I/O tasks\n",
    "\n",
    "### Avoid:\n",
    "1. memory leaks = memory that is allocated but never freed\n",
    "2. memory fragmentation = memory that is allocated but not used\n",
    "3. memory bloat = memory that is allocated and used but not freed\n",
    "\n",
    "### THREADING MODULE:\n",
    "* threading module provides a high-level interface for creating threads.\n",
    "* threading.Thread class is used to create a thread.\n",
    "* threading.Thread class has the following methods:\n",
    "* start() - starts the thread.\n",
    "* run() - method that contains the code to be executed by the thread.\n",
    "* join() - waits for the thread to terminate.\n",
    "* isAlive() - returns true if the thread is still executing.\n",
    "* getName() - returns the name of the thread.\n",
    "* setName() - sets the name of the thread.\n",
    "\n",
    "### MULTIPROCESSING MODULE:\n",
    "* multiprocessing module provides a high-level interface for creating processes.\n",
    "* multiprocessing.Process class is used to create a process.\n",
    "* multiprocessing.Process class has the following methods:\n",
    "* start() - starts the process.\n",
    "* run() - method that contains the code to be executed by the process.\n",
    "* join() - waits for the process to terminate.\n",
    "* isAlive() - returns true if the process is still executing.\n",
    "* getName() - returns the name of the process.\n",
    "* setName() - sets the name of the process."
   ],
   "metadata": {
    "collapsed": false,
    "pycharm": {
     "name": "#%% md\n"
    }
   }
  },
  {
   "cell_type": "markdown",
   "source": [
    "### MULTIPROCESSING:\n",
    "processes do not live in the same memory space, so they need special objects to allow them to share data."
   ],
   "metadata": {
    "collapsed": false,
    "pycharm": {
     "name": "#%% md\n"
    }
   }
  },
  {
   "cell_type": "code",
   "execution_count": 79,
   "outputs": [],
   "source": [
    "from multiprocessing import Process, Value, Array, Lock\n",
    "import os\n",
    "import time"
   ],
   "metadata": {
    "collapsed": false,
    "pycharm": {
     "name": "#%%\n"
    }
   }
  },
  {
   "cell_type": "code",
   "execution_count": 80,
   "outputs": [
    {
     "ename": "KeyboardInterrupt",
     "evalue": "",
     "output_type": "error",
     "traceback": [
      "\u001B[0;31m---------------------------------------------------------------------------\u001B[0m",
      "\u001B[0;31mKeyboardInterrupt\u001B[0m                         Traceback (most recent call last)",
      "Cell \u001B[0;32mIn [80], line 14\u001B[0m\n\u001B[1;32m     11\u001B[0m \u001B[38;5;66;03m# create processes\u001B[39;00m\n\u001B[1;32m     12\u001B[0m \u001B[38;5;28;01mfor\u001B[39;00m i \u001B[38;5;129;01min\u001B[39;00m \u001B[38;5;28mrange\u001B[39m(number_of_processes):\n\u001B[1;32m     13\u001B[0m     \u001B[38;5;66;03m# target is a function that is executed\u001B[39;00m\n\u001B[0;32m---> 14\u001B[0m     p \u001B[38;5;241m=\u001B[39m Process(target\u001B[38;5;241m=\u001B[39m\u001B[43msquare_numbers\u001B[49m\u001B[43m(\u001B[49m\u001B[43m)\u001B[49m)\n\u001B[1;32m     15\u001B[0m     processes\u001B[38;5;241m.\u001B[39mappend(p)\n\u001B[1;32m     17\u001B[0m \u001B[38;5;28;01mfor\u001B[39;00m p \u001B[38;5;129;01min\u001B[39;00m processes:\n",
      "Cell \u001B[0;32mIn [80], line 4\u001B[0m, in \u001B[0;36msquare_numbers\u001B[0;34m()\u001B[0m\n\u001B[1;32m      2\u001B[0m \u001B[38;5;28;01mfor\u001B[39;00m i \u001B[38;5;129;01min\u001B[39;00m \u001B[38;5;28mrange\u001B[39m(\u001B[38;5;241m1000\u001B[39m):\n\u001B[1;32m      3\u001B[0m     i\u001B[38;5;241m*\u001B[39mi\n\u001B[0;32m----> 4\u001B[0m     \u001B[43mtime\u001B[49m\u001B[38;5;241;43m.\u001B[39;49m\u001B[43msleep\u001B[49m\u001B[43m(\u001B[49m\u001B[38;5;241;43m0.1\u001B[39;49m\u001B[43m)\u001B[49m\n",
      "\u001B[0;31mKeyboardInterrupt\u001B[0m: "
     ]
    }
   ],
   "source": [
    "def square_numbers():\n",
    "    for i in range(1000):\n",
    "        i*i\n",
    "        time.sleep(0.1)\n",
    "\n",
    "if __name__ == '__main__':\n",
    "    processes = []\n",
    "    # a good number would be how many CPUs there are on the machine\n",
    "    number_of_processes = os.cpu_count()\n",
    "\n",
    "    # create processes\n",
    "    for i in range(number_of_processes):\n",
    "        # target is a function that is executed\n",
    "        p = Process(target=square_numbers())\n",
    "        processes.append(p)\n",
    "\n",
    "    for p in processes:\n",
    "        p.start()\n",
    "\n",
    "    # waiting for a process to finish and blocking main thread\n",
    "    for p in processes:\n",
    "        p.join()\n",
    "\n",
    "    print('end main')"
   ],
   "metadata": {
    "collapsed": false,
    "pycharm": {
     "name": "#%%\n"
    }
   }
  },
  {
   "cell_type": "markdown",
   "source": [
    "#### More in depth look at multiprocessing (04:31:05)"
   ],
   "metadata": {
    "collapsed": false,
    "pycharm": {
     "name": "#%% md\n"
    }
   }
  },
  {
   "cell_type": "code",
   "execution_count": null,
   "outputs": [],
   "source": [
    "def add100(numbers, lock):\n",
    "    for x in range(100):\n",
    "        time.sleep(0.01)\n",
    "        for number in range(len(numbers)):\n",
    "            with lock:\n",
    "                numbers[number] += 1\n",
    "\n",
    "# If actually running this file, not just importing\n",
    "if __name__ == '__main__':\n",
    "\n",
    "    lock = Lock()\n",
    "    # single shared value, takes a data type (int), and starting val\n",
    "    shared_array = Array('d', [0.0, 100.0, 200.0])\n",
    "    print(\"Array at beginning is: \", shared_array[:])\n",
    "\n",
    "    process_01 = Process(target=add100, args=(shared_array, lock))\n",
    "    process_02 = Process(target=add100, args=(shared_array, lock))\n",
    "\n",
    "    process_01.start()\n",
    "    process_02.start()\n",
    "\n",
    "    process_01.join()\n",
    "    process_02.join()\n",
    "\n",
    "    print(\"Array at end is: \", shared_array[:])"
   ],
   "metadata": {
    "collapsed": false,
    "pycharm": {
     "name": "#%%\n"
    }
   }
  },
  {
   "cell_type": "code",
   "execution_count": null,
   "outputs": [],
   "source": [
    "# Queue Version\n",
    "\n",
    "from multiprocessing import Queue"
   ],
   "metadata": {
    "collapsed": false,
    "pycharm": {
     "name": "#%%\n"
    }
   }
  },
  {
   "cell_type": "code",
   "execution_count": null,
   "outputs": [],
   "source": [
    "def square(numbers, queue):\n",
    "    for integer in numbers:\n",
    "        queue.put(integer * integer)\n",
    "\n",
    "\n",
    "def make_negative(numbers, queue):\n",
    "    for number in numbers:\n",
    "        queue.put(-1 * number)"
   ],
   "metadata": {
    "collapsed": false,
    "pycharm": {
     "name": "#%%\n"
    }
   }
  },
  {
   "cell_type": "code",
   "execution_count": null,
   "outputs": [],
   "source": [
    "# If actually running this file, not just importing\n",
    "if __name__ == '__main__':\n",
    "\n",
    "    numbers = range(1, 6)\n",
    "    process_queue = Queue()\n",
    "\n",
    "    q_process01 = Process(target=square, args=(numbers, process_queue))\n",
    "    q_process02 = Process(target=square, args=(numbers, process_queue))\n",
    "\n",
    "    q_process01.start()\n",
    "    q_process02.start()\n",
    "\n",
    "    q_process01.join()\n",
    "    q_process02.join()\n",
    "\n",
    "    while not process_queue.empty():\n",
    "        print(process_queue.get())\n",
    "\n"
   ],
   "metadata": {
    "collapsed": false,
    "pycharm": {
     "name": "#%%\n"
    }
   }
  },
  {
   "cell_type": "markdown",
   "source": [
    "#### PROCESS POOL: object that can manage a pool of worker processes to which jobs can be submitted. It can manage the available processes and split data into separate sections to be processed.\n",
    "\n",
    "Important methods are: map, apply, join, close"
   ],
   "metadata": {
    "collapsed": false,
    "pycharm": {
     "name": "#%% md\n"
    }
   }
  },
  {
   "cell_type": "code",
   "execution_count": 81,
   "outputs": [],
   "source": [
    "from multiprocessing import Pool"
   ],
   "metadata": {
    "collapsed": false,
    "pycharm": {
     "name": "#%%\n"
    }
   }
  },
  {
   "cell_type": "code",
   "execution_count": 83,
   "outputs": [
    {
     "name": "stderr",
     "output_type": "stream",
     "text": [
      "Process SpawnPoolWorker-73:\n",
      "Process SpawnPoolWorker-72:\n",
      "Process SpawnPoolWorker-70:\n",
      "Process SpawnPoolWorker-71:\n",
      "Process SpawnPoolWorker-74:\n",
      "Traceback (most recent call last):\n",
      "Traceback (most recent call last):\n",
      "Traceback (most recent call last):\n",
      "  File \"/Users/evancarr/opt/anaconda3/envs/pythonProject1/lib/python3.10/multiprocessing/process.py\", line 315, in _bootstrap\n",
      "    self.run()\n",
      "  File \"/Users/evancarr/opt/anaconda3/envs/pythonProject1/lib/python3.10/multiprocessing/process.py\", line 315, in _bootstrap\n",
      "    self.run()\n",
      "  File \"/Users/evancarr/opt/anaconda3/envs/pythonProject1/lib/python3.10/multiprocessing/process.py\", line 108, in run\n",
      "    self._target(*self._args, **self._kwargs)\n",
      "  File \"/Users/evancarr/opt/anaconda3/envs/pythonProject1/lib/python3.10/multiprocessing/process.py\", line 108, in run\n",
      "    self._target(*self._args, **self._kwargs)\n",
      "  File \"/Users/evancarr/opt/anaconda3/envs/pythonProject1/lib/python3.10/multiprocessing/pool.py\", line 114, in worker\n",
      "    task = get()\n",
      "  File \"/Users/evancarr/opt/anaconda3/envs/pythonProject1/lib/python3.10/multiprocessing/pool.py\", line 114, in worker\n",
      "    task = get()\n",
      "  File \"/Users/evancarr/opt/anaconda3/envs/pythonProject1/lib/python3.10/multiprocessing/queues.py\", line 368, in get\n",
      "    return _ForkingPickler.loads(res)\n",
      "Traceback (most recent call last):\n",
      "  File \"/Users/evancarr/opt/anaconda3/envs/pythonProject1/lib/python3.10/multiprocessing/queues.py\", line 368, in get\n",
      "    return _ForkingPickler.loads(res)\n",
      "  File \"/Users/evancarr/opt/anaconda3/envs/pythonProject1/lib/python3.10/multiprocessing/process.py\", line 315, in _bootstrap\n",
      "    self.run()\n",
      "AttributeError: Can't get attribute 'cube' on <module '__main__' (built-in)>\n",
      "AttributeError: Can't get attribute 'cube' on <module '__main__' (built-in)>\n",
      "  File \"/Users/evancarr/opt/anaconda3/envs/pythonProject1/lib/python3.10/multiprocessing/process.py\", line 108, in run\n",
      "    self._target(*self._args, **self._kwargs)\n",
      "  File \"/Users/evancarr/opt/anaconda3/envs/pythonProject1/lib/python3.10/multiprocessing/pool.py\", line 114, in worker\n",
      "    task = get()\n",
      "  File \"/Users/evancarr/opt/anaconda3/envs/pythonProject1/lib/python3.10/multiprocessing/queues.py\", line 368, in get\n",
      "    return _ForkingPickler.loads(res)\n",
      "  File \"/Users/evancarr/opt/anaconda3/envs/pythonProject1/lib/python3.10/multiprocessing/process.py\", line 315, in _bootstrap\n",
      "    self.run()\n",
      "  File \"/Users/evancarr/opt/anaconda3/envs/pythonProject1/lib/python3.10/multiprocessing/process.py\", line 108, in run\n",
      "    self._target(*self._args, **self._kwargs)\n",
      "  File \"/Users/evancarr/opt/anaconda3/envs/pythonProject1/lib/python3.10/multiprocessing/pool.py\", line 114, in worker\n",
      "    task = get()\n",
      "  File \"/Users/evancarr/opt/anaconda3/envs/pythonProject1/lib/python3.10/multiprocessing/queues.py\", line 368, in get\n",
      "    return _ForkingPickler.loads(res)\n",
      "AttributeError: Can't get attribute 'cube' on <module '__main__' (built-in)>\n",
      "AttributeError: Can't get attribute 'cube' on <module '__main__' (built-in)>\n",
      "Traceback (most recent call last):\n",
      "  File \"/Users/evancarr/opt/anaconda3/envs/pythonProject1/lib/python3.10/multiprocessing/process.py\", line 315, in _bootstrap\n",
      "    self.run()\n",
      "  File \"/Users/evancarr/opt/anaconda3/envs/pythonProject1/lib/python3.10/multiprocessing/process.py\", line 108, in run\n",
      "    self._target(*self._args, **self._kwargs)\n",
      "  File \"/Users/evancarr/opt/anaconda3/envs/pythonProject1/lib/python3.10/multiprocessing/pool.py\", line 114, in worker\n",
      "    task = get()\n",
      "  File \"/Users/evancarr/opt/anaconda3/envs/pythonProject1/lib/python3.10/multiprocessing/queues.py\", line 368, in get\n",
      "    return _ForkingPickler.loads(res)\n",
      "AttributeError: Can't get attribute 'cube' on <module '__main__' (built-in)>\n",
      "Process SpawnPoolWorker-75:\n",
      "Traceback (most recent call last):\n",
      "  File \"/Users/evancarr/opt/anaconda3/envs/pythonProject1/lib/python3.10/multiprocessing/process.py\", line 315, in _bootstrap\n",
      "    self.run()\n",
      "  File \"/Users/evancarr/opt/anaconda3/envs/pythonProject1/lib/python3.10/multiprocessing/process.py\", line 108, in run\n",
      "    self._target(*self._args, **self._kwargs)\n",
      "  File \"/Users/evancarr/opt/anaconda3/envs/pythonProject1/lib/python3.10/multiprocessing/pool.py\", line 114, in worker\n",
      "    task = get()\n",
      "  File \"/Users/evancarr/opt/anaconda3/envs/pythonProject1/lib/python3.10/multiprocessing/queues.py\", line 368, in get\n",
      "    return _ForkingPickler.loads(res)\n",
      "AttributeError: Can't get attribute 'cube' on <module '__main__' (built-in)>\n",
      "Process SpawnPoolWorker-76:\n",
      "Traceback (most recent call last):\n",
      "  File \"/Users/evancarr/opt/anaconda3/envs/pythonProject1/lib/python3.10/multiprocessing/process.py\", line 315, in _bootstrap\n",
      "    self.run()\n",
      "  File \"/Users/evancarr/opt/anaconda3/envs/pythonProject1/lib/python3.10/multiprocessing/process.py\", line 108, in run\n",
      "    self._target(*self._args, **self._kwargs)\n",
      "  File \"/Users/evancarr/opt/anaconda3/envs/pythonProject1/lib/python3.10/multiprocessing/pool.py\", line 114, in worker\n",
      "    task = get()\n",
      "  File \"/Users/evancarr/opt/anaconda3/envs/pythonProject1/lib/python3.10/multiprocessing/queues.py\", line 368, in get\n",
      "    return _ForkingPickler.loads(res)\n",
      "AttributeError: Can't get attribute 'cube' on <module '__main__' (built-in)>\n",
      "Process SpawnPoolWorker-77:\n",
      "Traceback (most recent call last):\n",
      "  File \"/Users/evancarr/opt/anaconda3/envs/pythonProject1/lib/python3.10/multiprocessing/process.py\", line 315, in _bootstrap\n",
      "    self.run()\n",
      "  File \"/Users/evancarr/opt/anaconda3/envs/pythonProject1/lib/python3.10/multiprocessing/process.py\", line 108, in run\n",
      "    self._target(*self._args, **self._kwargs)\n",
      "  File \"/Users/evancarr/opt/anaconda3/envs/pythonProject1/lib/python3.10/multiprocessing/pool.py\", line 114, in worker\n",
      "    task = get()\n",
      "  File \"/Users/evancarr/opt/anaconda3/envs/pythonProject1/lib/python3.10/multiprocessing/queues.py\", line 368, in get\n",
      "    return _ForkingPickler.loads(res)\n",
      "AttributeError: Can't get attribute 'cube' on <module '__main__' (built-in)>\n",
      "Process SpawnPoolWorker-78:\n",
      "Traceback (most recent call last):\n",
      "  File \"/Users/evancarr/opt/anaconda3/envs/pythonProject1/lib/python3.10/multiprocessing/process.py\", line 315, in _bootstrap\n",
      "    self.run()\n",
      "  File \"/Users/evancarr/opt/anaconda3/envs/pythonProject1/lib/python3.10/multiprocessing/process.py\", line 108, in run\n",
      "    self._target(*self._args, **self._kwargs)\n",
      "  File \"/Users/evancarr/opt/anaconda3/envs/pythonProject1/lib/python3.10/multiprocessing/pool.py\", line 114, in worker\n",
      "    task = get()\n",
      "  File \"/Users/evancarr/opt/anaconda3/envs/pythonProject1/lib/python3.10/multiprocessing/queues.py\", line 368, in get\n",
      "    return _ForkingPickler.loads(res)\n",
      "AttributeError: Can't get attribute 'cube' on <module '__main__' (built-in)>\n",
      "Process SpawnPoolWorker-79:\n",
      "Traceback (most recent call last):\n",
      "  File \"/Users/evancarr/opt/anaconda3/envs/pythonProject1/lib/python3.10/multiprocessing/process.py\", line 315, in _bootstrap\n",
      "    self.run()\n",
      "  File \"/Users/evancarr/opt/anaconda3/envs/pythonProject1/lib/python3.10/multiprocessing/process.py\", line 108, in run\n",
      "    self._target(*self._args, **self._kwargs)\n",
      "  File \"/Users/evancarr/opt/anaconda3/envs/pythonProject1/lib/python3.10/multiprocessing/pool.py\", line 114, in worker\n",
      "    task = get()\n",
      "  File \"/Users/evancarr/opt/anaconda3/envs/pythonProject1/lib/python3.10/multiprocessing/queues.py\", line 368, in get\n",
      "    return _ForkingPickler.loads(res)\n",
      "AttributeError: Can't get attribute 'cube' on <module '__main__' (built-in)>\n",
      "Process SpawnPoolWorker-81:\n",
      "Process SpawnPoolWorker-82:\n",
      "Process SpawnPoolWorker-80:\n",
      "Process SpawnPoolWorker-83:\n",
      "Process SpawnPoolWorker-86:\n",
      "Process SpawnPoolWorker-88:\n",
      "Process SpawnPoolWorker-87:\n",
      "Process SpawnPoolWorker-84:\n",
      "Process SpawnPoolWorker-85:\n",
      "Traceback (most recent call last):\n",
      "Traceback (most recent call last):\n",
      "  File \"/Users/evancarr/opt/anaconda3/envs/pythonProject1/lib/python3.10/multiprocessing/process.py\", line 315, in _bootstrap\n",
      "    self.run()\n",
      "  File \"/Users/evancarr/opt/anaconda3/envs/pythonProject1/lib/python3.10/multiprocessing/process.py\", line 108, in run\n",
      "    self._target(*self._args, **self._kwargs)\n",
      "  File \"/Users/evancarr/opt/anaconda3/envs/pythonProject1/lib/python3.10/multiprocessing/pool.py\", line 114, in worker\n",
      "    task = get()\n",
      "  File \"/Users/evancarr/opt/anaconda3/envs/pythonProject1/lib/python3.10/multiprocessing/queues.py\", line 365, in get\n",
      "    with self._rlock:\n",
      "  File \"/Users/evancarr/opt/anaconda3/envs/pythonProject1/lib/python3.10/multiprocessing/synchronize.py\", line 95, in __enter__\n",
      "    return self._semlock.__enter__()\n",
      "KeyboardInterrupt\n",
      "  File \"/Users/evancarr/opt/anaconda3/envs/pythonProject1/lib/python3.10/multiprocessing/process.py\", line 315, in _bootstrap\n",
      "    self.run()\n",
      "  File \"/Users/evancarr/opt/anaconda3/envs/pythonProject1/lib/python3.10/multiprocessing/process.py\", line 108, in run\n",
      "    self._target(*self._args, **self._kwargs)\n",
      "  File \"/Users/evancarr/opt/anaconda3/envs/pythonProject1/lib/python3.10/multiprocessing/pool.py\", line 114, in worker\n",
      "    task = get()\n",
      "  File \"/Users/evancarr/opt/anaconda3/envs/pythonProject1/lib/python3.10/multiprocessing/queues.py\", line 365, in get\n",
      "    with self._rlock:\n",
      "  File \"/Users/evancarr/opt/anaconda3/envs/pythonProject1/lib/python3.10/multiprocessing/synchronize.py\", line 95, in __enter__\n",
      "    return self._semlock.__enter__()\n",
      "KeyboardInterrupt\n",
      "Traceback (most recent call last):\n",
      "  File \"/Users/evancarr/opt/anaconda3/envs/pythonProject1/lib/python3.10/multiprocessing/process.py\", line 315, in _bootstrap\n",
      "    self.run()\n",
      "  File \"/Users/evancarr/opt/anaconda3/envs/pythonProject1/lib/python3.10/multiprocessing/process.py\", line 108, in run\n",
      "    self._target(*self._args, **self._kwargs)\n",
      "  File \"/Users/evancarr/opt/anaconda3/envs/pythonProject1/lib/python3.10/multiprocessing/pool.py\", line 114, in worker\n",
      "    task = get()\n",
      "  File \"/Users/evancarr/opt/anaconda3/envs/pythonProject1/lib/python3.10/multiprocessing/queues.py\", line 365, in get\n",
      "    with self._rlock:\n",
      "  File \"/Users/evancarr/opt/anaconda3/envs/pythonProject1/lib/python3.10/multiprocessing/synchronize.py\", line 95, in __enter__\n",
      "    return self._semlock.__enter__()\n",
      "KeyboardInterrupt\n",
      "Traceback (most recent call last):\n",
      "  File \"/Users/evancarr/opt/anaconda3/envs/pythonProject1/lib/python3.10/multiprocessing/process.py\", line 315, in _bootstrap\n",
      "    self.run()\n",
      "  File \"/Users/evancarr/opt/anaconda3/envs/pythonProject1/lib/python3.10/multiprocessing/process.py\", line 108, in run\n",
      "    self._target(*self._args, **self._kwargs)\n",
      "  File \"/Users/evancarr/opt/anaconda3/envs/pythonProject1/lib/python3.10/multiprocessing/pool.py\", line 114, in worker\n",
      "    task = get()\n",
      "  File \"/Users/evancarr/opt/anaconda3/envs/pythonProject1/lib/python3.10/multiprocessing/queues.py\", line 365, in get\n",
      "    with self._rlock:\n",
      "  File \"/Users/evancarr/opt/anaconda3/envs/pythonProject1/lib/python3.10/multiprocessing/synchronize.py\", line 95, in __enter__\n",
      "    return self._semlock.__enter__()\n",
      "KeyboardInterrupt\n",
      "Process SpawnPoolWorker-89:\n",
      "Traceback (most recent call last):\n",
      "  File \"/Users/evancarr/opt/anaconda3/envs/pythonProject1/lib/python3.10/multiprocessing/process.py\", line 315, in _bootstrap\n",
      "    self.run()\n",
      "  File \"/Users/evancarr/opt/anaconda3/envs/pythonProject1/lib/python3.10/multiprocessing/process.py\", line 108, in run\n",
      "    self._target(*self._args, **self._kwargs)\n",
      "Process SpawnPoolWorker-63:\n",
      "Traceback (most recent call last):\n",
      "  File \"/Users/evancarr/opt/anaconda3/envs/pythonProject1/lib/python3.10/multiprocessing/process.py\", line 315, in _bootstrap\n",
      "    self.run()\n",
      "  File \"/Users/evancarr/opt/anaconda3/envs/pythonProject1/lib/python3.10/multiprocessing/process.py\", line 108, in run\n",
      "    self._target(*self._args, **self._kwargs)\n",
      "  File \"/Users/evancarr/opt/anaconda3/envs/pythonProject1/lib/python3.10/multiprocessing/pool.py\", line 114, in worker\n",
      "    task = get()\n",
      "  File \"/Users/evancarr/opt/anaconda3/envs/pythonProject1/lib/python3.10/multiprocessing/queues.py\", line 365, in get\n",
      "    with self._rlock:\n",
      "  File \"/Users/evancarr/opt/anaconda3/envs/pythonProject1/lib/python3.10/multiprocessing/synchronize.py\", line 95, in __enter__\n",
      "    return self._semlock.__enter__()\n",
      "KeyboardInterrupt\n",
      "Traceback (most recent call last):\n",
      "  File \"/Users/evancarr/opt/anaconda3/envs/pythonProject1/lib/python3.10/multiprocessing/pool.py\", line 114, in worker\n",
      "    task = get()\n",
      "  File \"/Users/evancarr/opt/anaconda3/envs/pythonProject1/lib/python3.10/multiprocessing/queues.py\", line 366, in get\n",
      "    res = self._reader.recv_bytes()\n",
      "  File \"/Users/evancarr/opt/anaconda3/envs/pythonProject1/lib/python3.10/multiprocessing/connection.py\", line 221, in recv_bytes\n",
      "    buf = self._recv_bytes(maxlength)\n",
      "  File \"/Users/evancarr/opt/anaconda3/envs/pythonProject1/lib/python3.10/multiprocessing/connection.py\", line 419, in _recv_bytes\n",
      "    buf = self._recv(4)\n",
      "  File \"/Users/evancarr/opt/anaconda3/envs/pythonProject1/lib/python3.10/multiprocessing/connection.py\", line 384, in _recv\n",
      "    chunk = read(handle, remaining)\n",
      "KeyboardInterrupt\n",
      "Process SpawnPoolWorker-61:\n",
      "  File \"/Users/evancarr/opt/anaconda3/envs/pythonProject1/lib/python3.10/multiprocessing/process.py\", line 315, in _bootstrap\n",
      "    self.run()\n",
      "  File \"/Users/evancarr/opt/anaconda3/envs/pythonProject1/lib/python3.10/multiprocessing/process.py\", line 108, in run\n",
      "    self._target(*self._args, **self._kwargs)\n",
      "  File \"/Users/evancarr/opt/anaconda3/envs/pythonProject1/lib/python3.10/multiprocessing/pool.py\", line 114, in worker\n",
      "    task = get()\n",
      "  File \"/Users/evancarr/opt/anaconda3/envs/pythonProject1/lib/python3.10/multiprocessing/queues.py\", line 365, in get\n",
      "    with self._rlock:\n",
      "  File \"/Users/evancarr/opt/anaconda3/envs/pythonProject1/lib/python3.10/multiprocessing/synchronize.py\", line 95, in __enter__\n",
      "    return self._semlock.__enter__()\n",
      "KeyboardInterrupt\n",
      "Process SpawnPoolWorker-67:\n",
      "Process SpawnPoolWorker-60:\n",
      "Traceback (most recent call last):\n",
      "  File \"/Users/evancarr/opt/anaconda3/envs/pythonProject1/lib/python3.10/multiprocessing/process.py\", line 315, in _bootstrap\n",
      "    self.run()\n",
      "  File \"/Users/evancarr/opt/anaconda3/envs/pythonProject1/lib/python3.10/multiprocessing/process.py\", line 108, in run\n",
      "    self._target(*self._args, **self._kwargs)\n",
      "  File \"/Users/evancarr/opt/anaconda3/envs/pythonProject1/lib/python3.10/multiprocessing/pool.py\", line 114, in worker\n",
      "    task = get()\n",
      "  File \"/Users/evancarr/opt/anaconda3/envs/pythonProject1/lib/python3.10/multiprocessing/queues.py\", line 365, in get\n",
      "    with self._rlock:\n",
      "  File \"/Users/evancarr/opt/anaconda3/envs/pythonProject1/lib/python3.10/multiprocessing/synchronize.py\", line 95, in __enter__\n",
      "    return self._semlock.__enter__()\n",
      "KeyboardInterrupt\n",
      "Process SpawnPoolWorker-62:\n",
      "Traceback (most recent call last):\n",
      "  File \"/Users/evancarr/opt/anaconda3/envs/pythonProject1/lib/python3.10/multiprocessing/process.py\", line 315, in _bootstrap\n",
      "    self.run()\n",
      "  File \"/Users/evancarr/opt/anaconda3/envs/pythonProject1/lib/python3.10/multiprocessing/process.py\", line 108, in run\n",
      "    self._target(*self._args, **self._kwargs)\n",
      "  File \"/Users/evancarr/opt/anaconda3/envs/pythonProject1/lib/python3.10/multiprocessing/pool.py\", line 114, in worker\n",
      "    task = get()\n",
      "  File \"/Users/evancarr/opt/anaconda3/envs/pythonProject1/lib/python3.10/multiprocessing/queues.py\", line 365, in get\n",
      "    with self._rlock:\n",
      "  File \"/Users/evancarr/opt/anaconda3/envs/pythonProject1/lib/python3.10/multiprocessing/synchronize.py\", line 95, in __enter__\n",
      "    return self._semlock.__enter__()\n",
      "KeyboardInterrupt\n",
      "Process SpawnPoolWorker-65:\n",
      "Traceback (most recent call last):\n",
      "  File \"/Users/evancarr/opt/anaconda3/envs/pythonProject1/lib/python3.10/multiprocessing/process.py\", line 315, in _bootstrap\n",
      "    self.run()\n",
      "  File \"/Users/evancarr/opt/anaconda3/envs/pythonProject1/lib/python3.10/multiprocessing/process.py\", line 108, in run\n",
      "    self._target(*self._args, **self._kwargs)\n",
      "  File \"/Users/evancarr/opt/anaconda3/envs/pythonProject1/lib/python3.10/multiprocessing/pool.py\", line 114, in worker\n",
      "    task = get()\n",
      "  File \"/Users/evancarr/opt/anaconda3/envs/pythonProject1/lib/python3.10/multiprocessing/queues.py\", line 365, in get\n",
      "    with self._rlock:\n",
      "  File \"/Users/evancarr/opt/anaconda3/envs/pythonProject1/lib/python3.10/multiprocessing/synchronize.py\", line 95, in __enter__\n",
      "    return self._semlock.__enter__()\n",
      "KeyboardInterrupt\n",
      "Traceback (most recent call last):\n",
      "Traceback (most recent call last):\n",
      "  File \"/Users/evancarr/opt/anaconda3/envs/pythonProject1/lib/python3.10/multiprocessing/process.py\", line 315, in _bootstrap\n",
      "    self.run()\n",
      "  File \"/Users/evancarr/opt/anaconda3/envs/pythonProject1/lib/python3.10/multiprocessing/process.py\", line 108, in run\n",
      "    self._target(*self._args, **self._kwargs)\n",
      "  File \"/Users/evancarr/opt/anaconda3/envs/pythonProject1/lib/python3.10/multiprocessing/pool.py\", line 114, in worker\n",
      "    task = get()\n",
      "  File \"/Users/evancarr/opt/anaconda3/envs/pythonProject1/lib/python3.10/multiprocessing/queues.py\", line 365, in get\n",
      "    with self._rlock:\n",
      "  File \"/Users/evancarr/opt/anaconda3/envs/pythonProject1/lib/python3.10/multiprocessing/synchronize.py\", line 95, in __enter__\n",
      "    return self._semlock.__enter__()\n",
      "KeyboardInterrupt\n",
      "  File \"/Users/evancarr/opt/anaconda3/envs/pythonProject1/lib/python3.10/multiprocessing/process.py\", line 315, in _bootstrap\n",
      "    self.run()\n",
      "  File \"/Users/evancarr/opt/anaconda3/envs/pythonProject1/lib/python3.10/multiprocessing/process.py\", line 108, in run\n",
      "    self._target(*self._args, **self._kwargs)\n",
      "  File \"/Users/evancarr/opt/anaconda3/envs/pythonProject1/lib/python3.10/multiprocessing/pool.py\", line 114, in worker\n",
      "    task = get()\n",
      "  File \"/Users/evancarr/opt/anaconda3/envs/pythonProject1/lib/python3.10/multiprocessing/queues.py\", line 365, in get\n",
      "    with self._rlock:\n",
      "  File \"/Users/evancarr/opt/anaconda3/envs/pythonProject1/lib/python3.10/multiprocessing/synchronize.py\", line 95, in __enter__\n",
      "    return self._semlock.__enter__()\n",
      "KeyboardInterrupt\n",
      "Process SpawnPoolWorker-64:\n",
      "Traceback (most recent call last):\n",
      "  File \"/Users/evancarr/opt/anaconda3/envs/pythonProject1/lib/python3.10/multiprocessing/process.py\", line 315, in _bootstrap\n",
      "    self.run()\n",
      "  File \"/Users/evancarr/opt/anaconda3/envs/pythonProject1/lib/python3.10/multiprocessing/process.py\", line 108, in run\n",
      "    self._target(*self._args, **self._kwargs)\n",
      "  File \"/Users/evancarr/opt/anaconda3/envs/pythonProject1/lib/python3.10/multiprocessing/pool.py\", line 114, in worker\n",
      "    task = get()\n",
      "  File \"/Users/evancarr/opt/anaconda3/envs/pythonProject1/lib/python3.10/multiprocessing/queues.py\", line 365, in get\n",
      "    with self._rlock:\n",
      "  File \"/Users/evancarr/opt/anaconda3/envs/pythonProject1/lib/python3.10/multiprocessing/synchronize.py\", line 95, in __enter__\n",
      "    return self._semlock.__enter__()\n",
      "KeyboardInterrupt\n",
      "Traceback (most recent call last):\n",
      "  File \"/Users/evancarr/opt/anaconda3/envs/pythonProject1/lib/python3.10/multiprocessing/process.py\", line 315, in _bootstrap\n",
      "    self.run()\n",
      "  File \"/Users/evancarr/opt/anaconda3/envs/pythonProject1/lib/python3.10/multiprocessing/process.py\", line 108, in run\n",
      "    self._target(*self._args, **self._kwargs)\n",
      "  File \"/Users/evancarr/opt/anaconda3/envs/pythonProject1/lib/python3.10/multiprocessing/pool.py\", line 114, in worker\n",
      "    task = get()\n",
      "  File \"/Users/evancarr/opt/anaconda3/envs/pythonProject1/lib/python3.10/multiprocessing/queues.py\", line 366, in get\n",
      "    res = self._reader.recv_bytes()\n",
      "  File \"/Users/evancarr/opt/anaconda3/envs/pythonProject1/lib/python3.10/multiprocessing/connection.py\", line 221, in recv_bytes\n",
      "    buf = self._recv_bytes(maxlength)\n",
      "  File \"/Users/evancarr/opt/anaconda3/envs/pythonProject1/lib/python3.10/multiprocessing/connection.py\", line 419, in _recv_bytes\n",
      "    buf = self._recv(4)\n",
      "  File \"/Users/evancarr/opt/anaconda3/envs/pythonProject1/lib/python3.10/multiprocessing/connection.py\", line 384, in _recv\n",
      "    chunk = read(handle, remaining)\n",
      "KeyboardInterrupt\n",
      "Traceback (most recent call last):\n",
      "  File \"/Users/evancarr/opt/anaconda3/envs/pythonProject1/lib/python3.10/multiprocessing/process.py\", line 315, in _bootstrap\n",
      "    self.run()\n",
      "  File \"/Users/evancarr/opt/anaconda3/envs/pythonProject1/lib/python3.10/multiprocessing/process.py\", line 108, in run\n",
      "    self._target(*self._args, **self._kwargs)\n",
      "  File \"/Users/evancarr/opt/anaconda3/envs/pythonProject1/lib/python3.10/multiprocessing/pool.py\", line 114, in worker\n",
      "    task = get()\n",
      "  File \"/Users/evancarr/opt/anaconda3/envs/pythonProject1/lib/python3.10/multiprocessing/queues.py\", line 365, in get\n",
      "    with self._rlock:\n",
      "  File \"/Users/evancarr/opt/anaconda3/envs/pythonProject1/lib/python3.10/multiprocessing/synchronize.py\", line 95, in __enter__\n",
      "    return self._semlock.__enter__()\n",
      "KeyboardInterrupt\n",
      "Traceback (most recent call last):\n",
      "  File \"/Users/evancarr/opt/anaconda3/envs/pythonProject1/lib/python3.10/multiprocessing/process.py\", line 315, in _bootstrap\n",
      "    self.run()\n",
      "  File \"/Users/evancarr/opt/anaconda3/envs/pythonProject1/lib/python3.10/multiprocessing/process.py\", line 108, in run\n",
      "    self._target(*self._args, **self._kwargs)\n",
      "  File \"/Users/evancarr/opt/anaconda3/envs/pythonProject1/lib/python3.10/multiprocessing/pool.py\", line 114, in worker\n",
      "    task = get()\n",
      "  File \"/Users/evancarr/opt/anaconda3/envs/pythonProject1/lib/python3.10/multiprocessing/queues.py\", line 365, in get\n",
      "    with self._rlock:\n",
      "  File \"/Users/evancarr/opt/anaconda3/envs/pythonProject1/lib/python3.10/multiprocessing/synchronize.py\", line 95, in __enter__\n",
      "    return self._semlock.__enter__()\n",
      "KeyboardInterrupt\n",
      "Traceback (most recent call last):\n",
      "  File \"/Users/evancarr/opt/anaconda3/envs/pythonProject1/lib/python3.10/multiprocessing/process.py\", line 315, in _bootstrap\n",
      "    self.run()\n",
      "  File \"/Users/evancarr/opt/anaconda3/envs/pythonProject1/lib/python3.10/multiprocessing/process.py\", line 108, in run\n",
      "    self._target(*self._args, **self._kwargs)\n",
      "  File \"/Users/evancarr/opt/anaconda3/envs/pythonProject1/lib/python3.10/multiprocessing/pool.py\", line 114, in worker\n",
      "    task = get()\n",
      "  File \"/Users/evancarr/opt/anaconda3/envs/pythonProject1/lib/python3.10/multiprocessing/queues.py\", line 365, in get\n",
      "    with self._rlock:\n",
      "  File \"/Users/evancarr/opt/anaconda3/envs/pythonProject1/lib/python3.10/multiprocessing/synchronize.py\", line 95, in __enter__\n",
      "    return self._semlock.__enter__()\n",
      "KeyboardInterrupt\n"
     ]
    },
    {
     "ename": "KeyboardInterrupt",
     "evalue": "",
     "output_type": "error",
     "traceback": [
      "\u001B[0;31m---------------------------------------------------------------------------\u001B[0m",
      "\u001B[0;31mKeyboardInterrupt\u001B[0m                         Traceback (most recent call last)",
      "Cell \u001B[0;32mIn [83], line 11\u001B[0m\n\u001B[1;32m      6\u001B[0m pool \u001B[38;5;241m=\u001B[39m Pool()\n\u001B[1;32m      8\u001B[0m \u001B[38;5;66;03m# This will split the iterable into equal sections\u001B[39;00m\n\u001B[1;32m      9\u001B[0m \u001B[38;5;66;03m# and submit them to the function using different\u001B[39;00m\n\u001B[1;32m     10\u001B[0m \u001B[38;5;66;03m# processes, allocating the pools, running in parallel.\u001B[39;00m\n\u001B[0;32m---> 11\u001B[0m result \u001B[38;5;241m=\u001B[39m \u001B[43mpool\u001B[49m\u001B[38;5;241;43m.\u001B[39;49m\u001B[43mmap\u001B[49m\u001B[43m(\u001B[49m\u001B[43mcube\u001B[49m\u001B[43m,\u001B[49m\u001B[43m \u001B[49m\u001B[43mnumbers\u001B[49m\u001B[43m)\u001B[49m\n\u001B[1;32m     13\u001B[0m pool\u001B[38;5;241m.\u001B[39mclose()\n\u001B[1;32m     14\u001B[0m pool\u001B[38;5;241m.\u001B[39mjoin()\n",
      "File \u001B[0;32m~/opt/anaconda3/envs/pythonProject1/lib/python3.10/multiprocessing/pool.py:364\u001B[0m, in \u001B[0;36mPool.map\u001B[0;34m(self, func, iterable, chunksize)\u001B[0m\n\u001B[1;32m    359\u001B[0m \u001B[38;5;28;01mdef\u001B[39;00m \u001B[38;5;21mmap\u001B[39m(\u001B[38;5;28mself\u001B[39m, func, iterable, chunksize\u001B[38;5;241m=\u001B[39m\u001B[38;5;28;01mNone\u001B[39;00m):\n\u001B[1;32m    360\u001B[0m     \u001B[38;5;124;03m'''\u001B[39;00m\n\u001B[1;32m    361\u001B[0m \u001B[38;5;124;03m    Apply `func` to each element in `iterable`, collecting the results\u001B[39;00m\n\u001B[1;32m    362\u001B[0m \u001B[38;5;124;03m    in a list that is returned.\u001B[39;00m\n\u001B[1;32m    363\u001B[0m \u001B[38;5;124;03m    '''\u001B[39;00m\n\u001B[0;32m--> 364\u001B[0m     \u001B[38;5;28;01mreturn\u001B[39;00m \u001B[38;5;28;43mself\u001B[39;49m\u001B[38;5;241;43m.\u001B[39;49m\u001B[43m_map_async\u001B[49m\u001B[43m(\u001B[49m\u001B[43mfunc\u001B[49m\u001B[43m,\u001B[49m\u001B[43m \u001B[49m\u001B[43miterable\u001B[49m\u001B[43m,\u001B[49m\u001B[43m \u001B[49m\u001B[43mmapstar\u001B[49m\u001B[43m,\u001B[49m\u001B[43m \u001B[49m\u001B[43mchunksize\u001B[49m\u001B[43m)\u001B[49m\u001B[38;5;241;43m.\u001B[39;49m\u001B[43mget\u001B[49m\u001B[43m(\u001B[49m\u001B[43m)\u001B[49m\n",
      "File \u001B[0;32m~/opt/anaconda3/envs/pythonProject1/lib/python3.10/multiprocessing/pool.py:765\u001B[0m, in \u001B[0;36mApplyResult.get\u001B[0;34m(self, timeout)\u001B[0m\n\u001B[1;32m    764\u001B[0m \u001B[38;5;28;01mdef\u001B[39;00m \u001B[38;5;21mget\u001B[39m(\u001B[38;5;28mself\u001B[39m, timeout\u001B[38;5;241m=\u001B[39m\u001B[38;5;28;01mNone\u001B[39;00m):\n\u001B[0;32m--> 765\u001B[0m     \u001B[38;5;28;43mself\u001B[39;49m\u001B[38;5;241;43m.\u001B[39;49m\u001B[43mwait\u001B[49m\u001B[43m(\u001B[49m\u001B[43mtimeout\u001B[49m\u001B[43m)\u001B[49m\n\u001B[1;32m    766\u001B[0m     \u001B[38;5;28;01mif\u001B[39;00m \u001B[38;5;129;01mnot\u001B[39;00m \u001B[38;5;28mself\u001B[39m\u001B[38;5;241m.\u001B[39mready():\n\u001B[1;32m    767\u001B[0m         \u001B[38;5;28;01mraise\u001B[39;00m \u001B[38;5;167;01mTimeoutError\u001B[39;00m\n",
      "File \u001B[0;32m~/opt/anaconda3/envs/pythonProject1/lib/python3.10/multiprocessing/pool.py:762\u001B[0m, in \u001B[0;36mApplyResult.wait\u001B[0;34m(self, timeout)\u001B[0m\n\u001B[1;32m    761\u001B[0m \u001B[38;5;28;01mdef\u001B[39;00m \u001B[38;5;21mwait\u001B[39m(\u001B[38;5;28mself\u001B[39m, timeout\u001B[38;5;241m=\u001B[39m\u001B[38;5;28;01mNone\u001B[39;00m):\n\u001B[0;32m--> 762\u001B[0m     \u001B[38;5;28;43mself\u001B[39;49m\u001B[38;5;241;43m.\u001B[39;49m\u001B[43m_event\u001B[49m\u001B[38;5;241;43m.\u001B[39;49m\u001B[43mwait\u001B[49m\u001B[43m(\u001B[49m\u001B[43mtimeout\u001B[49m\u001B[43m)\u001B[49m\n",
      "File \u001B[0;32m~/opt/anaconda3/envs/pythonProject1/lib/python3.10/threading.py:600\u001B[0m, in \u001B[0;36mEvent.wait\u001B[0;34m(self, timeout)\u001B[0m\n\u001B[1;32m    598\u001B[0m signaled \u001B[38;5;241m=\u001B[39m \u001B[38;5;28mself\u001B[39m\u001B[38;5;241m.\u001B[39m_flag\n\u001B[1;32m    599\u001B[0m \u001B[38;5;28;01mif\u001B[39;00m \u001B[38;5;129;01mnot\u001B[39;00m signaled:\n\u001B[0;32m--> 600\u001B[0m     signaled \u001B[38;5;241m=\u001B[39m \u001B[38;5;28;43mself\u001B[39;49m\u001B[38;5;241;43m.\u001B[39;49m\u001B[43m_cond\u001B[49m\u001B[38;5;241;43m.\u001B[39;49m\u001B[43mwait\u001B[49m\u001B[43m(\u001B[49m\u001B[43mtimeout\u001B[49m\u001B[43m)\u001B[49m\n\u001B[1;32m    601\u001B[0m \u001B[38;5;28;01mreturn\u001B[39;00m signaled\n",
      "File \u001B[0;32m~/opt/anaconda3/envs/pythonProject1/lib/python3.10/threading.py:320\u001B[0m, in \u001B[0;36mCondition.wait\u001B[0;34m(self, timeout)\u001B[0m\n\u001B[1;32m    318\u001B[0m \u001B[38;5;28;01mtry\u001B[39;00m:    \u001B[38;5;66;03m# restore state no matter what (e.g., KeyboardInterrupt)\u001B[39;00m\n\u001B[1;32m    319\u001B[0m     \u001B[38;5;28;01mif\u001B[39;00m timeout \u001B[38;5;129;01mis\u001B[39;00m \u001B[38;5;28;01mNone\u001B[39;00m:\n\u001B[0;32m--> 320\u001B[0m         \u001B[43mwaiter\u001B[49m\u001B[38;5;241;43m.\u001B[39;49m\u001B[43macquire\u001B[49m\u001B[43m(\u001B[49m\u001B[43m)\u001B[49m\n\u001B[1;32m    321\u001B[0m         gotit \u001B[38;5;241m=\u001B[39m \u001B[38;5;28;01mTrue\u001B[39;00m\n\u001B[1;32m    322\u001B[0m     \u001B[38;5;28;01melse\u001B[39;00m:\n",
      "\u001B[0;31mKeyboardInterrupt\u001B[0m: "
     ]
    }
   ],
   "source": [
    "def cube(number):\n",
    "    return (number * number * number)\n",
    "\n",
    "if __name__ == '__main__':\n",
    "    numbers = range(0, 10)\n",
    "    pool = Pool()\n",
    "\n",
    "    # This will split the iterable into equal sections\n",
    "    # and submit them to the function using different\n",
    "    # processes, allocating the pools, running in parallel.\n",
    "    result = pool.map(cube, numbers)\n",
    "    # This will execute a process with this function and\n",
    "    # and the one number argument\n",
    "    pool.apply(cube, numbers[0])\n",
    "    pool.close()\n",
    "    pool.join()\n",
    "\n",
    "    print(result)\n",
    "\n"
   ],
   "metadata": {
    "collapsed": false,
    "pycharm": {
     "name": "#%%\n"
    }
   }
  },
  {
   "cell_type": "code",
   "execution_count": null,
   "outputs": [],
   "source": [],
   "metadata": {
    "collapsed": false,
    "pycharm": {
     "name": "#%%\n"
    }
   }
  },
  {
   "cell_type": "code",
   "execution_count": null,
   "outputs": [],
   "source": [],
   "metadata": {
    "collapsed": false,
    "pycharm": {
     "name": "#%%\n"
    }
   }
  },
  {
   "cell_type": "markdown",
   "source": [
    "### MULTI-THREADING:"
   ],
   "metadata": {
    "collapsed": false,
    "pycharm": {
     "name": "#%% md\n"
    }
   }
  },
  {
   "cell_type": "code",
   "execution_count": null,
   "outputs": [],
   "source": [
    "from threading import Thread"
   ],
   "metadata": {
    "collapsed": false,
    "pycharm": {
     "name": "#%%\n"
    }
   }
  },
  {
   "cell_type": "code",
   "execution_count": null,
   "outputs": [],
   "source": [
    "def square_numbers():\n",
    "    for i in range(100):\n",
    "        i*i\n",
    "if __name__ == '__main__':\n",
    "    threads = []\n",
    "    number_of_thread = 10\n",
    "\n",
    "    for i in range(number_of_thread):\n",
    "        t = Thread(target=square_numbers())\n",
    "        threads.append(t)\n",
    "\n",
    "    for t in threads:\n",
    "        t.start()\n",
    "\n",
    "    # Wait and block main thread until complete\n",
    "    for t in threads:\n",
    "        t.join()\n",
    "\n",
    "    print('end main')"
   ],
   "metadata": {
    "collapsed": false,
    "pycharm": {
     "name": "#%%\n"
    }
   }
  },
  {
   "cell_type": "markdown",
   "source": [
    "### THREADING:"
   ],
   "metadata": {
    "collapsed": false,
    "pycharm": {
     "name": "#%% md\n"
    }
   }
  },
  {
   "cell_type": "code",
   "execution_count": null,
   "outputs": [],
   "source": [
    "from threading import Lock\n",
    "\n",
    "# Sharing data between threads\n",
    "database_value = 0\n",
    "\n",
    "def increase(Lock):\n",
    "    # Allows for sharing information between threads\n",
    "    global database_value\n",
    "\n",
    "    with Lock: # This acquires and releases the lock automatically\n",
    "        # every time you require a lock, it must be release\n",
    "        local_copy = database_value\n",
    "        # gets the database value and stores in local\n",
    "        # modify the local copy\n",
    "        # processing\n",
    "        local_copy += 1\n",
    "        time.sleep(0.1)\n",
    "        database_value = local_copy\n",
    "\n",
    "\n",
    "\n",
    "\n",
    "if __name__ == \"__main__\":\n",
    "    # This lock will prevent multiple threads accessing code\n",
    "    # at the same time\n",
    "    lock = Lock()\n",
    "\n",
    "    print('start value: ', database_value)\n",
    "\n",
    "    thread1 = Thread(target=increase, args=(lock,))\n",
    "    thread2 = Thread(target=increase, args=(lock,))\n",
    "\n",
    "    thread1.start()\n",
    "    thread2.start()\n",
    "\n",
    "    thread1.join()\n",
    "    thread2.join()\n",
    "\n",
    "    print('end value: ', database_value)\n",
    "\n"
   ],
   "metadata": {
    "collapsed": false,
    "pycharm": {
     "name": "#%%\n"
    }
   }
  },
  {
   "cell_type": "markdown",
   "source": [
    "### Queues in threading:\n",
    "great for process-safe and thread-safe communication and data exchanges between threads and data processing in multiple threads and multi-processing environments.\n",
    "\n",
    "Queues are thread-safe and process-safe, meaning that multiple threads or processes can share the same queue and access it simultaneously without corrupting the data.\n",
    "\n",
    "A queue is a linear structure that stores items in a First-In-First-Out (FIFO) manner. A good example of a queue is any queue of consumers for a resource where the consumer that came first is served first.\n",
    "\n",
    "#### Queue functions include:\n",
    "1. .get() = get an item from the queue\n",
    "2. .put() = put an item into the queue\n",
    "3. .task_done() = indicate that a formerly enqueued task is complete\n",
    "4. .join() = block until all items in the queue have been gotten and processed\n",
    "5. enqueue() = add an item to the queue\n",
    "6. dequeue() = remove an item from the queue\n",
    "7. is_empty() = check if the queue is empty\n",
    "8. is_full() = check if the queue is full\n",
    "9. size() = return the size of the queue\n"
   ],
   "metadata": {
    "collapsed": false,
    "pycharm": {
     "name": "#%% md\n"
    }
   }
  },
  {
   "cell_type": "code",
   "execution_count": null,
   "outputs": [],
   "source": [
    "from queue import Queue\n",
    "\n",
    "if __name__ == \"__main__\":\n",
    "    q = Queue()\n",
    "    q.put(1)\n",
    "    q.put(2)\n",
    "    q.put(3)\n",
    "    # 1 enters the queue, then 2 then 3.\n",
    "\n",
    "    # this will get and remove the first item\n",
    "    first = q.get()\n",
    "    print(first)\n",
    "\n",
    "    # When finished processing, always call q.task_done\n",
    "    q.task_done()\n",
    "    q.join()\n",
    "\n",
    "    print(\"end main\")"
   ],
   "metadata": {
    "collapsed": false,
    "pycharm": {
     "name": "#%%\n"
    }
   }
  },
  {
   "cell_type": "code",
   "execution_count": null,
   "outputs": [],
   "source": [
    "from threading import current_thread"
   ],
   "metadata": {
    "collapsed": false,
    "pycharm": {
     "name": "#%%\n"
    }
   }
  },
  {
   "cell_type": "code",
   "execution_count": null,
   "outputs": [],
   "source": [
    "def worker(queue, lock):\n",
    "    while True:\n",
    "        value04 = queue.get()\n",
    "        # processing\n",
    "        with lock:\n",
    "            print(f\"In {current_thread().name} and got {value04}\")\n",
    "        queue.task_done()\n",
    "        # signal we are done\n",
    "\n",
    "if __name__ == \"__main__\":\n",
    "    queue01 = Queue()\n",
    "    lock01 = Lock()\n",
    "    number_threads = 10\n",
    "\n",
    "    for i in range(number_threads):\n",
    "        thread03 = Thread(target=worker, args=(queue01, lock01))\n",
    "        # daemon = background thread that will die when main\n",
    "        # thread dies\n",
    "        thread03.daemon=True\n",
    "        thread03.start()\n",
    "\n",
    "    for i in range(1, 21):\n",
    "        queue01.put(i)\n",
    "\n",
    "    queue01.join()\n",
    "\n",
    "    print('end main')\n"
   ],
   "metadata": {
    "collapsed": false,
    "pycharm": {
     "name": "#%%\n"
    }
   }
  },
  {
   "cell_type": "code",
   "execution_count": null,
   "outputs": [],
   "source": [],
   "metadata": {
    "collapsed": false,
    "pycharm": {
     "name": "#%%\n"
    }
   }
  }
 ],
 "metadata": {
  "kernelspec": {
   "display_name": "Python 3",
   "language": "python",
   "name": "python3"
  },
  "language_info": {
   "codemirror_mode": {
    "name": "ipython",
    "version": 2
   },
   "file_extension": ".py",
   "mimetype": "text/x-python",
   "name": "python",
   "nbconvert_exporter": "python",
   "pygments_lexer": "ipython2",
   "version": "2.7.6"
  }
 },
 "nbformat": 4,
 "nbformat_minor": 0
}