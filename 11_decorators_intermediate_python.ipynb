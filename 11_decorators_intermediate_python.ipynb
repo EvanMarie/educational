{
 "cells": [
  {
   "cell_type": "markdown",
   "source": [
    "# Intermediate Python\n",
    "### Patrick Loeber, python-engineer.com\n",
    "### https://www.youtube.com/watch?v=HGOBQPFzWKo\n",
    "(3:14:20)\n",
    "September 17, 2022"
   ],
   "metadata": {
    "collapsed": false,
    "pycharm": {
     "name": "#%% md\n"
    }
   }
  },
  {
   "cell_type": "markdown",
   "source": [
    "## DECORATOR FUNCTIONS:\n",
    "a function that takes another function as an argument and extends the behavior of the function without explicitly modifying it. It allows you to add new functionality to an already existing function.\n",
    "\n",
    "Two kinds: function and class\n",
    "\n",
    "Functions are first class objects, meaning they can be defined inside another function, passed as an argument to another function, or returned from another function.\n"
   ],
   "metadata": {
    "collapsed": false,
    "pycharm": {
     "name": "#%% md\n"
    }
   }
  },
  {
   "cell_type": "code",
   "execution_count": 16,
   "outputs": [
    {
     "ename": "NameError",
     "evalue": "name 'my_decorator' is not defined",
     "output_type": "error",
     "traceback": [
      "\u001B[0;31m---------------------------------------------------------------------------\u001B[0m",
      "\u001B[0;31mNameError\u001B[0m                                 Traceback (most recent call last)",
      "Cell \u001B[0;32mIn [16], line 3\u001B[0m\n\u001B[1;32m      1\u001B[0m \u001B[38;5;66;03m# The way decorators look:\u001B[39;00m\n\u001B[0;32m----> 3\u001B[0m \u001B[38;5;129m@my_decorator\u001B[39m\n\u001B[1;32m      4\u001B[0m \u001B[38;5;28;01mdef\u001B[39;00m \u001B[38;5;21mdo_something\u001B[39m():\n\u001B[1;32m      5\u001B[0m     \u001B[38;5;28;01mpass\u001B[39;00m\n",
      "\u001B[0;31mNameError\u001B[0m: name 'my_decorator' is not defined"
     ]
    }
   ],
   "source": [
    "# The way decorators look:\n",
    "\n",
    "@my_decorator\n",
    "def do_something():\n",
    "    pass"
   ],
   "metadata": {
    "collapsed": false,
    "pycharm": {
     "name": "#%%\n"
    }
   }
  },
  {
   "cell_type": "code",
   "execution_count": 17,
   "outputs": [],
   "source": [
    "# Writing a decorator function:\n",
    "\n",
    "def start_end_decorator(function):\n",
    "    # Wraps the function and defines the extension of it\n",
    "    def wrapper():\n",
    "        print('Start')\n",
    "        function()   # call it as it was passed, not function name\n",
    "        print('End')\n",
    "    return wrapper\n",
    "\n",
    "def print_name():\n",
    "    print('Alex')"
   ],
   "metadata": {
    "collapsed": false,
    "pycharm": {
     "name": "#%%\n"
    }
   }
  },
  {
   "cell_type": "code",
   "execution_count": 18,
   "outputs": [
    {
     "name": "stdout",
     "output_type": "stream",
     "text": [
      "Alex\n"
     ]
    }
   ],
   "source": [
    "print_name()"
   ],
   "metadata": {
    "collapsed": false,
    "pycharm": {
     "name": "#%%\n"
    }
   }
  },
  {
   "cell_type": "code",
   "execution_count": 19,
   "outputs": [
    {
     "name": "stdout",
     "output_type": "stream",
     "text": [
      "Start\n",
      "Alex\n",
      "End\n"
     ]
    }
   ],
   "source": [
    "print_name = start_end_decorator(print_name)\n",
    "\n",
    "print_name()"
   ],
   "metadata": {
    "collapsed": false,
    "pycharm": {
     "name": "#%%\n"
    }
   }
  },
  {
   "cell_type": "code",
   "execution_count": 23,
   "outputs": [],
   "source": [
    "# Now we can use the decorator with the @ symbol with\n",
    "# another function\n",
    "\n",
    "@start_end_decorator\n",
    "def print_evan():\n",
    "    print(\"Evan Marie is AWESOME!\")"
   ],
   "metadata": {
    "collapsed": false,
    "pycharm": {
     "name": "#%%\n"
    }
   }
  },
  {
   "cell_type": "code",
   "execution_count": 25,
   "outputs": [
    {
     "name": "stdout",
     "output_type": "stream",
     "text": [
      "Start\n",
      "Evan Marie is AWESOME!\n",
      "End\n"
     ]
    }
   ],
   "source": [
    "print_evan()"
   ],
   "metadata": {
    "collapsed": false,
    "pycharm": {
     "name": "#%%\n"
    }
   }
  },
  {
   "cell_type": "markdown",
   "source": [
    "### Decorators with funcitons that take arguments:\n",
    "Because the wrapper function from start_end_decorator takes no arguments, it cannot be used on a function that does take arguments. But it can be rewritten as follows.\n",
    "\n",
    "We also want to be able to return results from functions we use the decorator on. So we have to create a variable to hold the result of a function and then return that result within the wrapper section of the decorator, otherwise any function we use the decorator on will return None."
   ],
   "metadata": {
    "collapsed": false,
    "pycharm": {
     "name": "#%% md\n"
    }
   }
  },
  {
   "cell_type": "code",
   "execution_count": 38,
   "outputs": [],
   "source": [
    "def start_end_decorator(function):\n",
    "    # Wraps the function and defines the extension of it\n",
    "    def wrapper(*args, **kwargs):\n",
    "        print('Start')\n",
    "        result = function(*args, **kwargs)\n",
    "        print('End')\n",
    "        return result\n",
    "    return wrapper"
   ],
   "metadata": {
    "collapsed": false,
    "pycharm": {
     "name": "#%%\n"
    }
   }
  },
  {
   "cell_type": "code",
   "execution_count": 39,
   "outputs": [],
   "source": [
    "@start_end_decorator\n",
    "def add5(x):\n",
    "    return x+5"
   ],
   "metadata": {
    "collapsed": false,
    "pycharm": {
     "name": "#%%\n"
    }
   }
  },
  {
   "cell_type": "code",
   "execution_count": 41,
   "outputs": [
    {
     "name": "stdout",
     "output_type": "stream",
     "text": [
      "Start\n",
      "End\n",
      "15\n"
     ]
    }
   ],
   "source": [
    " print(add5(10))"
   ],
   "metadata": {
    "collapsed": false,
    "pycharm": {
     "name": "#%%\n"
    }
   }
  },
  {
   "cell_type": "markdown",
   "source": [
    "###  IDENTITY of the FUNCTION:\n",
    "This has still not been taken care of. As you see below, Python is confused between the inner wrapper function and the add5() function we used the decorator on. So we will fix that by importing functools and using a decorator that preserves the identity of our function."
   ],
   "metadata": {
    "collapsed": false,
    "pycharm": {
     "name": "#%% md\n"
    }
   }
  },
  {
   "cell_type": "code",
   "execution_count": 43,
   "outputs": [
    {
     "name": "stdout",
     "output_type": "stream",
     "text": [
      "Help on function wrapper in module __main__:\n",
      "\n",
      "wrapper(*args, **kwargs)\n",
      "    # Wraps the function and defines the extension of it\n",
      "\n",
      "None\n",
      "wrapper\n"
     ]
    }
   ],
   "source": [
    "print(help(add5))\n",
    "print(add5.__name__)"
   ],
   "metadata": {
    "collapsed": false,
    "pycharm": {
     "name": "#%%\n"
    }
   }
  },
  {
   "cell_type": "code",
   "execution_count": 47,
   "outputs": [],
   "source": [
    "import functools"
   ],
   "metadata": {
    "collapsed": false,
    "pycharm": {
     "name": "#%%\n"
    }
   }
  },
  {
   "cell_type": "code",
   "execution_count": 53,
   "outputs": [],
   "source": [
    "def start_end_decorator(function):\n",
    "    # This decorator within our decorator preserves\n",
    "    # the function name of the function fed to it\n",
    "    @functools.wraps(function)\n",
    "    def wrapper(*args, **kwargs):\n",
    "        print('Start')\n",
    "        result = function(*args, **kwargs)\n",
    "        print('End')\n",
    "        return result\n",
    "    return wrapper"
   ],
   "metadata": {
    "collapsed": false,
    "pycharm": {
     "name": "#%%\n"
    }
   }
  },
  {
   "cell_type": "code",
   "execution_count": 50,
   "outputs": [
    {
     "name": "stdout",
     "output_type": "stream",
     "text": [
      "Help on function add10 in module __main__:\n",
      "\n",
      "add10(x)\n",
      "\n",
      "None\n",
      "wrapper\n"
     ]
    }
   ],
   "source": [
    "@start_end_decorator\n",
    "def add10(x):\n",
    "    return x+5\n",
    "\n",
    "print(help(add10))\n",
    "print(add5.__name__)"
   ],
   "metadata": {
    "collapsed": false,
    "pycharm": {
     "name": "#%%\n"
    }
   }
  },
  {
   "cell_type": "markdown",
   "source": [
    "## This code below is now a template that can be used for any function decorator I want to write"
   ],
   "metadata": {
    "collapsed": false,
    "pycharm": {
     "name": "#%% md\n"
    }
   }
  },
  {
   "cell_type": "code",
   "execution_count": 52,
   "outputs": [],
   "source": [
    "# DECORATOR TEMPLATE:\n",
    "\n",
    "def my_decorator(function):\n",
    "    @functools.wraps(function)\n",
    "    def wrapper(*args, **kwargs):\n",
    "        # Put something here to do before the function\n",
    "        result = function(*args, **kwargs)\n",
    "        # Put something here to do after the function\n",
    "        return result\n",
    "    return wrapper"
   ],
   "metadata": {
    "collapsed": false,
    "pycharm": {
     "name": "#%%\n"
    }
   }
  },
  {
   "cell_type": "markdown",
   "source": [
    "### Decorator that takes an argument:"
   ],
   "metadata": {
    "collapsed": false,
    "pycharm": {
     "name": "#%% md\n"
    }
   }
  },
  {
   "cell_type": "code",
   "execution_count": 63,
   "outputs": [],
   "source": [
    "# This one requires an extra level of function/decorator around\n",
    "# the inner parts in order to have the argument num_times\n",
    "\n",
    "def repeat(num_times):\n",
    "    def decorator_repeat(function):\n",
    "        @functools.wraps(function)\n",
    "        def wrapper2(*args, **kwargs):\n",
    "            for _ in range(num_times):\n",
    "                result = function(*args, **kwargs)\n",
    "            return result\n",
    "        return wrapper2\n",
    "    return decorator_repeat\n",
    "\n",
    "@repeat(3)\n",
    "def greet(name):\n",
    "    print(f'Hello, {name}!')"
   ],
   "metadata": {
    "collapsed": false,
    "pycharm": {
     "name": "#%%\n"
    }
   }
  },
  {
   "cell_type": "code",
   "execution_count": 64,
   "outputs": [],
   "source": [
    "@repeat(4)\n",
    "def add12(x):\n",
    "    print(x+12)"
   ],
   "metadata": {
    "collapsed": false,
    "pycharm": {
     "name": "#%%\n"
    }
   }
  },
  {
   "cell_type": "code",
   "execution_count": 65,
   "outputs": [
    {
     "name": "stdout",
     "output_type": "stream",
     "text": [
      "15\n",
      "15\n",
      "15\n",
      "15\n"
     ]
    }
   ],
   "source": [
    "add12(3)"
   ],
   "metadata": {
    "collapsed": false,
    "pycharm": {
     "name": "#%%\n"
    }
   }
  },
  {
   "cell_type": "code",
   "execution_count": 73,
   "outputs": [],
   "source": [
    "# NESTING DECORATORS\n",
    "\n",
    "# Original star_end_decorator\n",
    "def start_end_decorator(function):\n",
    "    @functools.wraps(function)\n",
    "    def wrapper(*args, **kwargs):\n",
    "        print('Start')\n",
    "        result = function(*args, **kwargs)\n",
    "        print('End')\n",
    "        return result\n",
    "    return wrapper\n",
    "\n",
    "# debug decorator that extracts the name and arguments of a function\n",
    "# prints the information of the function, executes, and prints the\n",
    "# information about the return value\n",
    "\n",
    "def debug(function):\n",
    "    @functools.wraps(function)\n",
    "    def wrapper3(*args, **kwargs):\n",
    "        args_repr = [repr(a) for a in args]\n",
    "        kwargs_repr = [f'{k} = {v!r}' for k, v in kwargs.items()]\n",
    "        signature = ','.join(args_repr + kwargs_repr)\n",
    "        print(f\"Calling {function.__name__}({signature})\")\n",
    "        result3 = function(*args, **kwargs)\n",
    "        print(f'{function.__name__!r} returned {result3!r}')\n",
    "        return result3\n",
    "    return wrapper3\n",
    "\n",
    "\n",
    "# Applying more than 1 decorator executes decorators in the\n",
    "# order they are given\n",
    "\n",
    "@debug\n",
    "@start_end_decorator\n",
    "def say_hello(name):\n",
    "    greeting = f'Hello {name}!'\n",
    "    print(greeting)\n",
    "    return greeting\n",
    "\n"
   ],
   "metadata": {
    "collapsed": false,
    "pycharm": {
     "name": "#%%\n"
    }
   }
  },
  {
   "cell_type": "code",
   "execution_count": 74,
   "outputs": [
    {
     "name": "stdout",
     "output_type": "stream",
     "text": [
      "Calling say_hello('Evan')\n",
      "Start\n",
      "Hello Evan!\n",
      "End\n",
      "'say_hello' returned 'Hello Evan!'\n"
     ]
    },
    {
     "data": {
      "text/plain": "'Hello Evan!'"
     },
     "execution_count": 74,
     "metadata": {},
     "output_type": "execute_result"
    }
   ],
   "source": [
    "say_hello('Evan')"
   ],
   "metadata": {
    "collapsed": false,
    "pycharm": {
     "name": "#%%\n"
    }
   }
  },
  {
   "cell_type": "markdown",
   "source": [
    "## -> CLASS DECORATORS:\n",
    "Similar to function decorators, but typically used for the purpose of updating and maintaining a state."
   ],
   "metadata": {
    "collapsed": false,
    "pycharm": {
     "name": "#%% md\n"
    }
   }
  },
  {
   "cell_type": "code",
   "execution_count": 77,
   "outputs": [
    {
     "name": "stdout",
     "output_type": "stream",
     "text": [
      "This is executed 1 times.\n",
      "Hello\n"
     ]
    }
   ],
   "source": [
    "# This decorator will be used to keep track of how many times\n",
    "# the function has been called, thus the updating and maintaining.\n",
    "\n",
    "class CountCalls:\n",
    "    def __init__(self, function):\n",
    "        self.function = function\n",
    "        # Creating a state\n",
    "        self.num_calls = 0\n",
    "\n",
    "    # __call__ is necessary for class decorators, which\n",
    "    # makes objects of the class callable\n",
    "    def __call__(self, *args, **kwargs):\n",
    "        self.num_calls += 1\n",
    "        print(f'This is executed {self.num_calls} times.')\n",
    "        return self.function(*args, **kwargs)\n",
    "\n",
    "\n",
    "@CountCalls\n",
    "def say_hello():\n",
    "    print('Hello')\n",
    "\n",
    "say_hello()"
   ],
   "metadata": {
    "collapsed": false,
    "pycharm": {
     "name": "#%%\n"
    }
   }
  },
  {
   "cell_type": "markdown",
   "source": [
    "### Typical use cases:\n",
    "* debugging to print out info about function and arguments\n",
    "* calculating execution time of a function\n",
    "* check decorator to see if the arguments fulfill requirements and behave accordingly\n",
    "* register functions like plugins\n",
    "* cache return values\n",
    "* add information or update state."
   ],
   "metadata": {
    "collapsed": false,
    "pycharm": {
     "name": "#%% md\n"
    }
   }
  },
  {
   "cell_type": "code",
   "execution_count": null,
   "outputs": [],
   "source": [],
   "metadata": {
    "collapsed": false,
    "pycharm": {
     "name": "#%%\n"
    }
   }
  }
 ],
 "metadata": {
  "kernelspec": {
   "display_name": "Python 3",
   "language": "python",
   "name": "python3"
  },
  "language_info": {
   "codemirror_mode": {
    "name": "ipython",
    "version": 2
   },
   "file_extension": ".py",
   "mimetype": "text/x-python",
   "name": "python",
   "nbconvert_exporter": "python",
   "pygments_lexer": "ipython2",
   "version": "2.7.6"
  }
 },
 "nbformat": 4,
 "nbformat_minor": 0
}