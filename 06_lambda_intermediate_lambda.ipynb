{
 "cells": [
  {
   "cell_type": "markdown",
   "source": [
    "# Intermediate Python\n",
    "### Patrick Loeber, python-engineer.com\n",
    "### https://www.youtube.com/watch?v=HGOBQPFzWKo\n",
    "(1:51:51)\n",
    "September 16, 2022"
   ],
   "metadata": {
    "collapsed": false,
    "pycharm": {
     "name": "#%% md\n"
    }
   }
  },
  {
   "cell_type": "markdown",
   "source": [
    "## LAMBDA FUNCTIONS:\n",
    "Small, one-line, anonymous functions defined without a name with the following configurations:\n",
    "\n",
    "lambda arguments : expression\n",
    "\n",
    "Creates a short function that takes those arguments and evaluates the expression on them, then returns the results. They are often used as one-time functions or as arguments for other functions that take a function as one of their arguments, often used with sorted(), map(), filter(), reduce(), etc."
   ],
   "metadata": {
    "collapsed": false,
    "pycharm": {
     "name": "#%% md\n"
    }
   }
  },
  {
   "cell_type": "code",
   "execution_count": 3,
   "outputs": [],
   "source": [
    "# function that takes 1 argument and adds 10 to it, returning\n",
    "# the result\n",
    "add10 = lambda x: x + 10    # now, add10() is a function\n",
    "\n",
    "print(add10(5))"
   ],
   "metadata": {
    "collapsed": false,
    "pycharm": {
     "name": "#%%\n"
    }
   }
  },
  {
   "cell_type": "code",
   "execution_count": 5,
   "outputs": [],
   "source": [
    "# lambda above is same as:\n",
    "\n",
    "def add_10(x):\n",
    "    return x + 10"
   ],
   "metadata": {
    "collapsed": false,
    "pycharm": {
     "name": "#%%\n"
    }
   }
  },
  {
   "cell_type": "code",
   "execution_count": 8,
   "outputs": [],
   "source": [
    "# With two arguments\n",
    "mult = lambda x, y: x*y"
   ],
   "metadata": {
    "collapsed": false,
    "pycharm": {
     "name": "#%%\n"
    }
   }
  },
  {
   "cell_type": "code",
   "execution_count": 7,
   "outputs": [
    {
     "data": {
      "text/plain": "12"
     },
     "execution_count": 7,
     "metadata": {},
     "output_type": "execute_result"
    }
   ],
   "source": [
    "mult(3, 4)"
   ],
   "metadata": {
    "collapsed": false,
    "pycharm": {
     "name": "#%%\n"
    }
   }
  },
  {
   "cell_type": "markdown",
   "source": [
    "### -> LAMBDA with SORTED():\n",
    "Use a lambda function as the key by which to sort a list, in this case a list of tuples"
   ],
   "metadata": {
    "collapsed": false,
    "pycharm": {
     "name": "#%% md\n"
    }
   }
  },
  {
   "cell_type": "code",
   "execution_count": 14,
   "outputs": [
    {
     "name": "stdout",
     "output_type": "stream",
     "text": [
      "points2d:  [(1, 2), (15, 1), (5, -1), (10, 4)]\n",
      "points2d_sorted:  [(1, 2), (5, -1), (10, 4), (15, 1)]\n"
     ]
    }
   ],
   "source": [
    "# list of tuples with x and y coordinate points\n",
    "\n",
    "points2d = [(1, 2), (15, 1), (5, -1), (10, 4)]\n",
    "points2d_sorted = sorted(points2d)\n",
    "\n",
    "print('points2d: ', points2d)\n",
    "print('points2d_sorted: ', points2d_sorted)\n",
    "\n",
    "# by default, this sorted version of the list will be sorted by x\n",
    "# coordinates, since sorted sorts by the first element by default"
   ],
   "metadata": {
    "collapsed": false,
    "pycharm": {
     "name": "#%%\n"
    }
   }
  },
  {
   "cell_type": "code",
   "execution_count": 23,
   "outputs": [
    {
     "name": "stdout",
     "output_type": "stream",
     "text": [
      "points2d:  [(1, 2), (15, 1), (5, -1), (10, 4)]\n",
      "lambda as key:  [(5, -1), (15, 1), (1, 2), (10, 4)]\n"
     ]
    }
   ],
   "source": [
    "# sorted() also takes an optional key second argument for how to\n",
    "# sort the information.\n",
    "\n",
    "points2d_sorted02 = sorted(points2d, key=lambda x: x[1])\n",
    "print('points2d: ', points2d)\n",
    "print('lambda as key: ', points2d_sorted02)\n",
    "\n",
    "# Now the list is sorted by x[1], aka, the y coordinate"
   ],
   "metadata": {
    "collapsed": false,
    "pycharm": {
     "name": "#%%\n"
    }
   }
  },
  {
   "cell_type": "code",
   "execution_count": 22,
   "outputs": [
    {
     "name": "stdout",
     "output_type": "stream",
     "text": [
      "sort_by_y as key:  [(5, -1), (15, 1), (1, 2), (10, 4)]\n"
     ]
    }
   ],
   "source": [
    "# the same sorting function as an actual function\n",
    "\n",
    "def sort_by_y(tuple):\n",
    "    return tuple[1]\n",
    "\n",
    "print('sort_by_y as key: ',sorted(points2d, key = sort_by_y))"
   ],
   "metadata": {
    "collapsed": false,
    "pycharm": {
     "name": "#%%\n"
    }
   }
  },
  {
   "cell_type": "code",
   "execution_count": 24,
   "outputs": [
    {
     "name": "stdout",
     "output_type": "stream",
     "text": [
      "sorted by sum:  [(1, 2), (5, -1), (10, 4), (15, 1)]\n"
     ]
    }
   ],
   "source": [
    "# Sort by the sum of each tuple:\n",
    "\n",
    "points2d_by_sum = sorted(points2d, key=lambda x: x[0] + x[1])\n",
    "\n",
    "print(\"sorted by sum: \", points2d_by_sum)"
   ],
   "metadata": {
    "collapsed": false,
    "pycharm": {
     "name": "#%%\n"
    }
   }
  },
  {
   "cell_type": "markdown",
   "source": [
    "### -> LAMBDA with MAP()\n",
    "Transforms each element passed to it with a function passed to it\n",
    "\n",
    "map(function, sequence)"
   ],
   "metadata": {
    "collapsed": false,
    "pycharm": {
     "name": "#%% md\n"
    }
   }
  },
  {
   "cell_type": "code",
   "execution_count": 33,
   "outputs": [
    {
     "name": "stdout",
     "output_type": "stream",
     "text": [
      "[2, 4, 6, 8, 10]\n"
     ]
    }
   ],
   "source": [
    "# Using map function with a lambda function to transform list_a\n",
    "# by way of the lambda function, creating list b\n",
    "# Map() returns a map object, so it must be converted to list.\n",
    "\n",
    "list_a = [1, 2, 3, 4, 5]\n",
    "list_b = map(lambda x: x * 2, list_a)\n",
    "\n",
    "print(list(list_b))"
   ],
   "metadata": {
    "collapsed": false,
    "pycharm": {
     "name": "#%%\n"
    }
   }
  },
  {
   "cell_type": "code",
   "execution_count": 34,
   "outputs": [
    {
     "name": "stdout",
     "output_type": "stream",
     "text": [
      "[2, 4, 6, 8, 10]\n"
     ]
    }
   ],
   "source": [
    "# Same idea with a LIST COMPREHENSION (a bit cleaner and easier)\n",
    "c = [x * 2 for x in list_a]\n",
    "print(c)"
   ],
   "metadata": {
    "collapsed": false,
    "pycharm": {
     "name": "#%%\n"
    }
   }
  },
  {
   "cell_type": "markdown",
   "source": [
    "### -> LAMBDA with FILTER()\n",
    "Returns all elements for which the evaluation of the function comes out True.\n",
    "\n",
    "filter(function, sequence)"
   ],
   "metadata": {
    "collapsed": false,
    "pycharm": {
     "name": "#%% md\n"
    }
   }
  },
  {
   "cell_type": "code",
   "execution_count": 35,
   "outputs": [
    {
     "name": "stdout",
     "output_type": "stream",
     "text": [
      "[2, 4, 6, 8]\n"
     ]
    }
   ],
   "source": [
    "# FILTER also returns an object which must be converted to a list\n",
    "\n",
    "list_c = [1, 2, 3, 4, 5, 6, 7, 8]\n",
    "list_d = filter(lambda x: x % 2 == 0, list_c)\n",
    "\n",
    "print(list(list_d))"
   ],
   "metadata": {
    "collapsed": false,
    "pycharm": {
     "name": "#%%\n"
    }
   }
  },
  {
   "cell_type": "code",
   "execution_count": 36,
   "outputs": [
    {
     "name": "stdout",
     "output_type": "stream",
     "text": [
      "[2, 4, 6, 8]\n"
     ]
    }
   ],
   "source": [
    "# This can also be done cleanly with a LIST COMPREHENSION\n",
    "\n",
    "list_e = [x for x in list_c if x % 2 == 0]\n",
    "print(list_e)"
   ],
   "metadata": {
    "collapsed": false,
    "pycharm": {
     "name": "#%%\n"
    }
   }
  },
  {
   "cell_type": "markdown",
   "source": [
    "### -> LAMBDA with REDUCE()\n",
    "Also takes a function and a sequence and repeatedly applies the function to the elements and returns a single value. It multiplies all the numbers in the list together, (list[0] * list[1]) * list[2] etc.\n",
    "\n",
    "reduce(function, sequence)"
   ],
   "metadata": {
    "collapsed": false,
    "pycharm": {
     "name": "#%% md\n"
    }
   }
  },
  {
   "cell_type": "code",
   "execution_count": 41,
   "outputs": [
    {
     "name": "stdout",
     "output_type": "stream",
     "text": [
      "40,320\n"
     ]
    }
   ],
   "source": [
    "# reduce() must be imported\n",
    "from functools import reduce\n",
    "\n",
    "list_f = [1, 2, 3, 4, 5, 6, 7, 8]\n",
    "\n",
    "# the function being passed to reduce() will always take 2\n",
    "# arguments\n",
    "product_list_f = reduce(lambda x, y: x * y, list_f)\n",
    "\n",
    "print(f\"{product_list_f:,}\")"
   ],
   "metadata": {
    "collapsed": false,
    "pycharm": {
     "name": "#%%\n"
    }
   }
  },
  {
   "cell_type": "code",
   "execution_count": null,
   "outputs": [],
   "source": [],
   "metadata": {
    "collapsed": false,
    "pycharm": {
     "name": "#%%\n"
    }
   }
  }
 ],
 "metadata": {
  "kernelspec": {
   "display_name": "Python 3",
   "language": "python",
   "name": "python3"
  },
  "language_info": {
   "codemirror_mode": {
    "name": "ipython",
    "version": 2
   },
   "file_extension": ".py",
   "mimetype": "text/x-python",
   "name": "python",
   "nbconvert_exporter": "python",
   "pygments_lexer": "ipython2",
   "version": "2.7.6"
  }
 },
 "nbformat": 4,
 "nbformat_minor": 0
}