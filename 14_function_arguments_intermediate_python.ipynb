{
 "cells": [
  {
   "cell_type": "markdown",
   "source": [
    "# Intermediate Python\n",
    "### Patrick Loeber, python-engineer.com\n",
    "### https://www.youtube.com/watch?v=HGOBQPFzWKo\n",
    "(4:53:26)\n",
    "September 17, 2022"
   ],
   "metadata": {
    "collapsed": false,
    "pycharm": {
     "name": "#%% md\n"
    }
   }
  },
  {
   "cell_type": "markdown",
   "source": [
    "## FUNCTION ARGUMENTS in DETAIL:\n",
    "* Parameters are the variables defined or used inside parentheses while defining a function.\n",
    "* Arguments are the values passed to these parameters when calling a function.\n"
   ],
   "metadata": {
    "collapsed": false,
    "pycharm": {
     "name": "#%% md\n"
    }
   }
  },
  {
   "cell_type": "code",
   "execution_count": 2,
   "outputs": [
    {
     "name": "stdout",
     "output_type": "stream",
     "text": [
      "Evan\n"
     ]
    }
   ],
   "source": [
    "def print_name(name):   # name is the parameter\n",
    "    print(name)\n",
    "\n",
    "print_name(\"Evan\")      # \"Evan\" is the argument passed"
   ],
   "metadata": {
    "collapsed": false,
    "pycharm": {
     "name": "#%%\n"
    }
   }
  },
  {
   "cell_type": "code",
   "execution_count": 6,
   "outputs": [
    {
     "name": "stdout",
     "output_type": "stream",
     "text": [
      "1 2 3\n"
     ]
    }
   ],
   "source": [
    "def foo(a, b, c):\n",
    "    print(a, b, c)\n",
    "\n",
    "foo(1, 2, 3)    # 1, 2, and 3 are POSITIONAL arguments"
   ],
   "metadata": {
    "collapsed": false,
    "pycharm": {
     "name": "#%%\n"
    }
   }
  },
  {
   "cell_type": "code",
   "execution_count": 8,
   "outputs": [
    {
     "name": "stdout",
     "output_type": "stream",
     "text": [
      "1 2 3\n"
     ]
    }
   ],
   "source": [
    "# Using KEYWORD arguments\n",
    "foo(a=1, b=2, c=3)"
   ],
   "metadata": {
    "collapsed": false,
    "pycharm": {
     "name": "#%%\n"
    }
   }
  },
  {
   "cell_type": "code",
   "execution_count": 9,
   "outputs": [
    {
     "name": "stdout",
     "output_type": "stream",
     "text": [
      "1 2 3\n"
     ]
    }
   ],
   "source": [
    "# When using keyword arguments, position does not matter\n",
    "# It will still go in order as defined in the function definition\n",
    "foo(b=2, c=3, a=1)"
   ],
   "metadata": {
    "collapsed": false,
    "pycharm": {
     "name": "#%%\n"
    }
   }
  },
  {
   "cell_type": "code",
   "execution_count": 10,
   "outputs": [
    {
     "name": "stdout",
     "output_type": "stream",
     "text": [
      "1 2 3\n"
     ]
    }
   ],
   "source": [
    "# Mixing positional and keyword arguments\n",
    "# Positional must come before keyword arguments\n",
    "foo(1, b=2, c=3)"
   ],
   "metadata": {
    "collapsed": false,
    "pycharm": {
     "name": "#%%\n"
    }
   }
  },
  {
   "cell_type": "code",
   "execution_count": 14,
   "outputs": [
    {
     "name": "stdout",
     "output_type": "stream",
     "text": [
      "1 2 3 4\n"
     ]
    }
   ],
   "source": [
    "# DEFAULT arguments\n",
    "# It will take the default value for d if nothing is passed\n",
    "def bar(a, b, c, d=4):\n",
    "    print(a, b, c, d)\n",
    "\n",
    "bar(1, 2, 3)"
   ],
   "metadata": {
    "collapsed": false,
    "pycharm": {
     "name": "#%%\n"
    }
   }
  },
  {
   "cell_type": "code",
   "execution_count": 17,
   "outputs": [
    {
     "name": "stdout",
     "output_type": "stream",
     "text": [
      "1 2 3 7\n"
     ]
    }
   ],
   "source": [
    "# Or it will take an alternative value instead of default\n",
    "# DEFUALT arguments must come at the end of the function\n",
    "# parameters\n",
    "\n",
    "bar(1, 2, 3, 7)"
   ],
   "metadata": {
    "collapsed": false,
    "pycharm": {
     "name": "#%%\n"
    }
   }
  },
  {
   "cell_type": "code",
   "execution_count": 18,
   "outputs": [],
   "source": [
    "# VARIABLE LENGTH arguments\n",
    "# If you mark a parameter with 1 *, you can pass any number of\n",
    "# POSITIONAL arguments to your function (as a tuple)\n",
    "# If you mark a parameter with 2 *s, you can pass any number of\n",
    "# KEYWORD arguments to  your function (as a dictionary)\n",
    "\n",
    "\n",
    "def blah(a, b, *args, **kwargs):\n",
    "    print(a, b)\n",
    "    for arg in args:\n",
    "        print(arg)\n",
    "    for key in kwargs:\n",
    "        print(key, kwargs[key])     # print key and value"
   ],
   "metadata": {
    "collapsed": false,
    "pycharm": {
     "name": "#%%\n"
    }
   }
  },
  {
   "cell_type": "code",
   "execution_count": 19,
   "outputs": [
    {
     "name": "stdout",
     "output_type": "stream",
     "text": [
      "1 2\n",
      "3\n",
      "4\n",
      "5\n",
      "six 6\n",
      "seven 7\n"
     ]
    }
   ],
   "source": [
    "blah(1, 2, 3, 4, 5, six = 6, seven = 7)"
   ],
   "metadata": {
    "collapsed": false,
    "pycharm": {
     "name": "#%%\n"
    }
   }
  },
  {
   "cell_type": "code",
   "execution_count": 20,
   "outputs": [],
   "source": [
    "# FORCED KEYWORD arguments\n",
    "# When you want to have keyword ONLY arguments\n",
    "# Every parameter after the * must be a keyword argument\n",
    "\n",
    "def tada(a, b, *, c, d):\n",
    "    print(a, b, c, d)"
   ],
   "metadata": {
    "collapsed": false,
    "pycharm": {
     "name": "#%%\n"
    }
   }
  },
  {
   "cell_type": "code",
   "execution_count": 21,
   "outputs": [
    {
     "name": "stdout",
     "output_type": "stream",
     "text": [
      "1 2 3 4\n"
     ]
    }
   ],
   "source": [
    "tada(1, 2, c = 3, d = 4)"
   ],
   "metadata": {
    "collapsed": false,
    "pycharm": {
     "name": "#%%\n"
    }
   }
  },
  {
   "cell_type": "code",
   "execution_count": 23,
   "outputs": [],
   "source": [
    "# Following *args, parameters must be keyword as well\n",
    "\n",
    "def ladeeda(*args, last):\n",
    "    for arg in args:\n",
    "        print(arg)\n",
    "    print(last)"
   ],
   "metadata": {
    "collapsed": false,
    "pycharm": {
     "name": "#%%\n"
    }
   }
  },
  {
   "cell_type": "code",
   "execution_count": 24,
   "outputs": [
    {
     "name": "stdout",
     "output_type": "stream",
     "text": [
      "1\n",
      "2\n",
      "3\n",
      "4\n",
      "5\n",
      "6\n"
     ]
    }
   ],
   "source": [
    "ladeeda(1, 2, 3, 4, 5, last=6)"
   ],
   "metadata": {
    "collapsed": false,
    "pycharm": {
     "name": "#%%\n"
    }
   }
  },
  {
   "cell_type": "code",
   "execution_count": 25,
   "outputs": [],
   "source": [
    "# UNPACKING arguments\n",
    "\n",
    "def boo(a, b, c):\n",
    "    print(a, b, c)"
   ],
   "metadata": {
    "collapsed": false,
    "pycharm": {
     "name": "#%%\n"
    }
   }
  },
  {
   "cell_type": "code",
   "execution_count": 27,
   "outputs": [],
   "source": [
    "my_list = [0, 1, 2]"
   ],
   "metadata": {
    "collapsed": false,
    "pycharm": {
     "name": "#%%\n"
    }
   }
  },
  {
   "cell_type": "code",
   "execution_count": 29,
   "outputs": [
    {
     "name": "stdout",
     "output_type": "stream",
     "text": [
      "0 1 2\n"
     ]
    }
   ],
   "source": [
    "# This will unpack the first argument into a, second to b,\n",
    "# and the third to c (also works with a tuple).\n",
    "# FYI: length of container must match number of parameters.\n",
    "\n",
    "boo(*my_list)"
   ],
   "metadata": {
    "collapsed": false,
    "pycharm": {
     "name": "#%%\n"
    }
   }
  },
  {
   "cell_type": "code",
   "execution_count": 30,
   "outputs": [],
   "source": [
    "# When using a dictionary, the keys must match the parameter names\n",
    "my_dict = {'a': 1, 'b': 2, 'c': 3 }"
   ],
   "metadata": {
    "collapsed": false,
    "pycharm": {
     "name": "#%%\n"
    }
   }
  },
  {
   "cell_type": "code",
   "execution_count": 33,
   "outputs": [
    {
     "name": "stdout",
     "output_type": "stream",
     "text": [
      "1 2 3\n"
     ]
    }
   ],
   "source": [
    "# Use two ** when unpacking a dictionary\n",
    "# Length of dictionary must also match the parameter requirement\n",
    "\n",
    "boo(**my_dict)"
   ],
   "metadata": {
    "collapsed": false,
    "pycharm": {
     "name": "#%%\n"
    }
   }
  },
  {
   "cell_type": "code",
   "execution_count": 42,
   "outputs": [],
   "source": [
    "# LOCAL vs GLOBAL variables\n",
    "\n",
    "def funkytion():\n",
    "    x = number\n",
    "    print('number inside function: ', x)"
   ],
   "metadata": {
    "collapsed": false,
    "pycharm": {
     "name": "#%%\n"
    }
   }
  },
  {
   "cell_type": "code",
   "execution_count": 43,
   "outputs": [
    {
     "name": "stdout",
     "output_type": "stream",
     "text": [
      "number inside function:  0\n"
     ]
    }
   ],
   "source": [
    "# This will print this local variable inside the function\n",
    "# This will only work if the variable is not set inside the\n",
    "# function.\n",
    "number = 0\n",
    "funkytion()"
   ],
   "metadata": {
    "collapsed": false,
    "pycharm": {
     "name": "#%%\n"
    }
   }
  },
  {
   "cell_type": "code",
   "execution_count": 60,
   "outputs": [],
   "source": [
    "# Use GLOBAL variables if you want to be able to modify\n",
    "\n",
    "def functionator():\n",
    "    global number03 #\n",
    "    y = number03\n",
    "    number03 = 7    # LOCAL variable only living inside function\n",
    "    print('number inside function: ', y)"
   ],
   "metadata": {
    "collapsed": false,
    "pycharm": {
     "name": "#%%\n"
    }
   }
  },
  {
   "cell_type": "code",
   "execution_count": 61,
   "outputs": [
    {
     "name": "stdout",
     "output_type": "stream",
     "text": [
      "number inside function:  3\n"
     ]
    }
   ],
   "source": [
    "number03 = 3\n",
    "functionator()"
   ],
   "metadata": {
    "collapsed": false,
    "pycharm": {
     "name": "#%%\n"
    }
   }
  },
  {
   "cell_type": "markdown",
   "source": [
    "### PARAMETER PASSING -\n",
    "call by reference / call by object reference - the parameter passed into a function is a reference to an object, but the reference is passsed by value. There is a difference between mutable and immutable objects. Mutable objects like lists or dictionaries can be changed within a method. But if you rebind the reference within a method, then the outer reference  will still point to the original object and is not changed. Immutable objects cannot be changed within a method, but immutable objects contained within mutable objects can be reassigned within a method."
   ],
   "metadata": {
    "collapsed": false,
    "pycharm": {
     "name": "#%% md\n"
    }
   }
  },
  {
   "cell_type": "code",
   "execution_count": 62,
   "outputs": [
    {
     "name": "stdout",
     "output_type": "stream",
     "text": [
      "10\n"
     ]
    }
   ],
   "source": [
    "# EXAMPLE: the local variable inside of the function schmeh\n",
    "# cannot change the immutable object a_number\n",
    "\n",
    "def schmeh(x):\n",
    "    x = 5\n",
    "\n",
    "a_number = 10\n",
    "schmeh(a_number)\n",
    "print(a_number)"
   ],
   "metadata": {
    "collapsed": false,
    "pycharm": {
     "name": "#%%\n"
    }
   }
  },
  {
   "cell_type": "code",
   "execution_count": 66,
   "outputs": [
    {
     "name": "stdout",
     "output_type": "stream",
     "text": [
      "[-100, 2, 3, 4]\n"
     ]
    }
   ],
   "source": [
    "# Lists are mutable, so some_list can be changed within the\n",
    "# function blahblah. An immutable integer can be changed here\n",
    "# because it is inside of a mutable object, a list\n",
    "\n",
    "def blahblah(some_list):\n",
    "    some_list.append(4)\n",
    "    some_list[0] = -100\n",
    "\n",
    "some_list = [1, 2, 3]\n",
    "blahblah(some_list)\n",
    "print(some_list)"
   ],
   "metadata": {
    "collapsed": false,
    "pycharm": {
     "name": "#%%\n"
    }
   }
  },
  {
   "cell_type": "code",
   "execution_count": 68,
   "outputs": [
    {
     "name": "stdout",
     "output_type": "stream",
     "text": [
      "[1, 2, 3]\n"
     ]
    }
   ],
   "source": [
    "def whooptydoo(some_list):\n",
    "    some_list = [200, 300, 400] # This local variable does not\n",
    "    some_list.append(4)         # change the global list\n",
    "    some_list[0] = -100\n",
    "\n",
    "another_list = [1, 2, 3]\n",
    "whooptydoo(another_list)\n",
    "print(another_list)     # The outer reference will not be changed"
   ],
   "metadata": {
    "collapsed": false,
    "pycharm": {
     "name": "#%%\n"
    }
   }
  },
  {
   "cell_type": "code",
   "execution_count": 71,
   "outputs": [
    {
     "name": "stdout",
     "output_type": "stream",
     "text": [
      "[1, 2, 3, 100, 200, 300]\n"
     ]
    }
   ],
   "source": [
    "# The list passed will be changed here, however, and be added to\n",
    "\n",
    "def longer_list(list):\n",
    "    list += [100, 200, 300]\n",
    "\n",
    "whattalist = [1, 2, 3]\n",
    "longer_list(whattalist)\n",
    "print(whattalist)"
   ],
   "metadata": {
    "collapsed": false,
    "pycharm": {
     "name": "#%%\n"
    }
   }
  },
  {
   "cell_type": "code",
   "execution_count": 77,
   "outputs": [
    {
     "name": "stdout",
     "output_type": "stream",
     "text": [
      "[1, 2, 3]\n"
     ]
    }
   ],
   "source": [
    "# This way, however, will not have an effect on the list passed\n",
    "\n",
    "def not_longer_list(b_list):\n",
    "    b_list = b_list + [100, 200, 300]   # creates local variable\n",
    "\n",
    "justalist = [1, 2, 3]\n",
    "not_longer_list(justalist)\n",
    "print(justalist)"
   ],
   "metadata": {
    "collapsed": false,
    "pycharm": {
     "name": "#%%\n"
    }
   }
  },
  {
   "cell_type": "code",
   "execution_count": null,
   "outputs": [],
   "source": [],
   "metadata": {
    "collapsed": false,
    "pycharm": {
     "name": "#%%\n"
    }
   }
  }
 ],
 "metadata": {
  "kernelspec": {
   "display_name": "Python 3",
   "language": "python",
   "name": "python3"
  },
  "language_info": {
   "codemirror_mode": {
    "name": "ipython",
    "version": 2
   },
   "file_extension": ".py",
   "mimetype": "text/x-python",
   "name": "python",
   "nbconvert_exporter": "python",
   "pygments_lexer": "ipython2",
   "version": "2.7.6"
  }
 },
 "nbformat": 4,
 "nbformat_minor": 0
}