{
 "cells": [
  {
   "cell_type": "markdown",
   "source": [
    "# Intermediate Python\n",
    "### Patrick Loeber, python-engineer.com\n",
    "### https://www.youtube.com/watch?v=HGOBQPFzWKo\n",
    "(29:51)\n",
    "September 16, 2022"
   ],
   "metadata": {
    "collapsed": false,
    "pycharm": {
     "name": "#%% md\n"
    }
   }
  },
  {
   "cell_type": "markdown",
   "source": [
    "## <b>DICTIONARIES:</b> key-value pairs, mutable, unordered, each key value pair maps the key to its associated value"
   ],
   "metadata": {
    "collapsed": false,
    "pycharm": {
     "name": "#%% md\n"
    }
   }
  },
  {
   "cell_type": "code",
   "execution_count": 1,
   "outputs": [
    {
     "data": {
      "text/plain": "{'name': 'Max', 'age': 28, 'city': 'New York'}"
     },
     "execution_count": 1,
     "metadata": {},
     "output_type": "execute_result"
    }
   ],
   "source": [
    "# First way to make a dictionary, using {}\n",
    "# Requires quotes on keys, colon, and values with quotes unless numeric\n",
    "dict01 = {'name': 'Max', 'age': 28, 'city': 'New York'}\n",
    "dict01"
   ],
   "metadata": {
    "collapsed": false,
    "pycharm": {
     "name": "#%%\n"
    }
   }
  },
  {
   "cell_type": "code",
   "execution_count": 2,
   "outputs": [
    {
     "data": {
      "text/plain": "{'name': 'Mary', 'age': 27, 'city': 'Boston'}"
     },
     "execution_count": 2,
     "metadata": {},
     "output_type": "execute_result"
    }
   ],
   "source": [
    "# Second way to make a dictionary, using dict()\n",
    "# = instead of :, and keys do not need quotes\n",
    "dict02 = dict(name = 'Mary', age = 27, city = 'Boston')\n",
    "dict02"
   ],
   "metadata": {
    "collapsed": false,
    "pycharm": {
     "name": "#%%\n"
    }
   }
  },
  {
   "cell_type": "code",
   "execution_count": 3,
   "outputs": [
    {
     "data": {
      "text/plain": "'Max'"
     },
     "execution_count": 3,
     "metadata": {},
     "output_type": "execute_result"
    }
   ],
   "source": [
    "value01 = dict01['name']\n",
    "value01"
   ],
   "metadata": {
    "collapsed": false,
    "pycharm": {
     "name": "#%%\n"
    }
   }
  },
  {
   "cell_type": "code",
   "execution_count": 4,
   "outputs": [
    {
     "data": {
      "text/plain": "'Boston'"
     },
     "execution_count": 4,
     "metadata": {},
     "output_type": "execute_result"
    }
   ],
   "source": [
    "value02 = dict02['city']\n",
    "value02"
   ],
   "metadata": {
    "collapsed": false,
    "pycharm": {
     "name": "#%%\n"
    }
   }
  },
  {
   "cell_type": "code",
   "execution_count": 5,
   "outputs": [
    {
     "data": {
      "text/plain": "{'name': 'Max', 'age': 28, 'city': 'New York', 'email': 'max@xyz.com'}"
     },
     "execution_count": 5,
     "metadata": {},
     "output_type": "execute_result"
    }
   ],
   "source": [
    "# Adding a key and value to a dictionary:\n",
    "dict01['email'] = 'max@xyz.com'\n",
    "dict01"
   ],
   "metadata": {
    "collapsed": false,
    "pycharm": {
     "name": "#%%\n"
    }
   }
  },
  {
   "cell_type": "code",
   "execution_count": 6,
   "outputs": [
    {
     "data": {
      "text/plain": "{'name': 'Max', 'age': 28, 'city': 'New York', 'email': 'max@example.com'}"
     },
     "execution_count": 6,
     "metadata": {},
     "output_type": "execute_result"
    }
   ],
   "source": [
    "# Changing a key and value already in a dictionary:\n",
    "dict01['email'] = 'max@example.com'\n",
    "dict01"
   ],
   "metadata": {
    "collapsed": false,
    "pycharm": {
     "name": "#%%\n"
    }
   }
  },
  {
   "cell_type": "code",
   "execution_count": 7,
   "outputs": [
    {
     "data": {
      "text/plain": "{'age': 28, 'city': 'New York', 'email': 'max@example.com'}"
     },
     "execution_count": 7,
     "metadata": {},
     "output_type": "execute_result"
    }
   ],
   "source": [
    "# Deleting from a dictionary using del\n",
    "del dict01['name']\n",
    "dict01"
   ],
   "metadata": {
    "collapsed": false,
    "pycharm": {
     "name": "#%%\n"
    }
   }
  },
  {
   "cell_type": "code",
   "execution_count": 8,
   "outputs": [
    {
     "data": {
      "text/plain": "{'city': 'New York', 'email': 'max@example.com'}"
     },
     "execution_count": 8,
     "metadata": {},
     "output_type": "execute_result"
    }
   ],
   "source": [
    "# Removing from a dictionary using pop()\n",
    "# Gives you the dictionary with that item removed\n",
    "dict01.pop('age')\n",
    "dict01"
   ],
   "metadata": {
    "collapsed": false,
    "pycharm": {
     "name": "#%%\n"
    }
   }
  },
  {
   "cell_type": "code",
   "execution_count": 9,
   "outputs": [
    {
     "data": {
      "text/plain": "('email', 'max@example.com')"
     },
     "execution_count": 9,
     "metadata": {},
     "output_type": "execute_result"
    }
   ],
   "source": [
    "# Removing using .popitem() = removes the last inserted item\n",
    "# Gives you the item that has been removed\n",
    "dict01.popitem()\n"
   ],
   "metadata": {
    "collapsed": false,
    "pycharm": {
     "name": "#%%\n"
    }
   }
  },
  {
   "cell_type": "code",
   "execution_count": 10,
   "outputs": [
    {
     "name": "stdout",
     "output_type": "stream",
     "text": [
      "Mary\n"
     ]
    }
   ],
   "source": [
    "# Check if a key is in the dictionary:\n",
    "if 'name' in dict02:\n",
    "    print(dict02['name'])"
   ],
   "metadata": {
    "collapsed": false,
    "pycharm": {
     "name": "#%%\n"
    }
   }
  },
  {
   "cell_type": "code",
   "execution_count": 11,
   "outputs": [
    {
     "name": "stdout",
     "output_type": "stream",
     "text": [
      "That field does not exist.\n"
     ]
    }
   ],
   "source": [
    "# Check for key with try-except, therefor no error\n",
    "try:\n",
    "    print(dict02['hobby'])\n",
    "except:\n",
    "    print(\"That field does not exist.\")"
   ],
   "metadata": {
    "collapsed": false,
    "pycharm": {
     "name": "#%%\n"
    }
   }
  },
  {
   "cell_type": "code",
   "execution_count": 12,
   "outputs": [
    {
     "name": "stdout",
     "output_type": "stream",
     "text": [
      "name\n",
      "age\n",
      "city\n"
     ]
    }
   ],
   "source": [
    "# Looping through dictionary -> for loop\n",
    "for key in dict02:\n",
    "    print(key)"
   ],
   "metadata": {
    "collapsed": false,
    "pycharm": {
     "name": "#%%\n"
    }
   }
  },
  {
   "cell_type": "code",
   "execution_count": 13,
   "outputs": [
    {
     "name": "stdout",
     "output_type": "stream",
     "text": [
      "name\n",
      "age\n",
      "city\n"
     ]
    }
   ],
   "source": [
    "# Looping through dictionary -> .keys() -> returns all keys within\n",
    "for key in dict02.keys():\n",
    "    print(key)"
   ],
   "metadata": {
    "collapsed": false,
    "pycharm": {
     "name": "#%%\n"
    }
   }
  },
  {
   "cell_type": "code",
   "execution_count": 14,
   "outputs": [
    {
     "name": "stdout",
     "output_type": "stream",
     "text": [
      "Mary\n",
      "27\n",
      "Boston\n"
     ]
    }
   ],
   "source": [
    "# Looping through dictionary -> .values() -> returns the values\n",
    "for value in dict02.values():\n",
    "    print(value)"
   ],
   "metadata": {
    "collapsed": false,
    "pycharm": {
     "name": "#%%\n"
    }
   }
  },
  {
   "cell_type": "code",
   "execution_count": 15,
   "outputs": [
    {
     "data": {
      "text/plain": "dict_keys(['name', 'age', 'city'])"
     },
     "execution_count": 15,
     "metadata": {},
     "output_type": "execute_result"
    }
   ],
   "source": [
    "# On its own, .keys() returns a list of the keys\n",
    "dict02.keys()"
   ],
   "metadata": {
    "collapsed": false,
    "pycharm": {
     "name": "#%%\n"
    }
   }
  },
  {
   "cell_type": "code",
   "execution_count": 16,
   "outputs": [
    {
     "data": {
      "text/plain": "dict_values(['Mary', 27, 'Boston'])"
     },
     "execution_count": 16,
     "metadata": {},
     "output_type": "execute_result"
    }
   ],
   "source": [
    "# On its own, .values() returns a list of the keys\n",
    "dict02.values()"
   ],
   "metadata": {
    "collapsed": false,
    "pycharm": {
     "name": "#%%\n"
    }
   }
  },
  {
   "cell_type": "code",
   "execution_count": 17,
   "outputs": [
    {
     "name": "stdout",
     "output_type": "stream",
     "text": [
      "name -> Mary\n",
      "age -> 27\n",
      "city -> Boston\n"
     ]
    }
   ],
   "source": [
    "# Looping through keys and values using .items():\n",
    "for key, value in dict02.items():\n",
    "    print(key, \"->\", value)"
   ],
   "metadata": {
    "collapsed": false,
    "pycharm": {
     "name": "#%%\n"
    }
   }
  },
  {
   "cell_type": "code",
   "execution_count": 18,
   "outputs": [
    {
     "name": "stdout",
     "output_type": "stream",
     "text": [
      "Original dictionary:  {'name': 'Mary', 'age': 27, 'city': 'Boston', 'hobby': 'racing'}\n",
      "Copy of original:  {'name': 'Mary', 'age': 27, 'city': 'Boston', 'hobby': 'racing'}\n"
     ]
    }
   ],
   "source": [
    "# Copying a dictionary - must make an actual copy to not make changes\n",
    "# to the original dictionary. Otherwise, new dictionary is just a\n",
    "# pointer to the original\n",
    "\n",
    "dict02_copy = dict02\n",
    "dict02_copy['hobby'] = 'racing'\n",
    "\n",
    "print(\"Original dictionary: \", dict02)\n",
    "print('Copy of original: ', dict02_copy)\n",
    "\n",
    "# Both received the new key-value pair, because both point to the\n",
    "# same dictionary inside of memory."
   ],
   "metadata": {
    "collapsed": false,
    "pycharm": {
     "name": "#%%\n"
    }
   }
  },
  {
   "cell_type": "code",
   "execution_count": 19,
   "outputs": [
    {
     "name": "stdout",
     "output_type": "stream",
     "text": [
      "Original dictionary:  {'name': 'Mary', 'age': 27, 'city': 'Boston', 'hobby': 'racing'}\n",
      "Real copy:  {'name': 'Mary', 'age': 27, 'city': 'Boston', 'hobby': 'racing', 'significant_other': 'George'}\n"
     ]
    }
   ],
   "source": [
    "# To make a true copy, use .copy()\n",
    "dict03 = dict02.copy()\n",
    "dict03['significant_other'] = 'George'\n",
    "\n",
    "print(\"Original dictionary: \", dict02)\n",
    "print('Real copy: ', dict03)"
   ],
   "metadata": {
    "collapsed": false,
    "pycharm": {
     "name": "#%%\n"
    }
   }
  },
  {
   "cell_type": "code",
   "execution_count": 20,
   "outputs": [
    {
     "name": "stdout",
     "output_type": "stream",
     "text": [
      "Original dictionary:  {'name': 'Mary', 'age': 27, 'city': 'Boston', 'hobby': 'racing', 'significant_other': 'George'}\n",
      "Real copy:  {'name': 'Mary', 'age': 27, 'city': 'Boston', 'hobby': 'racing'}\n"
     ]
    }
   ],
   "source": [
    "# To make a true copy, use dict()\n",
    "dict04 = dict(dict02)\n",
    "dict04['significant_other'] = 'George'\n",
    "\n",
    "print(\"Original dictionary: \", dict04)\n",
    "print('Real copy: ', dict02)"
   ],
   "metadata": {
    "collapsed": false,
    "pycharm": {
     "name": "#%%\n"
    }
   }
  },
  {
   "cell_type": "code",
   "execution_count": 22,
   "outputs": [
    {
     "name": "stdout",
     "output_type": "stream",
     "text": [
      "dict05 before:  {'age': 24, 'name': 'MaryAnn', 'major': 'journalism'}\n",
      "dict05 after:  {'age': 24, 'name': 'MaryAnn', 'major': 'journalism', 'city': 'Spokane', 'state': 'Washington'}\n",
      "dict06 that was update to 05:  {'city': 'Spokane', 'state': 'Washington'}\n"
     ]
    }
   ],
   "source": [
    "# update method to merge two dictionaries\n",
    "dict05 = dict(age = 24, name = 'MaryAnn', major = \"journalism\")\n",
    "dict06 = dict(city = 'Spokane', state = 'Washington')\n",
    "\n",
    "print(\"dict05 before: \", dict05)\n",
    "\n",
    "dict05.update(dict06)\n",
    "print(\"dict05 after: \", dict05)\n",
    "print(\"dict06 that was update to 05: \", dict06)"
   ],
   "metadata": {
    "collapsed": false,
    "pycharm": {
     "name": "#%%\n"
    }
   }
  },
  {
   "cell_type": "code",
   "execution_count": 24,
   "outputs": [
    {
     "data": {
      "text/plain": "{'age': 'almost 44', 'born': 'San Antonio', 'lives': 'Atlanta'}"
     },
     "execution_count": 24,
     "metadata": {},
     "output_type": "execute_result"
    }
   ],
   "source": [
    "# When merged dictionaries contain the same keys,\n",
    "# the one being merged in with update with overwrite the old\n",
    "# value\n",
    "evan_dict = dict(age = 43, born = 'San Antonio')\n",
    "details_dict = dict(age = 'almost 44', lives = 'Atlanta')\n",
    "\n",
    "evan_dict.update(details_dict)\n",
    "evan_dict"
   ],
   "metadata": {
    "collapsed": false,
    "pycharm": {
     "name": "#%%\n"
    }
   }
  },
  {
   "cell_type": "code",
   "execution_count": 27,
   "outputs": [
    {
     "data": {
      "text/plain": "9"
     },
     "execution_count": 27,
     "metadata": {},
     "output_type": "execute_result"
    }
   ],
   "source": [
    "# KEY TYPES: any immutable type can be used (numbers, tuples)\n",
    "dict07 = {3: 9, 6: 36, 4: 49, 9: 81}\n",
    "value07 = dict07[3] # Use the key here. It is not an index.\n",
    "value07"
   ],
   "metadata": {
    "collapsed": false,
    "pycharm": {
     "name": "#%%\n"
    }
   }
  },
  {
   "cell_type": "code",
   "execution_count": 29,
   "outputs": [
    {
     "data": {
      "text/plain": "{(8, 7): 15}"
     },
     "execution_count": 29,
     "metadata": {},
     "output_type": "execute_result"
    }
   ],
   "source": [
    "# When making a dict with tuple keys, cannot use dict() to create\n",
    "tuple01 = (8,7)\n",
    "dict08 = {tuple01: 15}  # must use {} when key is tuple\n",
    "dict08\n",
    "\n",
    "# Cannot use a list as a key, because it is mutable,\n",
    "# Therefore it is not hashable."
   ],
   "metadata": {
    "collapsed": false,
    "pycharm": {
     "name": "#%%\n"
    }
   }
  },
  {
   "cell_type": "markdown",
   "source": [
    "## <b>SETS:</b> unordered, mutable, no duplicates (unlike lists or tuples)"
   ],
   "metadata": {
    "collapsed": false,
    "pycharm": {
     "name": "#%% md\n"
    }
   }
  },
  {
   "cell_type": "code",
   "execution_count": 31,
   "outputs": [
    {
     "data": {
      "text/plain": "{1, 2, 3, 4, 5}"
     },
     "execution_count": 31,
     "metadata": {},
     "output_type": "execute_result"
    }
   ],
   "source": [
    "# Created with {} with elements separated by commas\n",
    "\n",
    "set01 = {1, 2, 3, 4, 5, 1, 2, 3, 4, 5}\n",
    "set01 # no duplicates, so this will only print one of each"
   ],
   "metadata": {
    "collapsed": false,
    "pycharm": {
     "name": "#%%\n"
    }
   }
  },
  {
   "cell_type": "code",
   "execution_count": 32,
   "outputs": [],
   "source": [
    "# Using set() with an iterable, a list\n",
    "set02 = set([])"
   ],
   "metadata": {
    "collapsed": false,
    "pycharm": {
     "name": "#%%\n"
    }
   }
  },
  {
   "cell_type": "code",
   "execution_count": 34,
   "outputs": [
    {
     "data": {
      "text/plain": "{'H', 'e', 'l', 'o'}"
     },
     "execution_count": 34,
     "metadata": {},
     "output_type": "execute_result"
    }
   ],
   "source": [
    "set03 = set(\"Hello\")\n",
    "set03"
   ],
   "metadata": {
    "collapsed": false,
    "pycharm": {
     "name": "#%%\n"
    }
   }
  },
  {
   "cell_type": "code",
   "execution_count": 35,
   "outputs": [
    {
     "data": {
      "text/plain": "dict"
     },
     "execution_count": 35,
     "metadata": {},
     "output_type": "execute_result"
    }
   ],
   "source": [
    "# Making an empty set, braces will  not work, will be dict.\n",
    "set04 = {}\n",
    "type(set04)"
   ],
   "metadata": {
    "collapsed": false,
    "pycharm": {
     "name": "#%%\n"
    }
   }
  },
  {
   "cell_type": "code",
   "execution_count": 44,
   "outputs": [
    {
     "data": {
      "text/plain": "set"
     },
     "execution_count": 44,
     "metadata": {},
     "output_type": "execute_result"
    }
   ],
   "source": [
    "# This creates an empty set:\n",
    "set05 = set()\n",
    "type(set05)"
   ],
   "metadata": {
    "collapsed": false,
    "pycharm": {
     "name": "#%%\n"
    }
   }
  },
  {
   "cell_type": "code",
   "execution_count": 45,
   "outputs": [
    {
     "data": {
      "text/plain": "{1, 2, 3}"
     },
     "execution_count": 45,
     "metadata": {},
     "output_type": "execute_result"
    }
   ],
   "source": [
    "# Sets are mutable and can be added to with .add()\n",
    "set05.add(1)\n",
    "set05.add(2)\n",
    "set05.add(3)\n",
    "\n",
    "set05"
   ],
   "metadata": {
    "collapsed": false,
    "pycharm": {
     "name": "#%%\n"
    }
   }
  },
  {
   "cell_type": "code",
   "execution_count": 46,
   "outputs": [
    {
     "data": {
      "text/plain": "{1, 2}"
     },
     "execution_count": 46,
     "metadata": {},
     "output_type": "execute_result"
    }
   ],
   "source": [
    "# Use REMOVE method to remove items\n",
    "set05.remove(3)\n",
    "set05"
   ],
   "metadata": {
    "collapsed": false,
    "pycharm": {
     "name": "#%%\n"
    }
   }
  },
  {
   "cell_type": "code",
   "execution_count": 47,
   "outputs": [
    {
     "data": {
      "text/plain": "{1, 2}"
     },
     "execution_count": 47,
     "metadata": {},
     "output_type": "execute_result"
    }
   ],
   "source": [
    "# DISCARD method - removes the element, but if the element is\n",
    "# not found, does not raise an exception\n",
    "set05.discard(3)\n",
    "set05"
   ],
   "metadata": {
    "collapsed": false,
    "pycharm": {
     "name": "#%%\n"
    }
   }
  },
  {
   "cell_type": "code",
   "execution_count": 52,
   "outputs": [
    {
     "data": {
      "text/plain": "set()"
     },
     "execution_count": 52,
     "metadata": {},
     "output_type": "execute_result"
    }
   ],
   "source": [
    "set05.clear()\n",
    "set05"
   ],
   "metadata": {
    "collapsed": false,
    "pycharm": {
     "name": "#%%\n"
    }
   }
  },
  {
   "cell_type": "code",
   "execution_count": 60,
   "outputs": [
    {
     "name": "stdout",
     "output_type": "stream",
     "text": [
      "1\n"
     ]
    }
   ],
   "source": [
    "# .pop removes and returns a random item from the set\n",
    "set06 = set({9, 1, 2, 3, 4, 5, 6, 7, 8})\n",
    "print(set06.pop())"
   ],
   "metadata": {
    "collapsed": false,
    "pycharm": {
     "name": "#%%\n"
    }
   }
  },
  {
   "cell_type": "code",
   "execution_count": 61,
   "outputs": [
    {
     "data": {
      "text/plain": "{2, 3, 4, 5, 6, 7, 8, 9}"
     },
     "execution_count": 61,
     "metadata": {},
     "output_type": "execute_result"
    }
   ],
   "source": [
    "set06"
   ],
   "metadata": {
    "collapsed": false,
    "pycharm": {
     "name": "#%%\n"
    }
   }
  },
  {
   "cell_type": "code",
   "execution_count": 63,
   "outputs": [
    {
     "name": "stdout",
     "output_type": "stream",
     "text": [
      "H\n",
      "l\n",
      "e\n",
      "o\n"
     ]
    }
   ],
   "source": [
    "# ITERABLE\n",
    "for i in set03:\n",
    "    print(i)"
   ],
   "metadata": {
    "collapsed": false,
    "pycharm": {
     "name": "#%%\n"
    }
   }
  },
  {
   "cell_type": "code",
   "execution_count": 65,
   "outputs": [
    {
     "name": "stdout",
     "output_type": "stream",
     "text": [
      "NOPE!\n"
     ]
    }
   ],
   "source": [
    "# if in statement\n",
    "if 1 in set06:\n",
    "    print('yeppers!')\n",
    "else:\n",
    "    print('NOPE!')"
   ],
   "metadata": {
    "collapsed": false,
    "pycharm": {
     "name": "#%%\n"
    }
   }
  },
  {
   "cell_type": "markdown",
   "source": [
    "## The following create new sets and do not modify sets in place"
   ],
   "metadata": {
    "collapsed": false,
    "pycharm": {
     "name": "#%% md\n"
    }
   }
  },
  {
   "cell_type": "code",
   "execution_count": 67,
   "outputs": [
    {
     "data": {
      "text/plain": "{0, 1, 2, 3, 4, 5, 6, 7, 8, 9}"
     },
     "execution_count": 67,
     "metadata": {},
     "output_type": "execute_result"
    }
   ],
   "source": [
    "# UNION: combines elements from two sets without duplicates\n",
    "odds = {1, 3, 5, 7, 9}\n",
    "evens = {0, 2, 4, 6, 8}\n",
    "primes = {2, 3, 5, 7}\n",
    "\n",
    "union_odds_evens = (odds.union(evens))\n",
    "union_odds_evens"
   ],
   "metadata": {
    "collapsed": false,
    "pycharm": {
     "name": "#%%\n"
    }
   }
  },
  {
   "cell_type": "code",
   "execution_count": 70,
   "outputs": [
    {
     "data": {
      "text/plain": "{3, 5, 7}"
     },
     "execution_count": 70,
     "metadata": {},
     "output_type": "execute_result"
    }
   ],
   "source": [
    "# INTERSECTION: returns elements common between the two\n",
    "odds = {1, 3, 5, 7, 9}\n",
    "primes = {2, 3, 5, 7}\n",
    "\n",
    "intersecting = odds.intersection(primes)\n",
    "intersecting"
   ],
   "metadata": {
    "collapsed": false,
    "pycharm": {
     "name": "#%%\n"
    }
   }
  },
  {
   "cell_type": "code",
   "execution_count": 71,
   "outputs": [
    {
     "data": {
      "text/plain": "{4, 5, 6, 7, 8, 9}"
     },
     "execution_count": 71,
     "metadata": {},
     "output_type": "execute_result"
    }
   ],
   "source": [
    "# DIFFERENCE will return all the elements from the first set\n",
    "# that are not in the second set\n",
    "set_a = {1, 2, 3, 4, 5, 6, 7, 8, 9}\n",
    "set_b = {1, 2, 3, 10, 11, 12}\n",
    "\n",
    "diff = set_a.difference(set_b)\n",
    "diff"
   ],
   "metadata": {
    "collapsed": false,
    "pycharm": {
     "name": "#%%\n"
    }
   }
  },
  {
   "cell_type": "code",
   "execution_count": 76,
   "outputs": [
    {
     "data": {
      "text/plain": "{10, 11, 12}"
     },
     "execution_count": 76,
     "metadata": {},
     "output_type": "execute_result"
    }
   ],
   "source": [
    "# DIFFERENCE\n",
    "diff2 = set_b.difference(set_a)\n",
    "diff2"
   ],
   "metadata": {
    "collapsed": false,
    "pycharm": {
     "name": "#%%\n"
    }
   }
  },
  {
   "cell_type": "code",
   "execution_count": 77,
   "outputs": [
    {
     "data": {
      "text/plain": "{4, 5, 6, 7, 8, 9, 10, 11, 12}"
     },
     "execution_count": 77,
     "metadata": {},
     "output_type": "execute_result"
    }
   ],
   "source": [
    "# SYMMETRIC DIFFERENCE METHOD: returns all the elements from\n",
    "# the two sets, but nothing that is in both\n",
    "diff3 = set_b.symmetric_difference(set_a)\n",
    "diff3"
   ],
   "metadata": {
    "collapsed": false,
    "pycharm": {
     "name": "#%%\n"
    }
   }
  },
  {
   "cell_type": "code",
   "execution_count": 78,
   "outputs": [
    {
     "data": {
      "text/plain": "{4, 5, 6, 7, 8, 9, 10, 11, 12}"
     },
     "execution_count": 78,
     "metadata": {},
     "output_type": "execute_result"
    }
   ],
   "source": [
    "set_a.symmetric_difference(set_b)"
   ],
   "metadata": {
    "collapsed": false,
    "pycharm": {
     "name": "#%%\n"
    }
   }
  },
  {
   "cell_type": "markdown",
   "source": [
    "## The following will modify the actual sets in place"
   ],
   "metadata": {
    "collapsed": false,
    "pycharm": {
     "name": "#%% md\n"
    }
   }
  },
  {
   "cell_type": "code",
   "execution_count": 80,
   "outputs": [
    {
     "data": {
      "text/plain": "{1, 2, 3, 4, 5, 6, 7, 8, 9, 10, 11, 12}"
     },
     "execution_count": 80,
     "metadata": {},
     "output_type": "execute_result"
    }
   ],
   "source": [
    "# UPDATE: combines but no duplicates, and stores in place\n",
    "set_a.update(set_b)\n",
    "set_a"
   ],
   "metadata": {
    "collapsed": false,
    "pycharm": {
     "name": "#%%\n"
    }
   }
  },
  {
   "cell_type": "code",
   "execution_count": 84,
   "outputs": [
    {
     "name": "stdout",
     "output_type": "stream",
     "text": [
      "set_a:  {1, 2, 3, 10, 11, 12}\n",
      "set_b:  {1, 2, 3, 10, 11, 12}\n"
     ]
    },
    {
     "data": {
      "text/plain": "{1, 2, 3, 10, 11, 12}"
     },
     "execution_count": 84,
     "metadata": {},
     "output_type": "execute_result"
    }
   ],
   "source": [
    "print('set_a: ', set_a) # was updated with set_b above\n",
    "print('set_b: ', set_b)\n",
    "\n",
    "# INTERSECTION UPDATE: Keeps only the elements found in both sets\n",
    "# and saves the set in place (this example, saving set_a)\n",
    "set_a.intersection_update(set_b)\n",
    "set_a"
   ],
   "metadata": {
    "collapsed": false,
    "pycharm": {
     "name": "#%%\n"
    }
   }
  },
  {
   "cell_type": "code",
   "execution_count": 85,
   "outputs": [
    {
     "data": {
      "text/plain": "set()"
     },
     "execution_count": 85,
     "metadata": {},
     "output_type": "execute_result"
    }
   ],
   "source": [
    "# DIFFERENCE UPDATE: removes elements found in the other set\n",
    "set_a.difference_update(set_b)\n",
    "set_a # prints set_a, not missing everything from set_b"
   ],
   "metadata": {
    "collapsed": false,
    "pycharm": {
     "name": "#%%\n"
    }
   }
  },
  {
   "cell_type": "code",
   "execution_count": 87,
   "outputs": [
    {
     "data": {
      "text/plain": "{11, 12}"
     },
     "execution_count": 87,
     "metadata": {},
     "output_type": "execute_result"
    }
   ],
   "source": [
    "# SYMMETRIC_DIFFERENCE_UPDATE: updates the set keeping only\n",
    "# the elements found in the two sets, but nothing that comes\n",
    "# from both\n",
    "\n",
    "set_a = {1, 2, 3, 10}\n",
    "set_b = {1, 2, 3, 10, 11, 12}\n",
    "set_a.symmetric_difference_update(set_b)\n",
    "set_a"
   ],
   "metadata": {
    "collapsed": false,
    "pycharm": {
     "name": "#%%\n"
    }
   }
  },
  {
   "cell_type": "markdown",
   "source": [
    "## ISSUBSET, ISSUPERSET, and  ISDISJOINT Methods"
   ],
   "metadata": {
    "collapsed": false,
    "pycharm": {
     "name": "#%% md\n"
    }
   }
  },
  {
   "cell_type": "code",
   "execution_count": 88,
   "outputs": [
    {
     "data": {
      "text/plain": "True"
     },
     "execution_count": 88,
     "metadata": {},
     "output_type": "execute_result"
    }
   ],
   "source": [
    "# SUPER SETS: calculate if a set is a subset of another\n",
    "# (if ALL elements of left set are found in right set)\n",
    "set_c = {1, 2, 3, 4, 5, 6, 7}\n",
    "set_d = {1, 2, 3}\n",
    "\n",
    "set_d.issubset(set_c)"
   ],
   "metadata": {
    "collapsed": false,
    "pycharm": {
     "name": "#%%\n"
    }
   }
  },
  {
   "cell_type": "code",
   "execution_count": 89,
   "outputs": [
    {
     "data": {
      "text/plain": "False"
     },
     "execution_count": 89,
     "metadata": {},
     "output_type": "execute_result"
    }
   ],
   "source": [
    "set_c.issubset(set_d)"
   ],
   "metadata": {
    "collapsed": false,
    "pycharm": {
     "name": "#%%\n"
    }
   }
  },
  {
   "cell_type": "code",
   "execution_count": 91,
   "outputs": [
    {
     "data": {
      "text/plain": "True"
     },
     "execution_count": 91,
     "metadata": {},
     "output_type": "execute_result"
    }
   ],
   "source": [
    "# .issuperset() returns true if the set on the left contains\n",
    "# all the elements of the set on the right\n",
    "set_c.issuperset(set_d)"
   ],
   "metadata": {
    "collapsed": false,
    "pycharm": {
     "name": "#%%\n"
    }
   }
  },
  {
   "cell_type": "code",
   "execution_count": 92,
   "outputs": [
    {
     "data": {
      "text/plain": "False"
     },
     "execution_count": 92,
     "metadata": {},
     "output_type": "execute_result"
    }
   ],
   "source": [
    "set_d.issuperset(set_c)"
   ],
   "metadata": {
    "collapsed": false,
    "pycharm": {
     "name": "#%%\n"
    }
   }
  },
  {
   "cell_type": "code",
   "execution_count": 93,
   "outputs": [
    {
     "data": {
      "text/plain": "False"
     },
     "execution_count": 93,
     "metadata": {},
     "output_type": "execute_result"
    }
   ],
   "source": [
    "# DISJOINT: returns true if both sets have none of the same\n",
    "# elements\n",
    "set_c.isdisjoint(set_d)"
   ],
   "metadata": {
    "collapsed": false,
    "pycharm": {
     "name": "#%%\n"
    }
   }
  },
  {
   "cell_type": "markdown",
   "source": [
    "## COPYING SETS: same with lists, tuples, dictionaries, etc\n",
    "\n",
    "Assignment does not create a copy.  It only copies the reference to the place in memory where the set is stored. To create a true copy, must use .copy()"
   ],
   "metadata": {
    "collapsed": false,
    "pycharm": {
     "name": "#%% md\n"
    }
   }
  },
  {
   "cell_type": "code",
   "execution_count": 95,
   "outputs": [
    {
     "name": "stdout",
     "output_type": "stream",
     "text": [
      "set_e after:  {5, 6, 7, 8, 9, 10}\n",
      "set_f after:  {5, 6, 7, 8, 9, 10}\n"
     ]
    }
   ],
   "source": [
    "set_e = {9, 8, 7, 6, 5}\n",
    "set_f = set_e # This is an assignment, not a copy\n",
    "\n",
    "set_f.add(10)\n",
    "\n",
    "print(\"set_e after: \", set_e)\n",
    "print(\"set_f after: \", set_f)"
   ],
   "metadata": {
    "collapsed": false,
    "pycharm": {
     "name": "#%%\n"
    }
   }
  },
  {
   "cell_type": "code",
   "execution_count": 97,
   "outputs": [
    {
     "name": "stdout",
     "output_type": "stream",
     "text": [
      "set_e before:  {5, 6, 7, 8, 9, 10}\n",
      "set_g before:  {5, 6, 7, 8, 9, 10}\n",
      "set_e after:  {5, 6, 7, 8, 9, 10}\n",
      "set_g after:  {5, 6, 7, 8, 9, 10, 13}\n"
     ]
    }
   ],
   "source": [
    "# The only ways to make ACTUAL copies is to use the .copy()\n",
    "# or the set() methods\n",
    "\n",
    "set_g = set_e.copy()\n",
    "\n",
    "print(\"set_e before: \", set_e)\n",
    "print(\"set_g before: \", set_g)\n",
    "\n",
    "set_g.add(13)\n",
    "\n",
    "print(\"set_e after: \", set_e)\n",
    "print(\"set_g after: \", set_g)"
   ],
   "metadata": {
    "collapsed": false,
    "pycharm": {
     "name": "#%%\n"
    }
   }
  },
  {
   "cell_type": "markdown",
   "source": [
    "## FROZEN SET = Immutable version of a normal set"
   ],
   "metadata": {
    "collapsed": false,
    "pycharm": {
     "name": "#%% md\n"
    }
   }
  },
  {
   "cell_type": "code",
   "execution_count": 100,
   "outputs": [
    {
     "name": "stdout",
     "output_type": "stream",
     "text": [
      "frozenset({1, 2, 3, 4, 5})\n"
     ]
    }
   ],
   "source": [
    "set09 = frozenset([1, 2, 3, 4, 5])\n",
    "print(set09)\n",
    "\n",
    "# If you try to change anything about set09, it will not work.\n",
    "# You will get an error."
   ],
   "metadata": {
    "collapsed": false,
    "pycharm": {
     "name": "#%%\n"
    }
   }
  },
  {
   "cell_type": "code",
   "execution_count": null,
   "outputs": [],
   "source": [],
   "metadata": {
    "collapsed": false,
    "pycharm": {
     "name": "#%%\n"
    }
   }
  }
 ],
 "metadata": {
  "kernelspec": {
   "display_name": "Python 3",
   "language": "python",
   "name": "python3"
  },
  "language_info": {
   "codemirror_mode": {
    "name": "ipython",
    "version": 2
   },
   "file_extension": ".py",
   "mimetype": "text/x-python",
   "name": "python",
   "nbconvert_exporter": "python",
   "pygments_lexer": "ipython2",
   "version": "2.7.6"
  }
 },
 "nbformat": 4,
 "nbformat_minor": 0
}