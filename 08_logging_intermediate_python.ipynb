{
 "cells": [
  {
   "cell_type": "markdown",
   "source": [
    "# Intermediate Python\n",
    "### Patrick Loeber, python-engineer.com\n",
    "### https://www.youtube.com/watch?v=HGOBQPFzWKo\n",
    "(2:20:10)\n",
    "September 16, 2022"
   ],
   "metadata": {
    "collapsed": false,
    "pycharm": {
     "name": "#%% md\n"
    }
   }
  },
  {
   "cell_type": "markdown",
   "source": [
    "## LOGGING:\n",
    "Looking at the different logging levels, configuration options, how to log in different modules, how to use different log handlers, how to capture stack traces in your log, and how to use rotating file handler\n",
    "\n",
    "#### The different logging levels are DEBUG, INFO, WARNING, ERROR, CRITICAL:\n",
    "* logging.debug ('This is a debug message')\n",
    "* logging.info ('This is an info message')\n",
    "* logging.warning ('This is a warning message')\n",
    "* logging.error ('This is an error message')\n",
    "* logging.critical ('This is a critical message')\n",
    "\n",
    "These indicate the severity of the events.\n",
    "By default, only errors with levels of warning or higher ar printed. This can be changed by setting the basic configuration, usually done right after importing logging.<br>\n",
    "<br>\n",
    "#### The format for logging.basicConfig() is:\n",
    "logging.basicConfig(level=LOGGING_LEVEL, format='%(asctime)s - %(name)s - %(levelname)s - %(message)s, datefmt='%m/%d/%Y %I:%M:%S %p')')\n",
    "* The asctime is the time the message was logged.\n",
    "* The name is the name of the logger.\n",
    "* The levelname is the level of the message.\n",
    "* The message is the message you want to log.\n",
    "* datefmt is an optional argument that can be used to specify the format of the date.\n"
   ],
   "metadata": {
    "collapsed": false,
    "pycharm": {
     "name": "#%% md\n"
    }
   }
  },
  {
   "cell_type": "code",
   "execution_count": 14,
   "outputs": [],
   "source": [
    "import logging\n",
    "# Set level, format, and date format\n",
    "logging.basicConfig(level=logging.DEBUG, format='%(asctime)s - '\n",
    "                                                '%(name)s - %(levelname)s - %(message)s', datefmt='%m/%d/%Y %I:%M:%S %p')"
   ],
   "metadata": {
    "collapsed": false,
    "pycharm": {
     "name": "#%%\n"
    }
   }
  },
  {
   "cell_type": "markdown",
   "source": [
    "#### For logging in your own modules, start a helpers file, and run the following:"
   ],
   "metadata": {
    "collapsed": false,
    "pycharm": {
     "name": "#%% md\n"
    }
   }
  },
  {
   "cell_type": "code",
   "execution_count": 18,
   "outputs": [],
   "source": [
    "# Creates a logger with the name of the module it is input inside\n",
    "logger = logging.getLogger(__name__)\n",
    "logger.propagate = False    # will not propegate to base logger\n",
    "logger.info('Hello, from Loggy, the logger!')"
   ],
   "metadata": {
    "collapsed": false,
    "pycharm": {
     "name": "#%%\n"
    }
   }
  },
  {
   "cell_type": "markdown",
   "source": [
    "#### Then import the module where the above logger code has been input into your main file / module"
   ],
   "metadata": {
    "collapsed": false,
    "pycharm": {
     "name": "#%% md\n"
    }
   }
  },
  {
   "cell_type": "markdown",
   "source": [
    "#### Logger setup:\n",
    "* logger.propegation is a boolean that determines if the logger will pass the message on to the parent logger.\n",
    "* logger.disabled is a boolean that determines if the logger will ignore all messages.\n",
    "* logger.level is an integer that determines the lowest severity message that will be passed to the logger.\n",
    "* logger.name is a string that is the name of the logger.\n",
    "* logger.parent is a reference to the parent logger.\n",
    "* logger.handlers is a list of the handlers that are attached to the logger.\n"
   ],
   "metadata": {
    "collapsed": false,
    "pycharm": {
     "name": "#%% md\n"
    }
   }
  },
  {
   "cell_type": "markdown",
   "source": [
    "#### Log Handing / Handler Objects: are responsible for dispatching the appropriate log message to the handler's specific destination. You can use different handlers to send log messages standard output stream or to files, emails, etc.\n",
    "\n",
    "Logging handlers are used to send the log messages to the appropriate destination.\n",
    "The different handlers are:\n",
    "* logging.StreamHandler()\n",
    "* logging.FileHandler(filename)\n",
    "* logging.handlers.RotatingFileHandler(filename, maxBytes, backupCount)\n",
    "* logging.handlers.TimedRotatingFileHandler(filename, when, interval, backupCount)\n",
    "* logging.handlers.HTTPHandler(host, url, method)\n",
    "* logging.handlers.SMTPHandler(mailhost, fromaddr, toaddrs, subject)\n",
    "* logging.handlers.SysLogHandler(address)\n",
    "* logging.NullHandler()"
   ],
   "metadata": {
    "collapsed": false,
    "pycharm": {
     "name": "#%% md\n"
    }
   }
  },
  {
   "cell_type": "code",
   "execution_count": 22,
   "outputs": [
    {
     "name": "stderr",
     "output_type": "stream",
     "text": [
      "__main__ - WARNING - This is a warning... Now, you be good! \n",
      "__main__ - WARNING - This is a warning... Now, you be good! \n",
      "__main__ - ERROR - This is an error. :( \n",
      "__main__ - ERROR - This is an error. :( \n"
     ]
    }
   ],
   "source": [
    "# Setting a log handler\n",
    "logger = logging.getLogger(__name__)\n",
    "\n",
    "# create handler\n",
    "stream_handler = logging.StreamHandler()\n",
    "file_handler = logging.FileHandler(\"file.log\")\n",
    "\n",
    "# setting level and format for handlers\n",
    "stream_handler.setLevel(logging.WARNING)\n",
    "file_handler.setLevel(logging.ERROR)\n",
    "\n",
    "# specify a formatter\n",
    "formatter = logging.Formatter('%(name)s - %(levelname)s - %(message)s')\n",
    "\n",
    "# Set the formatter\n",
    "stream_handler.setFormatter(formatter)\n",
    "file_handler.setFormatter(formatter)\n",
    "\n",
    "# hand the handler to the logger\n",
    "logger.addHandler(stream_handler)\n",
    "logger.addHandler(file_handler)\n",
    "\n",
    "# set logger messages\n",
    "logger.warning(\"This is a warning... Now, you be good! \")\n",
    "logger.error(\"This is an error. :( \")\n",
    "\n",
    "# Now we have a log file in the same directory as this file, which\n",
    "# will be logged to."
   ],
   "metadata": {
    "collapsed": false,
    "pycharm": {
     "name": "#%%\n"
    }
   }
  },
  {
   "cell_type": "markdown",
   "source": [
    "### OTHER CONFIGURATIONS: There is also DictConfiguration, etc (see documentation)"
   ],
   "metadata": {
    "collapsed": false,
    "pycharm": {
     "name": "#%% md\n"
    }
   }
  },
  {
   "cell_type": "code",
   "execution_count": 25,
   "outputs": [
    {
     "ename": "SyntaxError",
     "evalue": "invalid syntax (3245434057.py, line 32)",
     "output_type": "error",
     "traceback": [
      "\u001B[0;36m  Cell \u001B[0;32mIn [25], line 32\u001B[0;36m\u001B[0m\n\u001B[0;31m    class = streamHandler\u001B[0m\n\u001B[0m          ^\u001B[0m\n\u001B[0;31mSyntaxError\u001B[0m\u001B[0;31m:\u001B[0m invalid syntax\n"
     ]
    }
   ],
   "source": [
    "# A logging configuration file can be used instead of the above\n",
    "# method\n",
    "# The following would be the logging.conf file\n",
    "# In the main file, the following lines would be used\n",
    "# import logging.config\n",
    "# logging.config.fileConfig('logging.conf')\n",
    "\n",
    "# Specifying the name of the logger\n",
    "[loggers]\n",
    "keys = root, simpleExample\n",
    "\n",
    "# Specifying the handlers\n",
    "[handlers]\n",
    "keys = consoleHandler, fileHandler, stream_handler\n",
    "\n",
    "# Specifying the formatter\n",
    "[formatters]\n",
    "keys = simpleFormatter\n",
    "\n",
    "# Assigning the arguments to the loggers\n",
    "[logger_root]\n",
    "level = DEBUG\n",
    "handlers = consoleHandler\n",
    "\n",
    "[logger_simpleExample]\n",
    "level = INFO\n",
    "handlers = consolehandler\n",
    "qualname = simpleExample\n",
    "propagate = 0\n",
    "\n",
    "[handler_consoleHandler]\n",
    "class = streamHandler\n",
    "level = DEBUG\n",
    "formatter = simpleFormatter\n",
    "args = ('sys.stdout',)\n",
    "\n",
    "[formatter_]simpleFormatter\n",
    "format = %(asctime)s - %(name)s - %(levelname)s - %(message)s\n",
    "datefmt =\n",
    "\n"
   ],
   "metadata": {
    "collapsed": false,
    "pycharm": {
     "name": "#%%\n"
    }
   }
  },
  {
   "cell_type": "markdown",
   "source": [
    "### CAPTURING STACK TRACES in logs:\n",
    "Useful when code raises an exception."
   ],
   "metadata": {
    "collapsed": false,
    "pycharm": {
     "name": "#%% md\n"
    }
   }
  },
  {
   "cell_type": "code",
   "execution_count": 27,
   "outputs": [
    {
     "name": "stderr",
     "output_type": "stream",
     "text": [
      "2022-09-17 09:10:17,924 - root - ERROR - list index out of range\n",
      "Traceback (most recent call last):\n",
      "  File \"/var/folders/wx/x69ggs7s5cgd2gw98rpcp8bm0000gn/T/ipykernel_24789/889288480.py\", line 3, in <module>\n",
      "    val = a[4]\n",
      "IndexError: list index out of range\n"
     ]
    }
   ],
   "source": [
    "try:\n",
    "    a = [1, 2, 3]\n",
    "    val = a[4]\n",
    "except IndexError as e:\n",
    "    logging.error(e, exc_info = True)"
   ],
   "metadata": {
    "collapsed": false,
    "pycharm": {
     "name": "#%%\n"
    }
   }
  },
  {
   "cell_type": "code",
   "execution_count": 28,
   "outputs": [
    {
     "name": "stderr",
     "output_type": "stream",
     "text": [
      "2022-09-17 09:11:59,886 - root - ERROR - The error is Traceback (most recent call last):\n",
      "  File \"/var/folders/wx/x69ggs7s5cgd2gw98rpcp8bm0000gn/T/ipykernel_24789/147431224.py\", line 5, in <module>\n",
      "    val = a[4]\n",
      "IndexError: list index out of range\n",
      "\n"
     ]
    }
   ],
   "source": [
    "# If we do not know what kind of error will be raised:\n",
    "import traceback\n",
    "try:\n",
    "    a = [1, 2, 3]\n",
    "    val = a[4]\n",
    "except:\n",
    "    logging.error(\"The error is %s\", traceback.format_exc())"
   ],
   "metadata": {
    "collapsed": false,
    "pycharm": {
     "name": "#%%\n"
    }
   }
  },
  {
   "cell_type": "markdown",
   "source": [
    "## ROTATING FILE HANDLER:\n",
    "In a large app with a lot of logging messages, you can use a rotating file handler that keeps the file of all the logs small."
   ],
   "metadata": {
    "collapsed": false,
    "pycharm": {
     "name": "#%% md\n"
    }
   }
  },
  {
   "cell_type": "code",
   "execution_count": 30,
   "outputs": [],
   "source": [
    "from logging.handlers import RotatingFileHandler"
   ],
   "metadata": {
    "collapsed": false,
    "pycharm": {
     "name": "#%%\n"
    }
   }
  },
  {
   "cell_type": "code",
   "execution_count": 33,
   "outputs": [],
   "source": [
    "logger = logging.getLogger(__name__)\n",
    "logger.setLevel(logging.INFO)\n",
    "\n",
    "# roll over after 2KB and keep backup logs app.log.1, app.log.2, etc\n",
    "handler = RotatingFileHandler('app.log', maxBytes = 2000, backupCount=5)\n",
    "\n",
    "logger.addHandler(handler)\n",
    "\n",
    "# The following code exhibits the above\n",
    "# for _ in range(10000):\n",
    "#    logger.info('Hello, World!')"
   ],
   "metadata": {
    "collapsed": false,
    "pycharm": {
     "name": "#%%\n"
    }
   }
  },
  {
   "cell_type": "code",
   "execution_count": 35,
   "outputs": [],
   "source": [
    "from logging.handlers import TimedRotatingFileHandler\n",
    "import time"
   ],
   "metadata": {
    "collapsed": false,
    "pycharm": {
     "name": "#%%\n"
    }
   }
  },
  {
   "cell_type": "code",
   "execution_count": 37,
   "outputs": [
    {
     "ename": "KeyboardInterrupt",
     "evalue": "",
     "output_type": "error",
     "traceback": [
      "\u001B[0;31m---------------------------------------------------------------------------\u001B[0m",
      "\u001B[0;31mKeyboardInterrupt\u001B[0m                         Traceback (most recent call last)",
      "Cell \u001B[0;32mIn [37], line 16\u001B[0m\n\u001B[1;32m     14\u001B[0m \u001B[38;5;28;01mfor\u001B[39;00m _ \u001B[38;5;129;01min\u001B[39;00m \u001B[38;5;28mrange\u001B[39m(\u001B[38;5;241m6\u001B[39m):\n\u001B[1;32m     15\u001B[0m     logger\u001B[38;5;241m.\u001B[39minfo(\u001B[38;5;124m'\u001B[39m\u001B[38;5;124mHello, World!\u001B[39m\u001B[38;5;124m'\u001B[39m)\n\u001B[0;32m---> 16\u001B[0m     \u001B[43mtime\u001B[49m\u001B[38;5;241;43m.\u001B[39;49m\u001B[43msleep\u001B[49m\u001B[43m(\u001B[49m\u001B[38;5;241;43m5\u001B[39;49m\u001B[43m)\u001B[49m\n",
      "\u001B[0;31mKeyboardInterrupt\u001B[0m: "
     ]
    }
   ],
   "source": [
    "# Timed Rotating File Handler:\n",
    "\n",
    "logger = logging.getLogger(__name__)\n",
    "logger.setLevel(logging.INFO)\n",
    "\n",
    "# roll over? s for seconds, m for min, h for hour, a weekday, etc\n",
    "# This is set to seconds of 5, so every 5 seconds, a new file\n",
    "# will be created and continue logging\n",
    "handler = TimedRotatingFileHandler('timed_test.log', when='s', interval=5, backupCount=5)\n",
    "\n",
    "logger.addHandler(handler)\n",
    "\n",
    "# The following code exhibits the above\n",
    "for _ in range(6):\n",
    "    logger.info('Hello, World!')\n",
    "    time.sleep(5)   # Tell it to sleep for 5 sec"
   ],
   "metadata": {
    "collapsed": false,
    "pycharm": {
     "name": "#%%\n"
    }
   }
  },
  {
   "cell_type": "markdown",
   "source": [
    "### python-json-logger on GitHub for logging from many modules\n",
    "can be pip installed\n",
    "USAGE - explained on github"
   ],
   "metadata": {
    "collapsed": false,
    "pycharm": {
     "name": "#%% md\n"
    }
   }
  },
  {
   "cell_type": "code",
   "execution_count": null,
   "outputs": [],
   "source": [],
   "metadata": {
    "collapsed": false,
    "pycharm": {
     "name": "#%%\n"
    }
   }
  }
 ],
 "metadata": {
  "kernelspec": {
   "display_name": "Python 3",
   "language": "python",
   "name": "python3"
  },
  "language_info": {
   "codemirror_mode": {
    "name": "ipython",
    "version": 2
   },
   "file_extension": ".py",
   "mimetype": "text/x-python",
   "name": "python",
   "nbconvert_exporter": "python",
   "pygments_lexer": "ipython2",
   "version": "2.7.6"
  }
 },
 "nbformat": 4,
 "nbformat_minor": 0
}