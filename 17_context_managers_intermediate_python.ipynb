{
 "cells": [
  {
   "cell_type": "markdown",
   "source": [
    "# Intermediate Python\n",
    "### Patrick Loeber, python-engineer.com\n",
    "### https://www.youtube.com/watch?v=HGOBQPFzWKo\n",
    "(5:40:09)\n",
    "September 18, 2022"
   ],
   "metadata": {
    "collapsed": false,
    "pycharm": {
     "name": "#%% md\n"
    }
   }
  },
  {
   "cell_type": "markdown",
   "source": [
    "## CONTEXT MANAGERS:\n",
    "A great tool for resource management, allowing you to allocate and release resources precisely when you want to, such as the with-open statement"
   ],
   "metadata": {
    "collapsed": false,
    "pycharm": {
     "name": "#%% md\n"
    }
   }
  },
  {
   "cell_type": "code",
   "execution_count": 3,
   "outputs": [],
   "source": [
    "# OPENING AND CLOSING FILES\n",
    "# Using with-open, the context manager will close the file when\n",
    "# we get outside of the with-open block, even if there is an\n",
    "# exception:\n",
    "\n",
    "with open('notes.txt', 'w') as file:\n",
    "    file.write('some todo')\n",
    "\n",
    "\n",
    "# In full code, it looks like (much longer, less concise):\n",
    "file = open('notes.txt', 'w')\n",
    "try:\n",
    "    file.write('some todo')\n",
    "finally: # executed with or without an exception\n",
    "    file.close()"
   ],
   "metadata": {
    "collapsed": false,
    "pycharm": {
     "name": "#%%\n"
    }
   }
  },
  {
   "cell_type": "code",
   "execution_count": 4,
   "outputs": [
    {
     "ename": "SyntaxError",
     "evalue": "incomplete input (2244950998.py, line 11)",
     "output_type": "error",
     "traceback": [
      "\u001B[0;36m  Cell \u001B[0;32mIn [4], line 11\u001B[0;36m\u001B[0m\n\u001B[0;31m    with lock:      # automatically acquires and releases\u001B[0m\n\u001B[0m                                                         ^\u001B[0m\n\u001B[0;31mSyntaxError\u001B[0m\u001B[0;31m:\u001B[0m incomplete input\n"
     ]
    }
   ],
   "source": [
    "# MULTITHREADING AND PROCESSING with LOCK\n",
    "from threading import Lock\n",
    "lock = Lock()\n",
    "\n",
    "lock.acquire()\n",
    "# threadsafe\n",
    "lock.release()  # We must remember to close after lock.acquire\n",
    "\n",
    "\n",
    "# BETTER WAY:\n",
    "with lock:      # automatically acquires and releases"
   ],
   "metadata": {
    "collapsed": false,
    "pycharm": {
     "name": "#%%\n"
    }
   }
  },
  {
   "cell_type": "code",
   "execution_count": 10,
   "outputs": [
    {
     "name": "stdout",
     "output_type": "stream",
     "text": [
      "init\n",
      "enter\n",
      "Do some stuff.\n",
      "Exception has been handled.\n",
      "exit\n",
      "Continuing here.\n"
     ]
    }
   ],
   "source": [
    "# CONTEXT MANAGER as a CUSTOM CLASS\n",
    "\n",
    "class ManageFile:\n",
    "    def __init__(self, filename):\n",
    "        print('init')\n",
    "        self.filename = filename\n",
    "\n",
    "\n",
    "    # ENTER = executed when entering the with statement\n",
    "    # Here we need to allocate our resource\n",
    "    def __enter__(self):\n",
    "        print(\"enter\")\n",
    "        # allocating resource\n",
    "        self.file = open(self.filename, 'w')\n",
    "        # return the allocated resource\n",
    "        return self.file\n",
    "\n",
    "\n",
    "    # Correctly close the file\n",
    "    def __exit__(self, exc_type, exc_value, exc_traceback):\n",
    "        if self.file:\n",
    "            self.file.close()\n",
    "        if exc_type is not None:\n",
    "            print(\"Exception has been handled.\")\n",
    "        #print(\"exception\", exc_type, exc_value)\n",
    "        print('exit')\n",
    "        return True\n",
    "\n",
    "with ManageFile('notes.txt') as file:\n",
    "    print('Do some stuff.')\n",
    "    file.write('some todo')\n",
    "    file.somemethod()\n",
    "print(\"Continuing here.\")"
   ],
   "metadata": {
    "collapsed": false,
    "pycharm": {
     "name": "#%%\n"
    }
   }
  },
  {
   "cell_type": "code",
   "execution_count": null,
   "outputs": [],
   "source": [
    "# CONTEXT MANAGER as a FUNCTION:\n",
    "from contextlib import contextmanager\n",
    "\n",
    "@contextmanager\n",
    "def open_manage_file(filename):\n",
    "    # Allocating the resource\n",
    "    f = open(filename, 'w')\n",
    "    # Try would include everything that is in the enter\n",
    "    # function above.\n",
    "    # Trying to yield the resource\n",
    "    try:\n",
    "        yield f\n",
    "    # finally would contain everything that is in the exit\n",
    "    # function above.\n",
    "    # Generator pauses here while the file is being worked\n",
    "    # with\n",
    "    finally:\n",
    "        f.close()\n",
    "\n",
    "with open_manage_file('notes.txt') as f:\n",
    "    f.write('something good.')"
   ],
   "metadata": {
    "collapsed": false,
    "pycharm": {
     "name": "#%%\n"
    }
   }
  }
 ],
 "metadata": {
  "kernelspec": {
   "display_name": "Python 3",
   "language": "python",
   "name": "python3"
  },
  "language_info": {
   "codemirror_mode": {
    "name": "ipython",
    "version": 2
   },
   "file_extension": ".py",
   "mimetype": "text/x-python",
   "name": "python",
   "nbconvert_exporter": "python",
   "pygments_lexer": "ipython2",
   "version": "2.7.6"
  }
 },
 "nbformat": 4,
 "nbformat_minor": 0
}