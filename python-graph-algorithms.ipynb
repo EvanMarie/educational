{
 "cells": [
  {
   "cell_type": "markdown",
   "id": "variable-garbage",
   "metadata": {},
   "source": [
    "# Graph Algorithms (BFS, DFS, Shortest Paths) using Python\n",
    "\n",
    "### Part 5 of \"Data Structures and Algorithms in Python\"\n",
    "\n",
    "[Data Structures and Algorithms in Python](https://jovian.ai/learn/data-structures-and-algorithms-in-python) is a beginner-friendly introduction to common data structures (linked lists, stacks, queues, graphs) and algorithms (search, sorting, recursion, dynamic programming) in Python, designed to help you prepare for coding interviews and assessments. \n",
    "\n",
    "Ask questions, get help & participate in discussions on the [course community forum](https://jovian.ai/forum/c/data-structures-and-algorithms-in-python/78). Earn a verified certificate of accomplishment for this course by signing up here: http://pythondsa.com.  \n",
    "\n"
   ]
  },
  {
   "cell_type": "markdown",
   "id": "acceptable-clearance",
   "metadata": {},
   "source": [
    "### How to Run the Code\n",
    "\n",
    "The best way to learn the material is to execute the code and experiment with it yourself. This tutorial is an executable [Jupyter notebook](https://jupyter.org). You can _run_ this tutorial and experiment with the code examples in a couple of ways: *using free online resources* (recommended) or *on your computer*.\n",
    "\n",
    "#### Option 1: Running using free online resources (1-click, recommended)\n",
    "\n",
    "The easiest way to start executing the code is to click the **Run** button at the top of this page and select **Run on Binder**. You can also select \"Run on Colab\" or \"Run on Kaggle\", but you'll need to create an account on [Google Colab](https://colab.research.google.com) or [Kaggle](https://kaggle.com) to use these platforms.\n",
    "\n",
    "\n",
    "#### Option 2: Running on your computer locally\n",
    "\n",
    "To run the code on your computer locally, you'll need to set up [Python](https://www.python.org), download the notebook and install the required libraries. We recommend using the [Conda](https://docs.conda.io/projects/conda/en/latest/user-guide/install/) distribution of Python. Click the **Run** button at the top of this page, select the **Run Locally** option, and follow the instructions.\n",
    "\n"
   ]
  },
  {
   "cell_type": "markdown",
   "id": "polyphonic-brisbane",
   "metadata": {},
   "source": [
    "## Graphs in the Real World\n",
    "\n",
    "### Railway network\n",
    "\n",
    "![](https://i.imgur.com/uSF6AEJ.png)\n",
    "\n",
    "### Flight routes\n",
    "\n",
    "![](https://www.mapsales.com/products/mapsofworld/images/zoom/world-air-route-wall-map.gif)\n",
    "\n",
    "### Hyperlinks\n",
    "\n",
    "![](https://i.imgur.com/hlGDYn2.png)"
   ]
  },
  {
   "cell_type": "code",
   "execution_count": null,
   "id": "60f26123",
   "metadata": {},
   "outputs": [],
   "source": []
  },
  {
   "cell_type": "markdown",
   "id": "stretch-superior",
   "metadata": {},
   "source": [
    "## Graph Data Strucutre\n",
    "\n",
    "![](https://i.imgur.com/xkgMnwx.png)\n",
    "\n"
   ]
  },
  {
   "cell_type": "code",
   "execution_count": 1,
   "id": "settled-medicaid",
   "metadata": {},
   "outputs": [
    {
     "data": {
      "text/plain": [
       "(5, 7)"
      ]
     },
     "execution_count": 1,
     "metadata": {},
     "output_type": "execute_result"
    }
   ],
   "source": [
    "# Simplest way to represent the above node/edge relationships\n",
    "# But not very efficient. Must loop through all to get info\n",
    "# Will be more efficient to store information within nodes, edges\n",
    "\n",
    "number_nodes = 5 \n",
    "\n",
    "# Represented using a list of bi-directional pairs\n",
    "edges = [(0,1), (0,4), (1,4), (1,2), (2,3), (1,3), (3,4)] \n",
    "\n",
    "number_nodes, len(edges)"
   ]
  },
  {
   "cell_type": "markdown",
   "id": "white-outdoors",
   "metadata": {},
   "source": [
    "### Adjacency Lists\n",
    "\n",
    "![](https://i.imgur.com/rgMwkIW.png)\n",
    "\n",
    "\n",
    "> **Question**: Create a class to represent a graph as an adjacency list in Python"
   ]
  },
  {
   "cell_type": "code",
   "execution_count": 2,
   "id": "d6f165c0",
   "metadata": {},
   "outputs": [
    {
     "data": {
      "text/plain": [
       "[[], [], [], [], []]"
      ]
     },
     "execution_count": 2,
     "metadata": {},
     "output_type": "execute_result"
    }
   ],
   "source": [
    "[[],[],[],[],[]]  # We will need a list of empty lists for our adjacency list"
   ]
  },
  {
   "cell_type": "code",
   "execution_count": 3,
   "id": "dffe0aea",
   "metadata": {},
   "outputs": [
    {
     "data": {
      "text/plain": [
       "[[], [], [], [], [], [], [], [], [], []]"
      ]
     },
     "execution_count": 3,
     "metadata": {},
     "output_type": "execute_result"
    }
   ],
   "source": [
    "# cannot do this because it will be the same list repeated and will all be the same\n",
    "list1 = [[]] * 10\n",
    "list1"
   ]
  },
  {
   "cell_type": "code",
   "execution_count": 4,
   "id": "073d5480",
   "metadata": {
    "scrolled": true
   },
   "outputs": [],
   "source": [
    "# Can do this though:\n",
    "list2 = [[] for x in range(10)]"
   ]
  },
  {
   "cell_type": "code",
   "execution_count": 5,
   "id": "f599ce9c",
   "metadata": {},
   "outputs": [
    {
     "data": {
      "text/plain": [
       "[[1], [], [], [], [], [], [], [], [], []]"
      ]
     },
     "execution_count": 5,
     "metadata": {},
     "output_type": "execute_result"
    }
   ],
   "source": [
    "list2[0].append(1)\n",
    "list2"
   ]
  },
  {
   "cell_type": "code",
   "execution_count": 6,
   "id": "b25b15a9",
   "metadata": {
    "scrolled": true
   },
   "outputs": [
    {
     "name": "stdout",
     "output_type": "stream",
     "text": [
      "(0, 1)\n",
      "(0, 4)\n",
      "(1, 4)\n",
      "(1, 2)\n",
      "(2, 3)\n",
      "(1, 3)\n",
      "(3, 4)\n"
     ]
    }
   ],
   "source": [
    "# Our edges as defined above:\n",
    "for edge in edges:\n",
    "    print(edge)"
   ]
  },
  {
   "cell_type": "code",
   "execution_count": 7,
   "id": "a33739e3",
   "metadata": {},
   "outputs": [
    {
     "name": "stdout",
     "output_type": "stream",
     "text": [
      "node 1:  0    node 2:  1\n",
      "node 1:  0    node 2:  4\n",
      "node 1:  1    node 2:  4\n",
      "node 1:  1    node 2:  2\n",
      "node 1:  2    node 2:  3\n",
      "node 1:  1    node 2:  3\n",
      "node 1:  3    node 2:  4\n"
     ]
    }
   ],
   "source": [
    "# Can also isolate each node associated with the edge:\n",
    "for node1, node2 in edges:\n",
    "    print(\"node 1: \", node1, \"  \",  \"node 2: \",node2)"
   ]
  },
  {
   "cell_type": "code",
   "execution_count": 8,
   "id": "premium-prison",
   "metadata": {},
   "outputs": [],
   "source": [
    "class Graph:\n",
    "    def __init__(self, number_nodes, edges):\n",
    "        self.number_nodes = number_nodes\n",
    "        self.data = [[] for x in range(number_nodes)]\n",
    "        for node1, node2 in edges:\n",
    "            # Set up the graph:\n",
    "            self.data[node1].append(node2)\n",
    "            self.data[node2].append(node1)\n",
    "            \n",
    "    \n",
    "    # S0 we can make pretty printings of our data\n",
    "    # outputs an object rather than the string form\n",
    "    def __repr__(self):\n",
    "        # See what enumerate on a list does below\n",
    "        # for each node and neighbor in the data, creates a string with placeholders \n",
    "        # set for node and neighbors belonging to it, separated by a colon (as a list)\n",
    "        return \"\\n\".join([\"{}: {}\".format(node1, neighbors) for node1, neighbors in enumerate(graph1.data)])\n",
    "        \n",
    "        \n",
    "    # This is called when we print(), str(), insert() for graph1, etc.\n",
    "    def __str__(self):\n",
    "        return self.__repr__()\n",
    "    \n",
    "    \n",
    "    # Question: Write a function to add an edge to a graph represented as an adjacency list.\n",
    "    def add_edge(self, node1, node2):\n",
    "        self.data[node1].append(node2)\n",
    "        self.data[node2].append(node1)\n",
    "\n",
    "    \n",
    "    \n",
    "    # Question: Write a function to remove an edge from a graph represented as a adjacency list.\n",
    "    def remove_edge(self, node1, node2):\n",
    "        self.data[node1].remove(node2)\n",
    "        self.data[node2].remove(node1)\n",
    "\n",
    "    \n",
    "    "
   ]
  },
  {
   "cell_type": "code",
   "execution_count": 9,
   "id": "00621c11",
   "metadata": {},
   "outputs": [
    {
     "data": {
      "text/plain": [
       "<enumerate at 0x7f5eb0689b00>"
      ]
     },
     "execution_count": 9,
     "metadata": {},
     "output_type": "execute_result"
    }
   ],
   "source": [
    "enumerate([4, 5, 6, 7, 8])  # Creates an iterable object"
   ]
  },
  {
   "cell_type": "code",
   "execution_count": 10,
   "id": "a3c53813",
   "metadata": {},
   "outputs": [
    {
     "name": "stdout",
     "output_type": "stream",
     "text": [
      "(0, 4)\n",
      "(1, 5)\n",
      "(2, 6)\n",
      "(3, 7)\n",
      "(4, 8)\n"
     ]
    }
   ],
   "source": [
    "# So we can iterate over it and get the index and the value:\n",
    "for x in enumerate([4, 5, 6, 7, 8]):\n",
    "    print(x)"
   ]
  },
  {
   "cell_type": "code",
   "execution_count": 11,
   "id": "improving-section",
   "metadata": {},
   "outputs": [],
   "source": [
    "graph1 = Graph(number_nodes, edges)"
   ]
  },
  {
   "cell_type": "code",
   "execution_count": 12,
   "id": "speaking-routine",
   "metadata": {},
   "outputs": [
    {
     "data": {
      "text/plain": [
       "[[1, 4], [0, 4, 2, 3], [1, 3], [2, 1, 4], [0, 1, 3]]"
      ]
     },
     "execution_count": 12,
     "metadata": {},
     "output_type": "execute_result"
    }
   ],
   "source": [
    "graph1.data"
   ]
  },
  {
   "cell_type": "code",
   "execution_count": 13,
   "id": "viral-pendant",
   "metadata": {
    "scrolled": true
   },
   "outputs": [
    {
     "name": "stdout",
     "output_type": "stream",
     "text": [
      "(0, [1, 4])\n",
      "(1, [0, 4, 2, 3])\n",
      "(2, [1, 3])\n",
      "(3, [2, 1, 4])\n",
      "(4, [0, 1, 3])\n"
     ]
    }
   ],
   "source": [
    "for x in enumerate(graph1.data):\n",
    "    print(x)"
   ]
  },
  {
   "cell_type": "code",
   "execution_count": 14,
   "id": "e817abf4",
   "metadata": {},
   "outputs": [
    {
     "data": {
      "text/plain": [
       "['0:[1, 4]', '1:[0, 4, 2, 3]', '2:[1, 3]', '3:[2, 1, 4]', '4:[0, 1, 3]']"
      ]
     },
     "execution_count": 14,
     "metadata": {},
     "output_type": "execute_result"
    }
   ],
   "source": [
    "# for each node and neighbor in the data, creates a string with placeholders \n",
    "# set for node and neighbors belonging to it, separated by a colon (as a list)\n",
    "\n",
    "[\"{}:{}\".format(node1, neighbors) for node1, neighbors in enumerate(graph1.data)]"
   ]
  },
  {
   "cell_type": "code",
   "execution_count": 15,
   "id": "62d3cfea",
   "metadata": {},
   "outputs": [
    {
     "data": {
      "text/plain": [
       "'0:[1, 4]\\n1:[0, 4, 2, 3]\\n2:[1, 3]\\n3:[2, 1, 4]\\n4:[0, 1, 3]'"
      ]
     },
     "execution_count": 15,
     "metadata": {},
     "output_type": "execute_result"
    }
   ],
   "source": [
    "# To join the above strings together as one string representing the adjacency list\n",
    "# we have put this into the __repr__\n",
    "\n",
    "\"\\n\".join([\"{}:{}\".format(node1, neighbors) for node1, neighbors in enumerate(graph1.data)])"
   ]
  },
  {
   "cell_type": "code",
   "execution_count": 16,
   "id": "2a280820",
   "metadata": {},
   "outputs": [
    {
     "name": "stdout",
     "output_type": "stream",
     "text": [
      "0: [1, 4]\n",
      "1: [0, 4, 2, 3]\n",
      "2: [1, 3]\n",
      "3: [2, 1, 4]\n",
      "4: [0, 1, 3]\n"
     ]
    }
   ],
   "source": [
    "print(graph1)"
   ]
  },
  {
   "cell_type": "markdown",
   "id": "english-action",
   "metadata": {},
   "source": [
    "> **Question**: Write a function to add an edge to a graph represented as an adjacency list. \n",
    "\n",
    "> **Question**: Write a function to remove an edge from a graph represented as a adjacency list.\n"
   ]
  },
  {
   "cell_type": "code",
   "execution_count": 17,
   "id": "7209e09c",
   "metadata": {
    "scrolled": true
   },
   "outputs": [],
   "source": [
    "graph1.add_edge(3, 0)"
   ]
  },
  {
   "cell_type": "code",
   "execution_count": 18,
   "id": "81b0e123",
   "metadata": {},
   "outputs": [
    {
     "name": "stdout",
     "output_type": "stream",
     "text": [
      "(0, [1, 4, 3])\n",
      "(1, [0, 4, 2, 3])\n",
      "(2, [1, 3])\n",
      "(3, [2, 1, 4, 0])\n",
      "(4, [0, 1, 3])\n"
     ]
    }
   ],
   "source": [
    "for x in enumerate(graph1.data):\n",
    "    print(x)"
   ]
  },
  {
   "cell_type": "code",
   "execution_count": 19,
   "id": "c7ab2273",
   "metadata": {},
   "outputs": [],
   "source": [
    "graph1.remove_edge(3, 0)"
   ]
  },
  {
   "cell_type": "code",
   "execution_count": 20,
   "id": "499ae193",
   "metadata": {},
   "outputs": [
    {
     "name": "stdout",
     "output_type": "stream",
     "text": [
      "(0, [1, 4])\n",
      "(1, [0, 4, 2, 3])\n",
      "(2, [1, 3])\n",
      "(3, [2, 1, 4])\n",
      "(4, [0, 1, 3])\n"
     ]
    }
   ],
   "source": [
    "for x in enumerate(graph1.data):\n",
    "    print(x)"
   ]
  },
  {
   "cell_type": "code",
   "execution_count": 21,
   "id": "nasty-alberta",
   "metadata": {},
   "outputs": [],
   "source": [
    "!pip install jovian --upgrade --quiet"
   ]
  },
  {
   "cell_type": "code",
   "execution_count": 22,
   "id": "renewable-consumption",
   "metadata": {},
   "outputs": [],
   "source": [
    "import jovian"
   ]
  },
  {
   "cell_type": "code",
   "execution_count": 23,
   "id": "collaborative-reduction",
   "metadata": {},
   "outputs": [
    {
     "data": {
      "application/javascript": [
       "window.require && require([\"base/js/namespace\"],function(Jupyter){Jupyter.notebook.save_checkpoint()})"
      ],
      "text/plain": [
       "<IPython.core.display.Javascript object>"
      ]
     },
     "metadata": {},
     "output_type": "display_data"
    },
    {
     "name": "stdout",
     "output_type": "stream",
     "text": [
      "[jovian] Updating notebook \"evanmarie/python-graph-algorithms\" on https://jovian.ai\u001b[0m\n",
      "[jovian] Committed successfully! https://jovian.ai/evanmarie/python-graph-algorithms\u001b[0m\n"
     ]
    },
    {
     "data": {
      "text/plain": [
       "'https://jovian.ai/evanmarie/python-graph-algorithms'"
      ]
     },
     "execution_count": 23,
     "metadata": {},
     "output_type": "execute_result"
    }
   ],
   "source": [
    "jovian.commit()"
   ]
  },
  {
   "cell_type": "markdown",
   "id": "potential-native",
   "metadata": {},
   "source": [
    "### Adjacency Matrix\n",
    "\n",
    "![](https://i.imgur.com/oswYKTW.png)\n",
    "\n",
    "> **Question**: Represent a graph as an adjacency matrix in Python"
   ]
  },
  {
   "cell_type": "code",
   "execution_count": 24,
   "id": "sensitive-iraqi",
   "metadata": {},
   "outputs": [],
   "source": [
    "nodes = 5"
   ]
  },
  {
   "cell_type": "code",
   "execution_count": 25,
   "id": "alleged-means",
   "metadata": {},
   "outputs": [
    {
     "data": {
      "text/plain": [
       "[[[0], [0], [0], [0], [0]],\n",
       " [[0], [0], [0], [0], [0]],\n",
       " [[0], [0], [0], [0], [0]],\n",
       " [[0], [0], [0], [0], [0]],\n",
       " [[0], [0], [0], [0], [0]]]"
      ]
     },
     "execution_count": 25,
     "metadata": {},
     "output_type": "execute_result"
    }
   ],
   "source": [
    "graph2 = [[[0] for x in range(number_nodes)] for x in range(number_nodes)]\n",
    "graph2"
   ]
  },
  {
   "cell_type": "markdown",
   "id": "spatial-howard",
   "metadata": {},
   "source": [
    "## Graph Traversal\n",
    "\n",
    "\n",
    "### Breadth-First Search\n",
    "\n",
    "A real-world graph:\n",
    "\n",
    "![](https://upload.wikimedia.org/wikipedia/commons/thumb/a/ad/MapGermanyGraph.svg/500px-MapGermanyGraph.svg.png)\n",
    "\n",
    "Breadth-fist search tree (starting from Frankfurt):\n",
    "\n",
    "![](https://upload.wikimedia.org/wikipedia/commons/thumb/6/63/GermanyBFS.svg/500px-GermanyBFS.svg.png)\n",
    "\n",
    "> **Question**: Implement breadth-first search given a source node in a graph using Python.\n",
    "\n",
    "\n",
    "<img src=\"https://i.imgur.com/E2Up1Pk.png\" width=\"400\">\n",
    "\n",
    "BFS pseudocode (Wikipedia):\n",
    "\n",
    "```\n",
    " 1  procedure BFS(G, root) is\n",
    " 2      let Q be a queue\n",
    " 3      label root as discovered\n",
    " 4      Q.enqueue(root)\n",
    " 5      while Q is not empty do\n",
    " 6          v := Q.dequeue()\n",
    " 7          if v is the goal then\n",
    " 8              return v\n",
    " 9          for all edges from v to w in G.adjacentEdges(v) do\n",
    "10              if w is not labeled as discovered then\n",
    "11                  label w as discovered\n",
    "12                  Q.enqueue(w)\n",
    "```\n",
    "\n"
   ]
  },
  {
   "cell_type": "markdown",
   "id": "czech-encounter",
   "metadata": {},
   "source": [
    "<img src=\"https://cdn.programiz.com/sites/tutorial2program/files/queue-implementation.png\" width=\"400\">"
   ]
  },
  {
   "cell_type": "code",
   "execution_count": 26,
   "id": "animated-physiology",
   "metadata": {},
   "outputs": [],
   "source": [
    "def breadth_first(graph, root):\n",
    "    \n",
    "    # create queue list\n",
    "    queue = []\n",
    "    # start with all nodes as a list marked undiscovered for the entirety \n",
    "    # of the graph\n",
    "    discovered = [False] * len(graph.data)\n",
    "    \n",
    "    # track distance (number of edges) for each node\n",
    "    distance = [None] * len(graph.data)\n",
    "    \n",
    "    # dictionary, parent, keeps track of which nodes caused others to\n",
    "    # be discovered (allows for easy backtracking as well)\n",
    "    parent = [None] * len(graph.data)\n",
    "    \n",
    "    # mark the root node as discovered and add to queue\n",
    "    discovered[root] = True\n",
    "    queue.append(root)\n",
    "    # in the beginning, starting with root, no edges are known\n",
    "    distance[root] = 0\n",
    "    # Set up index to track the first available item in the queue, FIFO\n",
    "    index = 0\n",
    "    \n",
    "    while index < len(queue):\n",
    "        # acquire the first-in element, which we will call current, dequeue\n",
    "        current = queue[index]\n",
    "        # update the index\n",
    "        index += 1\n",
    "        \n",
    "    \n",
    "        # check edges of current node (contained in self.data for current)\n",
    "        for node in graph.data[current]:\n",
    "        # if this node has not yet been discovered (is False in discovered list)\n",
    "            if not discovered[node]: \n",
    "                # the distance for this node is 1 more than that of the current\n",
    "                # node which caused it to be discovered\n",
    "                distance[node] = 1 + distance[current]\n",
    "                # setting parent as node which cased this one to be discovered\n",
    "                parent[node] = current\n",
    "                # mark as discovered and add to the queue\n",
    "                discovered[node] = True\n",
    "                queue.append(node)\n",
    "            \n",
    "    return queue, distance, parent"
   ]
  },
  {
   "cell_type": "code",
   "execution_count": 27,
   "id": "disabled-washington",
   "metadata": {},
   "outputs": [
    {
     "data": {
      "text/plain": [
       "([3, 2, 1, 4, 0], [2, 1, 1, 0, 1], [1, 3, 3, None, 3])"
      ]
     },
     "execution_count": 27,
     "metadata": {},
     "output_type": "execute_result"
    }
   ],
   "source": [
    "breadth_first(graph1, 3)"
   ]
  },
  {
   "cell_type": "code",
   "execution_count": 28,
   "id": "abstract-gibraltar",
   "metadata": {},
   "outputs": [],
   "source": [
    "import jovian"
   ]
  },
  {
   "cell_type": "code",
   "execution_count": 29,
   "id": "portuguese-consequence",
   "metadata": {},
   "outputs": [
    {
     "data": {
      "application/javascript": [
       "window.require && require([\"base/js/namespace\"],function(Jupyter){Jupyter.notebook.save_checkpoint()})"
      ],
      "text/plain": [
       "<IPython.core.display.Javascript object>"
      ]
     },
     "metadata": {},
     "output_type": "display_data"
    },
    {
     "name": "stdout",
     "output_type": "stream",
     "text": [
      "[jovian] Updating notebook \"evanmarie/python-graph-algorithms\" on https://jovian.ai\u001b[0m\n",
      "[jovian] Committed successfully! https://jovian.ai/evanmarie/python-graph-algorithms\u001b[0m\n"
     ]
    },
    {
     "data": {
      "text/plain": [
       "'https://jovian.ai/evanmarie/python-graph-algorithms'"
      ]
     },
     "execution_count": 29,
     "metadata": {},
     "output_type": "execute_result"
    }
   ],
   "source": [
    "jovian.commit()"
   ]
  },
  {
   "cell_type": "markdown",
   "id": "synthetic-defense",
   "metadata": {},
   "source": [
    "> **Question**: Write a program to check if all the nodes in a graph are connected\n",
    "\n",
    "![](http://www.martinbroadhurst.com/images/connected_components.png)"
   ]
  },
  {
   "cell_type": "code",
   "execution_count": 30,
   "id": "premium-cincinnati",
   "metadata": {},
   "outputs": [
    {
     "data": {
      "text/plain": [
       "(9, 8)"
      ]
     },
     "execution_count": 30,
     "metadata": {},
     "output_type": "execute_result"
    }
   ],
   "source": [
    "num_nodes3 = 9\n",
    "edges3 = [(0, 1), (0, 3), (1, 2), (2, 3), (4, 5), (4, 6), (5, 6), (7, 8)]\n",
    "num_nodes3, len(edges3)"
   ]
  },
  {
   "cell_type": "markdown",
   "id": "parliamentary-veteran",
   "metadata": {},
   "source": [
    "## Depth-first search\n",
    "\n",
    "![](https://upload.wikimedia.org/wikipedia/commons/thumb/7/7f/Depth-First-Search.gif/440px-Depth-First-Search.gif)\n",
    "\n",
    "\n",
    "> **Question**: Implement depth first search from a given node in a graph using Python.\n",
    "\n",
    "<img src=\"https://i.imgur.com/E2Up1Pk.png\" width=\"400\">\n",
    "\n",
    "DFS pseudocode (Wikipedia):\n",
    "\n",
    "```\n",
    "procedure DFS_iterative(G, v) is\n",
    "    let S be a stack\n",
    "    S.push(v)\n",
    "    while S is not empty do\n",
    "        v = S.pop()\n",
    "        if v is not labeled as discovered then\n",
    "            label v as discovered\n",
    "            for all edges from v to w in G.adjacentEdges(v) do \n",
    "                S.push(w)\n",
    "```\n",
    "\n",
    "\n"
   ]
  },
  {
   "cell_type": "markdown",
   "id": "descending-amber",
   "metadata": {},
   "source": [
    "<img src=\"https://cdn.programiz.com/sites/tutorial2program/files/stack.png\" width=\"400\">"
   ]
  },
  {
   "cell_type": "code",
   "execution_count": 31,
   "id": "informal-christmas",
   "metadata": {},
   "outputs": [],
   "source": [
    "def depth_first(graph, root):\n",
    "    \n",
    "    # create stack\n",
    "    stack = []\n",
    "    \n",
    "    # the entirety of the graph starts out undiscovered\n",
    "    discovered = [False] * len(graph.data)\n",
    "    \n",
    "    # track parents of nodes\n",
    "    parent = [None] * len(graph.data)\n",
    "    \n",
    "    # result list = store of the results of nodes that have been popped\n",
    "    results = []\n",
    "    \n",
    "    # add root to the stack\n",
    "    stack.append(root)\n",
    "    # do not mark discovered until removing from stack\n",
    "    \n",
    "    # if there is anything in the stack\n",
    "    while len(stack) > 0:\n",
    "        \n",
    "        # the current node is the last node of the stack\n",
    "        # which we pop out \n",
    "        current = stack.pop()\n",
    "        \n",
    "        # will get duplicate values in result if we do not\n",
    "        # check now whether or not the current has been discovered\n",
    "        if not discovered[current]:\n",
    "            \n",
    "            # mark current as discovered\n",
    "            discovered[current] = True\n",
    "\n",
    "            # add current to the result list\n",
    "            results.append(current)\n",
    "\n",
    "            # loop adding all nodes to stack if they have not been discovered\n",
    "            for node in graph.data[current]:\n",
    "                \n",
    "                if not discovered[node]:\n",
    "                    # setting parent as node which cased this one to be discovered\n",
    "                    parent[node] = current\n",
    "                    stack.append(node)\n",
    "        \n",
    "    return results"
   ]
  },
  {
   "cell_type": "code",
   "execution_count": 32,
   "id": "511b860e",
   "metadata": {},
   "outputs": [
    {
     "data": {
      "text/plain": [
       "[3, 4, 1, 2, 0]"
      ]
     },
     "execution_count": 32,
     "metadata": {},
     "output_type": "execute_result"
    }
   ],
   "source": [
    "depth_first(graph1, 3)"
   ]
  },
  {
   "cell_type": "code",
   "execution_count": 33,
   "id": "arabic-machine",
   "metadata": {
    "scrolled": true
   },
   "outputs": [
    {
     "data": {
      "text/plain": [
       "0: [1, 4]\n",
       "1: [0, 4, 2, 3]\n",
       "2: [1, 3]\n",
       "3: [2, 1, 4]\n",
       "4: [0, 1, 3]"
      ]
     },
     "execution_count": 33,
     "metadata": {},
     "output_type": "execute_result"
    }
   ],
   "source": [
    "graph1"
   ]
  },
  {
   "cell_type": "code",
   "execution_count": 34,
   "id": "lesser-opinion",
   "metadata": {},
   "outputs": [],
   "source": [
    "import jovian"
   ]
  },
  {
   "cell_type": "code",
   "execution_count": 35,
   "id": "hungry-increase",
   "metadata": {},
   "outputs": [
    {
     "data": {
      "application/javascript": [
       "window.require && require([\"base/js/namespace\"],function(Jupyter){Jupyter.notebook.save_checkpoint()})"
      ],
      "text/plain": [
       "<IPython.core.display.Javascript object>"
      ]
     },
     "metadata": {},
     "output_type": "display_data"
    },
    {
     "name": "stdout",
     "output_type": "stream",
     "text": [
      "[jovian] Updating notebook \"evanmarie/python-graph-algorithms\" on https://jovian.ai\u001b[0m\n",
      "[jovian] Committed successfully! https://jovian.ai/evanmarie/python-graph-algorithms\u001b[0m\n"
     ]
    },
    {
     "data": {
      "text/plain": [
       "'https://jovian.ai/evanmarie/python-graph-algorithms'"
      ]
     },
     "execution_count": 35,
     "metadata": {},
     "output_type": "execute_result"
    }
   ],
   "source": [
    "jovian.commit()"
   ]
  },
  {
   "cell_type": "markdown",
   "id": "together-blogger",
   "metadata": {},
   "source": [
    "> **Question**: Write a function to detect a cycle in a graph\n",
    "\n",
    "![](https://tutorialspoint.dev/image/cycleGraph.png)"
   ]
  },
  {
   "cell_type": "markdown",
   "id": "broke-carroll",
   "metadata": {},
   "source": [
    "### Weighted Graphs\n",
    "\n",
    "![](https://i.imgur.com/wy7ZHRW.png)\n",
    "\n"
   ]
  },
  {
   "cell_type": "code",
   "execution_count": 36,
   "id": "eligible-equipment",
   "metadata": {},
   "outputs": [
    {
     "data": {
      "text/plain": [
       "0: [1, 4]\n",
       "1: [0, 4, 2, 3]\n",
       "2: [1, 3]\n",
       "3: [2, 1, 4]\n",
       "4: [0, 1, 3]"
      ]
     },
     "execution_count": 36,
     "metadata": {},
     "output_type": "execute_result"
    }
   ],
   "source": [
    "# Graph with weights\n",
    "num_nodes5 = 9\n",
    "edges5 = [(0, 1, 3), (0, 3, 2), (0, 8, 4), (1, 7, 4), (2, 7, 2), (2, 3, 6), \n",
    "          (2, 5, 1), (3, 4, 1), (4, 8, 8), (5, 6, 8)]\n",
    "\n",
    "graph2 = Graph(number_nodes, edges)\n",
    "graph2\n"
   ]
  },
  {
   "cell_type": "markdown",
   "id": "abstract-return",
   "metadata": {},
   "source": [
    "### Directed Graphs\n",
    "\n",
    "<img src=\"https://i.imgur.com/8AN7EUV.png\" width=\"480\">"
   ]
  },
  {
   "cell_type": "code",
   "execution_count": 37,
   "id": "fitted-kruger",
   "metadata": {},
   "outputs": [
    {
     "data": {
      "text/plain": [
       "(5, 6)"
      ]
     },
     "execution_count": 37,
     "metadata": {},
     "output_type": "execute_result"
    }
   ],
   "source": [
    "num_nodes6 = 5\n",
    "edges6 = [(0, 1), (1, 2), (2, 3), (2, 4), (4, 2), (3, 0)]\n",
    "num_nodes6, len(edges6)"
   ]
  },
  {
   "cell_type": "markdown",
   "id": "saved-pittsburgh",
   "metadata": {},
   "source": [
    "> **Question**: Define a class to represent weighted and directed graphs in Python."
   ]
  },
  {
   "cell_type": "code",
   "execution_count": 38,
   "id": "affected-essence",
   "metadata": {},
   "outputs": [],
   "source": [
    "class Graph2:\n",
    "    def __init__(self, number_nodes, edges, directed=False, weighted=False):\n",
    "        self.number_nodes = number_nodes\n",
    "        self.directed = directed\n",
    "        self.weighted = weighted\n",
    "        self.data = [[] for x in range(number_nodes)]\n",
    "        \n",
    "        # for each corresponding element in the adjacency list\n",
    "        # the following will store the weight for the edges.\n",
    "        self.weight = [[] for x in range(number_nodes)]\n",
    "        for edge in edges:\n",
    "            if self.weighted:\n",
    "                # include weights\n",
    "                node1, node2, weight = edge\n",
    "                self.data[node1].append(node2)\n",
    "                \n",
    "                # The following stores the weight of the edge from node1 \n",
    "                # to node2\n",
    "                self.weight[node1].append(weight)\n",
    "                \n",
    "                # We may want to store the other direction, if bi-directional\n",
    "                # so we will store the reciprocal direction data\n",
    "                if not directed:\n",
    "                    self.data[node2].append(node1)\n",
    "                    self.weight[node2].append(weight)\n",
    "                    \n",
    "            else:\n",
    "                # work without weights\n",
    "                node1, node2 = edge\n",
    "                self.data[node1].append(node2)\n",
    "                if not directed:\n",
    "                    self.data[node2].append(node1)\n",
    "                \n",
    "    def __repr__(self):\n",
    "        result = \"\"\n",
    "        if self.weighted: \n",
    "            for i, (nodes, weights) in enumerate(zip(self.data, self.weight)):\n",
    "                result += \"{}: {}\\n\".format(i, list(zip(nodes, weights)))\n",
    "        else:\n",
    "            for i, nodes in enumerate(self.data):\n",
    "                result += \"{}: {}\\n\".format(i, nodes)\n",
    "        return result"
   ]
  },
  {
   "cell_type": "code",
   "execution_count": 39,
   "id": "promotional-fiction",
   "metadata": {},
   "outputs": [
    {
     "data": {
      "text/plain": [
       "0: [1, 4]\n",
       "1: [0, 4, 2, 3]\n",
       "2: [1, 3]\n",
       "3: [2, 1, 4]\n",
       "4: [0, 1, 3]"
      ]
     },
     "execution_count": 39,
     "metadata": {},
     "output_type": "execute_result"
    }
   ],
   "source": [
    "graph1"
   ]
  },
  {
   "cell_type": "code",
   "execution_count": 40,
   "id": "virgin-impact",
   "metadata": {
    "scrolled": true
   },
   "outputs": [
    {
     "data": {
      "text/plain": [
       "0: [1, 4]\n",
       "1: [0, 4, 2, 3]\n",
       "2: [1, 3]\n",
       "3: [2, 1, 4]\n",
       "4: [0, 1, 3]"
      ]
     },
     "execution_count": 40,
     "metadata": {},
     "output_type": "execute_result"
    }
   ],
   "source": [
    "graph1 = Graph2(number_nodes, edges)\n",
    "graph1"
   ]
  },
  {
   "cell_type": "code",
   "execution_count": 41,
   "id": "60a2fe53",
   "metadata": {},
   "outputs": [
    {
     "data": {
      "text/plain": [
       "0: [(1, 3), (3, 2), (8, 4)]\n",
       "1: [(0, 3), (7, 4)]\n",
       "2: [(7, 2), (3, 6), (5, 1)]\n",
       "3: [(0, 2), (2, 6), (4, 1)]\n",
       "4: [(3, 1), (8, 8)]\n",
       "5: [(2, 1), (6, 8)]\n",
       "6: [(5, 8)]\n",
       "7: [(1, 4), (2, 2)]\n",
       "8: [(0, 4), (4, 8)]"
      ]
     },
     "execution_count": 41,
     "metadata": {},
     "output_type": "execute_result"
    }
   ],
   "source": [
    "# Graph with weights\n",
    "num_nodes2 = 9\n",
    "edges2 = [(0, 1, 3), (0, 3, 2), (0, 8, 4), (1, 7, 4), (2, 7, 2), (2, 3, 6), \n",
    "          (2, 5, 1), (3, 4, 1), (4, 8, 8), (5, 6, 8)]\n",
    "\n",
    "graph3 = Graph2(num_nodes2, edges2, weighted = True)\n",
    "graph3"
   ]
  },
  {
   "cell_type": "code",
   "execution_count": 42,
   "id": "d6d9d5f9",
   "metadata": {},
   "outputs": [
    {
     "data": {
      "text/plain": [
       "0: [1]\n",
       "1: [2]\n",
       "2: [3, 4]\n",
       "3: [0]\n",
       "4: [2]"
      ]
     },
     "execution_count": 42,
     "metadata": {},
     "output_type": "execute_result"
    }
   ],
   "source": [
    "num_nodes3 = 5\n",
    "edges3 = [(0, 1), (1, 2), (2, 3), (2, 4), (4, 2), (3, 0)]\n",
    "\n",
    "graph4 = Graph2(num_nodes3, edges3, directed = True)\n",
    "graph4"
   ]
  },
  {
   "cell_type": "code",
   "execution_count": null,
   "id": "33317fba",
   "metadata": {},
   "outputs": [],
   "source": []
  },
  {
   "cell_type": "code",
   "execution_count": 43,
   "id": "baa32c87",
   "metadata": {},
   "outputs": [],
   "source": [
    "# Aakash's Version:\n",
    "class Graph:\n",
    "    def __init__(self, num_nodes, edges, directed=False):\n",
    "        self.data = [[] for _ in range(num_nodes)]\n",
    "        self.weight = [[] for _ in range(num_nodes)]\n",
    "        \n",
    "        self.directed = directed\n",
    "        self.weighted = len(edges) > 0 and len(edges[0]) == 3\n",
    "            \n",
    "        for e in edges:\n",
    "            self.data[e[0]].append(e[1])\n",
    "            if self.weighted:\n",
    "                self.weight[e[0]].append(e[2])\n",
    "            \n",
    "            if not directed:\n",
    "                self.data[e[1]].append(e[0])\n",
    "                if self.weighted:\n",
    "                    self.data[e[1]].append(e[2])\n",
    "                \n",
    "    def __repr__(self):\n",
    "        result = \"\"\n",
    "        for i in range(len(self.data)):\n",
    "            pairs = list(zip(self.data[i], self.weight[i]))\n",
    "            result += \"{}: {}\\n\".format(i, pairs)\n",
    "        return result\n",
    "\n",
    "    def __str__(self):\n",
    "        return repr(self)"
   ]
  },
  {
   "cell_type": "code",
   "execution_count": 44,
   "id": "exempt-stone",
   "metadata": {},
   "outputs": [],
   "source": [
    "import jovian"
   ]
  },
  {
   "cell_type": "code",
   "execution_count": 45,
   "id": "chronic-uzbekistan",
   "metadata": {},
   "outputs": [
    {
     "data": {
      "application/javascript": [
       "window.require && require([\"base/js/namespace\"],function(Jupyter){Jupyter.notebook.save_checkpoint()})"
      ],
      "text/plain": [
       "<IPython.core.display.Javascript object>"
      ]
     },
     "metadata": {},
     "output_type": "display_data"
    },
    {
     "name": "stdout",
     "output_type": "stream",
     "text": [
      "[jovian] Updating notebook \"evanmarie/python-graph-algorithms\" on https://jovian.ai\u001b[0m\n",
      "[jovian] Committed successfully! https://jovian.ai/evanmarie/python-graph-algorithms\u001b[0m\n"
     ]
    },
    {
     "data": {
      "text/plain": [
       "'https://jovian.ai/evanmarie/python-graph-algorithms'"
      ]
     },
     "execution_count": 45,
     "metadata": {},
     "output_type": "execute_result"
    }
   ],
   "source": [
    "jovian.commit()"
   ]
  },
  {
   "cell_type": "markdown",
   "id": "posted-peripheral",
   "metadata": {},
   "source": [
    "## Shortest Paths\n",
    "\n",
    "\n",
    "> **Question**: Write a function to find the length of the shortest path between two nodes in a weighted directed graph.\n",
    "\n",
    "<img src=\"https://i.imgur.com/Zn5cUkO.png\" width=\"480\">\n",
    "\n",
    "\n",
    "**Dijkstra's algorithm (Wikipedia)**:\n",
    "\n",
    "![](https://upload.wikimedia.org/wikipedia/commons/5/57/Dijkstra_Animation.gif)\n",
    "\n",
    "1. Mark all nodes unvisited. Create a set of all the unvisited nodes called the unvisited set.\n",
    "2. Assign to every node a tentative distance value: set it to zero for our initial node and to infinity for all other nodes. Set the initial node as current.[16]\n",
    "3. For the current node, consider all of its unvisited neighbours and calculate their tentative distances through the current node. Compare the newly calculated tentative distance to the current assigned value and assign the smaller one. For example, if the current node A is marked with a distance of 6, and the edge connecting it with a neighbour B has length 2, then the distance to B through A will be 6 + 2 = 8. If B was previously marked with a distance greater than 8 then change it to 8. Otherwise, the current value will be kept.\n",
    "4. When we are done considering all of the unvisited neighbours of the current node, mark the current node as visited and remove it from the unvisited set. A visited node will never be checked again.\n",
    "5. If the destination node has been marked visited (when planning a route between two specific nodes) or if the smallest tentative distance among the nodes in the unvisited set is infinity (when planning a complete traversal; occurs when there is no connection between the initial node and remaining unvisited nodes), then stop. The algorithm has finished.\n",
    "6. Otherwise, select the unvisited node that is marked with the smallest tentative distance, set it as the new \"current node\", and go back to step 3."
   ]
  },
  {
   "cell_type": "code",
   "execution_count": 86,
   "id": "certain-today",
   "metadata": {},
   "outputs": [],
   "source": [
    "def shortest_path(graph, start, goal):\n",
    "    \n",
    "    # Set all nodes as unvisited to start\n",
    "    visited = [False] * len(graph.data)\n",
    "    # Keep track of parents for backtracking and tracing paths\n",
    "    parent = [None] * len(graph.data)\n",
    "    # Set all distances to infinity to start\n",
    "    distance = [float('inf')] * len(graph.data)\n",
    "    # Create the list that will serve as our queue of all nodes in the order\n",
    "    # of their distance from start/root\n",
    "    queue = []\n",
    "    \n",
    "    # Start with the distance from start to itself as 0\n",
    "    distance[start] = 0\n",
    "    # Add the root/start node to our queue\n",
    "    queue.append(start)\n",
    "    # What is the next element we need to dequeue\n",
    "    index = 0\n",
    "    \n",
    "    # While the index is less than our queue and we have not\n",
    "    # found and marked our target as visited\n",
    "    while index < len(queue) and not visited[goal]:\n",
    "        # Get an element to serve as \"current\" from the queue\n",
    "        current = queue[index]\n",
    "        # Mark current as visited\n",
    "        visited[current] = True\n",
    "        # Increment our index counter\n",
    "        index += 1\n",
    "    \n",
    "        # Update distances of all neighbors (using helper function below)\n",
    "        update_distances(graph, current, distance, parent)\n",
    "        \n",
    "        # Find the first unvisited node with the smallest distance (helper)\n",
    "        next_node = pick_next_node(distance, visited)\n",
    "        # If there is a next node and have not visited all that there is to\n",
    "        # visit, append the best next node to the queue\n",
    "        if next_node:\n",
    "            queue.append(next_node)\n",
    "        \n",
    "        # Mark this node as visited\n",
    "        visited[current] = True\n",
    "    \n",
    "    \n",
    "    return distance[goal], parent\n",
    "\n",
    "\n"
   ]
  },
  {
   "cell_type": "code",
   "execution_count": 73,
   "id": "apparent-decrease",
   "metadata": {},
   "outputs": [],
   "source": [
    "def update_distances(graph, current, distance, parent=None):\n",
    "    \"\"\"Update the distances of the current node's neighbors\"\"\"\n",
    "    \n",
    "    # Get neighbors of current node using graph.data\n",
    "    neighbors = graph.data[current]\n",
    "    # Get the weights of the edges connecting current to its\n",
    "    # neighbors\n",
    "    weights = graph.weight[current]\n",
    "    \n",
    "    # Go through each of the neighbors\n",
    "    for i, node in enumerate(neighbors):\n",
    "        # Acquire weight, so now we have node and its weight\n",
    "        # for all neighbors\n",
    "        weight = weights[i]\n",
    "        \n",
    "        # Distance checking for shortest (i.e. lowest weight)\n",
    "        # If distance from start to current plus weight for the \n",
    "        # distance from current to next node is less than the distance\n",
    "        # of a neighbor (which is infinity to start), \n",
    "        if distance[current] + weight < distance[node]:\n",
    "            # Update the distance between node and start/root\n",
    "            # (no updating if there is already a distance and it is \n",
    "            # shorter than our current distance from start.)\n",
    "            distance[node] = distance[current] + weight\n",
    "            # By which node did we arrive here and why are we updating?\n",
    "            if parent:\n",
    "                parent[node] = current"
   ]
  },
  {
   "cell_type": "code",
   "execution_count": 74,
   "id": "spare-glossary",
   "metadata": {},
   "outputs": [],
   "source": [
    "def pick_next_node(distance, visited):\n",
    "    \"\"\"Pick the next univisited node by which has the shortest distance/weight\"\"\"\n",
    "    \n",
    "    # Tracking the minimum distance\n",
    "    min_distance = float('inf')\n",
    "    # Node with the minimum distance is set to none\n",
    "    min_node = None\n",
    "    \n",
    "    # Loop through nodes and check:\n",
    "    for node in range(len(distance)):\n",
    "        # If it has not been visited and the distance from it back\n",
    "        # to start/root is less than current min, \n",
    "        if not visited[node] and distance[node] < min_distance:\n",
    "            # update minimum to this node\n",
    "            min_node = node\n",
    "            # and update the minimum distance currently.\n",
    "            min_distance = distance[node]\n",
    "    return min_node"
   ]
  },
  {
   "cell_type": "markdown",
   "id": "1850780e",
   "metadata": {},
   "source": [
    "<img src=\"https://i.imgur.com/Zn5cUkO.png\" width=\"480\">"
   ]
  },
  {
   "cell_type": "code",
   "execution_count": 75,
   "id": "adopted-creek",
   "metadata": {},
   "outputs": [
    {
     "data": {
      "text/plain": [
       "(6, 7)"
      ]
     },
     "execution_count": 75,
     "metadata": {},
     "output_type": "execute_result"
    }
   ],
   "source": [
    "# Graph representing the directional node map above\n",
    "num_nodes7 = 6\n",
    "edges7 = [(0, 1, 4), (0, 2, 2), (1, 2, 5), (1, 3, 10), (2, 4, 3), (4, 3, 4), (3, 5, 11)]\n",
    "num_nodes7, len(edges7)"
   ]
  },
  {
   "cell_type": "code",
   "execution_count": 76,
   "id": "spatial-engagement",
   "metadata": {},
   "outputs": [
    {
     "data": {
      "text/plain": [
       "0: [(1, 4), (2, 2)]\n",
       "1: [(2, 5), (3, 10)]\n",
       "2: [(4, 3)]\n",
       "3: [(5, 11)]\n",
       "4: [(3, 4)]\n",
       "5: []"
      ]
     },
     "execution_count": 76,
     "metadata": {},
     "output_type": "execute_result"
    }
   ],
   "source": [
    "# New weighted and directed graph to try out shortest_path\n",
    "graph7 = Graph2(num_nodes7, edges7, weighted = True, directed = True)\n",
    "graph7"
   ]
  },
  {
   "cell_type": "code",
   "execution_count": 77,
   "id": "specific-champagne",
   "metadata": {},
   "outputs": [
    {
     "data": {
      "text/plain": [
       "(20, [None, 0, 0, 4, 2, 3])"
      ]
     },
     "execution_count": 77,
     "metadata": {},
     "output_type": "execute_result"
    }
   ],
   "source": [
    "shortest_path(graph7, 0, 5)"
   ]
  },
  {
   "cell_type": "markdown",
   "id": "b0cc3e7d",
   "metadata": {},
   "source": [
    "![](https://i.imgur.com/wy7ZHRW.png)"
   ]
  },
  {
   "cell_type": "code",
   "execution_count": 81,
   "id": "6d29d5ba",
   "metadata": {},
   "outputs": [],
   "source": [
    "# Now for shortest path with this graph (above)\n",
    "# Undirected, but weighted"
   ]
  },
  {
   "cell_type": "code",
   "execution_count": 82,
   "id": "e1d07d59",
   "metadata": {},
   "outputs": [
    {
     "data": {
      "text/plain": [
       "(7, [None, 0, 3, 0, 3, None, None, 1, 0])"
      ]
     },
     "execution_count": 82,
     "metadata": {},
     "output_type": "execute_result"
    }
   ],
   "source": [
    "shortest_path(graph3, 0, 7) # getting shortest from node 0 to node 7"
   ]
  },
  {
   "cell_type": "code",
   "execution_count": 83,
   "id": "75647e10",
   "metadata": {},
   "outputs": [
    {
     "data": {
      "text/plain": [
       "(15, [3, 7, None, 2, 3, 2, 5, 2, 4])"
      ]
     },
     "execution_count": 83,
     "metadata": {},
     "output_type": "execute_result"
    }
   ],
   "source": [
    "shortest_path(graph3, 2, 8) # getting shortest from node 2 to node 8"
   ]
  },
  {
   "cell_type": "code",
   "execution_count": 84,
   "id": "foreign-malpractice",
   "metadata": {},
   "outputs": [],
   "source": [
    "import jovian"
   ]
  },
  {
   "cell_type": "code",
   "execution_count": 85,
   "id": "reserved-investor",
   "metadata": {},
   "outputs": [
    {
     "data": {
      "application/javascript": [
       "window.require && require([\"base/js/namespace\"],function(Jupyter){Jupyter.notebook.save_checkpoint()})"
      ],
      "text/plain": [
       "<IPython.core.display.Javascript object>"
      ]
     },
     "metadata": {},
     "output_type": "display_data"
    },
    {
     "name": "stdout",
     "output_type": "stream",
     "text": [
      "[jovian] Updating notebook \"evanmarie/python-graph-algorithms\" on https://jovian.ai\u001b[0m\n",
      "[jovian] Committed successfully! https://jovian.ai/evanmarie/python-graph-algorithms\u001b[0m\n"
     ]
    },
    {
     "data": {
      "text/plain": [
       "'https://jovian.ai/evanmarie/python-graph-algorithms'"
      ]
     },
     "execution_count": 85,
     "metadata": {},
     "output_type": "execute_result"
    }
   ],
   "source": [
    "jovian.commit()"
   ]
  },
  {
   "cell_type": "markdown",
   "id": "coordinate-circle",
   "metadata": {},
   "source": [
    "### Binary Heap\n",
    "\n",
    "A data structure to maintain the running minimum/maximum of a set of numbers, supporting efficient addition/removal.\n",
    "\n",
    "\n",
    "<img src=\"https://i.imgur.com/ABAcM7m.png\" width=\"400\">\n",
    "\n",
    "\n",
    "Heap operations:\n",
    "\n",
    "- Insertion - $O(log N)$\n",
    "- Min/Max - $O(1)$ (depending on type of heap)\n",
    "- Deletion - $O(log N)$\n",
    "- Convert a list to a heap - $O(n)$\n",
    "\n",
    "\n",
    "Python's built-in heap: https://docs.python.org/3/library/heapq.html\n",
    "\n",
    "> **Question**: Implement Dijkstra's shortest path algorithm using the `heap` module from Python. What is the complexity of the algorithm?"
   ]
  },
  {
   "cell_type": "markdown",
   "id": "pointed-diabetes",
   "metadata": {},
   "source": [
    "### More Problems\n",
    "\n",
    "Solve more graph problems here: https://leetcode.com/tag/graph/"
   ]
  },
  {
   "cell_type": "code",
   "execution_count": 93,
   "id": "banner-canadian",
   "metadata": {},
   "outputs": [],
   "source": [
    "import jovian"
   ]
  },
  {
   "cell_type": "code",
   "execution_count": 94,
   "id": "union-chambers",
   "metadata": {},
   "outputs": [
    {
     "data": {
      "application/javascript": [
       "window.require && require([\"base/js/namespace\"],function(Jupyter){Jupyter.notebook.save_checkpoint()})"
      ],
      "text/plain": [
       "<IPython.core.display.Javascript object>"
      ]
     },
     "metadata": {},
     "output_type": "display_data"
    },
    {
     "name": "stdout",
     "output_type": "stream",
     "text": [
      "[jovian] Attempting to save notebook..\u001b[0m\n",
      "[jovian] Updating notebook \"aakashns/python-graph-algorithms\" on https://jovian.ai/\u001b[0m\n",
      "[jovian] Uploading notebook..\u001b[0m\n",
      "[jovian] Capturing environment..\u001b[0m\n",
      "[jovian] Committed successfully! https://jovian.ai/aakashns/python-graph-algorithms\u001b[0m\n"
     ]
    },
    {
     "data": {
      "text/plain": [
       "'https://jovian.ai/aakashns/python-graph-algorithms'"
      ]
     },
     "execution_count": 94,
     "metadata": {},
     "output_type": "execute_result"
    }
   ],
   "source": [
    "jovian.commit()"
   ]
  },
  {
   "cell_type": "markdown",
   "id": "96fcbce3",
   "metadata": {},
   "source": [
    "### PROVIDED SOLUTIONS"
   ]
  },
  {
   "cell_type": "markdown",
   "id": "ethical-marathon",
   "metadata": {},
   "source": [
    "\n",
    "\n",
    "![](https://i.imgur.com/E2Up1Pk.png)"
   ]
  },
  {
   "cell_type": "markdown",
   "id": "desirable-possibility",
   "metadata": {},
   "source": [
    "### Input Data"
   ]
  },
  {
   "cell_type": "code",
   "execution_count": 26,
   "id": "according-lunch",
   "metadata": {},
   "outputs": [
    {
     "data": {
      "text/plain": [
       "(5, 7)"
      ]
     },
     "execution_count": 26,
     "metadata": {},
     "output_type": "execute_result"
    }
   ],
   "source": [
    "num_nodes1 = 5\n",
    "edges1 = [(0, 1), (1, 2), (2, 3), (3, 4), (4, 0), (1, 4), (1, 3)]\n",
    "num_nodes1, len(edges1)"
   ]
  },
  {
   "cell_type": "code",
   "execution_count": 25,
   "id": "italian-armor",
   "metadata": {},
   "outputs": [
    {
     "data": {
      "text/plain": [
       "(9, 8)"
      ]
     },
     "execution_count": 25,
     "metadata": {},
     "output_type": "execute_result"
    }
   ],
   "source": [
    "num_nodes3 = 9\n",
    "edges3 = [(0, 1), (0, 3), (1, 2), (2, 3), (4, 5), (4, 6), (5, 6), (7, 8)]\n",
    "num_nodes3, len(edges3)"
   ]
  },
  {
   "cell_type": "code",
   "execution_count": 15,
   "id": "strategic-deposit",
   "metadata": {},
   "outputs": [
    {
     "data": {
      "text/plain": [
       "(9, 10)"
      ]
     },
     "execution_count": 15,
     "metadata": {},
     "output_type": "execute_result"
    }
   ],
   "source": [
    "num_nodes5 = 9\n",
    "edges5 = [(0, 1, 3), (0, 3, 2), (0, 8, 4), (1, 7, 4), (2, 7, 2), (2, 3, 6), \n",
    "          (2, 5, 1), (3, 4, 1), (4, 8, 8), (5, 6, 8)]\n",
    "\n",
    "num_nodes5, len(edges5)"
   ]
  },
  {
   "cell_type": "code",
   "execution_count": 16,
   "id": "broke-hungarian",
   "metadata": {},
   "outputs": [
    {
     "data": {
      "text/plain": [
       "(5, 6)"
      ]
     },
     "execution_count": 16,
     "metadata": {},
     "output_type": "execute_result"
    }
   ],
   "source": [
    "# Directed graph\n",
    "num_nodes6 = 5\n",
    "edges6 = [(0, 1), (1, 2), (2, 3), (2, 4), (4, 2), (3, 0)]\n",
    "num_nodes6, len(edges6)"
   ]
  },
  {
   "cell_type": "code",
   "execution_count": 29,
   "id": "instructional-sarah",
   "metadata": {},
   "outputs": [
    {
     "data": {
      "text/plain": [
       "(6, 7)"
      ]
     },
     "execution_count": 29,
     "metadata": {},
     "output_type": "execute_result"
    }
   ],
   "source": [
    "num_nodes7 = 6\n",
    "edges7 = [(0, 1, 4), (0, 2, 2), (1, 2, 5), (1, 3, 10), (2, 4, 3), (4, 3, 4), (3, 5, 11)]\n",
    "num_nodes7, len(edges7)"
   ]
  },
  {
   "cell_type": "markdown",
   "id": "homeless-hawaii",
   "metadata": {},
   "source": [
    "### Adjacency List"
   ]
  },
  {
   "cell_type": "code",
   "execution_count": 23,
   "id": "promising-atlantic",
   "metadata": {},
   "outputs": [],
   "source": [
    "class Graph:\n",
    "    def __init__(self, num_nodes, edges):\n",
    "        self.data = [[] for _ in range(num_nodes)]\n",
    "        for v1, v2 in edges:\n",
    "            self.data[v1].append(v2)\n",
    "            self.data[v2].append(v1)\n",
    "            \n",
    "    def __repr__(self):\n",
    "        return \"\\n\".join([\"{} : {}\".format(i, neighbors) for (i, neighbors) in enumerate(self.data)])\n",
    "\n",
    "    def __str__(self):\n",
    "        return repr(self)"
   ]
  },
  {
   "cell_type": "code",
   "execution_count": 21,
   "id": "buried-brake",
   "metadata": {},
   "outputs": [],
   "source": [
    "g1 = Graph(num_nodes1, edges1)"
   ]
  },
  {
   "cell_type": "code",
   "execution_count": 22,
   "id": "honey-tension",
   "metadata": {},
   "outputs": [
    {
     "data": {
      "text/plain": [
       "0 : [1, 4]\n",
       "1 : [0, 2, 4, 3]\n",
       "2 : [1, 3]\n",
       "3 : [2, 4, 1]\n",
       "4 : [3, 0, 1]"
      ]
     },
     "execution_count": 22,
     "metadata": {},
     "output_type": "execute_result"
    }
   ],
   "source": [
    "g1"
   ]
  },
  {
   "cell_type": "markdown",
   "id": "caroline-smile",
   "metadata": {},
   "source": [
    "### Adjacency Matrix"
   ]
  },
  {
   "cell_type": "markdown",
   "id": "fifty-portland",
   "metadata": {},
   "source": [
    "### Breadth First Search\n",
    "\n",
    "Complexity $O(m + n)$"
   ]
  },
  {
   "cell_type": "code",
   "execution_count": 37,
   "id": "hairy-technique",
   "metadata": {},
   "outputs": [],
   "source": [
    "def bfs(graph, source):\n",
    "    visited = [False] * len(graph.data)\n",
    "    queue = []\n",
    "    \n",
    "    visited[source] = True    \n",
    "    queue.append(source)\n",
    "    i = 0\n",
    "    \n",
    "    while i < len(queue):\n",
    "        for v in graph.data[queue[i]]:\n",
    "            if not visited[v]:\n",
    "                visited[v] = True\n",
    "                queue.append(v)\n",
    "        i += 1\n",
    "        \n",
    "    return queue"
   ]
  },
  {
   "cell_type": "code",
   "execution_count": 39,
   "id": "deluxe-trust",
   "metadata": {},
   "outputs": [
    {
     "data": {
      "text/plain": [
       "[3, 2, 4, 1, 0]"
      ]
     },
     "execution_count": 39,
     "metadata": {},
     "output_type": "execute_result"
    }
   ],
   "source": [
    "bfs(g1, 3)"
   ]
  },
  {
   "cell_type": "markdown",
   "id": "active-simon",
   "metadata": {},
   "source": [
    "### Depth First Search"
   ]
  },
  {
   "cell_type": "code",
   "execution_count": 44,
   "id": "august-passage",
   "metadata": {},
   "outputs": [],
   "source": [
    "def dfs(graph, source):\n",
    "    visited = [False] * len(graph.data)\n",
    "    stack = [source]\n",
    "    result = []\n",
    "    \n",
    "    while len(stack) > 0:\n",
    "        current = stack.pop()\n",
    "        if not visited[current]:\n",
    "            result.append(current)\n",
    "            visited[current] = True\n",
    "            for v in graph.data[current]:\n",
    "                stack.append(v)\n",
    "                \n",
    "    return result"
   ]
  },
  {
   "cell_type": "code",
   "execution_count": 45,
   "id": "coordinate-public",
   "metadata": {},
   "outputs": [
    {
     "data": {
      "text/plain": [
       "[0, 4, 1, 3, 2]"
      ]
     },
     "execution_count": 45,
     "metadata": {},
     "output_type": "execute_result"
    }
   ],
   "source": [
    "dfs(g1, 0)"
   ]
  },
  {
   "cell_type": "markdown",
   "id": "lasting-directory",
   "metadata": {},
   "source": [
    "### Directed and Weighted Graph"
   ]
  },
  {
   "cell_type": "code",
   "execution_count": 67,
   "id": "olympic-bridge",
   "metadata": {},
   "outputs": [],
   "source": [
    "class Graph:\n",
    "    def __init__(self, num_nodes, edges, directed=False):\n",
    "        self.data = [[] for _ in range(num_nodes)]\n",
    "        self.weight = [[] for _ in range(num_nodes)]\n",
    "        \n",
    "        self.directed = directed\n",
    "        self.weighted = len(edges) > 0 and len(edges[0]) == 3\n",
    "            \n",
    "        for e in edges:\n",
    "            self.data[e[0]].append(e[1])\n",
    "            if self.weighted:\n",
    "                self.weight[e[0]].append(e[2])\n",
    "            \n",
    "            if not directed:\n",
    "                self.data[e[1]].append(e[0])\n",
    "                if self.weighted:\n",
    "                    self.data[e[1]].append(e[2])\n",
    "                \n",
    "    def __repr__(self):\n",
    "        result = \"\"\n",
    "        for i in range(len(self.data)):\n",
    "            pairs = list(zip(self.data[i], self.weight[i]))\n",
    "            result += \"{}: {}\\n\".format(i, pairs)\n",
    "        return result\n",
    "\n",
    "    def __str__(self):\n",
    "        return repr(self)"
   ]
  },
  {
   "cell_type": "code",
   "execution_count": 68,
   "id": "monthly-vatican",
   "metadata": {},
   "outputs": [],
   "source": [
    "g7 = Graph(num_nodes7, edges7, directed=True)"
   ]
  },
  {
   "cell_type": "code",
   "execution_count": 69,
   "id": "entertaining-soundtrack",
   "metadata": {},
   "outputs": [
    {
     "data": {
      "text/plain": [
       "0: [(1, 4), (2, 2)]\n",
       "1: [(2, 5), (3, 10)]\n",
       "2: [(4, 3)]\n",
       "3: [(5, 11)]\n",
       "4: [(3, 4)]\n",
       "5: []"
      ]
     },
     "execution_count": 69,
     "metadata": {},
     "output_type": "execute_result"
    }
   ],
   "source": [
    "g7"
   ]
  },
  {
   "cell_type": "code",
   "execution_count": 61,
   "id": "related-senator",
   "metadata": {},
   "outputs": [
    {
     "data": {
      "text/plain": [
       "[2, 10, 3, 11, 4, []]"
      ]
     },
     "execution_count": 61,
     "metadata": {},
     "output_type": "execute_result"
    }
   ],
   "source": [
    "g7.weight"
   ]
  },
  {
   "cell_type": "markdown",
   "id": "confident-rochester",
   "metadata": {},
   "source": [
    "### Shortest Path - Dijkstra's Algorithm"
   ]
  },
  {
   "cell_type": "code",
   "execution_count": 83,
   "id": "pursuant-bedroom",
   "metadata": {},
   "outputs": [],
   "source": [
    "def update_distances(graph, current, distance, parent=None):\n",
    "    \"\"\"Update the distances of the current node's neighbors\"\"\"\n",
    "    neighbors = graph.data[current]\n",
    "    weights = graph.weight[current]\n",
    "    for i, node in enumerate(neighbors):\n",
    "        weight = weights[i]\n",
    "        if distance[current] + weight < distance[node]:\n",
    "            distance[node] = distance[current] + weight\n",
    "            if parent:\n",
    "                parent[node] = current\n",
    "\n",
    "def pick_next_node(distance, visited):\n",
    "    \"\"\"Pick the next univisited node at the smallest distance\"\"\"\n",
    "    min_distance = float('inf')\n",
    "    min_node = None\n",
    "    for node in range(len(distance)):\n",
    "        if not visited[node] and distance[node] < min_distance:\n",
    "            min_node = node\n",
    "            min_distance = distance[node]\n",
    "    return min_node\n",
    "        \n",
    "def shortest_path(graph, source, dest):\n",
    "    \"\"\"Find the length of the shortest path between source and destination\"\"\"\n",
    "    visited = [False] * len(graph.data)\n",
    "    distance = [float('inf')] * len(graph.data)\n",
    "    parent = [None] * len(graph.data)\n",
    "    queue = []\n",
    "    idx = 0\n",
    "    \n",
    "    queue.append(source)\n",
    "    distance[source] = 0\n",
    "    visited[source] = True\n",
    "    \n",
    "    while idx < len(queue) and not visited[dest]:\n",
    "        current = queue[idx]\n",
    "        update_distances(graph, current, distance, parent)\n",
    "        \n",
    "        next_node = pick_next_node(distance, visited)\n",
    "        if next_node is not None:\n",
    "            visited[next_node] = True\n",
    "            queue.append(next_node)\n",
    "        idx += 1\n",
    "        \n",
    "    return distance[dest], distance, parent"
   ]
  },
  {
   "cell_type": "markdown",
   "id": "celtic-tension",
   "metadata": {},
   "source": [
    "<img src=\"https://i.imgur.com/Zn5cUkO.png\" width=\"400\">"
   ]
  },
  {
   "cell_type": "code",
   "execution_count": 84,
   "id": "grand-barbados",
   "metadata": {},
   "outputs": [
    {
     "data": {
      "text/plain": [
       "(20, [0, 4, 2, 9, 5, 20], [None, 0, 0, 4, 2, 3])"
      ]
     },
     "execution_count": 84,
     "metadata": {},
     "output_type": "execute_result"
    }
   ],
   "source": [
    "shortest_path(g7, 0, 5)"
   ]
  },
  {
   "cell_type": "code",
   "execution_count": 2,
   "id": "advanced-decrease",
   "metadata": {},
   "outputs": [],
   "source": [
    "import jovian"
   ]
  },
  {
   "cell_type": "code",
   "execution_count": 87,
   "id": "injured-juice",
   "metadata": {},
   "outputs": [
    {
     "data": {
      "application/javascript": [
       "window.require && require([\"base/js/namespace\"],function(Jupyter){Jupyter.notebook.save_checkpoint()})"
      ],
      "text/plain": [
       "<IPython.core.display.Javascript object>"
      ]
     },
     "metadata": {},
     "output_type": "display_data"
    },
    {
     "name": "stdout",
     "output_type": "stream",
     "text": [
      "[jovian] Updating notebook \"evanmarie/python-graph-algorithms\" on https://jovian.ai\u001b[0m\n",
      "[jovian] Committed successfully! https://jovian.ai/evanmarie/python-graph-algorithms\u001b[0m\n"
     ]
    },
    {
     "data": {
      "text/plain": [
       "'https://jovian.ai/evanmarie/python-graph-algorithms'"
      ]
     },
     "execution_count": 87,
     "metadata": {},
     "output_type": "execute_result"
    }
   ],
   "source": [
    "jovian.commit()"
   ]
  },
  {
   "cell_type": "code",
   "execution_count": null,
   "id": "2016f847",
   "metadata": {},
   "outputs": [],
   "source": []
  }
 ],
 "metadata": {
  "kernelspec": {
   "display_name": "Python 3 (ipykernel)",
   "language": "python",
   "name": "python3"
  },
  "language_info": {
   "codemirror_mode": {
    "name": "ipython",
    "version": 3
   },
   "file_extension": ".py",
   "mimetype": "text/x-python",
   "name": "python",
   "nbconvert_exporter": "python",
   "pygments_lexer": "ipython3",
   "version": "3.9.6"
  }
 },
 "nbformat": 4,
 "nbformat_minor": 5
}
