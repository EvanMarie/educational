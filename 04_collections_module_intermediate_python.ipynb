{
 "cells": [
  {
   "cell_type": "markdown",
   "source": [
    "# Intermediate Python\n",
    "### Patrick Loeber, python-engineer.com\n",
    "### https://www.youtube.com/watch?v=HGOBQPFzWKo\n",
    "(1:22:50)\n",
    "September 16, 2022"
   ],
   "metadata": {
    "collapsed": false,
    "pycharm": {
     "name": "#%% md\n"
    }
   }
  },
  {
   "cell_type": "markdown",
   "source": [
    "## COLLECTIONS MODULE:\n",
    "Counter, NamedTuple, OrderedDict, DefaultDict, Deque"
   ],
   "metadata": {
    "collapsed": false,
    "pycharm": {
     "name": "#%% md\n"
    }
   }
  },
  {
   "cell_type": "code",
   "execution_count": 6,
   "outputs": [],
   "source": [
    "from collections import Counter"
   ],
   "metadata": {
    "collapsed": false,
    "pycharm": {
     "name": "#%%\n"
    }
   }
  },
  {
   "cell_type": "markdown",
   "source": [
    "### COUNTER: (can be used with any iterable)\n",
    "a container that stores the elements as dictionary keys and their counts as dictionary values. The resulting dictionary created by Counter can be treated like any other dictionary:"
   ],
   "metadata": {
    "collapsed": false,
    "pycharm": {
     "name": "#%% md\n"
    }
   }
  },
  {
   "cell_type": "code",
   "execution_count": 12,
   "outputs": [
    {
     "name": "stdout",
     "output_type": "stream",
     "text": [
      "counter01:  Counter({'b': 5, 'a': 4, 'c': 4})\n",
      "counter01.keys():  dict_keys(['a', 'b', 'c'])\n",
      "counter01.values():  dict_values([4, 5, 4])\n",
      "counter01.items():  dict_items([('a', 4), ('b', 5), ('c', 4)])\n"
     ]
    }
   ],
   "source": [
    "string01 = 'aaaabbbbbcccc'\n",
    "counter01 = Counter(string01)\n",
    "\n",
    "print(\"counter01: \", counter01)\n",
    "print(\"counter01.keys(): \", counter01.keys())\n",
    "print(\"counter01.values(): \",counter01.values())\n",
    "print(\"counter01.items(): \", counter01.items())"
   ],
   "metadata": {
    "collapsed": false,
    "pycharm": {
     "name": "#%%\n"
    }
   }
  },
  {
   "cell_type": "code",
   "execution_count": 22,
   "outputs": [
    {
     "name": "stdout",
     "output_type": "stream",
     "text": [
      "[('b', 5)]\n"
     ]
    }
   ],
   "source": [
    "# MOST_COMMON\n",
    "\n",
    "# This will give us the 1 most common element\n",
    "# (2 would give top 2)\n",
    "# Returns a list of tuples\n",
    "\n",
    "print(counter01.most_common(1))"
   ],
   "metadata": {
    "collapsed": false,
    "pycharm": {
     "name": "#%%\n"
    }
   }
  },
  {
   "cell_type": "code",
   "execution_count": 21,
   "outputs": [
    {
     "name": "stdout",
     "output_type": "stream",
     "text": [
      "5\n"
     ]
    }
   ],
   "source": [
    "# Counter can further index into the results:\n",
    "# This will take out the most common element, get the first item\n",
    "# in the tuple of that most common element, and get the first\n",
    "# character of that element within that tuple within that dict.\n",
    "\n",
    "print(counter01.most_common(1)[0][1])"
   ],
   "metadata": {
    "collapsed": false,
    "pycharm": {
     "name": "#%%\n"
    }
   }
  },
  {
   "cell_type": "code",
   "execution_count": 24,
   "outputs": [
    {
     "data": {
      "text/plain": "['a', 'a', 'a', 'a', 'b', 'b', 'b', 'b', 'b', 'c', 'c', 'c', 'c']"
     },
     "execution_count": 24,
     "metadata": {},
     "output_type": "execute_result"
    }
   ],
   "source": [
    "# ELEMENTS: returns an iterator object over the elements of the\n",
    "# counter\n",
    "# Must be converted to a list to print\n",
    "\n",
    "list(counter01.elements())"
   ],
   "metadata": {
    "collapsed": false,
    "pycharm": {
     "name": "#%%\n"
    }
   }
  },
  {
   "cell_type": "code",
   "execution_count": 25,
   "outputs": [],
   "source": [
    "from collections import namedtuple"
   ],
   "metadata": {
    "collapsed": false,
    "pycharm": {
     "name": "#%%\n"
    }
   }
  },
  {
   "cell_type": "markdown",
   "source": [
    "### NAMED TUPLE:\n",
    "easy to create and lightweight object type, similar to a struct."
   ],
   "metadata": {
    "collapsed": false,
    "pycharm": {
     "name": "#%% md\n"
    }
   }
  },
  {
   "cell_type": "markdown",
   "source": [
    "### FROM CO-PILOT:\n",
    "namedtuple is a factory function that returns a subclass of tuple with named fields\n",
    "it is a convenient way to define a class without methods\n",
    "\n",
    "-> namedtuple takes a class name and a list of field names and returns a class\n",
    "-> you can instantiate the class by passing values for the fields\n",
    "-> you can access the fields by name or position\n",
    "\n",
    "-> namedtuple is immutable\n",
    " p.x = 23              # AttributeError: can't set attribute\n",
    "\n",
    "-> the Named Tuple class definition is equivalent to the following code:"
   ],
   "metadata": {
    "collapsed": false,
    "pycharm": {
     "name": "#%% md\n"
    }
   }
  },
  {
   "cell_type": "code",
   "execution_count": 27,
   "outputs": [
    {
     "name": "stdout",
     "output_type": "stream",
     "text": [
      "33\n",
      "33\n",
      "33\n",
      "Point(x=11, y=22)\n"
     ]
    }
   ],
   "source": [
    "class Point:\n",
    "    def __init__(self, x, y):\n",
    "        self.x = x\n",
    "        self.y = y\n",
    "    def __repr__(self):\n",
    "        return 'Point(x=%r, y=%r)' % (self.x, self.y)\n",
    "\n",
    "Point = namedtuple('Point', ['x', 'y'])\n",
    "\n",
    "# instantiate with positional or keyword arguments\n",
    "p = Point(11, y=22)\n",
    "\n",
    "x, y = p                # unpack like a regular tuple\n",
    "print(p[0] + p[1])      # index like a regular tuple\n",
    "print(x + y)            # fields also accessible by name\n",
    "print(p.x + p.y)        # fields also accessible by name\n",
    "print(p)                # readable __repr__ with a name=value style\n"
   ],
   "metadata": {
    "collapsed": false,
    "pycharm": {
     "name": "#%%\n"
    }
   }
  },
  {
   "cell_type": "code",
   "execution_count": 28,
   "outputs": [
    {
     "data": {
      "text/plain": "Point(x=1, y=-4)"
     },
     "execution_count": 28,
     "metadata": {},
     "output_type": "execute_result"
    }
   ],
   "source": [
    "Point = namedtuple('Point', 'x, y')\n",
    "point01 = Point(1, -4)\n",
    "point01"
   ],
   "metadata": {
    "collapsed": false,
    "pycharm": {
     "name": "#%%\n"
    }
   }
  },
  {
   "cell_type": "code",
   "execution_count": 29,
   "outputs": [
    {
     "name": "stdout",
     "output_type": "stream",
     "text": [
      "1 -4\n"
     ]
    }
   ],
   "source": [
    "print(point01.x, point01.y)"
   ],
   "metadata": {
    "collapsed": false,
    "pycharm": {
     "name": "#%%\n"
    }
   }
  },
  {
   "cell_type": "markdown",
   "source": [
    "### ORDERED DICT:\n",
    "Like a dictionary, but remembers the order of the items as added. The built-in python dictionary also has the ability to remember the order, since Python 3.7."
   ],
   "metadata": {
    "collapsed": false,
    "pycharm": {
     "name": "#%% md\n"
    }
   }
  },
  {
   "cell_type": "code",
   "execution_count": 30,
   "outputs": [],
   "source": [
    "from collections import OrderedDict"
   ],
   "metadata": {
    "collapsed": false,
    "pycharm": {
     "name": "#%%\n"
    }
   }
  },
  {
   "cell_type": "code",
   "execution_count": 32,
   "outputs": [
    {
     "data": {
      "text/plain": "OrderedDict([('a', 1), ('b', 2), ('c', 3), ('d', 4)])"
     },
     "execution_count": 32,
     "metadata": {},
     "output_type": "execute_result"
    }
   ],
   "source": [
    "ordered01 = OrderedDict()\n",
    "ordered01['a'] = 1\n",
    "ordered01['b'] = 2\n",
    "ordered01['c'] = 3\n",
    "ordered01['d'] = 4\n",
    "\n",
    "ordered01\n",
    "# contents print out in the order they were inserted."
   ],
   "metadata": {
    "collapsed": false,
    "pycharm": {
     "name": "#%%\n"
    }
   }
  },
  {
   "cell_type": "code",
   "execution_count": 33,
   "outputs": [
    {
     "data": {
      "text/plain": "OrderedDict([('d', 4), ('c', 3), ('b', 2), ('a', 1)])"
     },
     "execution_count": 33,
     "metadata": {},
     "output_type": "execute_result"
    }
   ],
   "source": [
    "ordered02 = OrderedDict()\n",
    "ordered02['d'] = 4\n",
    "ordered02['c'] = 3\n",
    "ordered02['b'] = 2\n",
    "ordered02['a'] = 1\n",
    "\n",
    "ordered02"
   ],
   "metadata": {
    "collapsed": false,
    "pycharm": {
     "name": "#%%\n"
    }
   }
  },
  {
   "cell_type": "markdown",
   "source": [
    "### ^^ Normal dictionaries in Python function this way by default"
   ],
   "metadata": {
    "collapsed": false,
    "pycharm": {
     "name": "#%% md\n"
    }
   }
  },
  {
   "cell_type": "markdown",
   "source": [
    "### DEFAULT DICT:\n",
    "Similar to a normal dictionary, except it will have a default value if the key has not been set yet. Does not return a key error if you ask for a value by a key that does not exist. Instead, it returns the default key you have passed to it when creating the variable for the default dict."
   ],
   "metadata": {
    "collapsed": false,
    "pycharm": {
     "name": "#%% md\n"
    }
   }
  },
  {
   "cell_type": "code",
   "execution_count": 37,
   "outputs": [],
   "source": [
    "from collections import defaultdict"
   ],
   "metadata": {
    "collapsed": false,
    "pycharm": {
     "name": "#%%\n"
    }
   }
  },
  {
   "cell_type": "code",
   "execution_count": 46,
   "outputs": [
    {
     "name": "stdout",
     "output_type": "stream",
     "text": [
      "1\n",
      "0\n"
     ]
    }
   ],
   "source": [
    "default01 = defaultdict(int) # can be float, list, etc as default\n",
    "default01['a'] = 1\n",
    "default01['b'] = 2\n",
    "default01['c'] = 3\n",
    "default01['d'] = 4\n",
    "\n",
    "print(default01['a']) # use the key to access the value, as normal\n",
    "print(default01['e']) # key does not exist, so it prints default, 0"
   ],
   "metadata": {
    "collapsed": false,
    "pycharm": {
     "name": "#%%\n"
    }
   }
  },
  {
   "cell_type": "markdown",
   "source": [
    "### DEQUE:\n",
    "A double ended queue that can be used to add and remove elements from both ends. Both are implemented in a way as to be efficient."
   ],
   "metadata": {
    "collapsed": false,
    "pycharm": {
     "name": "#%% md\n"
    }
   }
  },
  {
   "cell_type": "code",
   "execution_count": 50,
   "outputs": [],
   "source": [
    "from collections import deque"
   ],
   "metadata": {
    "collapsed": false,
    "pycharm": {
     "name": "#%%\n"
    }
   }
  },
  {
   "cell_type": "code",
   "execution_count": 52,
   "outputs": [
    {
     "name": "stdout",
     "output_type": "stream",
     "text": [
      "deque01:  deque([1, 2])\n",
      "deque01 after left append:  deque([4, 3, 1, 2])\n"
     ]
    }
   ],
   "source": [
    "deque01 = deque()\n",
    "deque01.append(1)\n",
    "deque01.append(2)\n",
    "print('deque01: ', deque01)\n",
    "\n",
    "deque01.appendleft(3)\n",
    "deque01.appendleft(4)\n",
    "\n",
    "print('deque01 after left append: ', deque01)"
   ],
   "metadata": {
    "collapsed": false,
    "pycharm": {
     "name": "#%%\n"
    }
   }
  },
  {
   "cell_type": "code",
   "execution_count": 54,
   "outputs": [
    {
     "name": "stdout",
     "output_type": "stream",
     "text": [
      "deque01.pop():  1\n",
      "deque01.popleft():  3\n"
     ]
    }
   ],
   "source": [
    "# elements can also be removed from either side:\n",
    "# Remove and return the last element (the rightmost)\n",
    "print('deque01.pop(): ',deque01.pop())\n",
    "# Remove and return the first element (the leftmost)\n",
    "print('deque01.popleft(): ',deque01.pop())"
   ],
   "metadata": {
    "collapsed": false,
    "pycharm": {
     "name": "#%%\n"
    }
   }
  },
  {
   "cell_type": "code",
   "execution_count": 55,
   "outputs": [],
   "source": [
    "# Remove all elements\n",
    "deque01.clear()"
   ],
   "metadata": {
    "collapsed": false,
    "pycharm": {
     "name": "#%%\n"
    }
   }
  },
  {
   "cell_type": "code",
   "execution_count": 62,
   "outputs": [
    {
     "name": "stdout",
     "output_type": "stream",
     "text": [
      "deque01:  deque([7, 6, 2, 1, 3, 4, 5, 3, 4, 5, 3, 4, 5])\n",
      "deque01:  deque([7, 6, 2, 1, 7, 6, 2, 1, 3, 4, 5, 3, 4, 5, 3, 4, 5])\n"
     ]
    }
   ],
   "source": [
    "# Extend the deque at the right side with a list to add\n",
    "deque01.extend([3, 4, 5])\n",
    "print('deque01: ',deque01)\n",
    "\n",
    "# Extend the deque at the left side with a list to add one at a\n",
    "# time on the left, so last in becomes first in the deque\n",
    "deque01.extendleft([1, 2, 6, 7])\n",
    "print('deque01: ',deque01)"
   ],
   "metadata": {
    "collapsed": false,
    "pycharm": {
     "name": "#%%\n"
    }
   }
  },
  {
   "cell_type": "code",
   "execution_count": 64,
   "outputs": [
    {
     "name": "stdout",
     "output_type": "stream",
     "text": [
      "deque01:  deque([4, 5, 7, 6, 2, 1, 7, 6, 2, 1, 3, 4, 5, 3, 4, 5, 3])\n",
      "deque01:  deque([5, 3, 4, 5, 7, 6, 2, 1, 7, 6, 2, 1, 3, 4, 5, 3, 4])\n",
      "deque01:  deque([3, 4, 5, 7, 6, 2, 1, 7, 6, 2, 1, 3, 4, 5, 3, 4, 5])\n"
     ]
    }
   ],
   "source": [
    "# ROTATE the elements in a deque\n",
    "\n",
    "# Rotate one place to the right\n",
    "deque01.rotate(1)\n",
    "print('deque01: ',deque01)\n",
    "# Rotate two places to the right\n",
    "deque01.rotate(2)\n",
    "print('deque01: ',deque01)\n",
    "# Rotate one place to the left\n",
    "deque01.rotate(-1)\n",
    "print('deque01: ',deque01)"
   ],
   "metadata": {
    "collapsed": false,
    "pycharm": {
     "name": "#%%\n"
    }
   }
  },
  {
   "cell_type": "code",
   "execution_count": null,
   "outputs": [],
   "source": [],
   "metadata": {
    "collapsed": false,
    "pycharm": {
     "name": "#%%\n"
    }
   }
  }
 ],
 "metadata": {
  "kernelspec": {
   "display_name": "Python 3",
   "language": "python",
   "name": "python3"
  },
  "language_info": {
   "codemirror_mode": {
    "name": "ipython",
    "version": 2
   },
   "file_extension": ".py",
   "mimetype": "text/x-python",
   "name": "python",
   "nbconvert_exporter": "python",
   "pygments_lexer": "ipython2",
   "version": "2.7.6"
  }
 },
 "nbformat": 4,
 "nbformat_minor": 0
}