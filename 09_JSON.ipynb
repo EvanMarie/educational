{
 "cells": [
  {
   "cell_type": "markdown",
   "source": [
    "# Intermediate Python\n",
    "### Patrick Loeber, python-engineer.com\n",
    "### https://www.youtube.com/watch?v=HGOBQPFzWKo\n",
    "(2:42:20)\n",
    "September 17, 2022"
   ],
   "metadata": {
    "collapsed": false,
    "pycharm": {
     "name": "#%% md\n"
    }
   }
  },
  {
   "cell_type": "markdown",
   "source": [
    "## JSON: short for Javascript Object Notation\n",
    "A lightweight data format used for data exchange, used heavily in web applications. Python has a built in JSON module to make it easy to work with."
   ],
   "metadata": {
    "collapsed": false,
    "pycharm": {
     "name": "#%% md\n"
    }
   }
  },
  {
   "cell_type": "code",
   "execution_count": 1,
   "outputs": [],
   "source": [
    "# See example.json for the json file\n",
    "# JSON data looks very similar to a dictionary with key-value pairs\n",
    "# It can takes, strings, booleans, etc\n",
    "# More info on python-engineer.com\n"
   ],
   "metadata": {
    "collapsed": false,
    "pycharm": {
     "name": "#%%\n"
    }
   }
  },
  {
   "cell_type": "code",
   "execution_count": 2,
   "outputs": [],
   "source": [
    "import json"
   ],
   "metadata": {
    "collapsed": false,
    "pycharm": {
     "name": "#%%\n"
    }
   }
  },
  {
   "cell_type": "code",
   "execution_count": 3,
   "outputs": [],
   "source": [
    "# We have a python dictionary and want to convert it to a JSON format, a process known as serialization, or encoding\n",
    "\n",
    "person = {\n",
    "    'name': 'Bob',\n",
    "    'age': 42,\n",
    "    'job': 'dev',\n",
    "    'salary': 100000,\n",
    "    'married': True,\n",
    "    'children': ['Alice', 'John'],\n",
    "    'pets': None,\n",
    "    'cars': [\n",
    "        {'model': 'BMW 230', 'mpg': 27.5},\n",
    "        {'model': 'Ford Edge', 'mpg': 24.1}\n",
    "    ]\n",
    "}"
   ],
   "metadata": {
    "collapsed": false,
    "pycharm": {
     "name": "#%%\n"
    }
   }
  },
  {
   "cell_type": "code",
   "execution_count": 6,
   "outputs": [],
   "source": [
    "# This will dump our object to a JSON string (s means string)\n",
    "# Indentation helps with visual format\n",
    "# different separators can be set as well:  separators='; ', '= '\n",
    "# keys can be sorted alphabetically\n",
    "\n",
    "personJSON = json.dumps(person, indent=4, sort_keys=True)"
   ],
   "metadata": {
    "collapsed": false,
    "pycharm": {
     "name": "#%%\n"
    }
   }
  },
  {
   "cell_type": "code",
   "execution_count": 8,
   "outputs": [
    {
     "name": "stdout",
     "output_type": "stream",
     "text": [
      "{\n",
      "    \"age\": 42,\n",
      "    \"cars\": [\n",
      "        {\n",
      "            \"model\": \"BMW 230\",\n",
      "            \"mpg\": 27.5\n",
      "        },\n",
      "        {\n",
      "            \"model\": \"Ford Edge\",\n",
      "            \"mpg\": 24.1\n",
      "        }\n",
      "    ],\n",
      "    \"children\": [\n",
      "        \"Alice\",\n",
      "        \"John\"\n",
      "    ],\n",
      "    \"job\": \"dev\",\n",
      "    \"married\": true,\n",
      "    \"name\": \"Bob\",\n",
      "    \"pets\": null,\n",
      "    \"salary\": 100000\n",
      "}\n"
     ]
    }
   ],
   "source": [
    "print(personJSON)\n",
    "# printed, you can see that it is now in JSON format, for example\n",
    "# false is now lowercase"
   ],
   "metadata": {
    "collapsed": false,
    "pycharm": {
     "name": "#%%\n"
    }
   }
  },
  {
   "cell_type": "code",
   "execution_count": 10,
   "outputs": [],
   "source": [
    "# Can also be dumped into a file, auto created\n",
    "# This creates person.json\n",
    "with open('person.json', 'w') as file:\n",
    "    json.dump(person, file, indent=4)"
   ],
   "metadata": {
    "collapsed": false,
    "pycharm": {
     "name": "#%%\n"
    }
   }
  },
  {
   "cell_type": "markdown",
   "source": [
    "### CONVERTING BACK TO PYTHON:\n",
    "de-serialization, decoding"
   ],
   "metadata": {
    "collapsed": false,
    "pycharm": {
     "name": "#%% md\n"
    }
   }
  },
  {
   "cell_type": "code",
   "execution_count": 12,
   "outputs": [
    {
     "name": "stdout",
     "output_type": "stream",
     "text": [
      "{'age': 42, 'cars': [{'model': 'BMW 230', 'mpg': 27.5}, {'model': 'Ford Edge', 'mpg': 24.1}], 'children': ['Alice', 'John'], 'job': 'dev', 'married': True, 'name': 'Bob', 'pets': None, 'salary': 100000}\n"
     ]
    }
   ],
   "source": [
    "# Loading the personJSON object (a string) back as a python dict\n",
    "person2 = json.loads(personJSON)\n",
    "\n",
    "print(person2)"
   ],
   "metadata": {
    "collapsed": false,
    "pycharm": {
     "name": "#%%\n"
    }
   }
  },
  {
   "cell_type": "code",
   "execution_count": 13,
   "outputs": [
    {
     "name": "stdout",
     "output_type": "stream",
     "text": [
      "{'name': 'Bob', 'age': 42, 'job': 'dev', 'salary': 100000, 'married': True, 'children': ['Alice', 'John'], 'pets': None, 'cars': [{'model': 'BMW 230', 'mpg': 27.5}, {'model': 'Ford Edge', 'mpg': 24.1}]}\n"
     ]
    }
   ],
   "source": [
    "# Loading back into python from a file\n",
    "with open('person.json', 'r') as file:\n",
    "    person3 = json.load(file)\n",
    "\n",
    "print(person3)"
   ],
   "metadata": {
    "collapsed": false,
    "pycharm": {
     "name": "#%%\n"
    }
   }
  },
  {
   "cell_type": "markdown",
   "source": [
    "### Working this way with a custom class:\n",
    "Encoding custom objects into JSON"
   ],
   "metadata": {
    "collapsed": false,
    "pycharm": {
     "name": "#%% md\n"
    }
   }
  },
  {
   "cell_type": "code",
   "execution_count": 16,
   "outputs": [],
   "source": [
    "class User:\n",
    "    def __init__(self, name, age):\n",
    "        self.name = name\n",
    "        self.age = age\n",
    "\n",
    "\n",
    "user = User('Max', 27)\n",
    "\n",
    "# The following creates a type error, which means we must write\n",
    "# a short custom encoding function.\n",
    "\n",
    "# userJSON = json.dumps(user)"
   ],
   "metadata": {
    "collapsed": false,
    "pycharm": {
     "name": "#%%\n"
    }
   }
  },
  {
   "cell_type": "code",
   "execution_count": 21,
   "outputs": [],
   "source": [
    "def encode_user(object):\n",
    "    # check if an object is an instance of a class\n",
    "    # if so, we will return the information formatted as a\n",
    "    # dictionary as shown in the return\n",
    "\n",
    "    if isinstance(object, User):\n",
    "        return {'name': object.name, 'age': object.age,\n",
    "                # We can also include the following to indicate\n",
    "                # if the object is from a class\n",
    "                object.__class__.__name__: True}\n",
    "\n",
    "    else:\n",
    "        raise TypeError('Object of type User is not JSON serializable')"
   ],
   "metadata": {
    "collapsed": false,
    "pycharm": {
     "name": "#%%\n"
    }
   }
  },
  {
   "cell_type": "code",
   "execution_count": 22,
   "outputs": [],
   "source": [
    "# now, we pass the new function to the conversion json.dumps\n",
    "# and it will know how to deal with the data\n",
    "\n",
    "userJSON = json.dumps(user, default=encode_user)"
   ],
   "metadata": {
    "collapsed": false,
    "pycharm": {
     "name": "#%%\n"
    }
   }
  },
  {
   "cell_type": "code",
   "execution_count": 23,
   "outputs": [
    {
     "name": "stdout",
     "output_type": "stream",
     "text": [
      "{\"name\": \"Max\", \"age\": 27, \"User\": true}\n"
     ]
    }
   ],
   "source": [
    "print(userJSON)"
   ],
   "metadata": {
    "collapsed": false,
    "pycharm": {
     "name": "#%%\n"
    }
   }
  },
  {
   "cell_type": "markdown",
   "source": [
    "### We can also implement a custon JSON encoder:"
   ],
   "metadata": {
    "collapsed": false,
    "pycharm": {
     "name": "#%% md\n"
    }
   }
  },
  {
   "cell_type": "code",
   "execution_count": 27,
   "outputs": [],
   "source": [
    "from json import JSONEncoder"
   ],
   "metadata": {
    "collapsed": false,
    "pycharm": {
     "name": "#%%\n"
    }
   }
  },
  {
   "cell_type": "code",
   "execution_count": 30,
   "outputs": [],
   "source": [
    "# Defining our class, which is derived from the above imported\n",
    "\n",
    "class UserEncoder(JSONEncoder):\n",
    "\n",
    "    def default(self, object):\n",
    "        # Same as before\n",
    "        if isinstance(object, User):\n",
    "            return {'name': object.name, 'age': object.age,\n",
    "                    object.__class__.__name__: True}\n",
    "        # This time, using the JSONEncoder default\n",
    "        else:\n",
    "            return JSONEncoder.default(self, object)"
   ],
   "metadata": {
    "collapsed": false,
    "pycharm": {
     "name": "#%%\n"
    }
   }
  },
  {
   "cell_type": "code",
   "execution_count": 31,
   "outputs": [
    {
     "name": "stdout",
     "output_type": "stream",
     "text": [
      "{\"name\": \"Max\", \"age\": 27, \"User\": true}\n"
     ]
    }
   ],
   "source": [
    "userJSON2 = json.dumps(user, cls=UserEncoder)\n",
    "print(userJSON2)"
   ],
   "metadata": {
    "collapsed": false,
    "pycharm": {
     "name": "#%%\n"
    }
   }
  },
  {
   "cell_type": "code",
   "execution_count": 32,
   "outputs": [],
   "source": [
    "# The encoder can also be used directly:\n",
    "userJSON3 = UserEncoder().encode(user)"
   ],
   "metadata": {
    "collapsed": false,
    "pycharm": {
     "name": "#%%\n"
    }
   }
  },
  {
   "cell_type": "code",
   "execution_count": 33,
   "outputs": [
    {
     "name": "stdout",
     "output_type": "stream",
     "text": [
      "{\"name\": \"Max\", \"age\": 27, \"User\": true}\n"
     ]
    }
   ],
   "source": [
    "print(userJSON3)"
   ],
   "metadata": {
    "collapsed": false,
    "pycharm": {
     "name": "#%%\n"
    }
   }
  },
  {
   "cell_type": "markdown",
   "source": [
    "### DECODING object back to Python:"
   ],
   "metadata": {
    "collapsed": false,
    "pycharm": {
     "name": "#%% md\n"
    }
   }
  },
  {
   "cell_type": "code",
   "execution_count": 34,
   "outputs": [],
   "source": [
    "user = json.loads(userJSON)"
   ],
   "metadata": {
    "collapsed": false,
    "pycharm": {
     "name": "#%%\n"
    }
   }
  },
  {
   "cell_type": "code",
   "execution_count": 36,
   "outputs": [
    {
     "name": "stdout",
     "output_type": "stream",
     "text": [
      "{'name': 'Max', 'age': 27, 'User': True}\n"
     ]
    }
   ],
   "source": [
    "print(user) # Prints back in python"
   ],
   "metadata": {
    "collapsed": false,
    "pycharm": {
     "name": "#%%\n"
    }
   }
  },
  {
   "cell_type": "code",
   "execution_count": 37,
   "outputs": [
    {
     "data": {
      "text/plain": "dict"
     },
     "execution_count": 37,
     "metadata": {},
     "output_type": "execute_result"
    }
   ],
   "source": [
    "type(user) # It is still just a dict, not a class object"
   ],
   "metadata": {
    "collapsed": false,
    "pycharm": {
     "name": "#%%\n"
    }
   }
  },
  {
   "cell_type": "code",
   "execution_count": 38,
   "outputs": [],
   "source": [
    "# Must write a custom decoding method to return to object\n",
    "def decode_user(dictionary):\n",
    "    # If the key we created when encoding from a class exists\n",
    "    if User.__name__ in dictionary:\n",
    "        return User(name=dictionary['name'], age=dictionary['age'])\n",
    "\n",
    "    # If the key is not there, just return the dict\n",
    "    return dictionary"
   ],
   "metadata": {
    "collapsed": false,
    "pycharm": {
     "name": "#%%\n"
    }
   }
  },
  {
   "cell_type": "code",
   "execution_count": 39,
   "outputs": [
    {
     "name": "stdout",
     "output_type": "stream",
     "text": [
      "<class '__main__.User'>\n",
      "Max\n"
     ]
    }
   ],
   "source": [
    "user2 = json.loads(userJSON, object_hook=decode_user)\n",
    "print(type(user2))\n",
    "print(user2.name)"
   ],
   "metadata": {
    "collapsed": false,
    "pycharm": {
     "name": "#%%\n"
    }
   }
  },
  {
   "cell_type": "code",
   "execution_count": null,
   "outputs": [],
   "source": [],
   "metadata": {
    "collapsed": false,
    "pycharm": {
     "name": "#%%\n"
    }
   }
  }
 ],
 "metadata": {
  "kernelspec": {
   "display_name": "Python 3",
   "language": "python",
   "name": "python3"
  },
  "language_info": {
   "codemirror_mode": {
    "name": "ipython",
    "version": 2
   },
   "file_extension": ".py",
   "mimetype": "text/x-python",
   "name": "python",
   "nbconvert_exporter": "python",
   "pygments_lexer": "ipython2",
   "version": "2.7.6"
  }
 },
 "nbformat": 4,
 "nbformat_minor": 0
}