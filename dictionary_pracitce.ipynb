{
 "cells": [
  {
   "cell_type": "code",
   "execution_count": 1,
   "metadata": {
    "collapsed": true,
    "pycharm": {
     "name": "#%%\n"
    }
   },
   "outputs": [
    {
     "data": {
      "text/plain": "<IPython.core.display.Javascript object>",
      "application/javascript": "if (window.IPython && IPython.notebook.kernel) IPython.notebook.kernel.execute('jovian.utils.jupyter.get_notebook_name_saved = lambda: \"' + IPython.notebook.notebook_name + '\"')"
     },
     "metadata": {},
     "output_type": "display_data"
    }
   ],
   "source": [
    "import opendatasets as od\n",
    "import pandas as pd\n",
    "import os\n",
    "import jovian\n",
    "import numpy as np\n",
    "import seaborn as sns\n",
    "import matplotlib\n",
    "import matplotlib.pyplot as plt"
   ]
  },
  {
   "cell_type": "code",
   "execution_count": 17,
   "outputs": [],
   "source": [
    "!pip install jovian --upgrade --quiet"
   ],
   "metadata": {
    "collapsed": false,
    "pycharm": {
     "name": "#%%\n"
    }
   }
  },
  {
   "cell_type": "code",
   "execution_count": 18,
   "outputs": [],
   "source": [
    "import jovian"
   ],
   "metadata": {
    "collapsed": false,
    "pycharm": {
     "name": "#%%\n"
    }
   }
  },
  {
   "cell_type": "code",
   "execution_count": 19,
   "outputs": [
    {
     "data": {
      "text/plain": "<IPython.core.display.Javascript object>",
      "application/javascript": "window.require && require([\"base/js/namespace\"],function(Jupyter){Jupyter.notebook.save_checkpoint()})"
     },
     "metadata": {},
     "output_type": "display_data"
    },
    {
     "name": "stdout",
     "output_type": "stream",
     "text": [
      "[jovian] Creating a new project \"evanmarie/dictionary_practice\"\u001B[0m\n",
      "[jovian] Committed successfully! https://jovian.ai/evanmarie/dictionary-practice\u001B[0m\n"
     ]
    },
    {
     "data": {
      "text/plain": "'https://jovian.ai/evanmarie/dictionary-practice'"
     },
     "execution_count": 19,
     "metadata": {},
     "output_type": "execute_result"
    }
   ],
   "source": [
    "# Execute this to save new versions of the notebook\n",
    "jovian.commit(project=\"dictionary_practice\")"
   ],
   "metadata": {
    "collapsed": false,
    "pycharm": {
     "name": "#%%\n"
    }
   }
  },
  {
   "cell_type": "code",
   "execution_count": 4,
   "outputs": [],
   "source": [
    "names = {\n",
    "    ('John', 'Doe'): ['123 Main Street', 'New York', 'NY', '10001'],\n",
    "    ('Jane', 'Doe'): ['456 Main Street', 'New York', 'NY', '10001'],\n",
    "    ('John', 'Smith'): ['789 Main Street', 'New York', 'NY', '10001'],\n",
    "    ('Jane', 'Smith'): ['101 Main Street', 'New York', 'NY', '10001'],\n",
    "}"
   ],
   "metadata": {
    "collapsed": false,
    "pycharm": {
     "name": "#%%\n"
    }
   }
  },
  {
   "cell_type": "code",
   "execution_count": 8,
   "outputs": [],
   "source": [
    "names.update({\n",
    "    ('Jimmy', 'Smith'): ['123 Main Street', 'Alsop', 'IA', '48942'],\n",
    "    ('Helen', 'Young'): ['456 Main Street', 'Lorin', 'ME', '28347'],\n",
    "    ('George', 'Goldblum'): ['789 Main Street', 'Cheshire', 'NJ', '18498'],\n",
    "    ('Lisa', 'Mansfield'): ['101 Main Street', 'Montgomery', 'AL', '87462'],\n",
    "})"
   ],
   "metadata": {
    "collapsed": false,
    "pycharm": {
     "name": "#%%\n"
    }
   }
  },
  {
   "cell_type": "code",
   "execution_count": 9,
   "outputs": [],
   "source": [
    "# Make a list of first names\n",
    "first_names = [name[0] for name in names.keys()]\n",
    "last_names = [name[1] for name in names.keys()]\n",
    "street_addresses = [address[0] for address in names.values()]\n",
    "cities = [address[1] for address in names.values()]\n",
    "states = [address[2] for address in names.values()]\n",
    "zip_codes = [address[3] for address in names.values()]\n",
    "\n",
    "# Create a dataframe from the dictionary\n",
    "names_df = pd.DataFrame.from_dict(names, orient='index', columns=['street_address', 'city', 'state', 'zip_code'])\n"
   ],
   "metadata": {
    "collapsed": false,
    "pycharm": {
     "name": "#%%\n"
    }
   }
  },
  {
   "cell_type": "code",
   "execution_count": 10,
   "outputs": [
    {
     "data": {
      "text/plain": "{('John', 'Doe'): ['123 Main Street', 'New York', 'NY', '10001'],\n ('Jane', 'Doe'): ['456 Main Street', 'New York', 'NY', '10001'],\n ('John', 'Smith'): ['789 Main Street', 'New York', 'NY', '10001'],\n ('Jane', 'Smith'): ['101 Main Street', 'New York', 'NY', '10001'],\n ('Jimmy', 'Smith'): ['123 Main Street', 'Alsop', 'IA', '48942'],\n ('Helen', 'Young'): ['456 Main Street', 'Lorin', 'ME', '28347'],\n ('George', 'Goldblum'): ['789 Main Street', 'Cheshire', 'NJ', '18498'],\n ('Lisa', 'Mansfield'): ['101 Main Street', 'Montgomery', 'AL', '87462']}"
     },
     "execution_count": 10,
     "metadata": {},
     "output_type": "execute_result"
    }
   ],
   "source": [
    "names"
   ],
   "metadata": {
    "collapsed": false,
    "pycharm": {
     "name": "#%%\n"
    }
   }
  },
  {
   "cell_type": "code",
   "execution_count": 16,
   "outputs": [
    {
     "data": {
      "text/plain": "<Figure size 720x720 with 1 Axes>",
      "image/png": "[encoded data removed]"
     },
     "metadata": {},
     "output_type": "display_data"
    }
   ],
   "source": [
    "# Make a pie chart of the number of people who live in each state\n",
    "plt.figure(figsize=(10, 10))\n",
    "plt.pie(names_df['state'].value_counts(), labels=names_df['state'].value_counts().index);\n"
   ],
   "metadata": {
    "collapsed": false,
    "pycharm": {
     "name": "#%%\n"
    }
   }
  },
  {
   "cell_type": "code",
   "execution_count": 13,
   "outputs": [
    {
     "data": {
      "text/plain": "street_address   city        state  zip_code\n101 Main Street  Montgomery  AL     87462       1\n                 New York    NY     10001       1\n123 Main Street  Alsop       IA     48942       1\n                 New York    NY     10001       1\n456 Main Street  Lorin       ME     28347       1\n                 New York    NY     10001       1\n789 Main Street  Cheshire    NJ     18498       1\n                 New York    NY     10001       1\ndtype: int64"
     },
     "execution_count": 13,
     "metadata": {},
     "output_type": "execute_result"
    }
   ],
   "source": [],
   "metadata": {
    "collapsed": false,
    "pycharm": {
     "name": "#%%\n"
    }
   }
  },
  {
   "cell_type": "code",
   "execution_count": 32,
   "outputs": [],
   "source": [
    "dataset = 'https://www.kaggle.com/datasets/ruchi798/data-science-job-salaries/download?datasetVersionNumber=1'"
   ],
   "metadata": {
    "collapsed": false,
    "pycharm": {
     "name": "#%%\n"
    }
   }
  },
  {
   "cell_type": "code",
   "execution_count": 33,
   "outputs": [],
   "source": [
    "!pip install jovian opendatasets --upgrade --quiet"
   ],
   "metadata": {
    "collapsed": false,
    "pycharm": {
     "name": "#%%\n"
    }
   }
  },
  {
   "cell_type": "code",
   "execution_count": 36,
   "outputs": [],
   "source": [
    "import opendatasets as od"
   ],
   "metadata": {
    "collapsed": false,
    "pycharm": {
     "name": "#%%\n"
    }
   }
  },
  {
   "cell_type": "code",
   "execution_count": 37,
   "outputs": [
    {
     "name": "stdout",
     "output_type": "stream",
     "text": [
      "Please provide your Kaggle credentials to download this dataset. Learn more: http://bit.ly/kaggle-creds\n",
      "Your Kaggle username:Your Kaggle Key:Downloading data-science-job-salaries.zip to ./data-science-job-salaries\n"
     ]
    },
    {
     "name": "stderr",
     "output_type": "stream",
     "text": [
      "100%|██████████| 7.37k/7.37k [00:00<00:00, 3.61MB/s]"
     ]
    },
    {
     "name": "stdout",
     "output_type": "stream",
     "text": [
      "\n"
     ]
    },
    {
     "name": "stderr",
     "output_type": "stream",
     "text": [
      "\n"
     ]
    }
   ],
   "source": [
    "od.download(dataset)/"
   ],
   "metadata": {
    "collapsed": false,
    "pycharm": {
     "name": "#%%\n"
    }
   }
  },
  {
   "cell_type": "code",
   "execution_count": 41,
   "outputs": [],
   "source": [
    "salaries = pd.read_csv('data-science-job-salaries/ds_salaries.csv')"
   ],
   "metadata": {
    "collapsed": false,
    "pycharm": {
     "name": "#%%\n"
    }
   }
  },
  {
   "cell_type": "code",
   "execution_count": 45,
   "outputs": [
    {
     "data": {
      "text/plain": "       Unnamed: 0    work_year        salary  salary_in_usd  remote_ratio\ncount  607.000000   607.000000  6.070000e+02     607.000000     607.00000\nmean   303.000000  2021.405272  3.240001e+05  112297.869852      70.92257\nstd    175.370085     0.692133  1.544357e+06   70957.259411      40.70913\nmin      0.000000  2020.000000  4.000000e+03    2859.000000       0.00000\n25%    151.500000  2021.000000  7.000000e+04   62726.000000      50.00000\n50%    303.000000  2022.000000  1.150000e+05  101570.000000     100.00000\n75%    454.500000  2022.000000  1.650000e+05  150000.000000     100.00000\nmax    606.000000  2022.000000  3.040000e+07  600000.000000     100.00000",
      "text/html": "<div>\n<style scoped>\n    .dataframe tbody tr th:only-of-type {\n        vertical-align: middle;\n    }\n\n    .dataframe tbody tr th {\n        vertical-align: top;\n    }\n\n    .dataframe thead th {\n        text-align: right;\n    }\n</style>\n<table border=\"1\" class=\"dataframe\">\n  <thead>\n    <tr style=\"text-align: right;\">\n      <th></th>\n      <th>Unnamed: 0</th>\n      <th>work_year</th>\n      <th>salary</th>\n      <th>salary_in_usd</th>\n      <th>remote_ratio</th>\n    </tr>\n  </thead>\n  <tbody>\n    <tr>\n      <th>count</th>\n      <td>607.000000</td>\n      <td>607.000000</td>\n      <td>6.070000e+02</td>\n      <td>607.000000</td>\n      <td>607.00000</td>\n    </tr>\n    <tr>\n      <th>mean</th>\n      <td>303.000000</td>\n      <td>2021.405272</td>\n      <td>3.240001e+05</td>\n      <td>112297.869852</td>\n      <td>70.92257</td>\n    </tr>\n    <tr>\n      <th>std</th>\n      <td>175.370085</td>\n      <td>0.692133</td>\n      <td>1.544357e+06</td>\n      <td>70957.259411</td>\n      <td>40.70913</td>\n    </tr>\n    <tr>\n      <th>min</th>\n      <td>0.000000</td>\n      <td>2020.000000</td>\n      <td>4.000000e+03</td>\n      <td>2859.000000</td>\n      <td>0.00000</td>\n    </tr>\n    <tr>\n      <th>25%</th>\n      <td>151.500000</td>\n      <td>2021.000000</td>\n      <td>7.000000e+04</td>\n      <td>62726.000000</td>\n      <td>50.00000</td>\n    </tr>\n    <tr>\n      <th>50%</th>\n      <td>303.000000</td>\n      <td>2022.000000</td>\n      <td>1.150000e+05</td>\n      <td>101570.000000</td>\n      <td>100.00000</td>\n    </tr>\n    <tr>\n      <th>75%</th>\n      <td>454.500000</td>\n      <td>2022.000000</td>\n      <td>1.650000e+05</td>\n      <td>150000.000000</td>\n      <td>100.00000</td>\n    </tr>\n    <tr>\n      <th>max</th>\n      <td>606.000000</td>\n      <td>2022.000000</td>\n      <td>3.040000e+07</td>\n      <td>600000.000000</td>\n      <td>100.00000</td>\n    </tr>\n  </tbody>\n</table>\n</div>"
     },
     "execution_count": 45,
     "metadata": {},
     "output_type": "execute_result"
    }
   ],
   "source": [
    "salaries.describe()"
   ],
   "metadata": {
    "collapsed": false,
    "pycharm": {
     "name": "#%%\n"
    }
   }
  },
  {
   "cell_type": "code",
   "execution_count": null,
   "outputs": [],
   "source": [],
   "metadata": {
    "collapsed": false,
    "pycharm": {
     "name": "#%%\n"
    }
   }
  }
 ],
 "metadata": {
  "kernelspec": {
   "display_name": "Python 3",
   "language": "python",
   "name": "python3"
  },
  "language_info": {
   "codemirror_mode": {
    "name": "ipython",
    "version": 2
   },
   "file_extension": ".py",
   "mimetype": "text/x-python",
   "name": "python",
   "nbconvert_exporter": "python",
   "pygments_lexer": "ipython2",
   "version": "2.7.6"
  }
 },
 "nbformat": 4,
 "nbformat_minor": 0
}