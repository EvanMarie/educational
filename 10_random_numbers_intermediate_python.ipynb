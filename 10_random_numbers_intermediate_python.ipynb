{
 "cells": [
  {
   "cell_type": "markdown",
   "source": [
    "# Intermediate Python\n",
    "### Patrick Loeber, python-engineer.com\n",
    "### https://www.youtube.com/watch?v=HGOBQPFzWKo\n",
    "(2:59:40)\n",
    "September 17, 2022"
   ],
   "metadata": {
    "collapsed": false,
    "pycharm": {
     "name": "#%% md\n"
    }
   }
  },
  {
   "cell_type": "markdown",
   "source": [
    "## RANDOM NUMBERS:\n",
    "We will look at the random module for pseudo-random numbers, the secrets module for cryptographically strong random numbers, and the numpy random module for generating arrays with random numbers"
   ],
   "metadata": {
    "collapsed": false,
    "pycharm": {
     "name": "#%% md\n"
    }
   }
  },
  {
   "cell_type": "code",
   "execution_count": 6,
   "outputs": [],
   "source": [
    "# used to generate pseudo random numbers,\n",
    "# which can actually be reproduced\n",
    "import random"
   ],
   "metadata": {
    "collapsed": false,
    "pycharm": {
     "name": "#%%\n"
    }
   }
  },
  {
   "cell_type": "code",
   "execution_count": 13,
   "outputs": [
    {
     "name": "stdout",
     "output_type": "stream",
     "text": [
      "0.6833427868153528\n"
     ]
    }
   ],
   "source": [
    "# random = random float in range 0-1 by default\n",
    "\n",
    "a = random.random()\n",
    "print(a)"
   ],
   "metadata": {
    "collapsed": false,
    "pycharm": {
     "name": "#%%\n"
    }
   }
  },
  {
   "cell_type": "code",
   "execution_count": 14,
   "outputs": [
    {
     "name": "stdout",
     "output_type": "stream",
     "text": [
      "8.832407107566208\n"
     ]
    }
   ],
   "source": [
    "# uniform = allows you to give a range for random float\n",
    "\n",
    "b = random.uniform(1, 10)\n",
    "print(b)"
   ],
   "metadata": {
    "collapsed": false,
    "pycharm": {
     "name": "#%%\n"
    }
   }
  },
  {
   "cell_type": "code",
   "execution_count": 15,
   "outputs": [
    {
     "name": "stdout",
     "output_type": "stream",
     "text": [
      "4\n"
     ]
    }
   ],
   "source": [
    "# randint = you can give a range and get an int\n",
    "# includes upper bound\n",
    "\n",
    "c = random.randint(1, 10)\n",
    "print(c)"
   ],
   "metadata": {
    "collapsed": false,
    "pycharm": {
     "name": "#%%\n"
    }
   }
  },
  {
   "cell_type": "code",
   "execution_count": 16,
   "outputs": [
    {
     "name": "stdout",
     "output_type": "stream",
     "text": [
      "9\n"
     ]
    }
   ],
   "source": [
    "# randrange = gives int, but does not include the upper bound\n",
    "\n",
    "d = random.randrange(1, 10)\n",
    "print(d)"
   ],
   "metadata": {
    "collapsed": false,
    "pycharm": {
     "name": "#%%\n"
    }
   }
  },
  {
   "cell_type": "code",
   "execution_count": 17,
   "outputs": [
    {
     "name": "stdout",
     "output_type": "stream",
     "text": [
      "0.6394149642131549\n"
     ]
    }
   ],
   "source": [
    "# normalvariate returns a random number from a normal distribution\n",
    "# with the given mean (mu) and standard deviation (sigma)\n",
    "# useful with statistics\n",
    "\n",
    "e = random.normalvariate(0, 1)\n",
    "print(e)"
   ],
   "metadata": {
    "collapsed": false,
    "pycharm": {
     "name": "#%%\n"
    }
   }
  },
  {
   "cell_type": "markdown",
   "source": [
    "### Random Module -> functions to work with sequences:"
   ],
   "metadata": {
    "collapsed": false,
    "pycharm": {
     "name": "#%% md\n"
    }
   }
  },
  {
   "cell_type": "code",
   "execution_count": 18,
   "outputs": [
    {
     "name": "stdout",
     "output_type": "stream",
     "text": [
      "E\n"
     ]
    }
   ],
   "source": [
    "# .choice() chooses a random element from a sequence\n",
    "\n",
    "list01 = list('ABCDEFGHIJKLMNO')\n",
    "f = random.choice(list01)\n",
    "print(f)"
   ],
   "metadata": {
    "collapsed": false,
    "pycharm": {
     "name": "#%%\n"
    }
   }
  },
  {
   "cell_type": "code",
   "execution_count": 19,
   "outputs": [
    {
     "name": "stdout",
     "output_type": "stream",
     "text": [
      "['D', 'E']\n"
     ]
    }
   ],
   "source": [
    "# .sample() takes a number of elements and give that many back\n",
    "# chooses unique elements, no duplicates\n",
    "\n",
    "g = random.sample(list01, 2)\n",
    "print(g)"
   ],
   "metadata": {
    "collapsed": false,
    "pycharm": {
     "name": "#%%\n"
    }
   }
  },
  {
   "cell_type": "code",
   "execution_count": 21,
   "outputs": [
    {
     "name": "stdout",
     "output_type": "stream",
     "text": [
      "['A', 'B', 'A']\n"
     ]
    }
   ],
   "source": [
    "# .choices() will return multiple elements and allow for duplicates\n",
    "\n",
    "h = random.choices(list01, k = 3)\n",
    "print(h)"
   ],
   "metadata": {
    "collapsed": false,
    "pycharm": {
     "name": "#%%\n"
    }
   }
  },
  {
   "cell_type": "code",
   "execution_count": 22,
   "outputs": [
    {
     "name": "stdout",
     "output_type": "stream",
     "text": [
      "['C', 'G', 'D', 'H', 'B', 'E', 'A', 'F']\n"
     ]
    }
   ],
   "source": [
    "# .shuffle() will shuffle a list in place, saved to the sequence\n",
    "\n",
    "i = random.shuffle(list01)\n",
    "print(list01)"
   ],
   "metadata": {
    "collapsed": false,
    "pycharm": {
     "name": "#%%\n"
    }
   }
  },
  {
   "cell_type": "code",
   "execution_count": 26,
   "outputs": [
    {
     "name": "stdout",
     "output_type": "stream",
     "text": [
      "0.13436424411240122\n",
      "2\n",
      "0.13436424411240122\n",
      "2\n",
      "0.9560342718892494\n",
      "1\n"
     ]
    }
   ],
   "source": [
    "# .seed() sets the seed for the random number generator to the\n",
    "# given value, used to make the random number generator\n",
    "# repeatable. If you don't call it, the seed is set to the current time, so you get a different sequence of random numbers each time\n",
    "# you run the program\n",
    "\n",
    "random.seed(1)\n",
    "print(random.random())\n",
    "print(random.randint(1, 10))\n",
    "\n",
    "random.seed(1)\n",
    "print(random.random())\n",
    "print(random.randint(1, 10))\n",
    "\n",
    "random.seed(2)\n",
    "print(random.random())\n",
    "print(random.randint(1, 10))"
   ],
   "metadata": {
    "collapsed": false,
    "pycharm": {
     "name": "#%%\n"
    }
   }
  },
  {
   "cell_type": "markdown",
   "source": [
    "### Truly Random\n",
    "Use the secrets module for security for things like passwords, etc.\n",
    "The downside is the time it takes, but will generate a truly random number.\n",
    "\n",
    "The secrets module provides access to the most secure source of\n",
    "randomness that your operating system provides. It is used for generating cryptographically strong random numbers suitable for managing data such as passwords, account authentication, security tokens, and related secrets.\n",
    "\n",
    "If you don't have access to the operating system's random number generator, it uses the random module to generate random numbers.\n",
    "\n",
    "* .randbelow() returns a random integer in the range [0, n)\n",
    "* .choice()  returns a random element from a non-empty sequence\n",
    "* .randbelow() returns a random int in the range [0, n)\n",
    "* .randbits() returns an int with k random bits\n",
    "* .SystemRandom() class from the secrets module returns a random number generator using the system's best random source"
   ],
   "metadata": {
    "collapsed": false,
    "pycharm": {
     "name": "#%% md\n"
    }
   }
  },
  {
   "cell_type": "code",
   "execution_count": 27,
   "outputs": [],
   "source": [
    "import secrets"
   ],
   "metadata": {
    "collapsed": false,
    "pycharm": {
     "name": "#%%\n"
    }
   }
  },
  {
   "cell_type": "code",
   "execution_count": 28,
   "outputs": [
    {
     "name": "stdout",
     "output_type": "stream",
     "text": [
      "3\n"
     ]
    }
   ],
   "source": [
    "# .randbelow() takes an upperbound argument, not included\n",
    "\n",
    "j = secrets.randbelow(10)\n",
    "print(j)"
   ],
   "metadata": {
    "collapsed": false,
    "pycharm": {
     "name": "#%%\n"
    }
   }
  },
  {
   "cell_type": "code",
   "execution_count": 29,
   "outputs": [
    {
     "name": "stdout",
     "output_type": "stream",
     "text": [
      "4\n"
     ]
    }
   ],
   "source": [
    "# .randbits() takes an argument for the number of random bits,\n",
    "# random binary values\n",
    "\n",
    "k = secrets.randbits(4)\n",
    "print(k)"
   ],
   "metadata": {
    "collapsed": false,
    "pycharm": {
     "name": "#%%\n"
    }
   }
  },
  {
   "cell_type": "code",
   "execution_count": 31,
   "outputs": [
    {
     "name": "stdout",
     "output_type": "stream",
     "text": [
      "B\n"
     ]
    }
   ],
   "source": [
    "# .choice()\n",
    "list02 = list('ABCDEFGHIJKLMNO')\n",
    "l = secrets.choice(list02)\n",
    "print(l)"
   ],
   "metadata": {
    "collapsed": false,
    "pycharm": {
     "name": "#%%\n"
    }
   }
  },
  {
   "cell_type": "markdown",
   "source": [
    "### NUMPY Random Module: uses a different random number generator than that of the standard Python library.\n",
    "*  np.random() returns a random number from a uniform distribution\n",
    "\n",
    "* np.random.seed() sets the seed for the random number generator to the given value\n",
    "\n",
    "* np.random.randn() returns a random number from a normal distribution with mean 0 and standard deviation 1\n",
    "\n",
    "* np.random.randint() returns a random integer in the range [low, high) where low and high are the arguments to the function\n",
    "\n",
    "* np.random.choice() returns a random element from a sequence the sequence is the argument to the function\n",
    "\n",
    "* np.random.shuffle() shuffles a sequence in place the sequence is the argument to the function\n",
    "\n",
    "* np.random.permutation() returns a random permutation of a sequence the sequence is the argument to the function"
   ],
   "metadata": {
    "collapsed": false,
    "pycharm": {
     "name": "#%% md\n"
    }
   }
  },
  {
   "cell_type": "code",
   "execution_count": 32,
   "outputs": [],
   "source": [
    "import numpy as np"
   ],
   "metadata": {
    "collapsed": false,
    "pycharm": {
     "name": "#%%\n"
    }
   }
  },
  {
   "cell_type": "code",
   "execution_count": 38,
   "outputs": [
    {
     "name": "stdout",
     "output_type": "stream",
     "text": [
      "[0.07680321 0.14062698 0.52764071]\n"
     ]
    }
   ],
   "source": [
    "# np.random.rand()\n",
    "# produce a 1d array of random floats the size as passed\n",
    "\n",
    "m = np.random.rand(3)\n",
    "print(m)"
   ],
   "metadata": {
    "collapsed": false,
    "pycharm": {
     "name": "#%%\n"
    }
   }
  },
  {
   "cell_type": "code",
   "execution_count": 39,
   "outputs": [
    {
     "name": "stdout",
     "output_type": "stream",
     "text": [
      "[[0.62075546 0.60722106 0.84988571]\n",
      " [0.27967633 0.07165339 0.86061931]\n",
      " [0.32373108 0.32767428 0.6005563 ]]\n"
     ]
    }
   ],
   "source": [
    "# np.random.rand()\n",
    "# produce and array of random floats of the size passed\n",
    "\n",
    "n = np.random.rand(3, 3)\n",
    "print(n)"
   ],
   "metadata": {
    "collapsed": false,
    "pycharm": {
     "name": "#%%\n"
    }
   }
  },
  {
   "cell_type": "code",
   "execution_count": 41,
   "outputs": [
    {
     "name": "stdout",
     "output_type": "stream",
     "text": [
      "[6 7 9]\n"
     ]
    }
   ],
   "source": [
    "# np.random.randint()\n",
    "# produce an array of random integers\n",
    "# arguments are start, end (exclusive), and size)\n",
    "\n",
    "o = np.random.randint(0, 10, 3)\n",
    "print(o)"
   ],
   "metadata": {
    "collapsed": false,
    "pycharm": {
     "name": "#%%\n"
    }
   }
  },
  {
   "cell_type": "code",
   "execution_count": 42,
   "outputs": [
    {
     "name": "stdout",
     "output_type": "stream",
     "text": [
      "[[5 2 4 6]\n",
      " [6 0 5 0]\n",
      " [8 5 1 4]]\n"
     ]
    }
   ],
   "source": [
    "# using a tuple for the size allows for greater dimensions\n",
    "\n",
    "p = np.random.randint(0, 10, (3, 4))\n",
    "print(p)"
   ],
   "metadata": {
    "collapsed": false,
    "pycharm": {
     "name": "#%%\n"
    }
   }
  },
  {
   "cell_type": "code",
   "execution_count": 43,
   "outputs": [
    {
     "name": "stdout",
     "output_type": "stream",
     "text": [
      "[[1 2 3]\n",
      " [4 5 6]\n",
      " [7 8 9]]\n",
      "[[7 8 9]\n",
      " [4 5 6]\n",
      " [1 2 3]]\n"
     ]
    }
   ],
   "source": [
    "# .shuffle() shuffles the elements in place, but only along first\n",
    "# axis, never between axes\n",
    "\n",
    "array01 = np.array([[1, 2, 3], [4, 5, 6], [7, 8, 9]])\n",
    "print(array01)\n",
    "np.random.shuffle(array01)\n",
    "print(array01)"
   ],
   "metadata": {
    "collapsed": false,
    "pycharm": {
     "name": "#%%\n"
    }
   }
  },
  {
   "cell_type": "code",
   "execution_count": 44,
   "outputs": [
    {
     "name": "stdout",
     "output_type": "stream",
     "text": [
      "[[4.17022005e-01 7.20324493e-01 1.14374817e-04]\n",
      " [3.02332573e-01 1.46755891e-01 9.23385948e-02]\n",
      " [1.86260211e-01 3.45560727e-01 3.96767474e-01]]\n",
      "[[4.17022005e-01 7.20324493e-01 1.14374817e-04]\n",
      " [3.02332573e-01 1.46755891e-01 9.23385948e-02]\n",
      " [1.86260211e-01 3.45560727e-01 3.96767474e-01]]\n",
      "[[0.4359949  0.02592623 0.54966248]\n",
      " [0.43532239 0.4203678  0.33033482]\n",
      " [0.20464863 0.61927097 0.29965467]]\n",
      "[[0.4359949  0.02592623 0.54966248]\n",
      " [0.43532239 0.4203678  0.33033482]\n",
      " [0.20464863 0.61927097 0.29965467]]\n"
     ]
    }
   ],
   "source": [
    "# .seed() like the one from the random module, seeds the generator\n",
    "# preferable over the one from random module\n",
    "\n",
    "np.random.seed(1)\n",
    "print(np.random.rand(3,3))\n",
    "\n",
    "np.random.seed(1)\n",
    "print(np.random.rand(3,3))\n",
    "\n",
    "np.random.seed(2)\n",
    "print(np.random.rand(3,3))\n",
    "\n",
    "np.random.seed(2)\n",
    "print(np.random.rand(3,3))"
   ],
   "metadata": {
    "collapsed": false,
    "pycharm": {
     "name": "#%%\n"
    }
   }
  },
  {
   "cell_type": "code",
   "execution_count": null,
   "outputs": [],
   "source": [],
   "metadata": {
    "collapsed": false,
    "pycharm": {
     "name": "#%%\n"
    }
   }
  }
 ],
 "metadata": {
  "kernelspec": {
   "display_name": "Python 3",
   "language": "python",
   "name": "python3"
  },
  "language_info": {
   "codemirror_mode": {
    "name": "ipython",
    "version": 2
   },
   "file_extension": ".py",
   "mimetype": "text/x-python",
   "name": "python",
   "nbconvert_exporter": "python",
   "pygments_lexer": "ipython2",
   "version": "2.7.6"
  }
 },
 "nbformat": 4,
 "nbformat_minor": 0
}